{
 "cells": [
  {
   "cell_type": "markdown",
   "metadata": {},
   "source": [
    "# Exploring the Relationship Between World Happiness and Human Freedom\n",
    "* Hugo Krijgsman (14667851)\n",
    "* Ingmar Hartman (15206149)\n",
    "* Julius de Groot (14362104)\n"
   ]
  },
  {
   "cell_type": "markdown",
   "metadata": {},
   "source": [
    "## Introduction\n",
    "The relationship between freedom and happiness is a crucial area of investigation, especially for informing the development of effective public policies. In Western society, there is a prevalent belief that increased freedom directly correlates with higher levels of happiness. This belief drives significant efforts to enhance personal and political freedoms. However, the reality is more complex. There are countries where people face greater limitations in their freedoms but still report high levels of happiness.\n",
    "\n",
    "This report utilizes two key datasets to explore the relationship between freedom and happiness. The first dataset, from the Human Freedom Index, measures various aspects of freedom including personal, civil, and economic dimensions. The second dataset, from the World Happiness Report, provides happiness scores based on indicators such as GDP per capita, social support, and life expectancy.\n",
    "\n",
    "By comparing these datasets, we aim to uncover correlations and patterns that reveal how different dimensions of freedom influence overall happiness across countries."
   ]
  },
  {
   "cell_type": "markdown",
   "metadata": {},
   "source": [
    "### Perspectives\n",
    "**The more freedom citizens of a country experience, the happier they are.**\n",
    "\n",
    "This perspective suggests that increased personal freedoms, such as freedom of speech, movement, and choice, correlate directly with higher levels of happiness among citizens. It posits that when individuals have greater autonomy and fewer restrictions, their overall well-being and satisfaction with life improve.\n",
    "* When people have more control, there overall well-being increases.\n",
    "* Societies with more personal freedom provide more opportunities for personal growth.\n",
    "* Countries with more economical freedom have higher standards of living.\n",
    "\n",
    "**There is no correlation between freedom and happiness citizens of a country experience.**\n",
    "\n",
    "This perspective argues that the level of personal freedom in a country does not necessarily affect the happiness of its citizens. It suggests that other factors, such as economic stability, cultural values, and social support, may play a more significant role in determining overall happiness.\n",
    "* Some societies prioritize communities over personal autonomy, yet report high levels of happiness.\n",
    "* Citizens might adjust their expectations and find joy in everyday life, family, and social relationships.\n",
    "* Authoritarian regimes provide economic benefits and social services, leading to high life satisfaction.\n",
    "\n",
    "**Specific Dimensions of Freedom Enhance Happiness**\n",
    "\n",
    "This perspective suggests that specific types of freedom, such as procedural justice, economic regulation, and civil liberties, correlate directly with higher levels of happiness among citizens. It posits that when individuals experience these freedoms, their overall well-being and satisfaction with life improve.\n",
    "\n",
    "- When people have more procedural justice, their overall well-being increases.\n",
    "- Societies with balanced economic regulations provide more opportunities for personal growth.\n",
    "- Countries with higher economic freedom have higher standards of living.\n"
   ]
  },
  {
   "cell_type": "markdown",
   "metadata": {},
   "source": [
    "### Dependencies \n",
    "- Jupyter notebook\n",
    "- Python 3.6\n",
    "- Pandas\n",
    "- Numpy\n",
    "- plotly.express\n",
    "- plotly.graph_objects\n",
    "- pycountry\n",
    "- plotly.subplots\n",
    "- plotly.io\n"
   ]
  },
  {
   "cell_type": "markdown",
   "metadata": {},
   "source": [
    "### Imports"
   ]
  },
  {
   "cell_type": "code",
   "execution_count": 1,
   "metadata": {},
   "outputs": [
    {
     "data": {
      "text/html": [
       "        <script type=\"text/javascript\">\n",
       "        window.PlotlyConfig = {MathJaxConfig: 'local'};\n",
       "        if (window.MathJax && window.MathJax.Hub && window.MathJax.Hub.Config) {window.MathJax.Hub.Config({SVG: {font: \"STIX-Web\"}});}\n",
       "        if (typeof require !== 'undefined') {\n",
       "        require.undef(\"plotly\");\n",
       "        requirejs.config({\n",
       "            paths: {\n",
       "                'plotly': ['https://cdn.plot.ly/plotly-2.24.1.min']\n",
       "            }\n",
       "        });\n",
       "        require(['plotly'], function(Plotly) {\n",
       "            window._Plotly = Plotly;\n",
       "        });\n",
       "        }\n",
       "        </script>\n",
       "        "
      ]
     },
     "metadata": {},
     "output_type": "display_data"
    }
   ],
   "source": [
    "import pandas as pd\n",
    "import plotly.io as pio\n",
    "import plotly.graph_objects as go\n",
    "from plotly.subplots import make_subplots\n",
    "import plotly.express as px\n",
    "import pycountry \n",
    "\n",
    "from plotly.offline import init_notebook_mode\n",
    "init_notebook_mode(connected=True)"
   ]
  },
  {
   "cell_type": "markdown",
   "metadata": {},
   "source": [
    "## Datasets"
   ]
  },
  {
   "cell_type": "markdown",
   "metadata": {},
   "source": [
    "\n",
    "### World Happiness Report\n",
    "The World Happiness Report dataset on Kaggle contains data from the annual World Happiness Report, offering insights into the happiness levels of countries worldwide. The dataset includes information on several key indicators such as GDP per capita, social support, healthy life expectancy, freedom to make life choices, generosity, and perceptions of corruption. This comprehensive dataset allows for detailed analysis and comparison of the well-being and happiness of different nations, aiding researchers and analysts in understanding the factors that contribute to a country's overall happiness.\n",
    "\n",
    "The script processes this dataset as follows:\n",
    "\n",
    "1. The dataset is loaded as a pandas DataFrame from a CSV file named \"happiness.csv\".\n",
    "2. The column \"Country or region\" is renamed to \"Country\" for consistency.\n",
    "3. The columns \"Country or region\" and \"Overall rank\" are removed from the DataFrame.\n",
    "4. The \"Score\" column is renamed to \"Happiness Score\" for clarity.\n",
    "5. Finally, the first few rows of the modified DataFrame are displayed to inspect the data.\n",
    "\n",
    "These steps ensure the dataset is ready for analysis by normalizing column names and removing unnecessary columns."
   ]
  },
  {
   "cell_type": "code",
   "execution_count": 2,
   "metadata": {},
   "outputs": [
    {
     "data": {
      "text/html": [
       "<div>\n",
       "<style scoped>\n",
       "    .dataframe tbody tr th:only-of-type {\n",
       "        vertical-align: middle;\n",
       "    }\n",
       "\n",
       "    .dataframe tbody tr th {\n",
       "        vertical-align: top;\n",
       "    }\n",
       "\n",
       "    .dataframe thead th {\n",
       "        text-align: right;\n",
       "    }\n",
       "</style>\n",
       "<table border=\"1\" class=\"dataframe\">\n",
       "  <thead>\n",
       "    <tr style=\"text-align: right;\">\n",
       "      <th></th>\n",
       "      <th>Happiness Score</th>\n",
       "      <th>GDP per capita</th>\n",
       "      <th>Social support</th>\n",
       "      <th>Healthy life expectancy</th>\n",
       "      <th>Freedom to make life choices</th>\n",
       "      <th>Generosity</th>\n",
       "      <th>Perceptions of corruption</th>\n",
       "      <th>Country</th>\n",
       "    </tr>\n",
       "  </thead>\n",
       "  <tbody>\n",
       "    <tr>\n",
       "      <th>0</th>\n",
       "      <td>7.769</td>\n",
       "      <td>1.340</td>\n",
       "      <td>1.587</td>\n",
       "      <td>0.986</td>\n",
       "      <td>0.596</td>\n",
       "      <td>0.153</td>\n",
       "      <td>0.393</td>\n",
       "      <td>Finland</td>\n",
       "    </tr>\n",
       "    <tr>\n",
       "      <th>1</th>\n",
       "      <td>7.600</td>\n",
       "      <td>1.383</td>\n",
       "      <td>1.573</td>\n",
       "      <td>0.996</td>\n",
       "      <td>0.592</td>\n",
       "      <td>0.252</td>\n",
       "      <td>0.410</td>\n",
       "      <td>Denmark</td>\n",
       "    </tr>\n",
       "    <tr>\n",
       "      <th>2</th>\n",
       "      <td>7.554</td>\n",
       "      <td>1.488</td>\n",
       "      <td>1.582</td>\n",
       "      <td>1.028</td>\n",
       "      <td>0.603</td>\n",
       "      <td>0.271</td>\n",
       "      <td>0.341</td>\n",
       "      <td>Norway</td>\n",
       "    </tr>\n",
       "    <tr>\n",
       "      <th>3</th>\n",
       "      <td>7.494</td>\n",
       "      <td>1.380</td>\n",
       "      <td>1.624</td>\n",
       "      <td>1.026</td>\n",
       "      <td>0.591</td>\n",
       "      <td>0.354</td>\n",
       "      <td>0.118</td>\n",
       "      <td>Iceland</td>\n",
       "    </tr>\n",
       "    <tr>\n",
       "      <th>4</th>\n",
       "      <td>7.488</td>\n",
       "      <td>1.396</td>\n",
       "      <td>1.522</td>\n",
       "      <td>0.999</td>\n",
       "      <td>0.557</td>\n",
       "      <td>0.322</td>\n",
       "      <td>0.298</td>\n",
       "      <td>Netherlands</td>\n",
       "    </tr>\n",
       "  </tbody>\n",
       "</table>\n",
       "</div>"
      ],
      "text/plain": [
       "   Happiness Score  GDP per capita  Social support  Healthy life expectancy  \\\n",
       "0            7.769           1.340           1.587                    0.986   \n",
       "1            7.600           1.383           1.573                    0.996   \n",
       "2            7.554           1.488           1.582                    1.028   \n",
       "3            7.494           1.380           1.624                    1.026   \n",
       "4            7.488           1.396           1.522                    0.999   \n",
       "\n",
       "   Freedom to make life choices  Generosity  Perceptions of corruption  \\\n",
       "0                         0.596       0.153                      0.393   \n",
       "1                         0.592       0.252                      0.410   \n",
       "2                         0.603       0.271                      0.341   \n",
       "3                         0.591       0.354                      0.118   \n",
       "4                         0.557       0.322                      0.298   \n",
       "\n",
       "       Country  \n",
       "0      Finland  \n",
       "1      Denmark  \n",
       "2       Norway  \n",
       "3      Iceland  \n",
       "4  Netherlands  "
      ]
     },
     "execution_count": 2,
     "metadata": {},
     "output_type": "execute_result"
    }
   ],
   "source": [
    "happiness_data = pd.read_csv(\"happiness.csv\")\n",
    "happiness_data[\"Country\"] = happiness_data[\"Country or region\"]\n",
    "happiness_data = happiness_data.drop(columns=[\"Country or region\", \"Overall rank\"])\n",
    "happiness_data = happiness_data.rename(columns={\"Score\": \"Happiness Score\"})\n",
    "\n",
    "happiness_data.head()"
   ]
  },
  {
   "cell_type": "markdown",
   "metadata": {},
   "source": [
    "### Human Freedom Index\n",
    "\n",
    "The Human Freedom Index dataset on Kaggle includes comprehensive data on the state of human freedom globally. This dataset combines indicators of personal and economic freedom, covering a wide range of topics such as rule of law, security and safety, movement, religion, association, assembly, civil society, expression and information, identity and relationships, and economic freedoms like regulation and freedom to trade internationally. This extensive dataset facilitates in-depth analysis of the factors that influence human freedom in various countries.\n",
    "\n",
    "The script processes this dataset as follows:\n",
    "\n",
    "1. The dataset is loaded as a pandas DataFrame from a CSV file, with memory usage optimized. A list `columns_to_drop` is created to keep track of columns that will be removed.\n",
    "\n",
    "2. The column \"countries\" is renamed to \"Country\" for consistency, and \"region\" is added to the list of columns to be removed. The values in the \"year\" column are converted to numeric values, and the dataset is filtered to retain only data for 2019. The \"year\" column is then also added to the list of columns to be removed.\n",
    "\n",
    "3. The DataFrame index is reset, and the new \"index\" column is added to the list of columns to be removed. All columns in `columns_to_drop` are then removed.\n",
    "\n",
    "4. Finally, the first few rows of the modified DataFrame are displayed to inspect the data. These steps ensure a dataset ready for analysis by removing redundant columns, filtering for the year 2019, and normalizing column names."
   ]
  },
  {
   "cell_type": "code",
   "execution_count": 3,
   "metadata": {},
   "outputs": [
    {
     "data": {
      "text/html": [
       "<div>\n",
       "<style scoped>\n",
       "    .dataframe tbody tr th:only-of-type {\n",
       "        vertical-align: middle;\n",
       "    }\n",
       "\n",
       "    .dataframe tbody tr th {\n",
       "        vertical-align: top;\n",
       "    }\n",
       "\n",
       "    .dataframe thead th {\n",
       "        text-align: right;\n",
       "    }\n",
       "</style>\n",
       "<table border=\"1\" class=\"dataframe\">\n",
       "  <thead>\n",
       "    <tr style=\"text-align: right;\">\n",
       "      <th></th>\n",
       "      <th>Country</th>\n",
       "      <th>hf_score</th>\n",
       "      <th>hf_rank</th>\n",
       "      <th>hf_quartile</th>\n",
       "      <th>pf_rol_procedural</th>\n",
       "      <th>pf_rol_civil</th>\n",
       "      <th>pf_rol_criminal</th>\n",
       "      <th>pf_rol_vdem</th>\n",
       "      <th>pf_rol</th>\n",
       "      <th>pf_ss_homicide</th>\n",
       "      <th>...</th>\n",
       "      <th>ef_regulation_business_adm</th>\n",
       "      <th>ef_regulation_business_burden</th>\n",
       "      <th>ef_regulation_business_start</th>\n",
       "      <th>ef_regulation_business_impartial</th>\n",
       "      <th>ef_regulation_business_licensing</th>\n",
       "      <th>ef_regulation_business_compliance</th>\n",
       "      <th>ef_regulation_business</th>\n",
       "      <th>ef_regulation</th>\n",
       "      <th>ef_score</th>\n",
       "      <th>ef_rank</th>\n",
       "    </tr>\n",
       "  </thead>\n",
       "  <tbody>\n",
       "    <tr>\n",
       "      <th>0</th>\n",
       "      <td>Albania</td>\n",
       "      <td>8.07</td>\n",
       "      <td>42.0</td>\n",
       "      <td>2.0</td>\n",
       "      <td>5.903741</td>\n",
       "      <td>4.725831</td>\n",
       "      <td>4.047825</td>\n",
       "      <td>7.375907</td>\n",
       "      <td>4.892466</td>\n",
       "      <td>9.343023</td>\n",
       "      <td>...</td>\n",
       "      <td>5.651538</td>\n",
       "      <td>6.666667</td>\n",
       "      <td>9.742477</td>\n",
       "      <td>6.2425</td>\n",
       "      <td>5.621940</td>\n",
       "      <td>7.175250</td>\n",
       "      <td>6.850062</td>\n",
       "      <td>7.700885</td>\n",
       "      <td>7.79</td>\n",
       "      <td>31.0</td>\n",
       "    </tr>\n",
       "    <tr>\n",
       "      <th>1</th>\n",
       "      <td>Algeria</td>\n",
       "      <td>5.08</td>\n",
       "      <td>155.0</td>\n",
       "      <td>4.0</td>\n",
       "      <td>4.913311</td>\n",
       "      <td>5.503872</td>\n",
       "      <td>4.254187</td>\n",
       "      <td>5.345021</td>\n",
       "      <td>4.890457</td>\n",
       "      <td>9.613372</td>\n",
       "      <td>...</td>\n",
       "      <td>4.215154</td>\n",
       "      <td>2.222222</td>\n",
       "      <td>9.305002</td>\n",
       "      <td>2.5775</td>\n",
       "      <td>8.771111</td>\n",
       "      <td>7.029528</td>\n",
       "      <td>5.686753</td>\n",
       "      <td>5.840164</td>\n",
       "      <td>4.86</td>\n",
       "      <td>159.0</td>\n",
       "    </tr>\n",
       "    <tr>\n",
       "      <th>2</th>\n",
       "      <td>Angola</td>\n",
       "      <td>5.96</td>\n",
       "      <td>127.0</td>\n",
       "      <td>4.0</td>\n",
       "      <td>2.773262</td>\n",
       "      <td>4.352009</td>\n",
       "      <td>3.478950</td>\n",
       "      <td>5.264300</td>\n",
       "      <td>3.534740</td>\n",
       "      <td>8.590305</td>\n",
       "      <td>...</td>\n",
       "      <td>2.937894</td>\n",
       "      <td>2.444444</td>\n",
       "      <td>8.730805</td>\n",
       "      <td>4.7025</td>\n",
       "      <td>7.916416</td>\n",
       "      <td>6.782923</td>\n",
       "      <td>5.585830</td>\n",
       "      <td>5.974672</td>\n",
       "      <td>5.55</td>\n",
       "      <td>153.0</td>\n",
       "    </tr>\n",
       "    <tr>\n",
       "      <th>3</th>\n",
       "      <td>Argentina</td>\n",
       "      <td>7.33</td>\n",
       "      <td>75.0</td>\n",
       "      <td>2.0</td>\n",
       "      <td>6.824288</td>\n",
       "      <td>5.679943</td>\n",
       "      <td>4.218635</td>\n",
       "      <td>6.570627</td>\n",
       "      <td>5.574289</td>\n",
       "      <td>8.505814</td>\n",
       "      <td>...</td>\n",
       "      <td>2.714233</td>\n",
       "      <td>5.777778</td>\n",
       "      <td>9.579288</td>\n",
       "      <td>6.5300</td>\n",
       "      <td>5.726521</td>\n",
       "      <td>6.508295</td>\n",
       "      <td>6.139352</td>\n",
       "      <td>5.994265</td>\n",
       "      <td>5.44</td>\n",
       "      <td>154.0</td>\n",
       "    </tr>\n",
       "    <tr>\n",
       "      <th>4</th>\n",
       "      <td>Armenia</td>\n",
       "      <td>8.32</td>\n",
       "      <td>34.0</td>\n",
       "      <td>1.0</td>\n",
       "      <td>NaN</td>\n",
       "      <td>NaN</td>\n",
       "      <td>NaN</td>\n",
       "      <td>7.287006</td>\n",
       "      <td>7.287006</td>\n",
       "      <td>9.281977</td>\n",
       "      <td>...</td>\n",
       "      <td>5.170406</td>\n",
       "      <td>5.555556</td>\n",
       "      <td>9.863530</td>\n",
       "      <td>6.9575</td>\n",
       "      <td>9.302574</td>\n",
       "      <td>7.040738</td>\n",
       "      <td>7.315051</td>\n",
       "      <td>7.819774</td>\n",
       "      <td>7.98</td>\n",
       "      <td>17.0</td>\n",
       "    </tr>\n",
       "  </tbody>\n",
       "</table>\n",
       "<p>5 rows × 139 columns</p>\n",
       "</div>"
      ],
      "text/plain": [
       "     Country  hf_score  hf_rank  hf_quartile  pf_rol_procedural  pf_rol_civil  \\\n",
       "0    Albania      8.07     42.0          2.0           5.903741      4.725831   \n",
       "1    Algeria      5.08    155.0          4.0           4.913311      5.503872   \n",
       "2     Angola      5.96    127.0          4.0           2.773262      4.352009   \n",
       "3  Argentina      7.33     75.0          2.0           6.824288      5.679943   \n",
       "4    Armenia      8.32     34.0          1.0                NaN           NaN   \n",
       "\n",
       "   pf_rol_criminal  pf_rol_vdem    pf_rol  pf_ss_homicide  ...  \\\n",
       "0         4.047825     7.375907  4.892466        9.343023  ...   \n",
       "1         4.254187     5.345021  4.890457        9.613372  ...   \n",
       "2         3.478950     5.264300  3.534740        8.590305  ...   \n",
       "3         4.218635     6.570627  5.574289        8.505814  ...   \n",
       "4              NaN     7.287006  7.287006        9.281977  ...   \n",
       "\n",
       "   ef_regulation_business_adm  ef_regulation_business_burden  \\\n",
       "0                    5.651538                       6.666667   \n",
       "1                    4.215154                       2.222222   \n",
       "2                    2.937894                       2.444444   \n",
       "3                    2.714233                       5.777778   \n",
       "4                    5.170406                       5.555556   \n",
       "\n",
       "   ef_regulation_business_start  ef_regulation_business_impartial  \\\n",
       "0                      9.742477                            6.2425   \n",
       "1                      9.305002                            2.5775   \n",
       "2                      8.730805                            4.7025   \n",
       "3                      9.579288                            6.5300   \n",
       "4                      9.863530                            6.9575   \n",
       "\n",
       "   ef_regulation_business_licensing  ef_regulation_business_compliance  \\\n",
       "0                          5.621940                           7.175250   \n",
       "1                          8.771111                           7.029528   \n",
       "2                          7.916416                           6.782923   \n",
       "3                          5.726521                           6.508295   \n",
       "4                          9.302574                           7.040738   \n",
       "\n",
       "   ef_regulation_business  ef_regulation  ef_score  ef_rank  \n",
       "0                6.850062       7.700885      7.79     31.0  \n",
       "1                5.686753       5.840164      4.86    159.0  \n",
       "2                5.585830       5.974672      5.55    153.0  \n",
       "3                6.139352       5.994265      5.44    154.0  \n",
       "4                7.315051       7.819774      7.98     17.0  \n",
       "\n",
       "[5 rows x 139 columns]"
      ]
     },
     "execution_count": 3,
     "metadata": {},
     "output_type": "execute_result"
    }
   ],
   "source": [
    "freedom_data = pd.read_csv(\"freedom.csv\", low_memory=False)\n",
    "columns_to_drop = []\n",
    "\n",
    "# Normalize country column\n",
    "freedom_data = freedom_data.rename(columns={\"countries\": \"Country\"})\n",
    "columns_to_drop.extend([\"region\"])\n",
    "\n",
    "# Filter out years other than 2019\n",
    "freedom_data[\"year\"] = pd.to_numeric(freedom_data[\"year\"], errors='coerce')\n",
    "freedom_data = freedom_data[freedom_data[\"year\"] == 2019]\n",
    "columns_to_drop.append(\"year\")\n",
    "\n",
    "# Reset and Drop\n",
    "freedom_data = freedom_data.reset_index()\n",
    "columns_to_drop.append(\"index\")\n",
    "freedom_data = freedom_data.drop(columns=columns_to_drop)\n",
    "\n",
    "freedom_data.head()"
   ]
  },
  {
   "cell_type": "markdown",
   "metadata": {},
   "source": [
    "### Merging Both Datasets\n",
    "\n",
    "To merge the datasets, we first needed to filter some irrelevant information away. This meant only keeping the data from 2019. We then decided to take the ISO code of each country, a unique 3 letter code for every internationally recognised country. After this we appended every other variable to the row per ISO code. This still left a couple of countries without representation (listed below). So for these a bit of manual work was needed to make them fit."
   ]
  },
  {
   "cell_type": "code",
   "execution_count": 4,
   "metadata": {},
   "outputs": [
    {
     "name": "stdout",
     "output_type": "stream",
     "text": [
      "   Happiness Score  GDP per capita  Social support  Healthy life expectancy  \\\n",
      "0            7.769           1.340           1.587                    0.986   \n",
      "1            7.600           1.383           1.573                    0.996   \n",
      "2            7.554           1.488           1.582                    1.028   \n",
      "3            7.494           1.380           1.624                    1.026   \n",
      "4            7.488           1.396           1.522                    0.999   \n",
      "\n",
      "   Freedom to make life choices  Generosity  Perceptions of corruption  \\\n",
      "0                         0.596       0.153                      0.393   \n",
      "1                         0.592       0.252                      0.410   \n",
      "2                         0.603       0.271                      0.341   \n",
      "3                         0.591       0.354                      0.118   \n",
      "4                         0.557       0.322                      0.298   \n",
      "\n",
      "       Country  ef_government  ef_gender  ef_legal  ef_money  ef_trade  \\\n",
      "0      Finland       5.130890        1.0  8.602987  9.386091  8.502249   \n",
      "1      Denmark       5.343284        1.0  8.605796  9.901595  8.774736   \n",
      "2       Norway       5.059890        1.0  8.507390  9.350751  7.913334   \n",
      "3      Iceland       6.048855        1.0  8.451374  9.621231  7.784227   \n",
      "4  Netherlands       5.096154        1.0  8.349726  9.259991  8.958196   \n",
      "\n",
      "   ef_regulation  \n",
      "0       7.958896  \n",
      "1       8.539323  \n",
      "2       7.928054  \n",
      "3       7.657501  \n",
      "4       8.116904  \n"
     ]
    }
   ],
   "source": [
    "freedom_filtered = freedom_data[freedom_data['Country'].isin([\n",
    "    \"Albania\", \"Andorra\", \"Armenia\", \"Austria\", \"Azerbaijan\", \"Belarus\", \"Belgium\", \n",
    "    \"Bosnia and Herzegovina\", \"Bulgaria\", \"Croatia\", \"Cyprus\", \"Czech Republic\", \n",
    "    \"Denmark\", \"Estonia\", \"Finland\", \"France\", \"Georgia\", \"Germany\", \"Greece\", \n",
    "    \"Hungary\", \"Iceland\", \"Ireland\", \"Italy\", \"Kazakhstan\", \"Kosovo\", \"Latvia\", \n",
    "    \"Liechtenstein\", \"Lithuania\", \"Luxembourg\", \"Malta\", \"Moldova\", \"Monaco\", \n",
    "    \"Montenegro\", \"Netherlands\", \"North Macedonia\", \"Norway\", \"Poland\", \"Portugal\", \n",
    "    \"Romania\", \"Russia\", \"San Marino\", \"Serbia\", \"Slovakia\", \"Slovenia\", \"Spain\", \n",
    "    \"Sweden\", \"Switzerland\", \"Ukraine\", \"United Kingdom\", \"Vatican City\"\n",
    "])]\n",
    "\n",
    "columns_to_keep = [\n",
    "    'Country', 'ef_government', 'ef_gender', 'ef_legal', 'ef_money', 'ef_trade', 'ef_regulation'\n",
    "]\n",
    "\n",
    "freedom_filtered = freedom_filtered[columns_to_keep]\n",
    "\n",
    "# Merge with the happiness_df on the 'Country' column\n",
    "merged_df = pd.merge(happiness_data, freedom_filtered, on='Country')\n",
    "\n",
    "# Remove duplicate entries for countries\n",
    "merged_df_unique = merged_df.drop_duplicates(subset=['Country'])\n",
    "\n",
    "# Display the first few rows of the final dataframe\n",
    "print(merged_df_unique.head())\n"
   ]
  },
  {
   "cell_type": "code",
   "execution_count": 5,
   "metadata": {},
   "outputs": [
    {
     "name": "stdout",
     "output_type": "stream",
     "text": [
      "Data shape: (188, 147)\n"
     ]
    },
    {
     "data": {
      "text/html": [
       "<div>\n",
       "<style scoped>\n",
       "    .dataframe tbody tr th:only-of-type {\n",
       "        vertical-align: middle;\n",
       "    }\n",
       "\n",
       "    .dataframe tbody tr th {\n",
       "        vertical-align: top;\n",
       "    }\n",
       "\n",
       "    .dataframe thead th {\n",
       "        text-align: right;\n",
       "    }\n",
       "</style>\n",
       "<table border=\"1\" class=\"dataframe\">\n",
       "  <thead>\n",
       "    <tr style=\"text-align: right;\">\n",
       "      <th></th>\n",
       "      <th>Country</th>\n",
       "      <th>Human Freedom Score</th>\n",
       "      <th>hf_rank</th>\n",
       "      <th>hf_quartile</th>\n",
       "      <th>pf_rol_procedural</th>\n",
       "      <th>pf_rol_civil</th>\n",
       "      <th>pf_rol_criminal</th>\n",
       "      <th>pf_rol_vdem</th>\n",
       "      <th>pf_rol</th>\n",
       "      <th>pf_ss_homicide</th>\n",
       "      <th>...</th>\n",
       "      <th>Economic Freedom Score</th>\n",
       "      <th>ef_rank</th>\n",
       "      <th>iso</th>\n",
       "      <th>Happiness Score</th>\n",
       "      <th>GDP per capita</th>\n",
       "      <th>Social support</th>\n",
       "      <th>Healthy life expectancy</th>\n",
       "      <th>Freedom to make life choices</th>\n",
       "      <th>Generosity</th>\n",
       "      <th>Perceptions of corruption</th>\n",
       "    </tr>\n",
       "  </thead>\n",
       "  <tbody>\n",
       "    <tr>\n",
       "      <th>0</th>\n",
       "      <td>Albania</td>\n",
       "      <td>8.07</td>\n",
       "      <td>42.0</td>\n",
       "      <td>2.0</td>\n",
       "      <td>5.903741</td>\n",
       "      <td>4.725831</td>\n",
       "      <td>4.047825</td>\n",
       "      <td>7.375907</td>\n",
       "      <td>4.892466</td>\n",
       "      <td>9.343023</td>\n",
       "      <td>...</td>\n",
       "      <td>7.79</td>\n",
       "      <td>31.0</td>\n",
       "      <td>ALB</td>\n",
       "      <td>4.719</td>\n",
       "      <td>0.947</td>\n",
       "      <td>0.848</td>\n",
       "      <td>0.874</td>\n",
       "      <td>0.383</td>\n",
       "      <td>0.178</td>\n",
       "      <td>0.027</td>\n",
       "    </tr>\n",
       "    <tr>\n",
       "      <th>1</th>\n",
       "      <td>Algeria</td>\n",
       "      <td>5.08</td>\n",
       "      <td>155.0</td>\n",
       "      <td>4.0</td>\n",
       "      <td>4.913311</td>\n",
       "      <td>5.503872</td>\n",
       "      <td>4.254187</td>\n",
       "      <td>5.345021</td>\n",
       "      <td>4.890457</td>\n",
       "      <td>9.613372</td>\n",
       "      <td>...</td>\n",
       "      <td>4.86</td>\n",
       "      <td>159.0</td>\n",
       "      <td>DZA</td>\n",
       "      <td>5.211</td>\n",
       "      <td>1.002</td>\n",
       "      <td>1.160</td>\n",
       "      <td>0.785</td>\n",
       "      <td>0.086</td>\n",
       "      <td>0.073</td>\n",
       "      <td>0.114</td>\n",
       "    </tr>\n",
       "    <tr>\n",
       "      <th>2</th>\n",
       "      <td>Angola</td>\n",
       "      <td>5.96</td>\n",
       "      <td>127.0</td>\n",
       "      <td>4.0</td>\n",
       "      <td>2.773262</td>\n",
       "      <td>4.352009</td>\n",
       "      <td>3.478950</td>\n",
       "      <td>5.264300</td>\n",
       "      <td>3.534740</td>\n",
       "      <td>8.590305</td>\n",
       "      <td>...</td>\n",
       "      <td>5.55</td>\n",
       "      <td>153.0</td>\n",
       "      <td>AGO</td>\n",
       "      <td>NaN</td>\n",
       "      <td>NaN</td>\n",
       "      <td>NaN</td>\n",
       "      <td>NaN</td>\n",
       "      <td>NaN</td>\n",
       "      <td>NaN</td>\n",
       "      <td>NaN</td>\n",
       "    </tr>\n",
       "    <tr>\n",
       "      <th>3</th>\n",
       "      <td>Argentina</td>\n",
       "      <td>7.33</td>\n",
       "      <td>75.0</td>\n",
       "      <td>2.0</td>\n",
       "      <td>6.824288</td>\n",
       "      <td>5.679943</td>\n",
       "      <td>4.218635</td>\n",
       "      <td>6.570627</td>\n",
       "      <td>5.574289</td>\n",
       "      <td>8.505814</td>\n",
       "      <td>...</td>\n",
       "      <td>5.44</td>\n",
       "      <td>154.0</td>\n",
       "      <td>ARG</td>\n",
       "      <td>6.086</td>\n",
       "      <td>1.092</td>\n",
       "      <td>1.432</td>\n",
       "      <td>0.881</td>\n",
       "      <td>0.471</td>\n",
       "      <td>0.066</td>\n",
       "      <td>0.050</td>\n",
       "    </tr>\n",
       "    <tr>\n",
       "      <th>4</th>\n",
       "      <td>Armenia</td>\n",
       "      <td>8.32</td>\n",
       "      <td>34.0</td>\n",
       "      <td>1.0</td>\n",
       "      <td>NaN</td>\n",
       "      <td>NaN</td>\n",
       "      <td>NaN</td>\n",
       "      <td>7.287006</td>\n",
       "      <td>7.287006</td>\n",
       "      <td>9.281977</td>\n",
       "      <td>...</td>\n",
       "      <td>7.98</td>\n",
       "      <td>17.0</td>\n",
       "      <td>ARM</td>\n",
       "      <td>4.559</td>\n",
       "      <td>0.850</td>\n",
       "      <td>1.055</td>\n",
       "      <td>0.815</td>\n",
       "      <td>0.283</td>\n",
       "      <td>0.095</td>\n",
       "      <td>0.064</td>\n",
       "    </tr>\n",
       "  </tbody>\n",
       "</table>\n",
       "<p>5 rows × 147 columns</p>\n",
       "</div>"
      ],
      "text/plain": [
       "     Country  Human Freedom Score  hf_rank  hf_quartile  pf_rol_procedural  \\\n",
       "0    Albania                 8.07     42.0          2.0           5.903741   \n",
       "1    Algeria                 5.08    155.0          4.0           4.913311   \n",
       "2     Angola                 5.96    127.0          4.0           2.773262   \n",
       "3  Argentina                 7.33     75.0          2.0           6.824288   \n",
       "4    Armenia                 8.32     34.0          1.0                NaN   \n",
       "\n",
       "   pf_rol_civil  pf_rol_criminal  pf_rol_vdem    pf_rol  pf_ss_homicide  ...  \\\n",
       "0      4.725831         4.047825     7.375907  4.892466        9.343023  ...   \n",
       "1      5.503872         4.254187     5.345021  4.890457        9.613372  ...   \n",
       "2      4.352009         3.478950     5.264300  3.534740        8.590305  ...   \n",
       "3      5.679943         4.218635     6.570627  5.574289        8.505814  ...   \n",
       "4           NaN              NaN     7.287006  7.287006        9.281977  ...   \n",
       "\n",
       "   Economic Freedom Score  ef_rank  iso  Happiness Score  GDP per capita  \\\n",
       "0                    7.79     31.0  ALB            4.719           0.947   \n",
       "1                    4.86    159.0  DZA            5.211           1.002   \n",
       "2                    5.55    153.0  AGO              NaN             NaN   \n",
       "3                    5.44    154.0  ARG            6.086           1.092   \n",
       "4                    7.98     17.0  ARM            4.559           0.850   \n",
       "\n",
       "   Social support  Healthy life expectancy  Freedom to make life choices  \\\n",
       "0           0.848                    0.874                         0.383   \n",
       "1           1.160                    0.785                         0.086   \n",
       "2             NaN                      NaN                           NaN   \n",
       "3           1.432                    0.881                         0.471   \n",
       "4           1.055                    0.815                         0.283   \n",
       "\n",
       "   Generosity  Perceptions of corruption  \n",
       "0       0.178                      0.027  \n",
       "1       0.073                      0.114  \n",
       "2         NaN                        NaN  \n",
       "3       0.066                      0.050  \n",
       "4       0.095                      0.064  \n",
       "\n",
       "[5 rows x 147 columns]"
      ]
     },
     "execution_count": 5,
     "metadata": {},
     "output_type": "execute_result"
    }
   ],
   "source": [
    "# Function for converting to iso \n",
    "def getIsoCode(country_name):\n",
    "    try:\n",
    "        country_iso = pycountry.countries.search_fuzzy(country_name)[0]\n",
    "        return country_iso.alpha_3\n",
    "    except LookupError:\n",
    "        return \"\"\n",
    "    \n",
    "country_name_mapping = {\n",
    "    \"Bahamas, The\": \"Bahamas\",\n",
    "    \"Congo, Rep.\": \"Congo\",\n",
    "    \"Cote d'Ivoire\": \"Ivory Coast\",\n",
    "    \"Egypt, Arab Rep.\": \"Egypt\",\n",
    "    \"Gambia, The\": \"Gambia\",\n",
    "    \"Iran, Islamic Rep.\": \"Iran\",\n",
    "    \"Korea, Rep.\": \"South Korea\",\n",
    "    \"Kyrgyz Republic\": \"Kyrgyzstan\",\n",
    "    \"Lao PDR\": \"Laos\",\n",
    "    \"Russia\": \"Russian Federation\",\n",
    "    \"Slovak Republic\": \"Slovakia\",\n",
    "    \"Swaziland\": \"Eswatini\",\n",
    "    \"Syria\": \"Syrian Arab Republic\",\n",
    "    \"Trinidad & Tobago\": \"Trinidad and Tobago\",\n",
    "    \"Venezuela, RB\": \"Venezuela\",\n",
    "    \"Yemen, Rep.\": \"Yemen\"\n",
    "}\n",
    "\n",
    "freedom_data['Country'] = freedom_data['Country'].replace(country_name_mapping)\n",
    "happiness_data['Country'] = happiness_data['Country'].replace(country_name_mapping)\n",
    "\n",
    "happiness_data[\"iso\"] = happiness_data['Country'].apply(getIsoCode)\n",
    "freedom_data[\"iso\"] = freedom_data['Country'].apply(getIsoCode)\n",
    "\n",
    "data = pd.merge(freedom_data, happiness_data, on='iso', how='left')\n",
    "data.rename(columns={\n",
    "    'hf_score': 'Human Freedom Score',\n",
    "    'ef_score': 'Economic Freedom Score',\n",
    "    'pf_score': 'Personal Freedom Score',\n",
    "    'Country_x': \"Country\"\n",
    "}, inplace=True)\n",
    "\n",
    "data = data.drop(columns='Country_y')\n",
    "\n",
    "print(\"Data shape:\", data.shape)\n",
    "data.head()"
   ]
  },
  {
   "cell_type": "code",
   "execution_count": 6,
   "metadata": {},
   "outputs": [
    {
     "name": "stdout",
     "output_type": "stream",
     "text": [
      "Data shape: (157, 148)\n"
     ]
    },
    {
     "data": {
      "text/html": [
       "<div>\n",
       "<style scoped>\n",
       "    .dataframe tbody tr th:only-of-type {\n",
       "        vertical-align: middle;\n",
       "    }\n",
       "\n",
       "    .dataframe tbody tr th {\n",
       "        vertical-align: top;\n",
       "    }\n",
       "\n",
       "    .dataframe thead th {\n",
       "        text-align: right;\n",
       "    }\n",
       "</style>\n",
       "<table border=\"1\" class=\"dataframe\">\n",
       "  <thead>\n",
       "    <tr style=\"text-align: right;\">\n",
       "      <th></th>\n",
       "      <th>Country</th>\n",
       "      <th>Human Freedom Score</th>\n",
       "      <th>hf_rank</th>\n",
       "      <th>hf_quartile</th>\n",
       "      <th>pf_rol_procedural</th>\n",
       "      <th>pf_rol_civil</th>\n",
       "      <th>pf_rol_criminal</th>\n",
       "      <th>pf_rol_vdem</th>\n",
       "      <th>pf_rol</th>\n",
       "      <th>pf_ss_homicide</th>\n",
       "      <th>...</th>\n",
       "      <th>ef_rank</th>\n",
       "      <th>iso</th>\n",
       "      <th>Happiness Score</th>\n",
       "      <th>GDP per capita</th>\n",
       "      <th>Social support</th>\n",
       "      <th>Healthy life expectancy</th>\n",
       "      <th>Freedom to make life choices</th>\n",
       "      <th>Generosity</th>\n",
       "      <th>Perceptions of corruption</th>\n",
       "      <th>Continent</th>\n",
       "    </tr>\n",
       "  </thead>\n",
       "  <tbody>\n",
       "    <tr>\n",
       "      <th>0</th>\n",
       "      <td>Albania</td>\n",
       "      <td>8.07</td>\n",
       "      <td>42.0</td>\n",
       "      <td>2.0</td>\n",
       "      <td>5.903741</td>\n",
       "      <td>4.725831</td>\n",
       "      <td>4.047825</td>\n",
       "      <td>7.375907</td>\n",
       "      <td>4.892466</td>\n",
       "      <td>9.343023</td>\n",
       "      <td>...</td>\n",
       "      <td>31.0</td>\n",
       "      <td>ALB</td>\n",
       "      <td>4.719</td>\n",
       "      <td>0.947</td>\n",
       "      <td>0.848</td>\n",
       "      <td>0.874</td>\n",
       "      <td>0.383</td>\n",
       "      <td>0.178</td>\n",
       "      <td>0.027</td>\n",
       "      <td>Europe</td>\n",
       "    </tr>\n",
       "    <tr>\n",
       "      <th>1</th>\n",
       "      <td>Algeria</td>\n",
       "      <td>5.08</td>\n",
       "      <td>155.0</td>\n",
       "      <td>4.0</td>\n",
       "      <td>4.913311</td>\n",
       "      <td>5.503872</td>\n",
       "      <td>4.254187</td>\n",
       "      <td>5.345021</td>\n",
       "      <td>4.890457</td>\n",
       "      <td>9.613372</td>\n",
       "      <td>...</td>\n",
       "      <td>159.0</td>\n",
       "      <td>DZA</td>\n",
       "      <td>5.211</td>\n",
       "      <td>1.002</td>\n",
       "      <td>1.160</td>\n",
       "      <td>0.785</td>\n",
       "      <td>0.086</td>\n",
       "      <td>0.073</td>\n",
       "      <td>0.114</td>\n",
       "      <td>Africa</td>\n",
       "    </tr>\n",
       "    <tr>\n",
       "      <th>2</th>\n",
       "      <td>Angola</td>\n",
       "      <td>5.96</td>\n",
       "      <td>127.0</td>\n",
       "      <td>4.0</td>\n",
       "      <td>2.773262</td>\n",
       "      <td>4.352009</td>\n",
       "      <td>3.478950</td>\n",
       "      <td>5.264300</td>\n",
       "      <td>3.534740</td>\n",
       "      <td>8.590305</td>\n",
       "      <td>...</td>\n",
       "      <td>153.0</td>\n",
       "      <td>AGO</td>\n",
       "      <td>NaN</td>\n",
       "      <td>NaN</td>\n",
       "      <td>NaN</td>\n",
       "      <td>NaN</td>\n",
       "      <td>NaN</td>\n",
       "      <td>NaN</td>\n",
       "      <td>NaN</td>\n",
       "      <td>Africa</td>\n",
       "    </tr>\n",
       "    <tr>\n",
       "      <th>3</th>\n",
       "      <td>Argentina</td>\n",
       "      <td>7.33</td>\n",
       "      <td>75.0</td>\n",
       "      <td>2.0</td>\n",
       "      <td>6.824288</td>\n",
       "      <td>5.679943</td>\n",
       "      <td>4.218635</td>\n",
       "      <td>6.570627</td>\n",
       "      <td>5.574289</td>\n",
       "      <td>8.505814</td>\n",
       "      <td>...</td>\n",
       "      <td>154.0</td>\n",
       "      <td>ARG</td>\n",
       "      <td>6.086</td>\n",
       "      <td>1.092</td>\n",
       "      <td>1.432</td>\n",
       "      <td>0.881</td>\n",
       "      <td>0.471</td>\n",
       "      <td>0.066</td>\n",
       "      <td>0.050</td>\n",
       "      <td>South America</td>\n",
       "    </tr>\n",
       "    <tr>\n",
       "      <th>4</th>\n",
       "      <td>Armenia</td>\n",
       "      <td>8.32</td>\n",
       "      <td>34.0</td>\n",
       "      <td>1.0</td>\n",
       "      <td>NaN</td>\n",
       "      <td>NaN</td>\n",
       "      <td>NaN</td>\n",
       "      <td>7.287006</td>\n",
       "      <td>7.287006</td>\n",
       "      <td>9.281977</td>\n",
       "      <td>...</td>\n",
       "      <td>17.0</td>\n",
       "      <td>ARM</td>\n",
       "      <td>4.559</td>\n",
       "      <td>0.850</td>\n",
       "      <td>1.055</td>\n",
       "      <td>0.815</td>\n",
       "      <td>0.283</td>\n",
       "      <td>0.095</td>\n",
       "      <td>0.064</td>\n",
       "      <td>Asia</td>\n",
       "    </tr>\n",
       "  </tbody>\n",
       "</table>\n",
       "<p>5 rows × 148 columns</p>\n",
       "</div>"
      ],
      "text/plain": [
       "     Country  Human Freedom Score  hf_rank  hf_quartile  pf_rol_procedural  \\\n",
       "0    Albania                 8.07     42.0          2.0           5.903741   \n",
       "1    Algeria                 5.08    155.0          4.0           4.913311   \n",
       "2     Angola                 5.96    127.0          4.0           2.773262   \n",
       "3  Argentina                 7.33     75.0          2.0           6.824288   \n",
       "4    Armenia                 8.32     34.0          1.0                NaN   \n",
       "\n",
       "   pf_rol_civil  pf_rol_criminal  pf_rol_vdem    pf_rol  pf_ss_homicide  ...  \\\n",
       "0      4.725831         4.047825     7.375907  4.892466        9.343023  ...   \n",
       "1      5.503872         4.254187     5.345021  4.890457        9.613372  ...   \n",
       "2      4.352009         3.478950     5.264300  3.534740        8.590305  ...   \n",
       "3      5.679943         4.218635     6.570627  5.574289        8.505814  ...   \n",
       "4           NaN              NaN     7.287006  7.287006        9.281977  ...   \n",
       "\n",
       "   ef_rank  iso  Happiness Score  GDP per capita  Social support  \\\n",
       "0     31.0  ALB            4.719           0.947           0.848   \n",
       "1    159.0  DZA            5.211           1.002           1.160   \n",
       "2    153.0  AGO              NaN             NaN             NaN   \n",
       "3    154.0  ARG            6.086           1.092           1.432   \n",
       "4     17.0  ARM            4.559           0.850           1.055   \n",
       "\n",
       "   Healthy life expectancy  Freedom to make life choices  Generosity  \\\n",
       "0                    0.874                         0.383       0.178   \n",
       "1                    0.785                         0.086       0.073   \n",
       "2                      NaN                           NaN         NaN   \n",
       "3                    0.881                         0.471       0.066   \n",
       "4                    0.815                         0.283       0.095   \n",
       "\n",
       "   Perceptions of corruption      Continent  \n",
       "0                      0.027         Europe  \n",
       "1                      0.114         Africa  \n",
       "2                        NaN         Africa  \n",
       "3                      0.050  South America  \n",
       "4                      0.064           Asia  \n",
       "\n",
       "[5 rows x 148 columns]"
      ]
     },
     "execution_count": 6,
     "metadata": {},
     "output_type": "execute_result"
    }
   ],
   "source": [
    "# Define continent mapping\n",
    "continent_mapping = {\n",
    "    \"Africa\": [\"Algeria\", \"Angola\", \"Benin\", \"Botswana\", \"Burkina Faso\", \"Burundi\", \"Cabo Verde\", \n",
    "               \"Cameroon\", \"Central African Republic\", \"Chad\", \"Comoros\", \"Congo\", \"Djibouti\", \n",
    "               \"Egypt\", \"Equatorial Guinea\", \"Eritrea\", \"Eswatini\", \"Ethiopia\", \"Gabon\", \"Gambia\", \n",
    "               \"Ghana\", \"Guinea\", \"Guinea-Bissau\", \"Ivory Coast\", \"Kenya\", \"Lesotho\", \"Liberia\", \n",
    "               \"Madagascar\", \"Malawi\", \"Mali\", \"Mauritania\", \"Mauritius\", \"Morocco\", \"Mozambique\", \n",
    "               \"Namibia\", \"Niger\", \"Nigeria\", \"Rwanda\", \"Sao Tome and Principe\", \"Senegal\", \n",
    "               \"Seychelles\", \"Sierra Leone\", \"Somalia\", \"South Africa\", \"South Sudan\", \"Sudan\", \n",
    "               \"Tanzania\", \"Togo\", \"Uganda\", \"Zambia\", \"Zimbabwe\"],\n",
    "    \"Asia\": [\"Afghanistan\", \"Armenia\", \"Azerbaijan\", \"Bahrain\", \"Bangladesh\", \"Bhutan\", \"Brunei\", \n",
    "             \"Cambodia\", \"China\", \"Cyprus\", \"Georgia\", \"India\", \"Indonesia\", \"Iran\", \"Iraq\", \n",
    "             \"Israel\", \"Japan\", \"Jordan\", \"Kazakhstan\", \"Kuwait\", \"Kyrgyzstan\", \"Laos\", \"Lebanon\", \n",
    "             \"Malaysia\", \"Maldives\", \"Mongolia\", \"Myanmar\", \"Nepal\", \"North Korea\", \"Oman\", \n",
    "             \"Pakistan\", \"Palestine\", \"Philippines\", \"Qatar\", \"Saudi Arabia\", \"Singapore\", \n",
    "             \"South Korea\", \"Sri Lanka\", \"Syria\", \"Tajikistan\", \"Thailand\", \"Timor-Leste\", \n",
    "             \"Turkey\", \"Turkmenistan\", \"United Arab Emirates\", \"Uzbekistan\", \"Vietnam\", \"Yemen\"],\n",
    "    \"Europe\": [\"Albania\", \"Andorra\", \"Armenia\", \"Austria\", \"Azerbaijan\", \"Belarus\", \"Belgium\", \n",
    "               \"Bosnia and Herzegovina\", \"Bulgaria\", \"Croatia\", \"Cyprus\", \"Czech Republic\", \n",
    "               \"Denmark\", \"Estonia\", \"Finland\", \"France\", \"Georgia\", \"Germany\", \"Greece\", \n",
    "               \"Hungary\", \"Iceland\", \"Ireland\", \"Italy\", \"Kazakhstan\", \"Kosovo\", \"Latvia\", \n",
    "               \"Liechtenstein\", \"Lithuania\", \"Luxembourg\", \"Malta\", \"Moldova\", \"Monaco\", \n",
    "               \"Montenegro\", \"Netherlands\", \"North Macedonia\", \"Norway\", \"Poland\", \"Portugal\", \n",
    "               \"Romania\", \"Russia\", \"San Marino\", \"Serbia\", \"Slovakia\", \"Slovenia\", \"Spain\", \n",
    "               \"Sweden\", \"Switzerland\", \"Ukraine\", \"United Kingdom\", \"Vatican City\"],\n",
    "    \"North America\": [\"Antigua and Barbuda\", \"Bahamas\", \"Barbados\", \"Belize\", \"Canada\", \n",
    "                      \"Costa Rica\", \"Cuba\", \"Dominica\", \"Dominican Republic\", \"El Salvador\", \n",
    "                      \"Grenada\", \"Guatemala\", \"Haiti\", \"Honduras\", \"Jamaica\", \"Mexico\", \n",
    "                      \"Nicaragua\", \"Panama\", \"Saint Kitts and Nevis\", \"Saint Lucia\", \n",
    "                      \"Saint Vincent and the Grenadines\", \"Trinidad and Tobago\", \"United States\"],\n",
    "    \"Oceania\": [\"Australia\", \"Fiji\", \"Kiribati\", \"Marshall Islands\", \"Micronesia\", \"Nauru\", \n",
    "                \"New Zealand\", \"Palau\", \"Papua New Guinea\", \"Samoa\", \"Solomon Islands\", \n",
    "                \"Tonga\", \"Tuvalu\", \"Vanuatu\"],\n",
    "    \"South America\": [\"Argentina\", \"Bolivia\", \"Brazil\", \"Chile\", \"Colombia\", \"Ecuador\", \n",
    "                      \"Guyana\", \"Paraguay\", \"Peru\", \"Suriname\", \"Uruguay\", \"Venezuela\"]\n",
    "}\n",
    "\n",
    "# Function to map country to continent\n",
    "def map_country_to_continent(country):\n",
    "    for continent, countries in continent_mapping.items():\n",
    "        if country in countries:\n",
    "            return continent\n",
    "    return None\n",
    "\n",
    "# Apply the mapping to the dataset\n",
    "data['Continent'] = data['Country'].apply(map_country_to_continent)\n",
    "\n",
    "# Drop rows with missing continent information\n",
    "data = data.dropna(subset=['Continent'])\n",
    "\n",
    "# Group by continent and calculate mean scores\n",
    "happiness_continent = data.groupby('Continent')['Happiness Score'].mean().reset_index()\n",
    "freedom_continent = data.groupby('Continent')['Human Freedom Score'].mean().reset_index()\n",
    "\n",
    "# Merge the datasets by continent\n",
    "data_continent = pd.merge(happiness_continent, freedom_continent, on='Continent', how='inner')\n",
    "data_continent.rename(columns={\n",
    "    'Happiness Score': 'Happiness Score',\n",
    "    'Human Freedom Score': 'Human Freedom Score'\n",
    "}, inplace=True)\n",
    "merged_data_cleaned = data.drop_duplicates(subset=['Country'])\n",
    "\n",
    "print(\"Data shape:\", merged_data_cleaned.shape)\n",
    "merged_data_cleaned.head()\n"
   ]
  },
  {
   "cell_type": "code",
   "execution_count": 7,
   "metadata": {},
   "outputs": [
    {
     "data": {
      "application/vnd.plotly.v1+json": {
       "config": {
        "plotlyServerURL": "https://plot.ly"
       },
       "data": [
        {
         "coloraxis": "coloraxis",
         "customdata": [
          [
           "ALB"
          ],
          [
           "DZA"
          ],
          [
           "AGO"
          ],
          [
           "ARG"
          ],
          [
           "ARM"
          ],
          [
           "AUS"
          ],
          [
           "AUT"
          ],
          [
           "AZE"
          ],
          [
           "BHS"
          ],
          [
           "BHR"
          ],
          [
           "BGD"
          ],
          [
           "BRB"
          ],
          [
           "BLR"
          ],
          [
           "BEL"
          ],
          [
           "BLZ"
          ],
          [
           "BEN"
          ],
          [
           "BTN"
          ],
          [
           "BOL"
          ],
          [
           "BIH"
          ],
          [
           "BWA"
          ],
          [
           "BRA"
          ],
          [
           "BGR"
          ],
          [
           "BFA"
          ],
          [
           "BDI"
          ],
          [
           "CPV"
          ],
          [
           "KHM"
          ],
          [
           "CMR"
          ],
          [
           "CAN"
          ],
          [
           "CAF"
          ],
          [
           "TCD"
          ],
          [
           "CHL"
          ],
          [
           "CHN"
          ],
          [
           "COL"
          ],
          [
           "COM"
          ],
          [
           "COG"
          ],
          [
           "CRI"
          ],
          [
           ""
          ],
          [
           ""
          ],
          [
           ""
          ],
          [
           ""
          ],
          [
           ""
          ],
          [
           ""
          ],
          [
           "HRV"
          ],
          [
           "CYP"
          ],
          [
           "CZE"
          ],
          [
           "DNK"
          ],
          [
           "DJI"
          ],
          [
           "DOM"
          ],
          [
           "ECU"
          ],
          [
           "EGY"
          ],
          [
           "SLV"
          ],
          [
           "EST"
          ],
          [
           "SWZ"
          ],
          [
           "ETH"
          ],
          [
           "FJI"
          ],
          [
           "FIN"
          ],
          [
           "FRA"
          ],
          [
           "GAB"
          ],
          [
           "GMB"
          ],
          [
           "GEO"
          ],
          [
           "DEU"
          ],
          [
           "GHA"
          ],
          [
           "GRC"
          ],
          [
           "GTM"
          ],
          [
           "GIN"
          ],
          [
           "GNB"
          ],
          [
           "GUY"
          ],
          [
           "HTI"
          ],
          [
           "HND"
          ],
          [
           "HUN"
          ],
          [
           "ISL"
          ],
          [
           "IND"
          ],
          [
           "IDN"
          ],
          [
           "IRN"
          ],
          [
           "IRQ"
          ],
          [
           "IRL"
          ],
          [
           "ISR"
          ],
          [
           "ITA"
          ],
          [
           "JAM"
          ],
          [
           "JPN"
          ],
          [
           "JOR"
          ],
          [
           "KAZ"
          ],
          [
           "KEN"
          ],
          [
           "KOR"
          ],
          [
           "KWT"
          ],
          [
           "KGZ"
          ],
          [
           ""
          ],
          [
           ""
          ],
          [
           ""
          ],
          [
           ""
          ],
          [
           ""
          ],
          [
           ""
          ],
          [
           "LVA"
          ],
          [
           "LBN"
          ],
          [
           "LSO"
          ],
          [
           "LBR"
          ],
          [
           "LTU"
          ],
          [
           "LUX"
          ],
          [
           "MDG"
          ],
          [
           "MWI"
          ],
          [
           "MYS"
          ],
          [
           "MLI"
          ],
          [
           "MLT"
          ],
          [
           "MRT"
          ],
          [
           "MUS"
          ],
          [
           "MEX"
          ],
          [
           "MDA"
          ],
          [
           "MNG"
          ],
          [
           "MNE"
          ],
          [
           "MAR"
          ],
          [
           "MOZ"
          ],
          [
           "MMR"
          ],
          [
           "NAM"
          ],
          [
           "NPL"
          ],
          [
           "NLD"
          ],
          [
           "NZL"
          ],
          [
           "NIC"
          ],
          [
           "NGA"
          ],
          [
           "NGA"
          ],
          [
           "NGA"
          ],
          [
           "NGA"
          ],
          [
           "MKD"
          ],
          [
           "NOR"
          ],
          [
           "OMN"
          ],
          [
           "PAK"
          ],
          [
           "PAN"
          ],
          [
           "PNG"
          ],
          [
           "PRY"
          ],
          [
           "PER"
          ],
          [
           "PHL"
          ],
          [
           "POL"
          ],
          [
           "PRT"
          ],
          [
           "QAT"
          ],
          [
           "ROU"
          ],
          [
           "RWA"
          ],
          [
           "SAU"
          ],
          [
           "SEN"
          ],
          [
           "SRB"
          ],
          [
           "SRB"
          ],
          [
           "SYC"
          ],
          [
           "SLE"
          ],
          [
           "SGP"
          ],
          [
           "SVK"
          ],
          [
           "SVN"
          ],
          [
           "SOM"
          ],
          [
           "ZAF"
          ],
          [
           "ESP"
          ],
          [
           "LKA"
          ],
          [
           "SDN"
          ],
          [
           "SUR"
          ],
          [
           "SWE"
          ],
          [
           "CHE"
          ],
          [
           "TJK"
          ],
          [
           "TZA"
          ],
          [
           "THA"
          ],
          [
           "TLS"
          ],
          [
           "TGO"
          ],
          [
           "TTO"
          ],
          [
           "TUR"
          ],
          [
           "UGA"
          ],
          [
           "UKR"
          ],
          [
           "ARE"
          ],
          [
           "GBR"
          ],
          [
           "USA"
          ],
          [
           "URY"
          ],
          [
           "VEN"
          ],
          [
           "VNM"
          ],
          [
           "YEM"
          ],
          [
           "ZMB"
          ],
          [
           "ZWE"
          ]
         ],
         "geo": "geo",
         "hovertemplate": "<b>%{hovertext}</b><br><br>iso=%{customdata[0]}<br>Human Freedom Score=%{z}<extra></extra>",
         "hovertext": [
          "ALB",
          "DZA",
          "AGO",
          "ARG",
          "ARM",
          "AUS",
          "AUT",
          "AZE",
          "BHS",
          "BHR",
          "BGD",
          "BRB",
          "BLR",
          "BEL",
          "BLZ",
          "BEN",
          "BTN",
          "BOL",
          "BIH",
          "BWA",
          "BRA",
          "BGR",
          "BFA",
          "BDI",
          "CPV",
          "KHM",
          "CMR",
          "CAN",
          "CAF",
          "TCD",
          "CHL",
          "CHN",
          "COL",
          "COM",
          "COG",
          "CRI",
          "",
          "",
          "",
          "",
          "",
          "",
          "HRV",
          "CYP",
          "CZE",
          "DNK",
          "DJI",
          "DOM",
          "ECU",
          "EGY",
          "SLV",
          "EST",
          "SWZ",
          "ETH",
          "FJI",
          "FIN",
          "FRA",
          "GAB",
          "GMB",
          "GEO",
          "DEU",
          "GHA",
          "GRC",
          "GTM",
          "GIN",
          "GNB",
          "GUY",
          "HTI",
          "HND",
          "HUN",
          "ISL",
          "IND",
          "IDN",
          "IRN",
          "IRQ",
          "IRL",
          "ISR",
          "ITA",
          "JAM",
          "JPN",
          "JOR",
          "KAZ",
          "KEN",
          "KOR",
          "KWT",
          "KGZ",
          "",
          "",
          "",
          "",
          "",
          "",
          "LVA",
          "LBN",
          "LSO",
          "LBR",
          "LTU",
          "LUX",
          "MDG",
          "MWI",
          "MYS",
          "MLI",
          "MLT",
          "MRT",
          "MUS",
          "MEX",
          "MDA",
          "MNG",
          "MNE",
          "MAR",
          "MOZ",
          "MMR",
          "NAM",
          "NPL",
          "NLD",
          "NZL",
          "NIC",
          "NGA",
          "NGA",
          "NGA",
          "NGA",
          "MKD",
          "NOR",
          "OMN",
          "PAK",
          "PAN",
          "PNG",
          "PRY",
          "PER",
          "PHL",
          "POL",
          "PRT",
          "QAT",
          "ROU",
          "RWA",
          "SAU",
          "SEN",
          "SRB",
          "SRB",
          "SYC",
          "SLE",
          "SGP",
          "SVK",
          "SVN",
          "SOM",
          "ZAF",
          "ESP",
          "LKA",
          "SDN",
          "SUR",
          "SWE",
          "CHE",
          "TJK",
          "TZA",
          "THA",
          "TLS",
          "TGO",
          "TTO",
          "TUR",
          "UGA",
          "UKR",
          "ARE",
          "GBR",
          "USA",
          "URY",
          "VEN",
          "VNM",
          "YEM",
          "ZMB",
          "ZWE"
         ],
         "locations": [
          "ALB",
          "DZA",
          "AGO",
          "ARG",
          "ARM",
          "AUS",
          "AUT",
          "AZE",
          "BHS",
          "BHR",
          "BGD",
          "BRB",
          "BLR",
          "BEL",
          "BLZ",
          "BEN",
          "BTN",
          "BOL",
          "BIH",
          "BWA",
          "BRA",
          "BGR",
          "BFA",
          "BDI",
          "CPV",
          "KHM",
          "CMR",
          "CAN",
          "CAF",
          "TCD",
          "CHL",
          "CHN",
          "COL",
          "COM",
          "COG",
          "CRI",
          "",
          "",
          "",
          "",
          "",
          "",
          "HRV",
          "CYP",
          "CZE",
          "DNK",
          "DJI",
          "DOM",
          "ECU",
          "EGY",
          "SLV",
          "EST",
          "SWZ",
          "ETH",
          "FJI",
          "FIN",
          "FRA",
          "GAB",
          "GMB",
          "GEO",
          "DEU",
          "GHA",
          "GRC",
          "GTM",
          "GIN",
          "GNB",
          "GUY",
          "HTI",
          "HND",
          "HUN",
          "ISL",
          "IND",
          "IDN",
          "IRN",
          "IRQ",
          "IRL",
          "ISR",
          "ITA",
          "JAM",
          "JPN",
          "JOR",
          "KAZ",
          "KEN",
          "KOR",
          "KWT",
          "KGZ",
          "",
          "",
          "",
          "",
          "",
          "",
          "LVA",
          "LBN",
          "LSO",
          "LBR",
          "LTU",
          "LUX",
          "MDG",
          "MWI",
          "MYS",
          "MLI",
          "MLT",
          "MRT",
          "MUS",
          "MEX",
          "MDA",
          "MNG",
          "MNE",
          "MAR",
          "MOZ",
          "MMR",
          "NAM",
          "NPL",
          "NLD",
          "NZL",
          "NIC",
          "NGA",
          "NGA",
          "NGA",
          "NGA",
          "MKD",
          "NOR",
          "OMN",
          "PAK",
          "PAN",
          "PNG",
          "PRY",
          "PER",
          "PHL",
          "POL",
          "PRT",
          "QAT",
          "ROU",
          "RWA",
          "SAU",
          "SEN",
          "SRB",
          "SRB",
          "SYC",
          "SLE",
          "SGP",
          "SVK",
          "SVN",
          "SOM",
          "ZAF",
          "ESP",
          "LKA",
          "SDN",
          "SUR",
          "SWE",
          "CHE",
          "TJK",
          "TZA",
          "THA",
          "TLS",
          "TGO",
          "TTO",
          "TUR",
          "UGA",
          "UKR",
          "ARE",
          "GBR",
          "USA",
          "URY",
          "VEN",
          "VNM",
          "YEM",
          "ZMB",
          "ZWE"
         ],
         "name": "",
         "type": "choropleth",
         "z": [
          8.07,
          5.08,
          5.96,
          7.33,
          8.32,
          8.83,
          8.68,
          6.02,
          8.15,
          5.43,
          5.56,
          7.93,
          6.27,
          8.55,
          7.48,
          7.25,
          6.68,
          6.88,
          7.43,
          7.76,
          7.25,
          7.97,
          6.83,
          4.91,
          8.44,
          6.43,
          5.34,
          8.85,
          5.68,
          5.41,
          8.5,
          5.27,
          6.95,
          5.91,
          5.33,
          8.28,
          6.78,
          6.78,
          6.78,
          6.78,
          6.78,
          6.78,
          8.15,
          8.49,
          8.61,
          9.01,
          5.63,
          7.87,
          7.37,
          4.35,
          7.34,
          8.94,
          5.73,
          5.73,
          7.35,
          8.87,
          8.26,
          6.66,
          6.82,
          7.85,
          8.73,
          7.46,
          7.83,
          7.47,
          5.82,
          6.78,
          7.04,
          7.2,
          6.98,
          7.63,
          8.84,
          6.42,
          6.98,
          4.27,
          5.12,
          8.95,
          7.61,
          8.43,
          7.9,
          8.75,
          6.71,
          6.63,
          6.57,
          8.31,
          6.2,
          7.02,
          5.68,
          5.68,
          5.68,
          5.68,
          5.68,
          5.68,
          8.62,
          6.67,
          7,
          6.6,
          8.72,
          8.85,
          6.86,
          6.92,
          7.08,
          6.19,
          8.43,
          5.56,
          8.02,
          6.8,
          7.6,
          7.97,
          7.91,
          5.68,
          6.77,
          5.4,
          7.57,
          7.01,
          8.8,
          9.04,
          6.13,
          6.14,
          6.14,
          6.1,
          6.1,
          7.68,
          8.81,
          5.77,
          5.48,
          7.94,
          7.17,
          7.46,
          7.83,
          6.69,
          7.92,
          8.69,
          5.96,
          8.25,
          6.19,
          4.77,
          6.9,
          7.5,
          7.5,
          7.91,
          6.47,
          7.86,
          8.15,
          8.33,
          4.71,
          7.15,
          8.49,
          6.47,
          4.04,
          7.51,
          8.85,
          9.17,
          5.44,
          6.29,
          6.75,
          7.36,
          6.28,
          7.78,
          5.63,
          6.17,
          6.77,
          5.89,
          8.79,
          8.75,
          8.4,
          3.9,
          5.74,
          3.99,
          6.6,
          5.3
         ]
        },
        {
         "coloraxis": "coloraxis",
         "customdata": [
          [
           "ALB"
          ],
          [
           "DZA"
          ],
          [
           "AGO"
          ],
          [
           "ARG"
          ],
          [
           "ARM"
          ],
          [
           "AUS"
          ],
          [
           "AUT"
          ],
          [
           "AZE"
          ],
          [
           "BHS"
          ],
          [
           "BHR"
          ],
          [
           "BGD"
          ],
          [
           "BRB"
          ],
          [
           "BLR"
          ],
          [
           "BEL"
          ],
          [
           "BLZ"
          ],
          [
           "BEN"
          ],
          [
           "BTN"
          ],
          [
           "BOL"
          ],
          [
           "BIH"
          ],
          [
           "BWA"
          ],
          [
           "BRA"
          ],
          [
           "BGR"
          ],
          [
           "BFA"
          ],
          [
           "BDI"
          ],
          [
           "CPV"
          ],
          [
           "KHM"
          ],
          [
           "CMR"
          ],
          [
           "CAN"
          ],
          [
           "CAF"
          ],
          [
           "TCD"
          ],
          [
           "CHL"
          ],
          [
           "CHN"
          ],
          [
           "COL"
          ],
          [
           "COM"
          ],
          [
           "COG"
          ],
          [
           "CRI"
          ],
          [
           ""
          ],
          [
           ""
          ],
          [
           ""
          ],
          [
           ""
          ],
          [
           ""
          ],
          [
           ""
          ],
          [
           "HRV"
          ],
          [
           "CYP"
          ],
          [
           "CZE"
          ],
          [
           "DNK"
          ],
          [
           "DJI"
          ],
          [
           "DOM"
          ],
          [
           "ECU"
          ],
          [
           "EGY"
          ],
          [
           "SLV"
          ],
          [
           "EST"
          ],
          [
           "SWZ"
          ],
          [
           "ETH"
          ],
          [
           "FJI"
          ],
          [
           "FIN"
          ],
          [
           "FRA"
          ],
          [
           "GAB"
          ],
          [
           "GMB"
          ],
          [
           "GEO"
          ],
          [
           "DEU"
          ],
          [
           "GHA"
          ],
          [
           "GRC"
          ],
          [
           "GTM"
          ],
          [
           "GIN"
          ],
          [
           "GNB"
          ],
          [
           "GUY"
          ],
          [
           "HTI"
          ],
          [
           "HND"
          ],
          [
           "HUN"
          ],
          [
           "ISL"
          ],
          [
           "IND"
          ],
          [
           "IDN"
          ],
          [
           "IRN"
          ],
          [
           "IRQ"
          ],
          [
           "IRL"
          ],
          [
           "ISR"
          ],
          [
           "ITA"
          ],
          [
           "JAM"
          ],
          [
           "JPN"
          ],
          [
           "JOR"
          ],
          [
           "KAZ"
          ],
          [
           "KEN"
          ],
          [
           "KOR"
          ],
          [
           "KWT"
          ],
          [
           "KGZ"
          ],
          [
           ""
          ],
          [
           ""
          ],
          [
           ""
          ],
          [
           ""
          ],
          [
           ""
          ],
          [
           ""
          ],
          [
           "LVA"
          ],
          [
           "LBN"
          ],
          [
           "LSO"
          ],
          [
           "LBR"
          ],
          [
           "LTU"
          ],
          [
           "LUX"
          ],
          [
           "MDG"
          ],
          [
           "MWI"
          ],
          [
           "MYS"
          ],
          [
           "MLI"
          ],
          [
           "MLT"
          ],
          [
           "MRT"
          ],
          [
           "MUS"
          ],
          [
           "MEX"
          ],
          [
           "MDA"
          ],
          [
           "MNG"
          ],
          [
           "MNE"
          ],
          [
           "MAR"
          ],
          [
           "MOZ"
          ],
          [
           "MMR"
          ],
          [
           "NAM"
          ],
          [
           "NPL"
          ],
          [
           "NLD"
          ],
          [
           "NZL"
          ],
          [
           "NIC"
          ],
          [
           "NGA"
          ],
          [
           "NGA"
          ],
          [
           "NGA"
          ],
          [
           "NGA"
          ],
          [
           "MKD"
          ],
          [
           "NOR"
          ],
          [
           "OMN"
          ],
          [
           "PAK"
          ],
          [
           "PAN"
          ],
          [
           "PNG"
          ],
          [
           "PRY"
          ],
          [
           "PER"
          ],
          [
           "PHL"
          ],
          [
           "POL"
          ],
          [
           "PRT"
          ],
          [
           "QAT"
          ],
          [
           "ROU"
          ],
          [
           "RWA"
          ],
          [
           "SAU"
          ],
          [
           "SEN"
          ],
          [
           "SRB"
          ],
          [
           "SRB"
          ],
          [
           "SYC"
          ],
          [
           "SLE"
          ],
          [
           "SGP"
          ],
          [
           "SVK"
          ],
          [
           "SVN"
          ],
          [
           "SOM"
          ],
          [
           "ZAF"
          ],
          [
           "ESP"
          ],
          [
           "LKA"
          ],
          [
           "SDN"
          ],
          [
           "SUR"
          ],
          [
           "SWE"
          ],
          [
           "CHE"
          ],
          [
           "TJK"
          ],
          [
           "TZA"
          ],
          [
           "THA"
          ],
          [
           "TLS"
          ],
          [
           "TGO"
          ],
          [
           "TTO"
          ],
          [
           "TUR"
          ],
          [
           "UGA"
          ],
          [
           "UKR"
          ],
          [
           "ARE"
          ],
          [
           "GBR"
          ],
          [
           "USA"
          ],
          [
           "URY"
          ],
          [
           "VEN"
          ],
          [
           "VNM"
          ],
          [
           "YEM"
          ],
          [
           "ZMB"
          ],
          [
           "ZWE"
          ]
         ],
         "geo": "geo2",
         "hovertemplate": "<b>%{hovertext}</b><br><br>iso=%{customdata[0]}<br>Happiness Score=%{z}<extra></extra>",
         "hovertext": [
          "ALB",
          "DZA",
          "AGO",
          "ARG",
          "ARM",
          "AUS",
          "AUT",
          "AZE",
          "BHS",
          "BHR",
          "BGD",
          "BRB",
          "BLR",
          "BEL",
          "BLZ",
          "BEN",
          "BTN",
          "BOL",
          "BIH",
          "BWA",
          "BRA",
          "BGR",
          "BFA",
          "BDI",
          "CPV",
          "KHM",
          "CMR",
          "CAN",
          "CAF",
          "TCD",
          "CHL",
          "CHN",
          "COL",
          "COM",
          "COG",
          "CRI",
          "",
          "",
          "",
          "",
          "",
          "",
          "HRV",
          "CYP",
          "CZE",
          "DNK",
          "DJI",
          "DOM",
          "ECU",
          "EGY",
          "SLV",
          "EST",
          "SWZ",
          "ETH",
          "FJI",
          "FIN",
          "FRA",
          "GAB",
          "GMB",
          "GEO",
          "DEU",
          "GHA",
          "GRC",
          "GTM",
          "GIN",
          "GNB",
          "GUY",
          "HTI",
          "HND",
          "HUN",
          "ISL",
          "IND",
          "IDN",
          "IRN",
          "IRQ",
          "IRL",
          "ISR",
          "ITA",
          "JAM",
          "JPN",
          "JOR",
          "KAZ",
          "KEN",
          "KOR",
          "KWT",
          "KGZ",
          "",
          "",
          "",
          "",
          "",
          "",
          "LVA",
          "LBN",
          "LSO",
          "LBR",
          "LTU",
          "LUX",
          "MDG",
          "MWI",
          "MYS",
          "MLI",
          "MLT",
          "MRT",
          "MUS",
          "MEX",
          "MDA",
          "MNG",
          "MNE",
          "MAR",
          "MOZ",
          "MMR",
          "NAM",
          "NPL",
          "NLD",
          "NZL",
          "NIC",
          "NGA",
          "NGA",
          "NGA",
          "NGA",
          "MKD",
          "NOR",
          "OMN",
          "PAK",
          "PAN",
          "PNG",
          "PRY",
          "PER",
          "PHL",
          "POL",
          "PRT",
          "QAT",
          "ROU",
          "RWA",
          "SAU",
          "SEN",
          "SRB",
          "SRB",
          "SYC",
          "SLE",
          "SGP",
          "SVK",
          "SVN",
          "SOM",
          "ZAF",
          "ESP",
          "LKA",
          "SDN",
          "SUR",
          "SWE",
          "CHE",
          "TJK",
          "TZA",
          "THA",
          "TLS",
          "TGO",
          "TTO",
          "TUR",
          "UGA",
          "UKR",
          "ARE",
          "GBR",
          "USA",
          "URY",
          "VEN",
          "VNM",
          "YEM",
          "ZMB",
          "ZWE"
         ],
         "locations": [
          "ALB",
          "DZA",
          "AGO",
          "ARG",
          "ARM",
          "AUS",
          "AUT",
          "AZE",
          "BHS",
          "BHR",
          "BGD",
          "BRB",
          "BLR",
          "BEL",
          "BLZ",
          "BEN",
          "BTN",
          "BOL",
          "BIH",
          "BWA",
          "BRA",
          "BGR",
          "BFA",
          "BDI",
          "CPV",
          "KHM",
          "CMR",
          "CAN",
          "CAF",
          "TCD",
          "CHL",
          "CHN",
          "COL",
          "COM",
          "COG",
          "CRI",
          "",
          "",
          "",
          "",
          "",
          "",
          "HRV",
          "CYP",
          "CZE",
          "DNK",
          "DJI",
          "DOM",
          "ECU",
          "EGY",
          "SLV",
          "EST",
          "SWZ",
          "ETH",
          "FJI",
          "FIN",
          "FRA",
          "GAB",
          "GMB",
          "GEO",
          "DEU",
          "GHA",
          "GRC",
          "GTM",
          "GIN",
          "GNB",
          "GUY",
          "HTI",
          "HND",
          "HUN",
          "ISL",
          "IND",
          "IDN",
          "IRN",
          "IRQ",
          "IRL",
          "ISR",
          "ITA",
          "JAM",
          "JPN",
          "JOR",
          "KAZ",
          "KEN",
          "KOR",
          "KWT",
          "KGZ",
          "",
          "",
          "",
          "",
          "",
          "",
          "LVA",
          "LBN",
          "LSO",
          "LBR",
          "LTU",
          "LUX",
          "MDG",
          "MWI",
          "MYS",
          "MLI",
          "MLT",
          "MRT",
          "MUS",
          "MEX",
          "MDA",
          "MNG",
          "MNE",
          "MAR",
          "MOZ",
          "MMR",
          "NAM",
          "NPL",
          "NLD",
          "NZL",
          "NIC",
          "NGA",
          "NGA",
          "NGA",
          "NGA",
          "MKD",
          "NOR",
          "OMN",
          "PAK",
          "PAN",
          "PNG",
          "PRY",
          "PER",
          "PHL",
          "POL",
          "PRT",
          "QAT",
          "ROU",
          "RWA",
          "SAU",
          "SEN",
          "SRB",
          "SRB",
          "SYC",
          "SLE",
          "SGP",
          "SVK",
          "SVN",
          "SOM",
          "ZAF",
          "ESP",
          "LKA",
          "SDN",
          "SUR",
          "SWE",
          "CHE",
          "TJK",
          "TZA",
          "THA",
          "TLS",
          "TGO",
          "TTO",
          "TUR",
          "UGA",
          "UKR",
          "ARE",
          "GBR",
          "USA",
          "URY",
          "VEN",
          "VNM",
          "YEM",
          "ZMB",
          "ZWE"
         ],
         "name": "",
         "type": "choropleth",
         "z": [
          4.719,
          5.211,
          null,
          6.086,
          4.559,
          7.228,
          7.246,
          5.208,
          null,
          6.199,
          4.456,
          null,
          5.323,
          6.923,
          null,
          4.883,
          5.082,
          5.779,
          5.386,
          3.488,
          6.3,
          5.011,
          4.587,
          3.775,
          null,
          4.7,
          5.044,
          7.278,
          3.083,
          4.35,
          6.444,
          5.191,
          6.125,
          3.973,
          null,
          7.167,
          5.718,
          4.944,
          4.812,
          4.796,
          4.696,
          4.418,
          5.432,
          6.046,
          6.852,
          7.6,
          null,
          5.425,
          6.028,
          4.166,
          6.253,
          5.893,
          4.212,
          4.286,
          null,
          7.769,
          6.592,
          4.799,
          4.516,
          4.519,
          6.985,
          4.996,
          5.287,
          6.436,
          4.534,
          null,
          null,
          3.597,
          5.86,
          5.758,
          7.494,
          4.015,
          5.192,
          4.548,
          4.437,
          7.021,
          7.139,
          6.223,
          5.89,
          5.886,
          4.906,
          5.809,
          4.509,
          5.895,
          6.021,
          5.261,
          5.718,
          4.944,
          4.812,
          4.796,
          4.696,
          4.418,
          5.94,
          5.197,
          3.802,
          3.975,
          6.149,
          7.09,
          3.933,
          3.41,
          5.339,
          4.39,
          6.726,
          4.49,
          5.888,
          6.595,
          5.529,
          5.285,
          5.523,
          5.208,
          4.466,
          4.36,
          4.639,
          4.913,
          7.488,
          7.307,
          6.105,
          5.265,
          4.628,
          5.265,
          4.628,
          5.274,
          7.554,
          null,
          5.653,
          6.321,
          null,
          5.743,
          5.697,
          5.631,
          6.182,
          5.693,
          6.374,
          6.07,
          3.334,
          6.375,
          4.681,
          6.1,
          5.603,
          null,
          4.374,
          6.262,
          6.198,
          6.118,
          4.668,
          4.722,
          6.354,
          4.366,
          null,
          null,
          7.343,
          7.48,
          5.467,
          3.231,
          6.008,
          null,
          4.085,
          6.192,
          5.373,
          4.189,
          4.332,
          6.825,
          7.054,
          6.892,
          6.293,
          4.707,
          5.175,
          3.38,
          4.107,
          3.663
         ]
        }
       ],
       "layout": {
        "annotations": [
         {
          "font": {
           "size": 16
          },
          "showarrow": false,
          "text": "Freedom around the world",
          "x": 0.225,
          "xanchor": "center",
          "xref": "paper",
          "y": 1,
          "yanchor": "bottom",
          "yref": "paper"
         },
         {
          "font": {
           "size": 16
          },
          "showarrow": false,
          "text": "Happiness",
          "x": 0.775,
          "xanchor": "center",
          "xref": "paper",
          "y": 1,
          "yanchor": "bottom",
          "yref": "paper"
         }
        ],
        "coloraxis": {
         "cmax": 10,
         "cmin": 0,
         "colorscale": [
          [
           0,
           "rgb(249, 221, 218)"
          ],
          [
           0.16666666666666666,
           "rgb(242, 185, 196)"
          ],
          [
           0.3333333333333333,
           "rgb(229, 151, 185)"
          ],
          [
           0.5,
           "rgb(206, 120, 179)"
          ],
          [
           0.6666666666666666,
           "rgb(173, 95, 173)"
          ],
          [
           0.8333333333333334,
           "rgb(131, 75, 160)"
          ],
          [
           1,
           "rgb(87, 59, 136)"
          ]
         ]
        },
        "geo": {
         "domain": {
          "x": [
           0,
           0.45
          ],
          "y": [
           0,
           1
          ]
         }
        },
        "geo2": {
         "domain": {
          "x": [
           0.55,
           1
          ],
          "y": [
           0,
           1
          ]
         }
        },
        "height": 600,
        "margin": {
         "b": 50,
         "l": 20,
         "r": 20,
         "t": 100
        },
        "template": {
         "data": {
          "bar": [
           {
            "error_x": {
             "color": "#2a3f5f"
            },
            "error_y": {
             "color": "#2a3f5f"
            },
            "marker": {
             "line": {
              "color": "#E5ECF6",
              "width": 0.5
             },
             "pattern": {
              "fillmode": "overlay",
              "size": 10,
              "solidity": 0.2
             }
            },
            "type": "bar"
           }
          ],
          "barpolar": [
           {
            "marker": {
             "line": {
              "color": "#E5ECF6",
              "width": 0.5
             },
             "pattern": {
              "fillmode": "overlay",
              "size": 10,
              "solidity": 0.2
             }
            },
            "type": "barpolar"
           }
          ],
          "carpet": [
           {
            "aaxis": {
             "endlinecolor": "#2a3f5f",
             "gridcolor": "white",
             "linecolor": "white",
             "minorgridcolor": "white",
             "startlinecolor": "#2a3f5f"
            },
            "baxis": {
             "endlinecolor": "#2a3f5f",
             "gridcolor": "white",
             "linecolor": "white",
             "minorgridcolor": "white",
             "startlinecolor": "#2a3f5f"
            },
            "type": "carpet"
           }
          ],
          "choropleth": [
           {
            "colorbar": {
             "outlinewidth": 0,
             "ticks": ""
            },
            "type": "choropleth"
           }
          ],
          "contour": [
           {
            "colorbar": {
             "outlinewidth": 0,
             "ticks": ""
            },
            "colorscale": [
             [
              0,
              "#0d0887"
             ],
             [
              0.1111111111111111,
              "#46039f"
             ],
             [
              0.2222222222222222,
              "#7201a8"
             ],
             [
              0.3333333333333333,
              "#9c179e"
             ],
             [
              0.4444444444444444,
              "#bd3786"
             ],
             [
              0.5555555555555556,
              "#d8576b"
             ],
             [
              0.6666666666666666,
              "#ed7953"
             ],
             [
              0.7777777777777778,
              "#fb9f3a"
             ],
             [
              0.8888888888888888,
              "#fdca26"
             ],
             [
              1,
              "#f0f921"
             ]
            ],
            "type": "contour"
           }
          ],
          "contourcarpet": [
           {
            "colorbar": {
             "outlinewidth": 0,
             "ticks": ""
            },
            "type": "contourcarpet"
           }
          ],
          "heatmap": [
           {
            "colorbar": {
             "outlinewidth": 0,
             "ticks": ""
            },
            "colorscale": [
             [
              0,
              "#0d0887"
             ],
             [
              0.1111111111111111,
              "#46039f"
             ],
             [
              0.2222222222222222,
              "#7201a8"
             ],
             [
              0.3333333333333333,
              "#9c179e"
             ],
             [
              0.4444444444444444,
              "#bd3786"
             ],
             [
              0.5555555555555556,
              "#d8576b"
             ],
             [
              0.6666666666666666,
              "#ed7953"
             ],
             [
              0.7777777777777778,
              "#fb9f3a"
             ],
             [
              0.8888888888888888,
              "#fdca26"
             ],
             [
              1,
              "#f0f921"
             ]
            ],
            "type": "heatmap"
           }
          ],
          "heatmapgl": [
           {
            "colorbar": {
             "outlinewidth": 0,
             "ticks": ""
            },
            "colorscale": [
             [
              0,
              "#0d0887"
             ],
             [
              0.1111111111111111,
              "#46039f"
             ],
             [
              0.2222222222222222,
              "#7201a8"
             ],
             [
              0.3333333333333333,
              "#9c179e"
             ],
             [
              0.4444444444444444,
              "#bd3786"
             ],
             [
              0.5555555555555556,
              "#d8576b"
             ],
             [
              0.6666666666666666,
              "#ed7953"
             ],
             [
              0.7777777777777778,
              "#fb9f3a"
             ],
             [
              0.8888888888888888,
              "#fdca26"
             ],
             [
              1,
              "#f0f921"
             ]
            ],
            "type": "heatmapgl"
           }
          ],
          "histogram": [
           {
            "marker": {
             "pattern": {
              "fillmode": "overlay",
              "size": 10,
              "solidity": 0.2
             }
            },
            "type": "histogram"
           }
          ],
          "histogram2d": [
           {
            "colorbar": {
             "outlinewidth": 0,
             "ticks": ""
            },
            "colorscale": [
             [
              0,
              "#0d0887"
             ],
             [
              0.1111111111111111,
              "#46039f"
             ],
             [
              0.2222222222222222,
              "#7201a8"
             ],
             [
              0.3333333333333333,
              "#9c179e"
             ],
             [
              0.4444444444444444,
              "#bd3786"
             ],
             [
              0.5555555555555556,
              "#d8576b"
             ],
             [
              0.6666666666666666,
              "#ed7953"
             ],
             [
              0.7777777777777778,
              "#fb9f3a"
             ],
             [
              0.8888888888888888,
              "#fdca26"
             ],
             [
              1,
              "#f0f921"
             ]
            ],
            "type": "histogram2d"
           }
          ],
          "histogram2dcontour": [
           {
            "colorbar": {
             "outlinewidth": 0,
             "ticks": ""
            },
            "colorscale": [
             [
              0,
              "#0d0887"
             ],
             [
              0.1111111111111111,
              "#46039f"
             ],
             [
              0.2222222222222222,
              "#7201a8"
             ],
             [
              0.3333333333333333,
              "#9c179e"
             ],
             [
              0.4444444444444444,
              "#bd3786"
             ],
             [
              0.5555555555555556,
              "#d8576b"
             ],
             [
              0.6666666666666666,
              "#ed7953"
             ],
             [
              0.7777777777777778,
              "#fb9f3a"
             ],
             [
              0.8888888888888888,
              "#fdca26"
             ],
             [
              1,
              "#f0f921"
             ]
            ],
            "type": "histogram2dcontour"
           }
          ],
          "mesh3d": [
           {
            "colorbar": {
             "outlinewidth": 0,
             "ticks": ""
            },
            "type": "mesh3d"
           }
          ],
          "parcoords": [
           {
            "line": {
             "colorbar": {
              "outlinewidth": 0,
              "ticks": ""
             }
            },
            "type": "parcoords"
           }
          ],
          "pie": [
           {
            "automargin": true,
            "type": "pie"
           }
          ],
          "scatter": [
           {
            "fillpattern": {
             "fillmode": "overlay",
             "size": 10,
             "solidity": 0.2
            },
            "type": "scatter"
           }
          ],
          "scatter3d": [
           {
            "line": {
             "colorbar": {
              "outlinewidth": 0,
              "ticks": ""
             }
            },
            "marker": {
             "colorbar": {
              "outlinewidth": 0,
              "ticks": ""
             }
            },
            "type": "scatter3d"
           }
          ],
          "scattercarpet": [
           {
            "marker": {
             "colorbar": {
              "outlinewidth": 0,
              "ticks": ""
             }
            },
            "type": "scattercarpet"
           }
          ],
          "scattergeo": [
           {
            "marker": {
             "colorbar": {
              "outlinewidth": 0,
              "ticks": ""
             }
            },
            "type": "scattergeo"
           }
          ],
          "scattergl": [
           {
            "marker": {
             "colorbar": {
              "outlinewidth": 0,
              "ticks": ""
             }
            },
            "type": "scattergl"
           }
          ],
          "scattermapbox": [
           {
            "marker": {
             "colorbar": {
              "outlinewidth": 0,
              "ticks": ""
             }
            },
            "type": "scattermapbox"
           }
          ],
          "scatterpolar": [
           {
            "marker": {
             "colorbar": {
              "outlinewidth": 0,
              "ticks": ""
             }
            },
            "type": "scatterpolar"
           }
          ],
          "scatterpolargl": [
           {
            "marker": {
             "colorbar": {
              "outlinewidth": 0,
              "ticks": ""
             }
            },
            "type": "scatterpolargl"
           }
          ],
          "scatterternary": [
           {
            "marker": {
             "colorbar": {
              "outlinewidth": 0,
              "ticks": ""
             }
            },
            "type": "scatterternary"
           }
          ],
          "surface": [
           {
            "colorbar": {
             "outlinewidth": 0,
             "ticks": ""
            },
            "colorscale": [
             [
              0,
              "#0d0887"
             ],
             [
              0.1111111111111111,
              "#46039f"
             ],
             [
              0.2222222222222222,
              "#7201a8"
             ],
             [
              0.3333333333333333,
              "#9c179e"
             ],
             [
              0.4444444444444444,
              "#bd3786"
             ],
             [
              0.5555555555555556,
              "#d8576b"
             ],
             [
              0.6666666666666666,
              "#ed7953"
             ],
             [
              0.7777777777777778,
              "#fb9f3a"
             ],
             [
              0.8888888888888888,
              "#fdca26"
             ],
             [
              1,
              "#f0f921"
             ]
            ],
            "type": "surface"
           }
          ],
          "table": [
           {
            "cells": {
             "fill": {
              "color": "#EBF0F8"
             },
             "line": {
              "color": "white"
             }
            },
            "header": {
             "fill": {
              "color": "#C8D4E3"
             },
             "line": {
              "color": "white"
             }
            },
            "type": "table"
           }
          ]
         },
         "layout": {
          "annotationdefaults": {
           "arrowcolor": "#2a3f5f",
           "arrowhead": 0,
           "arrowwidth": 1
          },
          "autotypenumbers": "strict",
          "coloraxis": {
           "colorbar": {
            "outlinewidth": 0,
            "ticks": ""
           }
          },
          "colorscale": {
           "diverging": [
            [
             0,
             "#8e0152"
            ],
            [
             0.1,
             "#c51b7d"
            ],
            [
             0.2,
             "#de77ae"
            ],
            [
             0.3,
             "#f1b6da"
            ],
            [
             0.4,
             "#fde0ef"
            ],
            [
             0.5,
             "#f7f7f7"
            ],
            [
             0.6,
             "#e6f5d0"
            ],
            [
             0.7,
             "#b8e186"
            ],
            [
             0.8,
             "#7fbc41"
            ],
            [
             0.9,
             "#4d9221"
            ],
            [
             1,
             "#276419"
            ]
           ],
           "sequential": [
            [
             0,
             "#0d0887"
            ],
            [
             0.1111111111111111,
             "#46039f"
            ],
            [
             0.2222222222222222,
             "#7201a8"
            ],
            [
             0.3333333333333333,
             "#9c179e"
            ],
            [
             0.4444444444444444,
             "#bd3786"
            ],
            [
             0.5555555555555556,
             "#d8576b"
            ],
            [
             0.6666666666666666,
             "#ed7953"
            ],
            [
             0.7777777777777778,
             "#fb9f3a"
            ],
            [
             0.8888888888888888,
             "#fdca26"
            ],
            [
             1,
             "#f0f921"
            ]
           ],
           "sequentialminus": [
            [
             0,
             "#0d0887"
            ],
            [
             0.1111111111111111,
             "#46039f"
            ],
            [
             0.2222222222222222,
             "#7201a8"
            ],
            [
             0.3333333333333333,
             "#9c179e"
            ],
            [
             0.4444444444444444,
             "#bd3786"
            ],
            [
             0.5555555555555556,
             "#d8576b"
            ],
            [
             0.6666666666666666,
             "#ed7953"
            ],
            [
             0.7777777777777778,
             "#fb9f3a"
            ],
            [
             0.8888888888888888,
             "#fdca26"
            ],
            [
             1,
             "#f0f921"
            ]
           ]
          },
          "colorway": [
           "#636efa",
           "#EF553B",
           "#00cc96",
           "#ab63fa",
           "#FFA15A",
           "#19d3f3",
           "#FF6692",
           "#B6E880",
           "#FF97FF",
           "#FECB52"
          ],
          "font": {
           "color": "#2a3f5f"
          },
          "geo": {
           "bgcolor": "white",
           "lakecolor": "white",
           "landcolor": "#E5ECF6",
           "showlakes": true,
           "showland": true,
           "subunitcolor": "white"
          },
          "hoverlabel": {
           "align": "left"
          },
          "hovermode": "closest",
          "mapbox": {
           "style": "light"
          },
          "paper_bgcolor": "white",
          "plot_bgcolor": "#E5ECF6",
          "polar": {
           "angularaxis": {
            "gridcolor": "white",
            "linecolor": "white",
            "ticks": ""
           },
           "bgcolor": "#E5ECF6",
           "radialaxis": {
            "gridcolor": "white",
            "linecolor": "white",
            "ticks": ""
           }
          },
          "scene": {
           "xaxis": {
            "backgroundcolor": "#E5ECF6",
            "gridcolor": "white",
            "gridwidth": 2,
            "linecolor": "white",
            "showbackground": true,
            "ticks": "",
            "zerolinecolor": "white"
           },
           "yaxis": {
            "backgroundcolor": "#E5ECF6",
            "gridcolor": "white",
            "gridwidth": 2,
            "linecolor": "white",
            "showbackground": true,
            "ticks": "",
            "zerolinecolor": "white"
           },
           "zaxis": {
            "backgroundcolor": "#E5ECF6",
            "gridcolor": "white",
            "gridwidth": 2,
            "linecolor": "white",
            "showbackground": true,
            "ticks": "",
            "zerolinecolor": "white"
           }
          },
          "shapedefaults": {
           "line": {
            "color": "#2a3f5f"
           }
          },
          "ternary": {
           "aaxis": {
            "gridcolor": "white",
            "linecolor": "white",
            "ticks": ""
           },
           "baxis": {
            "gridcolor": "white",
            "linecolor": "white",
            "ticks": ""
           },
           "bgcolor": "#E5ECF6",
           "caxis": {
            "gridcolor": "white",
            "linecolor": "white",
            "ticks": ""
           }
          },
          "title": {
           "x": 0.05
          },
          "xaxis": {
           "automargin": true,
           "gridcolor": "white",
           "linecolor": "white",
           "ticks": "",
           "title": {
            "standoff": 15
           },
           "zerolinecolor": "white",
           "zerolinewidth": 2
          },
          "yaxis": {
           "automargin": true,
           "gridcolor": "white",
           "linecolor": "white",
           "ticks": "",
           "title": {
            "standoff": 15
           },
           "zerolinecolor": "white",
           "zerolinewidth": 2
          }
         }
        },
        "title": {
         "text": "Freedom and Happiness around the World",
         "x": 0.5
        },
        "width": 1400
       }
      },
      "text/html": [
       "<div>                            <div id=\"14d374fc-98eb-4036-b739-6336f8e7af1f\" class=\"plotly-graph-div\" style=\"height:600px; width:1400px;\"></div>            <script type=\"text/javascript\">                require([\"plotly\"], function(Plotly) {                    window.PLOTLYENV=window.PLOTLYENV || {};                                    if (document.getElementById(\"14d374fc-98eb-4036-b739-6336f8e7af1f\")) {                    Plotly.newPlot(                        \"14d374fc-98eb-4036-b739-6336f8e7af1f\",                        [{\"coloraxis\":\"coloraxis\",\"customdata\":[[\"ALB\"],[\"DZA\"],[\"AGO\"],[\"ARG\"],[\"ARM\"],[\"AUS\"],[\"AUT\"],[\"AZE\"],[\"BHS\"],[\"BHR\"],[\"BGD\"],[\"BRB\"],[\"BLR\"],[\"BEL\"],[\"BLZ\"],[\"BEN\"],[\"BTN\"],[\"BOL\"],[\"BIH\"],[\"BWA\"],[\"BRA\"],[\"BGR\"],[\"BFA\"],[\"BDI\"],[\"CPV\"],[\"KHM\"],[\"CMR\"],[\"CAN\"],[\"CAF\"],[\"TCD\"],[\"CHL\"],[\"CHN\"],[\"COL\"],[\"COM\"],[\"COG\"],[\"CRI\"],[\"\"],[\"\"],[\"\"],[\"\"],[\"\"],[\"\"],[\"HRV\"],[\"CYP\"],[\"CZE\"],[\"DNK\"],[\"DJI\"],[\"DOM\"],[\"ECU\"],[\"EGY\"],[\"SLV\"],[\"EST\"],[\"SWZ\"],[\"ETH\"],[\"FJI\"],[\"FIN\"],[\"FRA\"],[\"GAB\"],[\"GMB\"],[\"GEO\"],[\"DEU\"],[\"GHA\"],[\"GRC\"],[\"GTM\"],[\"GIN\"],[\"GNB\"],[\"GUY\"],[\"HTI\"],[\"HND\"],[\"HUN\"],[\"ISL\"],[\"IND\"],[\"IDN\"],[\"IRN\"],[\"IRQ\"],[\"IRL\"],[\"ISR\"],[\"ITA\"],[\"JAM\"],[\"JPN\"],[\"JOR\"],[\"KAZ\"],[\"KEN\"],[\"KOR\"],[\"KWT\"],[\"KGZ\"],[\"\"],[\"\"],[\"\"],[\"\"],[\"\"],[\"\"],[\"LVA\"],[\"LBN\"],[\"LSO\"],[\"LBR\"],[\"LTU\"],[\"LUX\"],[\"MDG\"],[\"MWI\"],[\"MYS\"],[\"MLI\"],[\"MLT\"],[\"MRT\"],[\"MUS\"],[\"MEX\"],[\"MDA\"],[\"MNG\"],[\"MNE\"],[\"MAR\"],[\"MOZ\"],[\"MMR\"],[\"NAM\"],[\"NPL\"],[\"NLD\"],[\"NZL\"],[\"NIC\"],[\"NGA\"],[\"NGA\"],[\"NGA\"],[\"NGA\"],[\"MKD\"],[\"NOR\"],[\"OMN\"],[\"PAK\"],[\"PAN\"],[\"PNG\"],[\"PRY\"],[\"PER\"],[\"PHL\"],[\"POL\"],[\"PRT\"],[\"QAT\"],[\"ROU\"],[\"RWA\"],[\"SAU\"],[\"SEN\"],[\"SRB\"],[\"SRB\"],[\"SYC\"],[\"SLE\"],[\"SGP\"],[\"SVK\"],[\"SVN\"],[\"SOM\"],[\"ZAF\"],[\"ESP\"],[\"LKA\"],[\"SDN\"],[\"SUR\"],[\"SWE\"],[\"CHE\"],[\"TJK\"],[\"TZA\"],[\"THA\"],[\"TLS\"],[\"TGO\"],[\"TTO\"],[\"TUR\"],[\"UGA\"],[\"UKR\"],[\"ARE\"],[\"GBR\"],[\"USA\"],[\"URY\"],[\"VEN\"],[\"VNM\"],[\"YEM\"],[\"ZMB\"],[\"ZWE\"]],\"geo\":\"geo\",\"hovertemplate\":\"\\u003cb\\u003e%{hovertext}\\u003c\\u002fb\\u003e\\u003cbr\\u003e\\u003cbr\\u003eiso=%{customdata[0]}\\u003cbr\\u003eHuman Freedom Score=%{z}\\u003cextra\\u003e\\u003c\\u002fextra\\u003e\",\"hovertext\":[\"ALB\",\"DZA\",\"AGO\",\"ARG\",\"ARM\",\"AUS\",\"AUT\",\"AZE\",\"BHS\",\"BHR\",\"BGD\",\"BRB\",\"BLR\",\"BEL\",\"BLZ\",\"BEN\",\"BTN\",\"BOL\",\"BIH\",\"BWA\",\"BRA\",\"BGR\",\"BFA\",\"BDI\",\"CPV\",\"KHM\",\"CMR\",\"CAN\",\"CAF\",\"TCD\",\"CHL\",\"CHN\",\"COL\",\"COM\",\"COG\",\"CRI\",\"\",\"\",\"\",\"\",\"\",\"\",\"HRV\",\"CYP\",\"CZE\",\"DNK\",\"DJI\",\"DOM\",\"ECU\",\"EGY\",\"SLV\",\"EST\",\"SWZ\",\"ETH\",\"FJI\",\"FIN\",\"FRA\",\"GAB\",\"GMB\",\"GEO\",\"DEU\",\"GHA\",\"GRC\",\"GTM\",\"GIN\",\"GNB\",\"GUY\",\"HTI\",\"HND\",\"HUN\",\"ISL\",\"IND\",\"IDN\",\"IRN\",\"IRQ\",\"IRL\",\"ISR\",\"ITA\",\"JAM\",\"JPN\",\"JOR\",\"KAZ\",\"KEN\",\"KOR\",\"KWT\",\"KGZ\",\"\",\"\",\"\",\"\",\"\",\"\",\"LVA\",\"LBN\",\"LSO\",\"LBR\",\"LTU\",\"LUX\",\"MDG\",\"MWI\",\"MYS\",\"MLI\",\"MLT\",\"MRT\",\"MUS\",\"MEX\",\"MDA\",\"MNG\",\"MNE\",\"MAR\",\"MOZ\",\"MMR\",\"NAM\",\"NPL\",\"NLD\",\"NZL\",\"NIC\",\"NGA\",\"NGA\",\"NGA\",\"NGA\",\"MKD\",\"NOR\",\"OMN\",\"PAK\",\"PAN\",\"PNG\",\"PRY\",\"PER\",\"PHL\",\"POL\",\"PRT\",\"QAT\",\"ROU\",\"RWA\",\"SAU\",\"SEN\",\"SRB\",\"SRB\",\"SYC\",\"SLE\",\"SGP\",\"SVK\",\"SVN\",\"SOM\",\"ZAF\",\"ESP\",\"LKA\",\"SDN\",\"SUR\",\"SWE\",\"CHE\",\"TJK\",\"TZA\",\"THA\",\"TLS\",\"TGO\",\"TTO\",\"TUR\",\"UGA\",\"UKR\",\"ARE\",\"GBR\",\"USA\",\"URY\",\"VEN\",\"VNM\",\"YEM\",\"ZMB\",\"ZWE\"],\"locations\":[\"ALB\",\"DZA\",\"AGO\",\"ARG\",\"ARM\",\"AUS\",\"AUT\",\"AZE\",\"BHS\",\"BHR\",\"BGD\",\"BRB\",\"BLR\",\"BEL\",\"BLZ\",\"BEN\",\"BTN\",\"BOL\",\"BIH\",\"BWA\",\"BRA\",\"BGR\",\"BFA\",\"BDI\",\"CPV\",\"KHM\",\"CMR\",\"CAN\",\"CAF\",\"TCD\",\"CHL\",\"CHN\",\"COL\",\"COM\",\"COG\",\"CRI\",\"\",\"\",\"\",\"\",\"\",\"\",\"HRV\",\"CYP\",\"CZE\",\"DNK\",\"DJI\",\"DOM\",\"ECU\",\"EGY\",\"SLV\",\"EST\",\"SWZ\",\"ETH\",\"FJI\",\"FIN\",\"FRA\",\"GAB\",\"GMB\",\"GEO\",\"DEU\",\"GHA\",\"GRC\",\"GTM\",\"GIN\",\"GNB\",\"GUY\",\"HTI\",\"HND\",\"HUN\",\"ISL\",\"IND\",\"IDN\",\"IRN\",\"IRQ\",\"IRL\",\"ISR\",\"ITA\",\"JAM\",\"JPN\",\"JOR\",\"KAZ\",\"KEN\",\"KOR\",\"KWT\",\"KGZ\",\"\",\"\",\"\",\"\",\"\",\"\",\"LVA\",\"LBN\",\"LSO\",\"LBR\",\"LTU\",\"LUX\",\"MDG\",\"MWI\",\"MYS\",\"MLI\",\"MLT\",\"MRT\",\"MUS\",\"MEX\",\"MDA\",\"MNG\",\"MNE\",\"MAR\",\"MOZ\",\"MMR\",\"NAM\",\"NPL\",\"NLD\",\"NZL\",\"NIC\",\"NGA\",\"NGA\",\"NGA\",\"NGA\",\"MKD\",\"NOR\",\"OMN\",\"PAK\",\"PAN\",\"PNG\",\"PRY\",\"PER\",\"PHL\",\"POL\",\"PRT\",\"QAT\",\"ROU\",\"RWA\",\"SAU\",\"SEN\",\"SRB\",\"SRB\",\"SYC\",\"SLE\",\"SGP\",\"SVK\",\"SVN\",\"SOM\",\"ZAF\",\"ESP\",\"LKA\",\"SDN\",\"SUR\",\"SWE\",\"CHE\",\"TJK\",\"TZA\",\"THA\",\"TLS\",\"TGO\",\"TTO\",\"TUR\",\"UGA\",\"UKR\",\"ARE\",\"GBR\",\"USA\",\"URY\",\"VEN\",\"VNM\",\"YEM\",\"ZMB\",\"ZWE\"],\"name\":\"\",\"z\":[8.07,5.08,5.96,7.33,8.32,8.83,8.68,6.02,8.15,5.43,5.56,7.93,6.27,8.55,7.48,7.25,6.68,6.88,7.43,7.76,7.25,7.97,6.83,4.91,8.44,6.43,5.34,8.85,5.68,5.41,8.5,5.27,6.95,5.91,5.33,8.28,6.78,6.78,6.78,6.78,6.78,6.78,8.15,8.49,8.61,9.01,5.63,7.87,7.37,4.35,7.34,8.94,5.73,5.73,7.35,8.87,8.26,6.66,6.82,7.85,8.73,7.46,7.83,7.47,5.82,6.78,7.04,7.2,6.98,7.63,8.84,6.42,6.98,4.27,5.12,8.95,7.61,8.43,7.9,8.75,6.71,6.63,6.57,8.31,6.2,7.02,5.68,5.68,5.68,5.68,5.68,5.68,8.62,6.67,7.0,6.6,8.72,8.85,6.86,6.92,7.08,6.19,8.43,5.56,8.02,6.8,7.6,7.97,7.91,5.68,6.77,5.4,7.57,7.01,8.8,9.04,6.13,6.14,6.14,6.1,6.1,7.68,8.81,5.77,5.48,7.94,7.17,7.46,7.83,6.69,7.92,8.69,5.96,8.25,6.19,4.77,6.9,7.5,7.5,7.91,6.47,7.86,8.15,8.33,4.71,7.15,8.49,6.47,4.04,7.51,8.85,9.17,5.44,6.29,6.75,7.36,6.28,7.78,5.63,6.17,6.77,5.89,8.79,8.75,8.4,3.9,5.74,3.99,6.6,5.3],\"type\":\"choropleth\"},{\"coloraxis\":\"coloraxis\",\"customdata\":[[\"ALB\"],[\"DZA\"],[\"AGO\"],[\"ARG\"],[\"ARM\"],[\"AUS\"],[\"AUT\"],[\"AZE\"],[\"BHS\"],[\"BHR\"],[\"BGD\"],[\"BRB\"],[\"BLR\"],[\"BEL\"],[\"BLZ\"],[\"BEN\"],[\"BTN\"],[\"BOL\"],[\"BIH\"],[\"BWA\"],[\"BRA\"],[\"BGR\"],[\"BFA\"],[\"BDI\"],[\"CPV\"],[\"KHM\"],[\"CMR\"],[\"CAN\"],[\"CAF\"],[\"TCD\"],[\"CHL\"],[\"CHN\"],[\"COL\"],[\"COM\"],[\"COG\"],[\"CRI\"],[\"\"],[\"\"],[\"\"],[\"\"],[\"\"],[\"\"],[\"HRV\"],[\"CYP\"],[\"CZE\"],[\"DNK\"],[\"DJI\"],[\"DOM\"],[\"ECU\"],[\"EGY\"],[\"SLV\"],[\"EST\"],[\"SWZ\"],[\"ETH\"],[\"FJI\"],[\"FIN\"],[\"FRA\"],[\"GAB\"],[\"GMB\"],[\"GEO\"],[\"DEU\"],[\"GHA\"],[\"GRC\"],[\"GTM\"],[\"GIN\"],[\"GNB\"],[\"GUY\"],[\"HTI\"],[\"HND\"],[\"HUN\"],[\"ISL\"],[\"IND\"],[\"IDN\"],[\"IRN\"],[\"IRQ\"],[\"IRL\"],[\"ISR\"],[\"ITA\"],[\"JAM\"],[\"JPN\"],[\"JOR\"],[\"KAZ\"],[\"KEN\"],[\"KOR\"],[\"KWT\"],[\"KGZ\"],[\"\"],[\"\"],[\"\"],[\"\"],[\"\"],[\"\"],[\"LVA\"],[\"LBN\"],[\"LSO\"],[\"LBR\"],[\"LTU\"],[\"LUX\"],[\"MDG\"],[\"MWI\"],[\"MYS\"],[\"MLI\"],[\"MLT\"],[\"MRT\"],[\"MUS\"],[\"MEX\"],[\"MDA\"],[\"MNG\"],[\"MNE\"],[\"MAR\"],[\"MOZ\"],[\"MMR\"],[\"NAM\"],[\"NPL\"],[\"NLD\"],[\"NZL\"],[\"NIC\"],[\"NGA\"],[\"NGA\"],[\"NGA\"],[\"NGA\"],[\"MKD\"],[\"NOR\"],[\"OMN\"],[\"PAK\"],[\"PAN\"],[\"PNG\"],[\"PRY\"],[\"PER\"],[\"PHL\"],[\"POL\"],[\"PRT\"],[\"QAT\"],[\"ROU\"],[\"RWA\"],[\"SAU\"],[\"SEN\"],[\"SRB\"],[\"SRB\"],[\"SYC\"],[\"SLE\"],[\"SGP\"],[\"SVK\"],[\"SVN\"],[\"SOM\"],[\"ZAF\"],[\"ESP\"],[\"LKA\"],[\"SDN\"],[\"SUR\"],[\"SWE\"],[\"CHE\"],[\"TJK\"],[\"TZA\"],[\"THA\"],[\"TLS\"],[\"TGO\"],[\"TTO\"],[\"TUR\"],[\"UGA\"],[\"UKR\"],[\"ARE\"],[\"GBR\"],[\"USA\"],[\"URY\"],[\"VEN\"],[\"VNM\"],[\"YEM\"],[\"ZMB\"],[\"ZWE\"]],\"geo\":\"geo2\",\"hovertemplate\":\"\\u003cb\\u003e%{hovertext}\\u003c\\u002fb\\u003e\\u003cbr\\u003e\\u003cbr\\u003eiso=%{customdata[0]}\\u003cbr\\u003eHappiness Score=%{z}\\u003cextra\\u003e\\u003c\\u002fextra\\u003e\",\"hovertext\":[\"ALB\",\"DZA\",\"AGO\",\"ARG\",\"ARM\",\"AUS\",\"AUT\",\"AZE\",\"BHS\",\"BHR\",\"BGD\",\"BRB\",\"BLR\",\"BEL\",\"BLZ\",\"BEN\",\"BTN\",\"BOL\",\"BIH\",\"BWA\",\"BRA\",\"BGR\",\"BFA\",\"BDI\",\"CPV\",\"KHM\",\"CMR\",\"CAN\",\"CAF\",\"TCD\",\"CHL\",\"CHN\",\"COL\",\"COM\",\"COG\",\"CRI\",\"\",\"\",\"\",\"\",\"\",\"\",\"HRV\",\"CYP\",\"CZE\",\"DNK\",\"DJI\",\"DOM\",\"ECU\",\"EGY\",\"SLV\",\"EST\",\"SWZ\",\"ETH\",\"FJI\",\"FIN\",\"FRA\",\"GAB\",\"GMB\",\"GEO\",\"DEU\",\"GHA\",\"GRC\",\"GTM\",\"GIN\",\"GNB\",\"GUY\",\"HTI\",\"HND\",\"HUN\",\"ISL\",\"IND\",\"IDN\",\"IRN\",\"IRQ\",\"IRL\",\"ISR\",\"ITA\",\"JAM\",\"JPN\",\"JOR\",\"KAZ\",\"KEN\",\"KOR\",\"KWT\",\"KGZ\",\"\",\"\",\"\",\"\",\"\",\"\",\"LVA\",\"LBN\",\"LSO\",\"LBR\",\"LTU\",\"LUX\",\"MDG\",\"MWI\",\"MYS\",\"MLI\",\"MLT\",\"MRT\",\"MUS\",\"MEX\",\"MDA\",\"MNG\",\"MNE\",\"MAR\",\"MOZ\",\"MMR\",\"NAM\",\"NPL\",\"NLD\",\"NZL\",\"NIC\",\"NGA\",\"NGA\",\"NGA\",\"NGA\",\"MKD\",\"NOR\",\"OMN\",\"PAK\",\"PAN\",\"PNG\",\"PRY\",\"PER\",\"PHL\",\"POL\",\"PRT\",\"QAT\",\"ROU\",\"RWA\",\"SAU\",\"SEN\",\"SRB\",\"SRB\",\"SYC\",\"SLE\",\"SGP\",\"SVK\",\"SVN\",\"SOM\",\"ZAF\",\"ESP\",\"LKA\",\"SDN\",\"SUR\",\"SWE\",\"CHE\",\"TJK\",\"TZA\",\"THA\",\"TLS\",\"TGO\",\"TTO\",\"TUR\",\"UGA\",\"UKR\",\"ARE\",\"GBR\",\"USA\",\"URY\",\"VEN\",\"VNM\",\"YEM\",\"ZMB\",\"ZWE\"],\"locations\":[\"ALB\",\"DZA\",\"AGO\",\"ARG\",\"ARM\",\"AUS\",\"AUT\",\"AZE\",\"BHS\",\"BHR\",\"BGD\",\"BRB\",\"BLR\",\"BEL\",\"BLZ\",\"BEN\",\"BTN\",\"BOL\",\"BIH\",\"BWA\",\"BRA\",\"BGR\",\"BFA\",\"BDI\",\"CPV\",\"KHM\",\"CMR\",\"CAN\",\"CAF\",\"TCD\",\"CHL\",\"CHN\",\"COL\",\"COM\",\"COG\",\"CRI\",\"\",\"\",\"\",\"\",\"\",\"\",\"HRV\",\"CYP\",\"CZE\",\"DNK\",\"DJI\",\"DOM\",\"ECU\",\"EGY\",\"SLV\",\"EST\",\"SWZ\",\"ETH\",\"FJI\",\"FIN\",\"FRA\",\"GAB\",\"GMB\",\"GEO\",\"DEU\",\"GHA\",\"GRC\",\"GTM\",\"GIN\",\"GNB\",\"GUY\",\"HTI\",\"HND\",\"HUN\",\"ISL\",\"IND\",\"IDN\",\"IRN\",\"IRQ\",\"IRL\",\"ISR\",\"ITA\",\"JAM\",\"JPN\",\"JOR\",\"KAZ\",\"KEN\",\"KOR\",\"KWT\",\"KGZ\",\"\",\"\",\"\",\"\",\"\",\"\",\"LVA\",\"LBN\",\"LSO\",\"LBR\",\"LTU\",\"LUX\",\"MDG\",\"MWI\",\"MYS\",\"MLI\",\"MLT\",\"MRT\",\"MUS\",\"MEX\",\"MDA\",\"MNG\",\"MNE\",\"MAR\",\"MOZ\",\"MMR\",\"NAM\",\"NPL\",\"NLD\",\"NZL\",\"NIC\",\"NGA\",\"NGA\",\"NGA\",\"NGA\",\"MKD\",\"NOR\",\"OMN\",\"PAK\",\"PAN\",\"PNG\",\"PRY\",\"PER\",\"PHL\",\"POL\",\"PRT\",\"QAT\",\"ROU\",\"RWA\",\"SAU\",\"SEN\",\"SRB\",\"SRB\",\"SYC\",\"SLE\",\"SGP\",\"SVK\",\"SVN\",\"SOM\",\"ZAF\",\"ESP\",\"LKA\",\"SDN\",\"SUR\",\"SWE\",\"CHE\",\"TJK\",\"TZA\",\"THA\",\"TLS\",\"TGO\",\"TTO\",\"TUR\",\"UGA\",\"UKR\",\"ARE\",\"GBR\",\"USA\",\"URY\",\"VEN\",\"VNM\",\"YEM\",\"ZMB\",\"ZWE\"],\"name\":\"\",\"z\":[4.719,5.211,null,6.086,4.559,7.228,7.246,5.208,null,6.199,4.456,null,5.323,6.923,null,4.883,5.082,5.779,5.386,3.488,6.3,5.011,4.587,3.775,null,4.7,5.044,7.278,3.083,4.35,6.444,5.191,6.125,3.973,null,7.167,5.718,4.944,4.812,4.796,4.696,4.418,5.432,6.046,6.852,7.6,null,5.425,6.028,4.166,6.253,5.893,4.212,4.286,null,7.769,6.592,4.799,4.516,4.519,6.985,4.996,5.287,6.436,4.534,null,null,3.597,5.86,5.758,7.494,4.015,5.192,4.548,4.437,7.021,7.139,6.223,5.89,5.886,4.906,5.809,4.509,5.895,6.021,5.261,5.718,4.944,4.812,4.796,4.696,4.418,5.94,5.197,3.802,3.975,6.149,7.09,3.933,3.41,5.339,4.39,6.726,4.49,5.888,6.595,5.529,5.285,5.523,5.208,4.466,4.36,4.639,4.913,7.488,7.307,6.105,5.265,4.628,5.265,4.628,5.274,7.554,null,5.653,6.321,null,5.743,5.697,5.631,6.182,5.693,6.374,6.07,3.334,6.375,4.681,6.1,5.603,null,4.374,6.262,6.198,6.118,4.668,4.722,6.354,4.366,null,null,7.343,7.48,5.467,3.231,6.008,null,4.085,6.192,5.373,4.189,4.332,6.825,7.054,6.892,6.293,4.707,5.175,3.38,4.107,3.663],\"type\":\"choropleth\"}],                        {\"template\":{\"data\":{\"histogram2dcontour\":[{\"type\":\"histogram2dcontour\",\"colorbar\":{\"outlinewidth\":0,\"ticks\":\"\"},\"colorscale\":[[0.0,\"#0d0887\"],[0.1111111111111111,\"#46039f\"],[0.2222222222222222,\"#7201a8\"],[0.3333333333333333,\"#9c179e\"],[0.4444444444444444,\"#bd3786\"],[0.5555555555555556,\"#d8576b\"],[0.6666666666666666,\"#ed7953\"],[0.7777777777777778,\"#fb9f3a\"],[0.8888888888888888,\"#fdca26\"],[1.0,\"#f0f921\"]]}],\"choropleth\":[{\"type\":\"choropleth\",\"colorbar\":{\"outlinewidth\":0,\"ticks\":\"\"}}],\"histogram2d\":[{\"type\":\"histogram2d\",\"colorbar\":{\"outlinewidth\":0,\"ticks\":\"\"},\"colorscale\":[[0.0,\"#0d0887\"],[0.1111111111111111,\"#46039f\"],[0.2222222222222222,\"#7201a8\"],[0.3333333333333333,\"#9c179e\"],[0.4444444444444444,\"#bd3786\"],[0.5555555555555556,\"#d8576b\"],[0.6666666666666666,\"#ed7953\"],[0.7777777777777778,\"#fb9f3a\"],[0.8888888888888888,\"#fdca26\"],[1.0,\"#f0f921\"]]}],\"heatmap\":[{\"type\":\"heatmap\",\"colorbar\":{\"outlinewidth\":0,\"ticks\":\"\"},\"colorscale\":[[0.0,\"#0d0887\"],[0.1111111111111111,\"#46039f\"],[0.2222222222222222,\"#7201a8\"],[0.3333333333333333,\"#9c179e\"],[0.4444444444444444,\"#bd3786\"],[0.5555555555555556,\"#d8576b\"],[0.6666666666666666,\"#ed7953\"],[0.7777777777777778,\"#fb9f3a\"],[0.8888888888888888,\"#fdca26\"],[1.0,\"#f0f921\"]]}],\"heatmapgl\":[{\"type\":\"heatmapgl\",\"colorbar\":{\"outlinewidth\":0,\"ticks\":\"\"},\"colorscale\":[[0.0,\"#0d0887\"],[0.1111111111111111,\"#46039f\"],[0.2222222222222222,\"#7201a8\"],[0.3333333333333333,\"#9c179e\"],[0.4444444444444444,\"#bd3786\"],[0.5555555555555556,\"#d8576b\"],[0.6666666666666666,\"#ed7953\"],[0.7777777777777778,\"#fb9f3a\"],[0.8888888888888888,\"#fdca26\"],[1.0,\"#f0f921\"]]}],\"contourcarpet\":[{\"type\":\"contourcarpet\",\"colorbar\":{\"outlinewidth\":0,\"ticks\":\"\"}}],\"contour\":[{\"type\":\"contour\",\"colorbar\":{\"outlinewidth\":0,\"ticks\":\"\"},\"colorscale\":[[0.0,\"#0d0887\"],[0.1111111111111111,\"#46039f\"],[0.2222222222222222,\"#7201a8\"],[0.3333333333333333,\"#9c179e\"],[0.4444444444444444,\"#bd3786\"],[0.5555555555555556,\"#d8576b\"],[0.6666666666666666,\"#ed7953\"],[0.7777777777777778,\"#fb9f3a\"],[0.8888888888888888,\"#fdca26\"],[1.0,\"#f0f921\"]]}],\"surface\":[{\"type\":\"surface\",\"colorbar\":{\"outlinewidth\":0,\"ticks\":\"\"},\"colorscale\":[[0.0,\"#0d0887\"],[0.1111111111111111,\"#46039f\"],[0.2222222222222222,\"#7201a8\"],[0.3333333333333333,\"#9c179e\"],[0.4444444444444444,\"#bd3786\"],[0.5555555555555556,\"#d8576b\"],[0.6666666666666666,\"#ed7953\"],[0.7777777777777778,\"#fb9f3a\"],[0.8888888888888888,\"#fdca26\"],[1.0,\"#f0f921\"]]}],\"mesh3d\":[{\"type\":\"mesh3d\",\"colorbar\":{\"outlinewidth\":0,\"ticks\":\"\"}}],\"scatter\":[{\"fillpattern\":{\"fillmode\":\"overlay\",\"size\":10,\"solidity\":0.2},\"type\":\"scatter\"}],\"parcoords\":[{\"type\":\"parcoords\",\"line\":{\"colorbar\":{\"outlinewidth\":0,\"ticks\":\"\"}}}],\"scatterpolargl\":[{\"type\":\"scatterpolargl\",\"marker\":{\"colorbar\":{\"outlinewidth\":0,\"ticks\":\"\"}}}],\"bar\":[{\"error_x\":{\"color\":\"#2a3f5f\"},\"error_y\":{\"color\":\"#2a3f5f\"},\"marker\":{\"line\":{\"color\":\"#E5ECF6\",\"width\":0.5},\"pattern\":{\"fillmode\":\"overlay\",\"size\":10,\"solidity\":0.2}},\"type\":\"bar\"}],\"scattergeo\":[{\"type\":\"scattergeo\",\"marker\":{\"colorbar\":{\"outlinewidth\":0,\"ticks\":\"\"}}}],\"scatterpolar\":[{\"type\":\"scatterpolar\",\"marker\":{\"colorbar\":{\"outlinewidth\":0,\"ticks\":\"\"}}}],\"histogram\":[{\"marker\":{\"pattern\":{\"fillmode\":\"overlay\",\"size\":10,\"solidity\":0.2}},\"type\":\"histogram\"}],\"scattergl\":[{\"type\":\"scattergl\",\"marker\":{\"colorbar\":{\"outlinewidth\":0,\"ticks\":\"\"}}}],\"scatter3d\":[{\"type\":\"scatter3d\",\"line\":{\"colorbar\":{\"outlinewidth\":0,\"ticks\":\"\"}},\"marker\":{\"colorbar\":{\"outlinewidth\":0,\"ticks\":\"\"}}}],\"scattermapbox\":[{\"type\":\"scattermapbox\",\"marker\":{\"colorbar\":{\"outlinewidth\":0,\"ticks\":\"\"}}}],\"scatterternary\":[{\"type\":\"scatterternary\",\"marker\":{\"colorbar\":{\"outlinewidth\":0,\"ticks\":\"\"}}}],\"scattercarpet\":[{\"type\":\"scattercarpet\",\"marker\":{\"colorbar\":{\"outlinewidth\":0,\"ticks\":\"\"}}}],\"carpet\":[{\"aaxis\":{\"endlinecolor\":\"#2a3f5f\",\"gridcolor\":\"white\",\"linecolor\":\"white\",\"minorgridcolor\":\"white\",\"startlinecolor\":\"#2a3f5f\"},\"baxis\":{\"endlinecolor\":\"#2a3f5f\",\"gridcolor\":\"white\",\"linecolor\":\"white\",\"minorgridcolor\":\"white\",\"startlinecolor\":\"#2a3f5f\"},\"type\":\"carpet\"}],\"table\":[{\"cells\":{\"fill\":{\"color\":\"#EBF0F8\"},\"line\":{\"color\":\"white\"}},\"header\":{\"fill\":{\"color\":\"#C8D4E3\"},\"line\":{\"color\":\"white\"}},\"type\":\"table\"}],\"barpolar\":[{\"marker\":{\"line\":{\"color\":\"#E5ECF6\",\"width\":0.5},\"pattern\":{\"fillmode\":\"overlay\",\"size\":10,\"solidity\":0.2}},\"type\":\"barpolar\"}],\"pie\":[{\"automargin\":true,\"type\":\"pie\"}]},\"layout\":{\"autotypenumbers\":\"strict\",\"colorway\":[\"#636efa\",\"#EF553B\",\"#00cc96\",\"#ab63fa\",\"#FFA15A\",\"#19d3f3\",\"#FF6692\",\"#B6E880\",\"#FF97FF\",\"#FECB52\"],\"font\":{\"color\":\"#2a3f5f\"},\"hovermode\":\"closest\",\"hoverlabel\":{\"align\":\"left\"},\"paper_bgcolor\":\"white\",\"plot_bgcolor\":\"#E5ECF6\",\"polar\":{\"bgcolor\":\"#E5ECF6\",\"angularaxis\":{\"gridcolor\":\"white\",\"linecolor\":\"white\",\"ticks\":\"\"},\"radialaxis\":{\"gridcolor\":\"white\",\"linecolor\":\"white\",\"ticks\":\"\"}},\"ternary\":{\"bgcolor\":\"#E5ECF6\",\"aaxis\":{\"gridcolor\":\"white\",\"linecolor\":\"white\",\"ticks\":\"\"},\"baxis\":{\"gridcolor\":\"white\",\"linecolor\":\"white\",\"ticks\":\"\"},\"caxis\":{\"gridcolor\":\"white\",\"linecolor\":\"white\",\"ticks\":\"\"}},\"coloraxis\":{\"colorbar\":{\"outlinewidth\":0,\"ticks\":\"\"}},\"colorscale\":{\"sequential\":[[0.0,\"#0d0887\"],[0.1111111111111111,\"#46039f\"],[0.2222222222222222,\"#7201a8\"],[0.3333333333333333,\"#9c179e\"],[0.4444444444444444,\"#bd3786\"],[0.5555555555555556,\"#d8576b\"],[0.6666666666666666,\"#ed7953\"],[0.7777777777777778,\"#fb9f3a\"],[0.8888888888888888,\"#fdca26\"],[1.0,\"#f0f921\"]],\"sequentialminus\":[[0.0,\"#0d0887\"],[0.1111111111111111,\"#46039f\"],[0.2222222222222222,\"#7201a8\"],[0.3333333333333333,\"#9c179e\"],[0.4444444444444444,\"#bd3786\"],[0.5555555555555556,\"#d8576b\"],[0.6666666666666666,\"#ed7953\"],[0.7777777777777778,\"#fb9f3a\"],[0.8888888888888888,\"#fdca26\"],[1.0,\"#f0f921\"]],\"diverging\":[[0,\"#8e0152\"],[0.1,\"#c51b7d\"],[0.2,\"#de77ae\"],[0.3,\"#f1b6da\"],[0.4,\"#fde0ef\"],[0.5,\"#f7f7f7\"],[0.6,\"#e6f5d0\"],[0.7,\"#b8e186\"],[0.8,\"#7fbc41\"],[0.9,\"#4d9221\"],[1,\"#276419\"]]},\"xaxis\":{\"gridcolor\":\"white\",\"linecolor\":\"white\",\"ticks\":\"\",\"title\":{\"standoff\":15},\"zerolinecolor\":\"white\",\"automargin\":true,\"zerolinewidth\":2},\"yaxis\":{\"gridcolor\":\"white\",\"linecolor\":\"white\",\"ticks\":\"\",\"title\":{\"standoff\":15},\"zerolinecolor\":\"white\",\"automargin\":true,\"zerolinewidth\":2},\"scene\":{\"xaxis\":{\"backgroundcolor\":\"#E5ECF6\",\"gridcolor\":\"white\",\"linecolor\":\"white\",\"showbackground\":true,\"ticks\":\"\",\"zerolinecolor\":\"white\",\"gridwidth\":2},\"yaxis\":{\"backgroundcolor\":\"#E5ECF6\",\"gridcolor\":\"white\",\"linecolor\":\"white\",\"showbackground\":true,\"ticks\":\"\",\"zerolinecolor\":\"white\",\"gridwidth\":2},\"zaxis\":{\"backgroundcolor\":\"#E5ECF6\",\"gridcolor\":\"white\",\"linecolor\":\"white\",\"showbackground\":true,\"ticks\":\"\",\"zerolinecolor\":\"white\",\"gridwidth\":2}},\"shapedefaults\":{\"line\":{\"color\":\"#2a3f5f\"}},\"annotationdefaults\":{\"arrowcolor\":\"#2a3f5f\",\"arrowhead\":0,\"arrowwidth\":1},\"geo\":{\"bgcolor\":\"white\",\"landcolor\":\"#E5ECF6\",\"subunitcolor\":\"white\",\"showland\":true,\"showlakes\":true,\"lakecolor\":\"white\"},\"title\":{\"x\":0.05},\"mapbox\":{\"style\":\"light\"}}},\"geo\":{\"domain\":{\"x\":[0.0,0.45],\"y\":[0.0,1.0]}},\"geo2\":{\"domain\":{\"x\":[0.55,1.0],\"y\":[0.0,1.0]}},\"annotations\":[{\"font\":{\"size\":16},\"showarrow\":false,\"text\":\"Freedom around the world\",\"x\":0.225,\"xanchor\":\"center\",\"xref\":\"paper\",\"y\":1.0,\"yanchor\":\"bottom\",\"yref\":\"paper\"},{\"font\":{\"size\":16},\"showarrow\":false,\"text\":\"Happiness\",\"x\":0.775,\"xanchor\":\"center\",\"xref\":\"paper\",\"y\":1.0,\"yanchor\":\"bottom\",\"yref\":\"paper\"}],\"title\":{\"text\":\"Freedom and Happiness around the World\",\"x\":0.5},\"margin\":{\"l\":20,\"r\":20,\"t\":100,\"b\":50},\"height\":600,\"width\":1400,\"coloraxis\":{\"colorscale\":[[0.0,\"rgb(249, 221, 218)\"],[0.16666666666666666,\"rgb(242, 185, 196)\"],[0.3333333333333333,\"rgb(229, 151, 185)\"],[0.5,\"rgb(206, 120, 179)\"],[0.6666666666666666,\"rgb(173, 95, 173)\"],[0.8333333333333334,\"rgb(131, 75, 160)\"],[1.0,\"rgb(87, 59, 136)\"]],\"cmin\":0,\"cmax\":10}},                        {\"responsive\": true}                    ).then(function(){\n",
       "                            \n",
       "var gd = document.getElementById('14d374fc-98eb-4036-b739-6336f8e7af1f');\n",
       "var x = new MutationObserver(function (mutations, observer) {{\n",
       "        var display = window.getComputedStyle(gd).display;\n",
       "        if (!display || display === 'none') {{\n",
       "            console.log([gd, 'removed!']);\n",
       "            Plotly.purge(gd);\n",
       "            observer.disconnect();\n",
       "        }}\n",
       "}});\n",
       "\n",
       "// Listen for the removal of the full notebook cells\n",
       "var notebookContainer = gd.closest('#notebook-container');\n",
       "if (notebookContainer) {{\n",
       "    x.observe(notebookContainer, {childList: true});\n",
       "}}\n",
       "\n",
       "// Listen for the clearing of the current output cell\n",
       "var outputEl = gd.closest('.output');\n",
       "if (outputEl) {{\n",
       "    x.observe(outputEl, {childList: true});\n",
       "}}\n",
       "\n",
       "                        })                };                });            </script>        </div>"
      ]
     },
     "metadata": {},
     "output_type": "display_data"
    }
   ],
   "source": [
    "\n",
    "# Define a common color scale\n",
    "color_scale = px.colors.sequential.Purpor\n",
    "\n",
    "# Create the first choropleth map\n",
    "fig_1 = px.choropleth(data, locations=\"iso\",\n",
    "                      title='Freedom around the world',\n",
    "                      color=\"Human Freedom Score\",\n",
    "                      hover_name=\"iso\",\n",
    "                      hover_data=['iso'],\n",
    "                      color_continuous_scale=color_scale, \n",
    "                      range_color=(0, 10))\n",
    "\n",
    "# Create the second choropleth map\n",
    "fig_2 = px.choropleth(data, locations=\"iso\",\n",
    "                      title='Happiness',\n",
    "                      color=\"Happiness Score\",\n",
    "                      hover_name=\"iso\",\n",
    "                      hover_data=['iso'],\n",
    "                      color_continuous_scale=color_scale, \n",
    "                      range_color=(0, 10))\n",
    "\n",
    "# Create the subplots\n",
    "fig = make_subplots(rows=1, cols=2,\n",
    "                    subplot_titles=(\"Freedom around the world\", \"Happiness\"),\n",
    "                    specs=[[{\"type\": \"choropleth\"}, {\"type\": \"choropleth\"}]],\n",
    "                    horizontal_spacing=0.1)\n",
    "\n",
    "# Add traces to the subplots\n",
    "for trace in fig_1.data:\n",
    "    fig.add_trace(trace, row=1, col=1)\n",
    "\n",
    "for trace in fig_2.data:\n",
    "    fig.add_trace(trace, row=1, col=2)\n",
    "\n",
    "# Update layout\n",
    "fig.update_layout(\n",
    "    height=600,\n",
    "    width=1400,\n",
    "    title_text=\"Freedom and Happiness around the World\",\n",
    "    title_x=0.5,\n",
    "    margin=dict(l=20, r=20, t=100, b=50)\n",
    ")\n",
    "\n",
    "# Update color axis to be shared between subplots\n",
    "fig.update_coloraxes(colorscale=color_scale, cmin=0, cmax=10)\n",
    "\n",
    "fig.show()\n"
   ]
  },
  {
   "cell_type": "markdown",
   "metadata": {},
   "source": [
    "### Freedom and Happiness around the World\n",
    "\n",
    "This visual presentation consists of two world maps side by side, illustrating the global distribution of freedom and happiness scores. The maps use a color gradient ranging from purple to pink to represent varying levels of these indicators.\n",
    "\n",
    "**Freedom around the World:**  \n",
    "This map highlights the different levels of freedom experienced by individuals across various countries. The scores are depicted using a color gradient, with darker shades of purple representing lower levels of freedom and lighter shades, transitioning to pink, indicating higher levels of freedom. Countries with higher freedom scores are more prominently light pink, while those with lower scores are shaded in darker purple. This map provides a comprehensive view of how freedom is perceived and experienced globally, reflecting the political, economic, and personal freedoms available to citizens.\n",
    "\n",
    "**Happiness:**  \n",
    "The right map displays the happiness scores of countries worldwide, using the same color gradient as the freedom map. Happiness scores range from lower values shown in dark purple to higher values represented in pink. This visual representation allows for a comparative analysis of global happiness levels, illustrating how different regions fare in terms of overall happiness and well-being. Countries with higher happiness scores are marked in pink, while those with lower scores are indicated in dark purple, offering insight into the global distribution of happiness.\n",
    "\n",
    "The color bar to the right of the maps provides a reference for the color gradient used, with numerical values ranging from 0 to 10, indicating the range of scores for both freedom and happiness. This visual tool aids in understanding the correlation between freedom and happiness across different regions, revealing patterns and disparities worldwide."
   ]
  },
  {
   "cell_type": "code",
   "execution_count": 8,
   "metadata": {},
   "outputs": [
    {
     "data": {
      "application/vnd.plotly.v1+json": {
       "config": {
        "plotlyServerURL": "https://plot.ly"
       },
       "data": [
        {
         "marker": {
          "color": "blue"
         },
         "name": "Human Freedom Score",
         "type": "bar",
         "x": [
          "Africa",
          "Asia",
          "Europe",
          "North America",
          "Oceania",
          "South America"
         ],
         "y": [
          6.329444444444444,
          6.357333333333333,
          8.283333333333333,
          7.678125,
          8.0975,
          7.201666666666667
         ]
        },
        {
         "marker": {
          "color": "green"
         },
         "name": "Happiness Score",
         "type": "bar",
         "x": [
          "Africa",
          "Asia",
          "Europe",
          "North America",
          "Oceania",
          "South America"
         ],
         "y": [
          4.443340425531915,
          5.2659534883720935,
          6.290102564102564,
          6.154692307692307,
          7.2675,
          5.9201999999999995
         ]
        }
       ],
       "layout": {
        "barmode": "group",
        "legend": {
         "title": {
          "text": "Scores"
         }
        },
        "template": {
         "data": {
          "bar": [
           {
            "error_x": {
             "color": "#2a3f5f"
            },
            "error_y": {
             "color": "#2a3f5f"
            },
            "marker": {
             "line": {
              "color": "#E5ECF6",
              "width": 0.5
             },
             "pattern": {
              "fillmode": "overlay",
              "size": 10,
              "solidity": 0.2
             }
            },
            "type": "bar"
           }
          ],
          "barpolar": [
           {
            "marker": {
             "line": {
              "color": "#E5ECF6",
              "width": 0.5
             },
             "pattern": {
              "fillmode": "overlay",
              "size": 10,
              "solidity": 0.2
             }
            },
            "type": "barpolar"
           }
          ],
          "carpet": [
           {
            "aaxis": {
             "endlinecolor": "#2a3f5f",
             "gridcolor": "white",
             "linecolor": "white",
             "minorgridcolor": "white",
             "startlinecolor": "#2a3f5f"
            },
            "baxis": {
             "endlinecolor": "#2a3f5f",
             "gridcolor": "white",
             "linecolor": "white",
             "minorgridcolor": "white",
             "startlinecolor": "#2a3f5f"
            },
            "type": "carpet"
           }
          ],
          "choropleth": [
           {
            "colorbar": {
             "outlinewidth": 0,
             "ticks": ""
            },
            "type": "choropleth"
           }
          ],
          "contour": [
           {
            "colorbar": {
             "outlinewidth": 0,
             "ticks": ""
            },
            "colorscale": [
             [
              0,
              "#0d0887"
             ],
             [
              0.1111111111111111,
              "#46039f"
             ],
             [
              0.2222222222222222,
              "#7201a8"
             ],
             [
              0.3333333333333333,
              "#9c179e"
             ],
             [
              0.4444444444444444,
              "#bd3786"
             ],
             [
              0.5555555555555556,
              "#d8576b"
             ],
             [
              0.6666666666666666,
              "#ed7953"
             ],
             [
              0.7777777777777778,
              "#fb9f3a"
             ],
             [
              0.8888888888888888,
              "#fdca26"
             ],
             [
              1,
              "#f0f921"
             ]
            ],
            "type": "contour"
           }
          ],
          "contourcarpet": [
           {
            "colorbar": {
             "outlinewidth": 0,
             "ticks": ""
            },
            "type": "contourcarpet"
           }
          ],
          "heatmap": [
           {
            "colorbar": {
             "outlinewidth": 0,
             "ticks": ""
            },
            "colorscale": [
             [
              0,
              "#0d0887"
             ],
             [
              0.1111111111111111,
              "#46039f"
             ],
             [
              0.2222222222222222,
              "#7201a8"
             ],
             [
              0.3333333333333333,
              "#9c179e"
             ],
             [
              0.4444444444444444,
              "#bd3786"
             ],
             [
              0.5555555555555556,
              "#d8576b"
             ],
             [
              0.6666666666666666,
              "#ed7953"
             ],
             [
              0.7777777777777778,
              "#fb9f3a"
             ],
             [
              0.8888888888888888,
              "#fdca26"
             ],
             [
              1,
              "#f0f921"
             ]
            ],
            "type": "heatmap"
           }
          ],
          "heatmapgl": [
           {
            "colorbar": {
             "outlinewidth": 0,
             "ticks": ""
            },
            "colorscale": [
             [
              0,
              "#0d0887"
             ],
             [
              0.1111111111111111,
              "#46039f"
             ],
             [
              0.2222222222222222,
              "#7201a8"
             ],
             [
              0.3333333333333333,
              "#9c179e"
             ],
             [
              0.4444444444444444,
              "#bd3786"
             ],
             [
              0.5555555555555556,
              "#d8576b"
             ],
             [
              0.6666666666666666,
              "#ed7953"
             ],
             [
              0.7777777777777778,
              "#fb9f3a"
             ],
             [
              0.8888888888888888,
              "#fdca26"
             ],
             [
              1,
              "#f0f921"
             ]
            ],
            "type": "heatmapgl"
           }
          ],
          "histogram": [
           {
            "marker": {
             "pattern": {
              "fillmode": "overlay",
              "size": 10,
              "solidity": 0.2
             }
            },
            "type": "histogram"
           }
          ],
          "histogram2d": [
           {
            "colorbar": {
             "outlinewidth": 0,
             "ticks": ""
            },
            "colorscale": [
             [
              0,
              "#0d0887"
             ],
             [
              0.1111111111111111,
              "#46039f"
             ],
             [
              0.2222222222222222,
              "#7201a8"
             ],
             [
              0.3333333333333333,
              "#9c179e"
             ],
             [
              0.4444444444444444,
              "#bd3786"
             ],
             [
              0.5555555555555556,
              "#d8576b"
             ],
             [
              0.6666666666666666,
              "#ed7953"
             ],
             [
              0.7777777777777778,
              "#fb9f3a"
             ],
             [
              0.8888888888888888,
              "#fdca26"
             ],
             [
              1,
              "#f0f921"
             ]
            ],
            "type": "histogram2d"
           }
          ],
          "histogram2dcontour": [
           {
            "colorbar": {
             "outlinewidth": 0,
             "ticks": ""
            },
            "colorscale": [
             [
              0,
              "#0d0887"
             ],
             [
              0.1111111111111111,
              "#46039f"
             ],
             [
              0.2222222222222222,
              "#7201a8"
             ],
             [
              0.3333333333333333,
              "#9c179e"
             ],
             [
              0.4444444444444444,
              "#bd3786"
             ],
             [
              0.5555555555555556,
              "#d8576b"
             ],
             [
              0.6666666666666666,
              "#ed7953"
             ],
             [
              0.7777777777777778,
              "#fb9f3a"
             ],
             [
              0.8888888888888888,
              "#fdca26"
             ],
             [
              1,
              "#f0f921"
             ]
            ],
            "type": "histogram2dcontour"
           }
          ],
          "mesh3d": [
           {
            "colorbar": {
             "outlinewidth": 0,
             "ticks": ""
            },
            "type": "mesh3d"
           }
          ],
          "parcoords": [
           {
            "line": {
             "colorbar": {
              "outlinewidth": 0,
              "ticks": ""
             }
            },
            "type": "parcoords"
           }
          ],
          "pie": [
           {
            "automargin": true,
            "type": "pie"
           }
          ],
          "scatter": [
           {
            "fillpattern": {
             "fillmode": "overlay",
             "size": 10,
             "solidity": 0.2
            },
            "type": "scatter"
           }
          ],
          "scatter3d": [
           {
            "line": {
             "colorbar": {
              "outlinewidth": 0,
              "ticks": ""
             }
            },
            "marker": {
             "colorbar": {
              "outlinewidth": 0,
              "ticks": ""
             }
            },
            "type": "scatter3d"
           }
          ],
          "scattercarpet": [
           {
            "marker": {
             "colorbar": {
              "outlinewidth": 0,
              "ticks": ""
             }
            },
            "type": "scattercarpet"
           }
          ],
          "scattergeo": [
           {
            "marker": {
             "colorbar": {
              "outlinewidth": 0,
              "ticks": ""
             }
            },
            "type": "scattergeo"
           }
          ],
          "scattergl": [
           {
            "marker": {
             "colorbar": {
              "outlinewidth": 0,
              "ticks": ""
             }
            },
            "type": "scattergl"
           }
          ],
          "scattermapbox": [
           {
            "marker": {
             "colorbar": {
              "outlinewidth": 0,
              "ticks": ""
             }
            },
            "type": "scattermapbox"
           }
          ],
          "scatterpolar": [
           {
            "marker": {
             "colorbar": {
              "outlinewidth": 0,
              "ticks": ""
             }
            },
            "type": "scatterpolar"
           }
          ],
          "scatterpolargl": [
           {
            "marker": {
             "colorbar": {
              "outlinewidth": 0,
              "ticks": ""
             }
            },
            "type": "scatterpolargl"
           }
          ],
          "scatterternary": [
           {
            "marker": {
             "colorbar": {
              "outlinewidth": 0,
              "ticks": ""
             }
            },
            "type": "scatterternary"
           }
          ],
          "surface": [
           {
            "colorbar": {
             "outlinewidth": 0,
             "ticks": ""
            },
            "colorscale": [
             [
              0,
              "#0d0887"
             ],
             [
              0.1111111111111111,
              "#46039f"
             ],
             [
              0.2222222222222222,
              "#7201a8"
             ],
             [
              0.3333333333333333,
              "#9c179e"
             ],
             [
              0.4444444444444444,
              "#bd3786"
             ],
             [
              0.5555555555555556,
              "#d8576b"
             ],
             [
              0.6666666666666666,
              "#ed7953"
             ],
             [
              0.7777777777777778,
              "#fb9f3a"
             ],
             [
              0.8888888888888888,
              "#fdca26"
             ],
             [
              1,
              "#f0f921"
             ]
            ],
            "type": "surface"
           }
          ],
          "table": [
           {
            "cells": {
             "fill": {
              "color": "#EBF0F8"
             },
             "line": {
              "color": "white"
             }
            },
            "header": {
             "fill": {
              "color": "#C8D4E3"
             },
             "line": {
              "color": "white"
             }
            },
            "type": "table"
           }
          ]
         },
         "layout": {
          "annotationdefaults": {
           "arrowcolor": "#2a3f5f",
           "arrowhead": 0,
           "arrowwidth": 1
          },
          "autotypenumbers": "strict",
          "coloraxis": {
           "colorbar": {
            "outlinewidth": 0,
            "ticks": ""
           }
          },
          "colorscale": {
           "diverging": [
            [
             0,
             "#8e0152"
            ],
            [
             0.1,
             "#c51b7d"
            ],
            [
             0.2,
             "#de77ae"
            ],
            [
             0.3,
             "#f1b6da"
            ],
            [
             0.4,
             "#fde0ef"
            ],
            [
             0.5,
             "#f7f7f7"
            ],
            [
             0.6,
             "#e6f5d0"
            ],
            [
             0.7,
             "#b8e186"
            ],
            [
             0.8,
             "#7fbc41"
            ],
            [
             0.9,
             "#4d9221"
            ],
            [
             1,
             "#276419"
            ]
           ],
           "sequential": [
            [
             0,
             "#0d0887"
            ],
            [
             0.1111111111111111,
             "#46039f"
            ],
            [
             0.2222222222222222,
             "#7201a8"
            ],
            [
             0.3333333333333333,
             "#9c179e"
            ],
            [
             0.4444444444444444,
             "#bd3786"
            ],
            [
             0.5555555555555556,
             "#d8576b"
            ],
            [
             0.6666666666666666,
             "#ed7953"
            ],
            [
             0.7777777777777778,
             "#fb9f3a"
            ],
            [
             0.8888888888888888,
             "#fdca26"
            ],
            [
             1,
             "#f0f921"
            ]
           ],
           "sequentialminus": [
            [
             0,
             "#0d0887"
            ],
            [
             0.1111111111111111,
             "#46039f"
            ],
            [
             0.2222222222222222,
             "#7201a8"
            ],
            [
             0.3333333333333333,
             "#9c179e"
            ],
            [
             0.4444444444444444,
             "#bd3786"
            ],
            [
             0.5555555555555556,
             "#d8576b"
            ],
            [
             0.6666666666666666,
             "#ed7953"
            ],
            [
             0.7777777777777778,
             "#fb9f3a"
            ],
            [
             0.8888888888888888,
             "#fdca26"
            ],
            [
             1,
             "#f0f921"
            ]
           ]
          },
          "colorway": [
           "#636efa",
           "#EF553B",
           "#00cc96",
           "#ab63fa",
           "#FFA15A",
           "#19d3f3",
           "#FF6692",
           "#B6E880",
           "#FF97FF",
           "#FECB52"
          ],
          "font": {
           "color": "#2a3f5f"
          },
          "geo": {
           "bgcolor": "white",
           "lakecolor": "white",
           "landcolor": "#E5ECF6",
           "showlakes": true,
           "showland": true,
           "subunitcolor": "white"
          },
          "hoverlabel": {
           "align": "left"
          },
          "hovermode": "closest",
          "mapbox": {
           "style": "light"
          },
          "paper_bgcolor": "white",
          "plot_bgcolor": "#E5ECF6",
          "polar": {
           "angularaxis": {
            "gridcolor": "white",
            "linecolor": "white",
            "ticks": ""
           },
           "bgcolor": "#E5ECF6",
           "radialaxis": {
            "gridcolor": "white",
            "linecolor": "white",
            "ticks": ""
           }
          },
          "scene": {
           "xaxis": {
            "backgroundcolor": "#E5ECF6",
            "gridcolor": "white",
            "gridwidth": 2,
            "linecolor": "white",
            "showbackground": true,
            "ticks": "",
            "zerolinecolor": "white"
           },
           "yaxis": {
            "backgroundcolor": "#E5ECF6",
            "gridcolor": "white",
            "gridwidth": 2,
            "linecolor": "white",
            "showbackground": true,
            "ticks": "",
            "zerolinecolor": "white"
           },
           "zaxis": {
            "backgroundcolor": "#E5ECF6",
            "gridcolor": "white",
            "gridwidth": 2,
            "linecolor": "white",
            "showbackground": true,
            "ticks": "",
            "zerolinecolor": "white"
           }
          },
          "shapedefaults": {
           "line": {
            "color": "#2a3f5f"
           }
          },
          "ternary": {
           "aaxis": {
            "gridcolor": "white",
            "linecolor": "white",
            "ticks": ""
           },
           "baxis": {
            "gridcolor": "white",
            "linecolor": "white",
            "ticks": ""
           },
           "bgcolor": "#E5ECF6",
           "caxis": {
            "gridcolor": "white",
            "linecolor": "white",
            "ticks": ""
           }
          },
          "title": {
           "x": 0.05
          },
          "xaxis": {
           "automargin": true,
           "gridcolor": "white",
           "linecolor": "white",
           "ticks": "",
           "title": {
            "standoff": 15
           },
           "zerolinecolor": "white",
           "zerolinewidth": 2
          },
          "yaxis": {
           "automargin": true,
           "gridcolor": "white",
           "linecolor": "white",
           "ticks": "",
           "title": {
            "standoff": 15
           },
           "zerolinecolor": "white",
           "zerolinewidth": 2
          }
         }
        },
        "title": {
         "text": "Freedom and Happiness Scores Across Continents"
        },
        "xaxis": {
         "title": {
          "text": "Continent"
         }
        },
        "yaxis": {
         "range": [
          1,
          10
         ],
         "title": {
          "text": "Score"
         }
        }
       }
      },
      "text/html": [
       "<div>                            <div id=\"c3e09fef-ecd7-4082-ac11-958e66a03f39\" class=\"plotly-graph-div\" style=\"height:525px; width:100%;\"></div>            <script type=\"text/javascript\">                require([\"plotly\"], function(Plotly) {                    window.PLOTLYENV=window.PLOTLYENV || {};                                    if (document.getElementById(\"c3e09fef-ecd7-4082-ac11-958e66a03f39\")) {                    Plotly.newPlot(                        \"c3e09fef-ecd7-4082-ac11-958e66a03f39\",                        [{\"marker\":{\"color\":\"blue\"},\"name\":\"Human Freedom Score\",\"x\":[\"Africa\",\"Asia\",\"Europe\",\"North America\",\"Oceania\",\"South America\"],\"y\":[6.329444444444444,6.357333333333333,8.283333333333333,7.678125,8.0975,7.201666666666667],\"type\":\"bar\"},{\"marker\":{\"color\":\"green\"},\"name\":\"Happiness Score\",\"x\":[\"Africa\",\"Asia\",\"Europe\",\"North America\",\"Oceania\",\"South America\"],\"y\":[4.443340425531915,5.2659534883720935,6.290102564102564,6.154692307692307,7.2675,5.9201999999999995],\"type\":\"bar\"}],                        {\"template\":{\"data\":{\"histogram2dcontour\":[{\"type\":\"histogram2dcontour\",\"colorbar\":{\"outlinewidth\":0,\"ticks\":\"\"},\"colorscale\":[[0.0,\"#0d0887\"],[0.1111111111111111,\"#46039f\"],[0.2222222222222222,\"#7201a8\"],[0.3333333333333333,\"#9c179e\"],[0.4444444444444444,\"#bd3786\"],[0.5555555555555556,\"#d8576b\"],[0.6666666666666666,\"#ed7953\"],[0.7777777777777778,\"#fb9f3a\"],[0.8888888888888888,\"#fdca26\"],[1.0,\"#f0f921\"]]}],\"choropleth\":[{\"type\":\"choropleth\",\"colorbar\":{\"outlinewidth\":0,\"ticks\":\"\"}}],\"histogram2d\":[{\"type\":\"histogram2d\",\"colorbar\":{\"outlinewidth\":0,\"ticks\":\"\"},\"colorscale\":[[0.0,\"#0d0887\"],[0.1111111111111111,\"#46039f\"],[0.2222222222222222,\"#7201a8\"],[0.3333333333333333,\"#9c179e\"],[0.4444444444444444,\"#bd3786\"],[0.5555555555555556,\"#d8576b\"],[0.6666666666666666,\"#ed7953\"],[0.7777777777777778,\"#fb9f3a\"],[0.8888888888888888,\"#fdca26\"],[1.0,\"#f0f921\"]]}],\"heatmap\":[{\"type\":\"heatmap\",\"colorbar\":{\"outlinewidth\":0,\"ticks\":\"\"},\"colorscale\":[[0.0,\"#0d0887\"],[0.1111111111111111,\"#46039f\"],[0.2222222222222222,\"#7201a8\"],[0.3333333333333333,\"#9c179e\"],[0.4444444444444444,\"#bd3786\"],[0.5555555555555556,\"#d8576b\"],[0.6666666666666666,\"#ed7953\"],[0.7777777777777778,\"#fb9f3a\"],[0.8888888888888888,\"#fdca26\"],[1.0,\"#f0f921\"]]}],\"heatmapgl\":[{\"type\":\"heatmapgl\",\"colorbar\":{\"outlinewidth\":0,\"ticks\":\"\"},\"colorscale\":[[0.0,\"#0d0887\"],[0.1111111111111111,\"#46039f\"],[0.2222222222222222,\"#7201a8\"],[0.3333333333333333,\"#9c179e\"],[0.4444444444444444,\"#bd3786\"],[0.5555555555555556,\"#d8576b\"],[0.6666666666666666,\"#ed7953\"],[0.7777777777777778,\"#fb9f3a\"],[0.8888888888888888,\"#fdca26\"],[1.0,\"#f0f921\"]]}],\"contourcarpet\":[{\"type\":\"contourcarpet\",\"colorbar\":{\"outlinewidth\":0,\"ticks\":\"\"}}],\"contour\":[{\"type\":\"contour\",\"colorbar\":{\"outlinewidth\":0,\"ticks\":\"\"},\"colorscale\":[[0.0,\"#0d0887\"],[0.1111111111111111,\"#46039f\"],[0.2222222222222222,\"#7201a8\"],[0.3333333333333333,\"#9c179e\"],[0.4444444444444444,\"#bd3786\"],[0.5555555555555556,\"#d8576b\"],[0.6666666666666666,\"#ed7953\"],[0.7777777777777778,\"#fb9f3a\"],[0.8888888888888888,\"#fdca26\"],[1.0,\"#f0f921\"]]}],\"surface\":[{\"type\":\"surface\",\"colorbar\":{\"outlinewidth\":0,\"ticks\":\"\"},\"colorscale\":[[0.0,\"#0d0887\"],[0.1111111111111111,\"#46039f\"],[0.2222222222222222,\"#7201a8\"],[0.3333333333333333,\"#9c179e\"],[0.4444444444444444,\"#bd3786\"],[0.5555555555555556,\"#d8576b\"],[0.6666666666666666,\"#ed7953\"],[0.7777777777777778,\"#fb9f3a\"],[0.8888888888888888,\"#fdca26\"],[1.0,\"#f0f921\"]]}],\"mesh3d\":[{\"type\":\"mesh3d\",\"colorbar\":{\"outlinewidth\":0,\"ticks\":\"\"}}],\"scatter\":[{\"fillpattern\":{\"fillmode\":\"overlay\",\"size\":10,\"solidity\":0.2},\"type\":\"scatter\"}],\"parcoords\":[{\"type\":\"parcoords\",\"line\":{\"colorbar\":{\"outlinewidth\":0,\"ticks\":\"\"}}}],\"scatterpolargl\":[{\"type\":\"scatterpolargl\",\"marker\":{\"colorbar\":{\"outlinewidth\":0,\"ticks\":\"\"}}}],\"bar\":[{\"error_x\":{\"color\":\"#2a3f5f\"},\"error_y\":{\"color\":\"#2a3f5f\"},\"marker\":{\"line\":{\"color\":\"#E5ECF6\",\"width\":0.5},\"pattern\":{\"fillmode\":\"overlay\",\"size\":10,\"solidity\":0.2}},\"type\":\"bar\"}],\"scattergeo\":[{\"type\":\"scattergeo\",\"marker\":{\"colorbar\":{\"outlinewidth\":0,\"ticks\":\"\"}}}],\"scatterpolar\":[{\"type\":\"scatterpolar\",\"marker\":{\"colorbar\":{\"outlinewidth\":0,\"ticks\":\"\"}}}],\"histogram\":[{\"marker\":{\"pattern\":{\"fillmode\":\"overlay\",\"size\":10,\"solidity\":0.2}},\"type\":\"histogram\"}],\"scattergl\":[{\"type\":\"scattergl\",\"marker\":{\"colorbar\":{\"outlinewidth\":0,\"ticks\":\"\"}}}],\"scatter3d\":[{\"type\":\"scatter3d\",\"line\":{\"colorbar\":{\"outlinewidth\":0,\"ticks\":\"\"}},\"marker\":{\"colorbar\":{\"outlinewidth\":0,\"ticks\":\"\"}}}],\"scattermapbox\":[{\"type\":\"scattermapbox\",\"marker\":{\"colorbar\":{\"outlinewidth\":0,\"ticks\":\"\"}}}],\"scatterternary\":[{\"type\":\"scatterternary\",\"marker\":{\"colorbar\":{\"outlinewidth\":0,\"ticks\":\"\"}}}],\"scattercarpet\":[{\"type\":\"scattercarpet\",\"marker\":{\"colorbar\":{\"outlinewidth\":0,\"ticks\":\"\"}}}],\"carpet\":[{\"aaxis\":{\"endlinecolor\":\"#2a3f5f\",\"gridcolor\":\"white\",\"linecolor\":\"white\",\"minorgridcolor\":\"white\",\"startlinecolor\":\"#2a3f5f\"},\"baxis\":{\"endlinecolor\":\"#2a3f5f\",\"gridcolor\":\"white\",\"linecolor\":\"white\",\"minorgridcolor\":\"white\",\"startlinecolor\":\"#2a3f5f\"},\"type\":\"carpet\"}],\"table\":[{\"cells\":{\"fill\":{\"color\":\"#EBF0F8\"},\"line\":{\"color\":\"white\"}},\"header\":{\"fill\":{\"color\":\"#C8D4E3\"},\"line\":{\"color\":\"white\"}},\"type\":\"table\"}],\"barpolar\":[{\"marker\":{\"line\":{\"color\":\"#E5ECF6\",\"width\":0.5},\"pattern\":{\"fillmode\":\"overlay\",\"size\":10,\"solidity\":0.2}},\"type\":\"barpolar\"}],\"pie\":[{\"automargin\":true,\"type\":\"pie\"}]},\"layout\":{\"autotypenumbers\":\"strict\",\"colorway\":[\"#636efa\",\"#EF553B\",\"#00cc96\",\"#ab63fa\",\"#FFA15A\",\"#19d3f3\",\"#FF6692\",\"#B6E880\",\"#FF97FF\",\"#FECB52\"],\"font\":{\"color\":\"#2a3f5f\"},\"hovermode\":\"closest\",\"hoverlabel\":{\"align\":\"left\"},\"paper_bgcolor\":\"white\",\"plot_bgcolor\":\"#E5ECF6\",\"polar\":{\"bgcolor\":\"#E5ECF6\",\"angularaxis\":{\"gridcolor\":\"white\",\"linecolor\":\"white\",\"ticks\":\"\"},\"radialaxis\":{\"gridcolor\":\"white\",\"linecolor\":\"white\",\"ticks\":\"\"}},\"ternary\":{\"bgcolor\":\"#E5ECF6\",\"aaxis\":{\"gridcolor\":\"white\",\"linecolor\":\"white\",\"ticks\":\"\"},\"baxis\":{\"gridcolor\":\"white\",\"linecolor\":\"white\",\"ticks\":\"\"},\"caxis\":{\"gridcolor\":\"white\",\"linecolor\":\"white\",\"ticks\":\"\"}},\"coloraxis\":{\"colorbar\":{\"outlinewidth\":0,\"ticks\":\"\"}},\"colorscale\":{\"sequential\":[[0.0,\"#0d0887\"],[0.1111111111111111,\"#46039f\"],[0.2222222222222222,\"#7201a8\"],[0.3333333333333333,\"#9c179e\"],[0.4444444444444444,\"#bd3786\"],[0.5555555555555556,\"#d8576b\"],[0.6666666666666666,\"#ed7953\"],[0.7777777777777778,\"#fb9f3a\"],[0.8888888888888888,\"#fdca26\"],[1.0,\"#f0f921\"]],\"sequentialminus\":[[0.0,\"#0d0887\"],[0.1111111111111111,\"#46039f\"],[0.2222222222222222,\"#7201a8\"],[0.3333333333333333,\"#9c179e\"],[0.4444444444444444,\"#bd3786\"],[0.5555555555555556,\"#d8576b\"],[0.6666666666666666,\"#ed7953\"],[0.7777777777777778,\"#fb9f3a\"],[0.8888888888888888,\"#fdca26\"],[1.0,\"#f0f921\"]],\"diverging\":[[0,\"#8e0152\"],[0.1,\"#c51b7d\"],[0.2,\"#de77ae\"],[0.3,\"#f1b6da\"],[0.4,\"#fde0ef\"],[0.5,\"#f7f7f7\"],[0.6,\"#e6f5d0\"],[0.7,\"#b8e186\"],[0.8,\"#7fbc41\"],[0.9,\"#4d9221\"],[1,\"#276419\"]]},\"xaxis\":{\"gridcolor\":\"white\",\"linecolor\":\"white\",\"ticks\":\"\",\"title\":{\"standoff\":15},\"zerolinecolor\":\"white\",\"automargin\":true,\"zerolinewidth\":2},\"yaxis\":{\"gridcolor\":\"white\",\"linecolor\":\"white\",\"ticks\":\"\",\"title\":{\"standoff\":15},\"zerolinecolor\":\"white\",\"automargin\":true,\"zerolinewidth\":2},\"scene\":{\"xaxis\":{\"backgroundcolor\":\"#E5ECF6\",\"gridcolor\":\"white\",\"linecolor\":\"white\",\"showbackground\":true,\"ticks\":\"\",\"zerolinecolor\":\"white\",\"gridwidth\":2},\"yaxis\":{\"backgroundcolor\":\"#E5ECF6\",\"gridcolor\":\"white\",\"linecolor\":\"white\",\"showbackground\":true,\"ticks\":\"\",\"zerolinecolor\":\"white\",\"gridwidth\":2},\"zaxis\":{\"backgroundcolor\":\"#E5ECF6\",\"gridcolor\":\"white\",\"linecolor\":\"white\",\"showbackground\":true,\"ticks\":\"\",\"zerolinecolor\":\"white\",\"gridwidth\":2}},\"shapedefaults\":{\"line\":{\"color\":\"#2a3f5f\"}},\"annotationdefaults\":{\"arrowcolor\":\"#2a3f5f\",\"arrowhead\":0,\"arrowwidth\":1},\"geo\":{\"bgcolor\":\"white\",\"landcolor\":\"#E5ECF6\",\"subunitcolor\":\"white\",\"showland\":true,\"showlakes\":true,\"lakecolor\":\"white\"},\"title\":{\"x\":0.05},\"mapbox\":{\"style\":\"light\"}}},\"yaxis\":{\"title\":{\"text\":\"Score\"},\"range\":[1,10]},\"title\":{\"text\":\"Freedom and Happiness Scores Across Continents\"},\"xaxis\":{\"title\":{\"text\":\"Continent\"}},\"barmode\":\"group\",\"legend\":{\"title\":{\"text\":\"Scores\"}}},                        {\"responsive\": true}                    ).then(function(){\n",
       "                            \n",
       "var gd = document.getElementById('c3e09fef-ecd7-4082-ac11-958e66a03f39');\n",
       "var x = new MutationObserver(function (mutations, observer) {{\n",
       "        var display = window.getComputedStyle(gd).display;\n",
       "        if (!display || display === 'none') {{\n",
       "            console.log([gd, 'removed!']);\n",
       "            Plotly.purge(gd);\n",
       "            observer.disconnect();\n",
       "        }}\n",
       "}});\n",
       "\n",
       "// Listen for the removal of the full notebook cells\n",
       "var notebookContainer = gd.closest('#notebook-container');\n",
       "if (notebookContainer) {{\n",
       "    x.observe(notebookContainer, {childList: true});\n",
       "}}\n",
       "\n",
       "// Listen for the clearing of the current output cell\n",
       "var outputEl = gd.closest('.output');\n",
       "if (outputEl) {{\n",
       "    x.observe(outputEl, {childList: true});\n",
       "}}\n",
       "\n",
       "                        })                };                });            </script>        </div>"
      ]
     },
     "metadata": {},
     "output_type": "display_data"
    },
    {
     "data": {
      "application/vnd.plotly.v1+json": {
       "config": {
        "plotlyServerURL": "https://plot.ly"
       },
       "data": [
        {
         "marker": {
          "color": "blue"
         },
         "name": "Human Freedom Score",
         "type": "bar",
         "x": [
          "Albania",
          "Austria",
          "Belarus",
          "Belgium",
          "Bosnia and Herzegovina",
          "Bulgaria",
          "Croatia",
          "Czech Republic",
          "Denmark",
          "Estonia",
          "Finland",
          "France",
          "Germany",
          "Greece",
          "Hungary",
          "Iceland",
          "Ireland",
          "Italy",
          "Latvia",
          "Lithuania",
          "Luxembourg",
          "Malta",
          "Moldova",
          "Montenegro",
          "Netherlands",
          "North Macedonia",
          "Norway",
          "Poland",
          "Portugal",
          "Romania",
          "Serbia",
          "Slovakia",
          "Slovenia",
          "Spain",
          "Sweden",
          "Switzerland",
          "Ukraine",
          "United Kingdom"
         ],
         "y": [
          8.07,
          8.68,
          6.27,
          8.55,
          7.43,
          7.97,
          8.15,
          8.61,
          9.01,
          8.94,
          8.87,
          8.26,
          8.73,
          7.83,
          7.63,
          8.84,
          8.95,
          8.43,
          8.62,
          8.72,
          8.85,
          8.43,
          7.6,
          7.91,
          8.8,
          7.68,
          8.81,
          7.92,
          8.69,
          8.25,
          7.5,
          8.15,
          8.33,
          8.49,
          8.85,
          9.17,
          6.77,
          8.79
         ]
        },
        {
         "marker": {
          "color": "green"
         },
         "name": "Happiness Score",
         "type": "bar",
         "x": [
          "Albania",
          "Austria",
          "Belarus",
          "Belgium",
          "Bosnia and Herzegovina",
          "Bulgaria",
          "Croatia",
          "Czech Republic",
          "Denmark",
          "Estonia",
          "Finland",
          "France",
          "Germany",
          "Greece",
          "Hungary",
          "Iceland",
          "Ireland",
          "Italy",
          "Latvia",
          "Lithuania",
          "Luxembourg",
          "Malta",
          "Moldova",
          "Montenegro",
          "Netherlands",
          "North Macedonia",
          "Norway",
          "Poland",
          "Portugal",
          "Romania",
          "Serbia",
          "Slovakia",
          "Slovenia",
          "Spain",
          "Sweden",
          "Switzerland",
          "Ukraine",
          "United Kingdom"
         ],
         "y": [
          4.719,
          7.246,
          5.323,
          6.923,
          5.386,
          5.011,
          5.432,
          6.852,
          7.6,
          5.893,
          7.769,
          6.592,
          6.985,
          5.287,
          5.758,
          7.494,
          7.021,
          6.223,
          5.94,
          6.149,
          7.09,
          6.726,
          5.529,
          5.523,
          7.488,
          5.274,
          7.554,
          6.182,
          5.693,
          6.07,
          6.1,
          6.198,
          6.118,
          6.354,
          7.343,
          7.48,
          4.332,
          7.054
         ]
        }
       ],
       "layout": {
        "barmode": "group",
        "legend": {
         "title": {
          "text": "Metrics"
         }
        },
        "template": {
         "data": {
          "bar": [
           {
            "error_x": {
             "color": "#2a3f5f"
            },
            "error_y": {
             "color": "#2a3f5f"
            },
            "marker": {
             "line": {
              "color": "#E5ECF6",
              "width": 0.5
             },
             "pattern": {
              "fillmode": "overlay",
              "size": 10,
              "solidity": 0.2
             }
            },
            "type": "bar"
           }
          ],
          "barpolar": [
           {
            "marker": {
             "line": {
              "color": "#E5ECF6",
              "width": 0.5
             },
             "pattern": {
              "fillmode": "overlay",
              "size": 10,
              "solidity": 0.2
             }
            },
            "type": "barpolar"
           }
          ],
          "carpet": [
           {
            "aaxis": {
             "endlinecolor": "#2a3f5f",
             "gridcolor": "white",
             "linecolor": "white",
             "minorgridcolor": "white",
             "startlinecolor": "#2a3f5f"
            },
            "baxis": {
             "endlinecolor": "#2a3f5f",
             "gridcolor": "white",
             "linecolor": "white",
             "minorgridcolor": "white",
             "startlinecolor": "#2a3f5f"
            },
            "type": "carpet"
           }
          ],
          "choropleth": [
           {
            "colorbar": {
             "outlinewidth": 0,
             "ticks": ""
            },
            "type": "choropleth"
           }
          ],
          "contour": [
           {
            "colorbar": {
             "outlinewidth": 0,
             "ticks": ""
            },
            "colorscale": [
             [
              0,
              "#0d0887"
             ],
             [
              0.1111111111111111,
              "#46039f"
             ],
             [
              0.2222222222222222,
              "#7201a8"
             ],
             [
              0.3333333333333333,
              "#9c179e"
             ],
             [
              0.4444444444444444,
              "#bd3786"
             ],
             [
              0.5555555555555556,
              "#d8576b"
             ],
             [
              0.6666666666666666,
              "#ed7953"
             ],
             [
              0.7777777777777778,
              "#fb9f3a"
             ],
             [
              0.8888888888888888,
              "#fdca26"
             ],
             [
              1,
              "#f0f921"
             ]
            ],
            "type": "contour"
           }
          ],
          "contourcarpet": [
           {
            "colorbar": {
             "outlinewidth": 0,
             "ticks": ""
            },
            "type": "contourcarpet"
           }
          ],
          "heatmap": [
           {
            "colorbar": {
             "outlinewidth": 0,
             "ticks": ""
            },
            "colorscale": [
             [
              0,
              "#0d0887"
             ],
             [
              0.1111111111111111,
              "#46039f"
             ],
             [
              0.2222222222222222,
              "#7201a8"
             ],
             [
              0.3333333333333333,
              "#9c179e"
             ],
             [
              0.4444444444444444,
              "#bd3786"
             ],
             [
              0.5555555555555556,
              "#d8576b"
             ],
             [
              0.6666666666666666,
              "#ed7953"
             ],
             [
              0.7777777777777778,
              "#fb9f3a"
             ],
             [
              0.8888888888888888,
              "#fdca26"
             ],
             [
              1,
              "#f0f921"
             ]
            ],
            "type": "heatmap"
           }
          ],
          "heatmapgl": [
           {
            "colorbar": {
             "outlinewidth": 0,
             "ticks": ""
            },
            "colorscale": [
             [
              0,
              "#0d0887"
             ],
             [
              0.1111111111111111,
              "#46039f"
             ],
             [
              0.2222222222222222,
              "#7201a8"
             ],
             [
              0.3333333333333333,
              "#9c179e"
             ],
             [
              0.4444444444444444,
              "#bd3786"
             ],
             [
              0.5555555555555556,
              "#d8576b"
             ],
             [
              0.6666666666666666,
              "#ed7953"
             ],
             [
              0.7777777777777778,
              "#fb9f3a"
             ],
             [
              0.8888888888888888,
              "#fdca26"
             ],
             [
              1,
              "#f0f921"
             ]
            ],
            "type": "heatmapgl"
           }
          ],
          "histogram": [
           {
            "marker": {
             "pattern": {
              "fillmode": "overlay",
              "size": 10,
              "solidity": 0.2
             }
            },
            "type": "histogram"
           }
          ],
          "histogram2d": [
           {
            "colorbar": {
             "outlinewidth": 0,
             "ticks": ""
            },
            "colorscale": [
             [
              0,
              "#0d0887"
             ],
             [
              0.1111111111111111,
              "#46039f"
             ],
             [
              0.2222222222222222,
              "#7201a8"
             ],
             [
              0.3333333333333333,
              "#9c179e"
             ],
             [
              0.4444444444444444,
              "#bd3786"
             ],
             [
              0.5555555555555556,
              "#d8576b"
             ],
             [
              0.6666666666666666,
              "#ed7953"
             ],
             [
              0.7777777777777778,
              "#fb9f3a"
             ],
             [
              0.8888888888888888,
              "#fdca26"
             ],
             [
              1,
              "#f0f921"
             ]
            ],
            "type": "histogram2d"
           }
          ],
          "histogram2dcontour": [
           {
            "colorbar": {
             "outlinewidth": 0,
             "ticks": ""
            },
            "colorscale": [
             [
              0,
              "#0d0887"
             ],
             [
              0.1111111111111111,
              "#46039f"
             ],
             [
              0.2222222222222222,
              "#7201a8"
             ],
             [
              0.3333333333333333,
              "#9c179e"
             ],
             [
              0.4444444444444444,
              "#bd3786"
             ],
             [
              0.5555555555555556,
              "#d8576b"
             ],
             [
              0.6666666666666666,
              "#ed7953"
             ],
             [
              0.7777777777777778,
              "#fb9f3a"
             ],
             [
              0.8888888888888888,
              "#fdca26"
             ],
             [
              1,
              "#f0f921"
             ]
            ],
            "type": "histogram2dcontour"
           }
          ],
          "mesh3d": [
           {
            "colorbar": {
             "outlinewidth": 0,
             "ticks": ""
            },
            "type": "mesh3d"
           }
          ],
          "parcoords": [
           {
            "line": {
             "colorbar": {
              "outlinewidth": 0,
              "ticks": ""
             }
            },
            "type": "parcoords"
           }
          ],
          "pie": [
           {
            "automargin": true,
            "type": "pie"
           }
          ],
          "scatter": [
           {
            "fillpattern": {
             "fillmode": "overlay",
             "size": 10,
             "solidity": 0.2
            },
            "type": "scatter"
           }
          ],
          "scatter3d": [
           {
            "line": {
             "colorbar": {
              "outlinewidth": 0,
              "ticks": ""
             }
            },
            "marker": {
             "colorbar": {
              "outlinewidth": 0,
              "ticks": ""
             }
            },
            "type": "scatter3d"
           }
          ],
          "scattercarpet": [
           {
            "marker": {
             "colorbar": {
              "outlinewidth": 0,
              "ticks": ""
             }
            },
            "type": "scattercarpet"
           }
          ],
          "scattergeo": [
           {
            "marker": {
             "colorbar": {
              "outlinewidth": 0,
              "ticks": ""
             }
            },
            "type": "scattergeo"
           }
          ],
          "scattergl": [
           {
            "marker": {
             "colorbar": {
              "outlinewidth": 0,
              "ticks": ""
             }
            },
            "type": "scattergl"
           }
          ],
          "scattermapbox": [
           {
            "marker": {
             "colorbar": {
              "outlinewidth": 0,
              "ticks": ""
             }
            },
            "type": "scattermapbox"
           }
          ],
          "scatterpolar": [
           {
            "marker": {
             "colorbar": {
              "outlinewidth": 0,
              "ticks": ""
             }
            },
            "type": "scatterpolar"
           }
          ],
          "scatterpolargl": [
           {
            "marker": {
             "colorbar": {
              "outlinewidth": 0,
              "ticks": ""
             }
            },
            "type": "scatterpolargl"
           }
          ],
          "scatterternary": [
           {
            "marker": {
             "colorbar": {
              "outlinewidth": 0,
              "ticks": ""
             }
            },
            "type": "scatterternary"
           }
          ],
          "surface": [
           {
            "colorbar": {
             "outlinewidth": 0,
             "ticks": ""
            },
            "colorscale": [
             [
              0,
              "#0d0887"
             ],
             [
              0.1111111111111111,
              "#46039f"
             ],
             [
              0.2222222222222222,
              "#7201a8"
             ],
             [
              0.3333333333333333,
              "#9c179e"
             ],
             [
              0.4444444444444444,
              "#bd3786"
             ],
             [
              0.5555555555555556,
              "#d8576b"
             ],
             [
              0.6666666666666666,
              "#ed7953"
             ],
             [
              0.7777777777777778,
              "#fb9f3a"
             ],
             [
              0.8888888888888888,
              "#fdca26"
             ],
             [
              1,
              "#f0f921"
             ]
            ],
            "type": "surface"
           }
          ],
          "table": [
           {
            "cells": {
             "fill": {
              "color": "#EBF0F8"
             },
             "line": {
              "color": "white"
             }
            },
            "header": {
             "fill": {
              "color": "#C8D4E3"
             },
             "line": {
              "color": "white"
             }
            },
            "type": "table"
           }
          ]
         },
         "layout": {
          "annotationdefaults": {
           "arrowcolor": "#2a3f5f",
           "arrowhead": 0,
           "arrowwidth": 1
          },
          "autotypenumbers": "strict",
          "coloraxis": {
           "colorbar": {
            "outlinewidth": 0,
            "ticks": ""
           }
          },
          "colorscale": {
           "diverging": [
            [
             0,
             "#8e0152"
            ],
            [
             0.1,
             "#c51b7d"
            ],
            [
             0.2,
             "#de77ae"
            ],
            [
             0.3,
             "#f1b6da"
            ],
            [
             0.4,
             "#fde0ef"
            ],
            [
             0.5,
             "#f7f7f7"
            ],
            [
             0.6,
             "#e6f5d0"
            ],
            [
             0.7,
             "#b8e186"
            ],
            [
             0.8,
             "#7fbc41"
            ],
            [
             0.9,
             "#4d9221"
            ],
            [
             1,
             "#276419"
            ]
           ],
           "sequential": [
            [
             0,
             "#0d0887"
            ],
            [
             0.1111111111111111,
             "#46039f"
            ],
            [
             0.2222222222222222,
             "#7201a8"
            ],
            [
             0.3333333333333333,
             "#9c179e"
            ],
            [
             0.4444444444444444,
             "#bd3786"
            ],
            [
             0.5555555555555556,
             "#d8576b"
            ],
            [
             0.6666666666666666,
             "#ed7953"
            ],
            [
             0.7777777777777778,
             "#fb9f3a"
            ],
            [
             0.8888888888888888,
             "#fdca26"
            ],
            [
             1,
             "#f0f921"
            ]
           ],
           "sequentialminus": [
            [
             0,
             "#0d0887"
            ],
            [
             0.1111111111111111,
             "#46039f"
            ],
            [
             0.2222222222222222,
             "#7201a8"
            ],
            [
             0.3333333333333333,
             "#9c179e"
            ],
            [
             0.4444444444444444,
             "#bd3786"
            ],
            [
             0.5555555555555556,
             "#d8576b"
            ],
            [
             0.6666666666666666,
             "#ed7953"
            ],
            [
             0.7777777777777778,
             "#fb9f3a"
            ],
            [
             0.8888888888888888,
             "#fdca26"
            ],
            [
             1,
             "#f0f921"
            ]
           ]
          },
          "colorway": [
           "#636efa",
           "#EF553B",
           "#00cc96",
           "#ab63fa",
           "#FFA15A",
           "#19d3f3",
           "#FF6692",
           "#B6E880",
           "#FF97FF",
           "#FECB52"
          ],
          "font": {
           "color": "#2a3f5f"
          },
          "geo": {
           "bgcolor": "white",
           "lakecolor": "white",
           "landcolor": "#E5ECF6",
           "showlakes": true,
           "showland": true,
           "subunitcolor": "white"
          },
          "hoverlabel": {
           "align": "left"
          },
          "hovermode": "closest",
          "mapbox": {
           "style": "light"
          },
          "paper_bgcolor": "white",
          "plot_bgcolor": "#E5ECF6",
          "polar": {
           "angularaxis": {
            "gridcolor": "white",
            "linecolor": "white",
            "ticks": ""
           },
           "bgcolor": "#E5ECF6",
           "radialaxis": {
            "gridcolor": "white",
            "linecolor": "white",
            "ticks": ""
           }
          },
          "scene": {
           "xaxis": {
            "backgroundcolor": "#E5ECF6",
            "gridcolor": "white",
            "gridwidth": 2,
            "linecolor": "white",
            "showbackground": true,
            "ticks": "",
            "zerolinecolor": "white"
           },
           "yaxis": {
            "backgroundcolor": "#E5ECF6",
            "gridcolor": "white",
            "gridwidth": 2,
            "linecolor": "white",
            "showbackground": true,
            "ticks": "",
            "zerolinecolor": "white"
           },
           "zaxis": {
            "backgroundcolor": "#E5ECF6",
            "gridcolor": "white",
            "gridwidth": 2,
            "linecolor": "white",
            "showbackground": true,
            "ticks": "",
            "zerolinecolor": "white"
           }
          },
          "shapedefaults": {
           "line": {
            "color": "#2a3f5f"
           }
          },
          "ternary": {
           "aaxis": {
            "gridcolor": "white",
            "linecolor": "white",
            "ticks": ""
           },
           "baxis": {
            "gridcolor": "white",
            "linecolor": "white",
            "ticks": ""
           },
           "bgcolor": "#E5ECF6",
           "caxis": {
            "gridcolor": "white",
            "linecolor": "white",
            "ticks": ""
           }
          },
          "title": {
           "x": 0.05
          },
          "xaxis": {
           "automargin": true,
           "gridcolor": "white",
           "linecolor": "white",
           "ticks": "",
           "title": {
            "standoff": 15
           },
           "zerolinecolor": "white",
           "zerolinewidth": 2
          },
          "yaxis": {
           "automargin": true,
           "gridcolor": "white",
           "linecolor": "white",
           "ticks": "",
           "title": {
            "standoff": 15
           },
           "zerolinecolor": "white",
           "zerolinewidth": 2
          }
         }
        },
        "title": {
         "text": "Freedom and Happiness Scores in Europe"
        },
        "xaxis": {
         "title": {
          "text": "Country"
         }
        },
        "yaxis": {
         "range": [
          1,
          10
         ],
         "title": {
          "text": "Score"
         }
        }
       }
      },
      "text/html": [
       "<div>                            <div id=\"08f36c52-b67f-43d6-b0a8-bb800cd3a917\" class=\"plotly-graph-div\" style=\"height:525px; width:100%;\"></div>            <script type=\"text/javascript\">                require([\"plotly\"], function(Plotly) {                    window.PLOTLYENV=window.PLOTLYENV || {};                                    if (document.getElementById(\"08f36c52-b67f-43d6-b0a8-bb800cd3a917\")) {                    Plotly.newPlot(                        \"08f36c52-b67f-43d6-b0a8-bb800cd3a917\",                        [{\"marker\":{\"color\":\"blue\"},\"name\":\"Human Freedom Score\",\"x\":[\"Albania\",\"Austria\",\"Belarus\",\"Belgium\",\"Bosnia and Herzegovina\",\"Bulgaria\",\"Croatia\",\"Czech Republic\",\"Denmark\",\"Estonia\",\"Finland\",\"France\",\"Germany\",\"Greece\",\"Hungary\",\"Iceland\",\"Ireland\",\"Italy\",\"Latvia\",\"Lithuania\",\"Luxembourg\",\"Malta\",\"Moldova\",\"Montenegro\",\"Netherlands\",\"North Macedonia\",\"Norway\",\"Poland\",\"Portugal\",\"Romania\",\"Serbia\",\"Slovakia\",\"Slovenia\",\"Spain\",\"Sweden\",\"Switzerland\",\"Ukraine\",\"United Kingdom\"],\"y\":[8.07,8.68,6.27,8.55,7.43,7.97,8.15,8.61,9.01,8.94,8.87,8.26,8.73,7.83,7.63,8.84,8.95,8.43,8.62,8.72,8.85,8.43,7.6,7.91,8.8,7.68,8.81,7.92,8.69,8.25,7.5,8.15,8.33,8.49,8.85,9.17,6.77,8.79],\"type\":\"bar\"},{\"marker\":{\"color\":\"green\"},\"name\":\"Happiness Score\",\"x\":[\"Albania\",\"Austria\",\"Belarus\",\"Belgium\",\"Bosnia and Herzegovina\",\"Bulgaria\",\"Croatia\",\"Czech Republic\",\"Denmark\",\"Estonia\",\"Finland\",\"France\",\"Germany\",\"Greece\",\"Hungary\",\"Iceland\",\"Ireland\",\"Italy\",\"Latvia\",\"Lithuania\",\"Luxembourg\",\"Malta\",\"Moldova\",\"Montenegro\",\"Netherlands\",\"North Macedonia\",\"Norway\",\"Poland\",\"Portugal\",\"Romania\",\"Serbia\",\"Slovakia\",\"Slovenia\",\"Spain\",\"Sweden\",\"Switzerland\",\"Ukraine\",\"United Kingdom\"],\"y\":[4.719,7.246,5.323,6.923,5.386,5.011,5.432,6.852,7.6,5.893,7.769,6.592,6.985,5.287,5.758,7.494,7.021,6.223,5.94,6.149,7.09,6.726,5.529,5.523,7.488,5.274,7.554,6.182,5.693,6.07,6.1,6.198,6.118,6.354,7.343,7.48,4.332,7.054],\"type\":\"bar\"}],                        {\"template\":{\"data\":{\"histogram2dcontour\":[{\"type\":\"histogram2dcontour\",\"colorbar\":{\"outlinewidth\":0,\"ticks\":\"\"},\"colorscale\":[[0.0,\"#0d0887\"],[0.1111111111111111,\"#46039f\"],[0.2222222222222222,\"#7201a8\"],[0.3333333333333333,\"#9c179e\"],[0.4444444444444444,\"#bd3786\"],[0.5555555555555556,\"#d8576b\"],[0.6666666666666666,\"#ed7953\"],[0.7777777777777778,\"#fb9f3a\"],[0.8888888888888888,\"#fdca26\"],[1.0,\"#f0f921\"]]}],\"choropleth\":[{\"type\":\"choropleth\",\"colorbar\":{\"outlinewidth\":0,\"ticks\":\"\"}}],\"histogram2d\":[{\"type\":\"histogram2d\",\"colorbar\":{\"outlinewidth\":0,\"ticks\":\"\"},\"colorscale\":[[0.0,\"#0d0887\"],[0.1111111111111111,\"#46039f\"],[0.2222222222222222,\"#7201a8\"],[0.3333333333333333,\"#9c179e\"],[0.4444444444444444,\"#bd3786\"],[0.5555555555555556,\"#d8576b\"],[0.6666666666666666,\"#ed7953\"],[0.7777777777777778,\"#fb9f3a\"],[0.8888888888888888,\"#fdca26\"],[1.0,\"#f0f921\"]]}],\"heatmap\":[{\"type\":\"heatmap\",\"colorbar\":{\"outlinewidth\":0,\"ticks\":\"\"},\"colorscale\":[[0.0,\"#0d0887\"],[0.1111111111111111,\"#46039f\"],[0.2222222222222222,\"#7201a8\"],[0.3333333333333333,\"#9c179e\"],[0.4444444444444444,\"#bd3786\"],[0.5555555555555556,\"#d8576b\"],[0.6666666666666666,\"#ed7953\"],[0.7777777777777778,\"#fb9f3a\"],[0.8888888888888888,\"#fdca26\"],[1.0,\"#f0f921\"]]}],\"heatmapgl\":[{\"type\":\"heatmapgl\",\"colorbar\":{\"outlinewidth\":0,\"ticks\":\"\"},\"colorscale\":[[0.0,\"#0d0887\"],[0.1111111111111111,\"#46039f\"],[0.2222222222222222,\"#7201a8\"],[0.3333333333333333,\"#9c179e\"],[0.4444444444444444,\"#bd3786\"],[0.5555555555555556,\"#d8576b\"],[0.6666666666666666,\"#ed7953\"],[0.7777777777777778,\"#fb9f3a\"],[0.8888888888888888,\"#fdca26\"],[1.0,\"#f0f921\"]]}],\"contourcarpet\":[{\"type\":\"contourcarpet\",\"colorbar\":{\"outlinewidth\":0,\"ticks\":\"\"}}],\"contour\":[{\"type\":\"contour\",\"colorbar\":{\"outlinewidth\":0,\"ticks\":\"\"},\"colorscale\":[[0.0,\"#0d0887\"],[0.1111111111111111,\"#46039f\"],[0.2222222222222222,\"#7201a8\"],[0.3333333333333333,\"#9c179e\"],[0.4444444444444444,\"#bd3786\"],[0.5555555555555556,\"#d8576b\"],[0.6666666666666666,\"#ed7953\"],[0.7777777777777778,\"#fb9f3a\"],[0.8888888888888888,\"#fdca26\"],[1.0,\"#f0f921\"]]}],\"surface\":[{\"type\":\"surface\",\"colorbar\":{\"outlinewidth\":0,\"ticks\":\"\"},\"colorscale\":[[0.0,\"#0d0887\"],[0.1111111111111111,\"#46039f\"],[0.2222222222222222,\"#7201a8\"],[0.3333333333333333,\"#9c179e\"],[0.4444444444444444,\"#bd3786\"],[0.5555555555555556,\"#d8576b\"],[0.6666666666666666,\"#ed7953\"],[0.7777777777777778,\"#fb9f3a\"],[0.8888888888888888,\"#fdca26\"],[1.0,\"#f0f921\"]]}],\"mesh3d\":[{\"type\":\"mesh3d\",\"colorbar\":{\"outlinewidth\":0,\"ticks\":\"\"}}],\"scatter\":[{\"fillpattern\":{\"fillmode\":\"overlay\",\"size\":10,\"solidity\":0.2},\"type\":\"scatter\"}],\"parcoords\":[{\"type\":\"parcoords\",\"line\":{\"colorbar\":{\"outlinewidth\":0,\"ticks\":\"\"}}}],\"scatterpolargl\":[{\"type\":\"scatterpolargl\",\"marker\":{\"colorbar\":{\"outlinewidth\":0,\"ticks\":\"\"}}}],\"bar\":[{\"error_x\":{\"color\":\"#2a3f5f\"},\"error_y\":{\"color\":\"#2a3f5f\"},\"marker\":{\"line\":{\"color\":\"#E5ECF6\",\"width\":0.5},\"pattern\":{\"fillmode\":\"overlay\",\"size\":10,\"solidity\":0.2}},\"type\":\"bar\"}],\"scattergeo\":[{\"type\":\"scattergeo\",\"marker\":{\"colorbar\":{\"outlinewidth\":0,\"ticks\":\"\"}}}],\"scatterpolar\":[{\"type\":\"scatterpolar\",\"marker\":{\"colorbar\":{\"outlinewidth\":0,\"ticks\":\"\"}}}],\"histogram\":[{\"marker\":{\"pattern\":{\"fillmode\":\"overlay\",\"size\":10,\"solidity\":0.2}},\"type\":\"histogram\"}],\"scattergl\":[{\"type\":\"scattergl\",\"marker\":{\"colorbar\":{\"outlinewidth\":0,\"ticks\":\"\"}}}],\"scatter3d\":[{\"type\":\"scatter3d\",\"line\":{\"colorbar\":{\"outlinewidth\":0,\"ticks\":\"\"}},\"marker\":{\"colorbar\":{\"outlinewidth\":0,\"ticks\":\"\"}}}],\"scattermapbox\":[{\"type\":\"scattermapbox\",\"marker\":{\"colorbar\":{\"outlinewidth\":0,\"ticks\":\"\"}}}],\"scatterternary\":[{\"type\":\"scatterternary\",\"marker\":{\"colorbar\":{\"outlinewidth\":0,\"ticks\":\"\"}}}],\"scattercarpet\":[{\"type\":\"scattercarpet\",\"marker\":{\"colorbar\":{\"outlinewidth\":0,\"ticks\":\"\"}}}],\"carpet\":[{\"aaxis\":{\"endlinecolor\":\"#2a3f5f\",\"gridcolor\":\"white\",\"linecolor\":\"white\",\"minorgridcolor\":\"white\",\"startlinecolor\":\"#2a3f5f\"},\"baxis\":{\"endlinecolor\":\"#2a3f5f\",\"gridcolor\":\"white\",\"linecolor\":\"white\",\"minorgridcolor\":\"white\",\"startlinecolor\":\"#2a3f5f\"},\"type\":\"carpet\"}],\"table\":[{\"cells\":{\"fill\":{\"color\":\"#EBF0F8\"},\"line\":{\"color\":\"white\"}},\"header\":{\"fill\":{\"color\":\"#C8D4E3\"},\"line\":{\"color\":\"white\"}},\"type\":\"table\"}],\"barpolar\":[{\"marker\":{\"line\":{\"color\":\"#E5ECF6\",\"width\":0.5},\"pattern\":{\"fillmode\":\"overlay\",\"size\":10,\"solidity\":0.2}},\"type\":\"barpolar\"}],\"pie\":[{\"automargin\":true,\"type\":\"pie\"}]},\"layout\":{\"autotypenumbers\":\"strict\",\"colorway\":[\"#636efa\",\"#EF553B\",\"#00cc96\",\"#ab63fa\",\"#FFA15A\",\"#19d3f3\",\"#FF6692\",\"#B6E880\",\"#FF97FF\",\"#FECB52\"],\"font\":{\"color\":\"#2a3f5f\"},\"hovermode\":\"closest\",\"hoverlabel\":{\"align\":\"left\"},\"paper_bgcolor\":\"white\",\"plot_bgcolor\":\"#E5ECF6\",\"polar\":{\"bgcolor\":\"#E5ECF6\",\"angularaxis\":{\"gridcolor\":\"white\",\"linecolor\":\"white\",\"ticks\":\"\"},\"radialaxis\":{\"gridcolor\":\"white\",\"linecolor\":\"white\",\"ticks\":\"\"}},\"ternary\":{\"bgcolor\":\"#E5ECF6\",\"aaxis\":{\"gridcolor\":\"white\",\"linecolor\":\"white\",\"ticks\":\"\"},\"baxis\":{\"gridcolor\":\"white\",\"linecolor\":\"white\",\"ticks\":\"\"},\"caxis\":{\"gridcolor\":\"white\",\"linecolor\":\"white\",\"ticks\":\"\"}},\"coloraxis\":{\"colorbar\":{\"outlinewidth\":0,\"ticks\":\"\"}},\"colorscale\":{\"sequential\":[[0.0,\"#0d0887\"],[0.1111111111111111,\"#46039f\"],[0.2222222222222222,\"#7201a8\"],[0.3333333333333333,\"#9c179e\"],[0.4444444444444444,\"#bd3786\"],[0.5555555555555556,\"#d8576b\"],[0.6666666666666666,\"#ed7953\"],[0.7777777777777778,\"#fb9f3a\"],[0.8888888888888888,\"#fdca26\"],[1.0,\"#f0f921\"]],\"sequentialminus\":[[0.0,\"#0d0887\"],[0.1111111111111111,\"#46039f\"],[0.2222222222222222,\"#7201a8\"],[0.3333333333333333,\"#9c179e\"],[0.4444444444444444,\"#bd3786\"],[0.5555555555555556,\"#d8576b\"],[0.6666666666666666,\"#ed7953\"],[0.7777777777777778,\"#fb9f3a\"],[0.8888888888888888,\"#fdca26\"],[1.0,\"#f0f921\"]],\"diverging\":[[0,\"#8e0152\"],[0.1,\"#c51b7d\"],[0.2,\"#de77ae\"],[0.3,\"#f1b6da\"],[0.4,\"#fde0ef\"],[0.5,\"#f7f7f7\"],[0.6,\"#e6f5d0\"],[0.7,\"#b8e186\"],[0.8,\"#7fbc41\"],[0.9,\"#4d9221\"],[1,\"#276419\"]]},\"xaxis\":{\"gridcolor\":\"white\",\"linecolor\":\"white\",\"ticks\":\"\",\"title\":{\"standoff\":15},\"zerolinecolor\":\"white\",\"automargin\":true,\"zerolinewidth\":2},\"yaxis\":{\"gridcolor\":\"white\",\"linecolor\":\"white\",\"ticks\":\"\",\"title\":{\"standoff\":15},\"zerolinecolor\":\"white\",\"automargin\":true,\"zerolinewidth\":2},\"scene\":{\"xaxis\":{\"backgroundcolor\":\"#E5ECF6\",\"gridcolor\":\"white\",\"linecolor\":\"white\",\"showbackground\":true,\"ticks\":\"\",\"zerolinecolor\":\"white\",\"gridwidth\":2},\"yaxis\":{\"backgroundcolor\":\"#E5ECF6\",\"gridcolor\":\"white\",\"linecolor\":\"white\",\"showbackground\":true,\"ticks\":\"\",\"zerolinecolor\":\"white\",\"gridwidth\":2},\"zaxis\":{\"backgroundcolor\":\"#E5ECF6\",\"gridcolor\":\"white\",\"linecolor\":\"white\",\"showbackground\":true,\"ticks\":\"\",\"zerolinecolor\":\"white\",\"gridwidth\":2}},\"shapedefaults\":{\"line\":{\"color\":\"#2a3f5f\"}},\"annotationdefaults\":{\"arrowcolor\":\"#2a3f5f\",\"arrowhead\":0,\"arrowwidth\":1},\"geo\":{\"bgcolor\":\"white\",\"landcolor\":\"#E5ECF6\",\"subunitcolor\":\"white\",\"showland\":true,\"showlakes\":true,\"lakecolor\":\"white\"},\"title\":{\"x\":0.05},\"mapbox\":{\"style\":\"light\"}}},\"yaxis\":{\"title\":{\"text\":\"Score\"},\"range\":[1,10]},\"title\":{\"text\":\"Freedom and Happiness Scores in Europe\"},\"xaxis\":{\"title\":{\"text\":\"Country\"}},\"barmode\":\"group\",\"legend\":{\"title\":{\"text\":\"Metrics\"}}},                        {\"responsive\": true}                    ).then(function(){\n",
       "                            \n",
       "var gd = document.getElementById('08f36c52-b67f-43d6-b0a8-bb800cd3a917');\n",
       "var x = new MutationObserver(function (mutations, observer) {{\n",
       "        var display = window.getComputedStyle(gd).display;\n",
       "        if (!display || display === 'none') {{\n",
       "            console.log([gd, 'removed!']);\n",
       "            Plotly.purge(gd);\n",
       "            observer.disconnect();\n",
       "        }}\n",
       "}});\n",
       "\n",
       "// Listen for the removal of the full notebook cells\n",
       "var notebookContainer = gd.closest('#notebook-container');\n",
       "if (notebookContainer) {{\n",
       "    x.observe(notebookContainer, {childList: true});\n",
       "}}\n",
       "\n",
       "// Listen for the clearing of the current output cell\n",
       "var outputEl = gd.closest('.output');\n",
       "if (outputEl) {{\n",
       "    x.observe(outputEl, {childList: true});\n",
       "}}\n",
       "\n",
       "                        })                };                });            </script>        </div>"
      ]
     },
     "metadata": {},
     "output_type": "display_data"
    },
    {
     "data": {
      "application/vnd.plotly.v1+json": {
       "config": {
        "plotlyServerURL": "https://plot.ly"
       },
       "data": [
        {
         "marker": {
          "color": "blue"
         },
         "name": "Human Freedom Score",
         "type": "bar",
         "x": [
          "Algeria",
          "Angola",
          "Benin",
          "Botswana",
          "Burkina Faso",
          "Burundi",
          "Cabo Verde",
          "Cameroon",
          "Central African Republic",
          "Chad",
          "Comoros",
          "Congo",
          "Ivory Coast",
          "Djibouti",
          "Egypt",
          "Eswatini",
          "Ethiopia",
          "Gabon",
          "Gambia",
          "Ghana",
          "Guinea",
          "Guinea-Bissau",
          "Kenya",
          "Lesotho",
          "Liberia",
          "Madagascar",
          "Malawi",
          "Mali",
          "Mauritania",
          "Mauritius",
          "Morocco",
          "Mozambique",
          "Namibia",
          "Niger",
          "Nigeria",
          "Rwanda",
          "Senegal",
          "Seychelles",
          "Sierra Leone",
          "Somalia",
          "South Africa",
          "Sudan",
          "Tanzania",
          "Togo",
          "Uganda",
          "Zambia",
          "Zimbabwe"
         ],
         "y": [
          5.08,
          5.96,
          7.25,
          7.76,
          6.83,
          4.91,
          8.44,
          5.34,
          5.68,
          5.41,
          5.91,
          5.33,
          6.78,
          5.63,
          4.35,
          5.73,
          5.73,
          6.66,
          6.82,
          7.46,
          5.82,
          6.78,
          6.57,
          7,
          6.6,
          6.86,
          6.92,
          6.19,
          5.56,
          8.02,
          5.68,
          6.77,
          7.57,
          6.14,
          6.1,
          6.19,
          6.9,
          7.91,
          6.47,
          4.71,
          7.15,
          4.04,
          6.29,
          6.28,
          6.17,
          6.6,
          5.3
         ]
        },
        {
         "marker": {
          "color": "green"
         },
         "name": "Happiness Score",
         "type": "bar",
         "x": [
          "Algeria",
          "Angola",
          "Benin",
          "Botswana",
          "Burkina Faso",
          "Burundi",
          "Cabo Verde",
          "Cameroon",
          "Central African Republic",
          "Chad",
          "Comoros",
          "Congo",
          "Ivory Coast",
          "Djibouti",
          "Egypt",
          "Eswatini",
          "Ethiopia",
          "Gabon",
          "Gambia",
          "Ghana",
          "Guinea",
          "Guinea-Bissau",
          "Kenya",
          "Lesotho",
          "Liberia",
          "Madagascar",
          "Malawi",
          "Mali",
          "Mauritania",
          "Mauritius",
          "Morocco",
          "Mozambique",
          "Namibia",
          "Niger",
          "Nigeria",
          "Rwanda",
          "Senegal",
          "Seychelles",
          "Sierra Leone",
          "Somalia",
          "South Africa",
          "Sudan",
          "Tanzania",
          "Togo",
          "Uganda",
          "Zambia",
          "Zimbabwe"
         ],
         "y": [
          5.211,
          null,
          4.883,
          3.488,
          4.587,
          3.775,
          null,
          5.044,
          3.083,
          4.35,
          3.973,
          null,
          5.718,
          null,
          4.166,
          4.212,
          4.286,
          4.799,
          4.516,
          4.996,
          4.534,
          null,
          4.509,
          3.802,
          3.975,
          3.933,
          3.41,
          4.39,
          4.49,
          5.888,
          5.208,
          4.466,
          4.639,
          5.265,
          5.265,
          3.334,
          4.681,
          null,
          4.374,
          4.668,
          4.722,
          null,
          3.231,
          4.085,
          4.189,
          4.107,
          3.663
         ]
        }
       ],
       "layout": {
        "barmode": "group",
        "legend": {
         "title": {
          "text": "Metrics"
         }
        },
        "template": {
         "data": {
          "bar": [
           {
            "error_x": {
             "color": "#2a3f5f"
            },
            "error_y": {
             "color": "#2a3f5f"
            },
            "marker": {
             "line": {
              "color": "#E5ECF6",
              "width": 0.5
             },
             "pattern": {
              "fillmode": "overlay",
              "size": 10,
              "solidity": 0.2
             }
            },
            "type": "bar"
           }
          ],
          "barpolar": [
           {
            "marker": {
             "line": {
              "color": "#E5ECF6",
              "width": 0.5
             },
             "pattern": {
              "fillmode": "overlay",
              "size": 10,
              "solidity": 0.2
             }
            },
            "type": "barpolar"
           }
          ],
          "carpet": [
           {
            "aaxis": {
             "endlinecolor": "#2a3f5f",
             "gridcolor": "white",
             "linecolor": "white",
             "minorgridcolor": "white",
             "startlinecolor": "#2a3f5f"
            },
            "baxis": {
             "endlinecolor": "#2a3f5f",
             "gridcolor": "white",
             "linecolor": "white",
             "minorgridcolor": "white",
             "startlinecolor": "#2a3f5f"
            },
            "type": "carpet"
           }
          ],
          "choropleth": [
           {
            "colorbar": {
             "outlinewidth": 0,
             "ticks": ""
            },
            "type": "choropleth"
           }
          ],
          "contour": [
           {
            "colorbar": {
             "outlinewidth": 0,
             "ticks": ""
            },
            "colorscale": [
             [
              0,
              "#0d0887"
             ],
             [
              0.1111111111111111,
              "#46039f"
             ],
             [
              0.2222222222222222,
              "#7201a8"
             ],
             [
              0.3333333333333333,
              "#9c179e"
             ],
             [
              0.4444444444444444,
              "#bd3786"
             ],
             [
              0.5555555555555556,
              "#d8576b"
             ],
             [
              0.6666666666666666,
              "#ed7953"
             ],
             [
              0.7777777777777778,
              "#fb9f3a"
             ],
             [
              0.8888888888888888,
              "#fdca26"
             ],
             [
              1,
              "#f0f921"
             ]
            ],
            "type": "contour"
           }
          ],
          "contourcarpet": [
           {
            "colorbar": {
             "outlinewidth": 0,
             "ticks": ""
            },
            "type": "contourcarpet"
           }
          ],
          "heatmap": [
           {
            "colorbar": {
             "outlinewidth": 0,
             "ticks": ""
            },
            "colorscale": [
             [
              0,
              "#0d0887"
             ],
             [
              0.1111111111111111,
              "#46039f"
             ],
             [
              0.2222222222222222,
              "#7201a8"
             ],
             [
              0.3333333333333333,
              "#9c179e"
             ],
             [
              0.4444444444444444,
              "#bd3786"
             ],
             [
              0.5555555555555556,
              "#d8576b"
             ],
             [
              0.6666666666666666,
              "#ed7953"
             ],
             [
              0.7777777777777778,
              "#fb9f3a"
             ],
             [
              0.8888888888888888,
              "#fdca26"
             ],
             [
              1,
              "#f0f921"
             ]
            ],
            "type": "heatmap"
           }
          ],
          "heatmapgl": [
           {
            "colorbar": {
             "outlinewidth": 0,
             "ticks": ""
            },
            "colorscale": [
             [
              0,
              "#0d0887"
             ],
             [
              0.1111111111111111,
              "#46039f"
             ],
             [
              0.2222222222222222,
              "#7201a8"
             ],
             [
              0.3333333333333333,
              "#9c179e"
             ],
             [
              0.4444444444444444,
              "#bd3786"
             ],
             [
              0.5555555555555556,
              "#d8576b"
             ],
             [
              0.6666666666666666,
              "#ed7953"
             ],
             [
              0.7777777777777778,
              "#fb9f3a"
             ],
             [
              0.8888888888888888,
              "#fdca26"
             ],
             [
              1,
              "#f0f921"
             ]
            ],
            "type": "heatmapgl"
           }
          ],
          "histogram": [
           {
            "marker": {
             "pattern": {
              "fillmode": "overlay",
              "size": 10,
              "solidity": 0.2
             }
            },
            "type": "histogram"
           }
          ],
          "histogram2d": [
           {
            "colorbar": {
             "outlinewidth": 0,
             "ticks": ""
            },
            "colorscale": [
             [
              0,
              "#0d0887"
             ],
             [
              0.1111111111111111,
              "#46039f"
             ],
             [
              0.2222222222222222,
              "#7201a8"
             ],
             [
              0.3333333333333333,
              "#9c179e"
             ],
             [
              0.4444444444444444,
              "#bd3786"
             ],
             [
              0.5555555555555556,
              "#d8576b"
             ],
             [
              0.6666666666666666,
              "#ed7953"
             ],
             [
              0.7777777777777778,
              "#fb9f3a"
             ],
             [
              0.8888888888888888,
              "#fdca26"
             ],
             [
              1,
              "#f0f921"
             ]
            ],
            "type": "histogram2d"
           }
          ],
          "histogram2dcontour": [
           {
            "colorbar": {
             "outlinewidth": 0,
             "ticks": ""
            },
            "colorscale": [
             [
              0,
              "#0d0887"
             ],
             [
              0.1111111111111111,
              "#46039f"
             ],
             [
              0.2222222222222222,
              "#7201a8"
             ],
             [
              0.3333333333333333,
              "#9c179e"
             ],
             [
              0.4444444444444444,
              "#bd3786"
             ],
             [
              0.5555555555555556,
              "#d8576b"
             ],
             [
              0.6666666666666666,
              "#ed7953"
             ],
             [
              0.7777777777777778,
              "#fb9f3a"
             ],
             [
              0.8888888888888888,
              "#fdca26"
             ],
             [
              1,
              "#f0f921"
             ]
            ],
            "type": "histogram2dcontour"
           }
          ],
          "mesh3d": [
           {
            "colorbar": {
             "outlinewidth": 0,
             "ticks": ""
            },
            "type": "mesh3d"
           }
          ],
          "parcoords": [
           {
            "line": {
             "colorbar": {
              "outlinewidth": 0,
              "ticks": ""
             }
            },
            "type": "parcoords"
           }
          ],
          "pie": [
           {
            "automargin": true,
            "type": "pie"
           }
          ],
          "scatter": [
           {
            "fillpattern": {
             "fillmode": "overlay",
             "size": 10,
             "solidity": 0.2
            },
            "type": "scatter"
           }
          ],
          "scatter3d": [
           {
            "line": {
             "colorbar": {
              "outlinewidth": 0,
              "ticks": ""
             }
            },
            "marker": {
             "colorbar": {
              "outlinewidth": 0,
              "ticks": ""
             }
            },
            "type": "scatter3d"
           }
          ],
          "scattercarpet": [
           {
            "marker": {
             "colorbar": {
              "outlinewidth": 0,
              "ticks": ""
             }
            },
            "type": "scattercarpet"
           }
          ],
          "scattergeo": [
           {
            "marker": {
             "colorbar": {
              "outlinewidth": 0,
              "ticks": ""
             }
            },
            "type": "scattergeo"
           }
          ],
          "scattergl": [
           {
            "marker": {
             "colorbar": {
              "outlinewidth": 0,
              "ticks": ""
             }
            },
            "type": "scattergl"
           }
          ],
          "scattermapbox": [
           {
            "marker": {
             "colorbar": {
              "outlinewidth": 0,
              "ticks": ""
             }
            },
            "type": "scattermapbox"
           }
          ],
          "scatterpolar": [
           {
            "marker": {
             "colorbar": {
              "outlinewidth": 0,
              "ticks": ""
             }
            },
            "type": "scatterpolar"
           }
          ],
          "scatterpolargl": [
           {
            "marker": {
             "colorbar": {
              "outlinewidth": 0,
              "ticks": ""
             }
            },
            "type": "scatterpolargl"
           }
          ],
          "scatterternary": [
           {
            "marker": {
             "colorbar": {
              "outlinewidth": 0,
              "ticks": ""
             }
            },
            "type": "scatterternary"
           }
          ],
          "surface": [
           {
            "colorbar": {
             "outlinewidth": 0,
             "ticks": ""
            },
            "colorscale": [
             [
              0,
              "#0d0887"
             ],
             [
              0.1111111111111111,
              "#46039f"
             ],
             [
              0.2222222222222222,
              "#7201a8"
             ],
             [
              0.3333333333333333,
              "#9c179e"
             ],
             [
              0.4444444444444444,
              "#bd3786"
             ],
             [
              0.5555555555555556,
              "#d8576b"
             ],
             [
              0.6666666666666666,
              "#ed7953"
             ],
             [
              0.7777777777777778,
              "#fb9f3a"
             ],
             [
              0.8888888888888888,
              "#fdca26"
             ],
             [
              1,
              "#f0f921"
             ]
            ],
            "type": "surface"
           }
          ],
          "table": [
           {
            "cells": {
             "fill": {
              "color": "#EBF0F8"
             },
             "line": {
              "color": "white"
             }
            },
            "header": {
             "fill": {
              "color": "#C8D4E3"
             },
             "line": {
              "color": "white"
             }
            },
            "type": "table"
           }
          ]
         },
         "layout": {
          "annotationdefaults": {
           "arrowcolor": "#2a3f5f",
           "arrowhead": 0,
           "arrowwidth": 1
          },
          "autotypenumbers": "strict",
          "coloraxis": {
           "colorbar": {
            "outlinewidth": 0,
            "ticks": ""
           }
          },
          "colorscale": {
           "diverging": [
            [
             0,
             "#8e0152"
            ],
            [
             0.1,
             "#c51b7d"
            ],
            [
             0.2,
             "#de77ae"
            ],
            [
             0.3,
             "#f1b6da"
            ],
            [
             0.4,
             "#fde0ef"
            ],
            [
             0.5,
             "#f7f7f7"
            ],
            [
             0.6,
             "#e6f5d0"
            ],
            [
             0.7,
             "#b8e186"
            ],
            [
             0.8,
             "#7fbc41"
            ],
            [
             0.9,
             "#4d9221"
            ],
            [
             1,
             "#276419"
            ]
           ],
           "sequential": [
            [
             0,
             "#0d0887"
            ],
            [
             0.1111111111111111,
             "#46039f"
            ],
            [
             0.2222222222222222,
             "#7201a8"
            ],
            [
             0.3333333333333333,
             "#9c179e"
            ],
            [
             0.4444444444444444,
             "#bd3786"
            ],
            [
             0.5555555555555556,
             "#d8576b"
            ],
            [
             0.6666666666666666,
             "#ed7953"
            ],
            [
             0.7777777777777778,
             "#fb9f3a"
            ],
            [
             0.8888888888888888,
             "#fdca26"
            ],
            [
             1,
             "#f0f921"
            ]
           ],
           "sequentialminus": [
            [
             0,
             "#0d0887"
            ],
            [
             0.1111111111111111,
             "#46039f"
            ],
            [
             0.2222222222222222,
             "#7201a8"
            ],
            [
             0.3333333333333333,
             "#9c179e"
            ],
            [
             0.4444444444444444,
             "#bd3786"
            ],
            [
             0.5555555555555556,
             "#d8576b"
            ],
            [
             0.6666666666666666,
             "#ed7953"
            ],
            [
             0.7777777777777778,
             "#fb9f3a"
            ],
            [
             0.8888888888888888,
             "#fdca26"
            ],
            [
             1,
             "#f0f921"
            ]
           ]
          },
          "colorway": [
           "#636efa",
           "#EF553B",
           "#00cc96",
           "#ab63fa",
           "#FFA15A",
           "#19d3f3",
           "#FF6692",
           "#B6E880",
           "#FF97FF",
           "#FECB52"
          ],
          "font": {
           "color": "#2a3f5f"
          },
          "geo": {
           "bgcolor": "white",
           "lakecolor": "white",
           "landcolor": "#E5ECF6",
           "showlakes": true,
           "showland": true,
           "subunitcolor": "white"
          },
          "hoverlabel": {
           "align": "left"
          },
          "hovermode": "closest",
          "mapbox": {
           "style": "light"
          },
          "paper_bgcolor": "white",
          "plot_bgcolor": "#E5ECF6",
          "polar": {
           "angularaxis": {
            "gridcolor": "white",
            "linecolor": "white",
            "ticks": ""
           },
           "bgcolor": "#E5ECF6",
           "radialaxis": {
            "gridcolor": "white",
            "linecolor": "white",
            "ticks": ""
           }
          },
          "scene": {
           "xaxis": {
            "backgroundcolor": "#E5ECF6",
            "gridcolor": "white",
            "gridwidth": 2,
            "linecolor": "white",
            "showbackground": true,
            "ticks": "",
            "zerolinecolor": "white"
           },
           "yaxis": {
            "backgroundcolor": "#E5ECF6",
            "gridcolor": "white",
            "gridwidth": 2,
            "linecolor": "white",
            "showbackground": true,
            "ticks": "",
            "zerolinecolor": "white"
           },
           "zaxis": {
            "backgroundcolor": "#E5ECF6",
            "gridcolor": "white",
            "gridwidth": 2,
            "linecolor": "white",
            "showbackground": true,
            "ticks": "",
            "zerolinecolor": "white"
           }
          },
          "shapedefaults": {
           "line": {
            "color": "#2a3f5f"
           }
          },
          "ternary": {
           "aaxis": {
            "gridcolor": "white",
            "linecolor": "white",
            "ticks": ""
           },
           "baxis": {
            "gridcolor": "white",
            "linecolor": "white",
            "ticks": ""
           },
           "bgcolor": "#E5ECF6",
           "caxis": {
            "gridcolor": "white",
            "linecolor": "white",
            "ticks": ""
           }
          },
          "title": {
           "x": 0.05
          },
          "xaxis": {
           "automargin": true,
           "gridcolor": "white",
           "linecolor": "white",
           "ticks": "",
           "title": {
            "standoff": 15
           },
           "zerolinecolor": "white",
           "zerolinewidth": 2
          },
          "yaxis": {
           "automargin": true,
           "gridcolor": "white",
           "linecolor": "white",
           "ticks": "",
           "title": {
            "standoff": 15
           },
           "zerolinecolor": "white",
           "zerolinewidth": 2
          }
         }
        },
        "title": {
         "text": "Freedom and Happiness Scores in Africa"
        },
        "xaxis": {
         "title": {
          "text": "Country"
         }
        },
        "yaxis": {
         "range": [
          1,
          10
         ],
         "title": {
          "text": "Score"
         }
        }
       }
      },
      "text/html": [
       "<div>                            <div id=\"60ea4bf8-2606-4be1-894a-087885f2fe22\" class=\"plotly-graph-div\" style=\"height:525px; width:100%;\"></div>            <script type=\"text/javascript\">                require([\"plotly\"], function(Plotly) {                    window.PLOTLYENV=window.PLOTLYENV || {};                                    if (document.getElementById(\"60ea4bf8-2606-4be1-894a-087885f2fe22\")) {                    Plotly.newPlot(                        \"60ea4bf8-2606-4be1-894a-087885f2fe22\",                        [{\"marker\":{\"color\":\"blue\"},\"name\":\"Human Freedom Score\",\"x\":[\"Algeria\",\"Angola\",\"Benin\",\"Botswana\",\"Burkina Faso\",\"Burundi\",\"Cabo Verde\",\"Cameroon\",\"Central African Republic\",\"Chad\",\"Comoros\",\"Congo\",\"Ivory Coast\",\"Djibouti\",\"Egypt\",\"Eswatini\",\"Ethiopia\",\"Gabon\",\"Gambia\",\"Ghana\",\"Guinea\",\"Guinea-Bissau\",\"Kenya\",\"Lesotho\",\"Liberia\",\"Madagascar\",\"Malawi\",\"Mali\",\"Mauritania\",\"Mauritius\",\"Morocco\",\"Mozambique\",\"Namibia\",\"Niger\",\"Nigeria\",\"Rwanda\",\"Senegal\",\"Seychelles\",\"Sierra Leone\",\"Somalia\",\"South Africa\",\"Sudan\",\"Tanzania\",\"Togo\",\"Uganda\",\"Zambia\",\"Zimbabwe\"],\"y\":[5.08,5.96,7.25,7.76,6.83,4.91,8.44,5.34,5.68,5.41,5.91,5.33,6.78,5.63,4.35,5.73,5.73,6.66,6.82,7.46,5.82,6.78,6.57,7.0,6.6,6.86,6.92,6.19,5.56,8.02,5.68,6.77,7.57,6.14,6.1,6.19,6.9,7.91,6.47,4.71,7.15,4.04,6.29,6.28,6.17,6.6,5.3],\"type\":\"bar\"},{\"marker\":{\"color\":\"green\"},\"name\":\"Happiness Score\",\"x\":[\"Algeria\",\"Angola\",\"Benin\",\"Botswana\",\"Burkina Faso\",\"Burundi\",\"Cabo Verde\",\"Cameroon\",\"Central African Republic\",\"Chad\",\"Comoros\",\"Congo\",\"Ivory Coast\",\"Djibouti\",\"Egypt\",\"Eswatini\",\"Ethiopia\",\"Gabon\",\"Gambia\",\"Ghana\",\"Guinea\",\"Guinea-Bissau\",\"Kenya\",\"Lesotho\",\"Liberia\",\"Madagascar\",\"Malawi\",\"Mali\",\"Mauritania\",\"Mauritius\",\"Morocco\",\"Mozambique\",\"Namibia\",\"Niger\",\"Nigeria\",\"Rwanda\",\"Senegal\",\"Seychelles\",\"Sierra Leone\",\"Somalia\",\"South Africa\",\"Sudan\",\"Tanzania\",\"Togo\",\"Uganda\",\"Zambia\",\"Zimbabwe\"],\"y\":[5.211,null,4.883,3.488,4.587,3.775,null,5.044,3.083,4.35,3.973,null,5.718,null,4.166,4.212,4.286,4.799,4.516,4.996,4.534,null,4.509,3.802,3.975,3.933,3.41,4.39,4.49,5.888,5.208,4.466,4.639,5.265,5.265,3.334,4.681,null,4.374,4.668,4.722,null,3.231,4.085,4.189,4.107,3.663],\"type\":\"bar\"}],                        {\"template\":{\"data\":{\"histogram2dcontour\":[{\"type\":\"histogram2dcontour\",\"colorbar\":{\"outlinewidth\":0,\"ticks\":\"\"},\"colorscale\":[[0.0,\"#0d0887\"],[0.1111111111111111,\"#46039f\"],[0.2222222222222222,\"#7201a8\"],[0.3333333333333333,\"#9c179e\"],[0.4444444444444444,\"#bd3786\"],[0.5555555555555556,\"#d8576b\"],[0.6666666666666666,\"#ed7953\"],[0.7777777777777778,\"#fb9f3a\"],[0.8888888888888888,\"#fdca26\"],[1.0,\"#f0f921\"]]}],\"choropleth\":[{\"type\":\"choropleth\",\"colorbar\":{\"outlinewidth\":0,\"ticks\":\"\"}}],\"histogram2d\":[{\"type\":\"histogram2d\",\"colorbar\":{\"outlinewidth\":0,\"ticks\":\"\"},\"colorscale\":[[0.0,\"#0d0887\"],[0.1111111111111111,\"#46039f\"],[0.2222222222222222,\"#7201a8\"],[0.3333333333333333,\"#9c179e\"],[0.4444444444444444,\"#bd3786\"],[0.5555555555555556,\"#d8576b\"],[0.6666666666666666,\"#ed7953\"],[0.7777777777777778,\"#fb9f3a\"],[0.8888888888888888,\"#fdca26\"],[1.0,\"#f0f921\"]]}],\"heatmap\":[{\"type\":\"heatmap\",\"colorbar\":{\"outlinewidth\":0,\"ticks\":\"\"},\"colorscale\":[[0.0,\"#0d0887\"],[0.1111111111111111,\"#46039f\"],[0.2222222222222222,\"#7201a8\"],[0.3333333333333333,\"#9c179e\"],[0.4444444444444444,\"#bd3786\"],[0.5555555555555556,\"#d8576b\"],[0.6666666666666666,\"#ed7953\"],[0.7777777777777778,\"#fb9f3a\"],[0.8888888888888888,\"#fdca26\"],[1.0,\"#f0f921\"]]}],\"heatmapgl\":[{\"type\":\"heatmapgl\",\"colorbar\":{\"outlinewidth\":0,\"ticks\":\"\"},\"colorscale\":[[0.0,\"#0d0887\"],[0.1111111111111111,\"#46039f\"],[0.2222222222222222,\"#7201a8\"],[0.3333333333333333,\"#9c179e\"],[0.4444444444444444,\"#bd3786\"],[0.5555555555555556,\"#d8576b\"],[0.6666666666666666,\"#ed7953\"],[0.7777777777777778,\"#fb9f3a\"],[0.8888888888888888,\"#fdca26\"],[1.0,\"#f0f921\"]]}],\"contourcarpet\":[{\"type\":\"contourcarpet\",\"colorbar\":{\"outlinewidth\":0,\"ticks\":\"\"}}],\"contour\":[{\"type\":\"contour\",\"colorbar\":{\"outlinewidth\":0,\"ticks\":\"\"},\"colorscale\":[[0.0,\"#0d0887\"],[0.1111111111111111,\"#46039f\"],[0.2222222222222222,\"#7201a8\"],[0.3333333333333333,\"#9c179e\"],[0.4444444444444444,\"#bd3786\"],[0.5555555555555556,\"#d8576b\"],[0.6666666666666666,\"#ed7953\"],[0.7777777777777778,\"#fb9f3a\"],[0.8888888888888888,\"#fdca26\"],[1.0,\"#f0f921\"]]}],\"surface\":[{\"type\":\"surface\",\"colorbar\":{\"outlinewidth\":0,\"ticks\":\"\"},\"colorscale\":[[0.0,\"#0d0887\"],[0.1111111111111111,\"#46039f\"],[0.2222222222222222,\"#7201a8\"],[0.3333333333333333,\"#9c179e\"],[0.4444444444444444,\"#bd3786\"],[0.5555555555555556,\"#d8576b\"],[0.6666666666666666,\"#ed7953\"],[0.7777777777777778,\"#fb9f3a\"],[0.8888888888888888,\"#fdca26\"],[1.0,\"#f0f921\"]]}],\"mesh3d\":[{\"type\":\"mesh3d\",\"colorbar\":{\"outlinewidth\":0,\"ticks\":\"\"}}],\"scatter\":[{\"fillpattern\":{\"fillmode\":\"overlay\",\"size\":10,\"solidity\":0.2},\"type\":\"scatter\"}],\"parcoords\":[{\"type\":\"parcoords\",\"line\":{\"colorbar\":{\"outlinewidth\":0,\"ticks\":\"\"}}}],\"scatterpolargl\":[{\"type\":\"scatterpolargl\",\"marker\":{\"colorbar\":{\"outlinewidth\":0,\"ticks\":\"\"}}}],\"bar\":[{\"error_x\":{\"color\":\"#2a3f5f\"},\"error_y\":{\"color\":\"#2a3f5f\"},\"marker\":{\"line\":{\"color\":\"#E5ECF6\",\"width\":0.5},\"pattern\":{\"fillmode\":\"overlay\",\"size\":10,\"solidity\":0.2}},\"type\":\"bar\"}],\"scattergeo\":[{\"type\":\"scattergeo\",\"marker\":{\"colorbar\":{\"outlinewidth\":0,\"ticks\":\"\"}}}],\"scatterpolar\":[{\"type\":\"scatterpolar\",\"marker\":{\"colorbar\":{\"outlinewidth\":0,\"ticks\":\"\"}}}],\"histogram\":[{\"marker\":{\"pattern\":{\"fillmode\":\"overlay\",\"size\":10,\"solidity\":0.2}},\"type\":\"histogram\"}],\"scattergl\":[{\"type\":\"scattergl\",\"marker\":{\"colorbar\":{\"outlinewidth\":0,\"ticks\":\"\"}}}],\"scatter3d\":[{\"type\":\"scatter3d\",\"line\":{\"colorbar\":{\"outlinewidth\":0,\"ticks\":\"\"}},\"marker\":{\"colorbar\":{\"outlinewidth\":0,\"ticks\":\"\"}}}],\"scattermapbox\":[{\"type\":\"scattermapbox\",\"marker\":{\"colorbar\":{\"outlinewidth\":0,\"ticks\":\"\"}}}],\"scatterternary\":[{\"type\":\"scatterternary\",\"marker\":{\"colorbar\":{\"outlinewidth\":0,\"ticks\":\"\"}}}],\"scattercarpet\":[{\"type\":\"scattercarpet\",\"marker\":{\"colorbar\":{\"outlinewidth\":0,\"ticks\":\"\"}}}],\"carpet\":[{\"aaxis\":{\"endlinecolor\":\"#2a3f5f\",\"gridcolor\":\"white\",\"linecolor\":\"white\",\"minorgridcolor\":\"white\",\"startlinecolor\":\"#2a3f5f\"},\"baxis\":{\"endlinecolor\":\"#2a3f5f\",\"gridcolor\":\"white\",\"linecolor\":\"white\",\"minorgridcolor\":\"white\",\"startlinecolor\":\"#2a3f5f\"},\"type\":\"carpet\"}],\"table\":[{\"cells\":{\"fill\":{\"color\":\"#EBF0F8\"},\"line\":{\"color\":\"white\"}},\"header\":{\"fill\":{\"color\":\"#C8D4E3\"},\"line\":{\"color\":\"white\"}},\"type\":\"table\"}],\"barpolar\":[{\"marker\":{\"line\":{\"color\":\"#E5ECF6\",\"width\":0.5},\"pattern\":{\"fillmode\":\"overlay\",\"size\":10,\"solidity\":0.2}},\"type\":\"barpolar\"}],\"pie\":[{\"automargin\":true,\"type\":\"pie\"}]},\"layout\":{\"autotypenumbers\":\"strict\",\"colorway\":[\"#636efa\",\"#EF553B\",\"#00cc96\",\"#ab63fa\",\"#FFA15A\",\"#19d3f3\",\"#FF6692\",\"#B6E880\",\"#FF97FF\",\"#FECB52\"],\"font\":{\"color\":\"#2a3f5f\"},\"hovermode\":\"closest\",\"hoverlabel\":{\"align\":\"left\"},\"paper_bgcolor\":\"white\",\"plot_bgcolor\":\"#E5ECF6\",\"polar\":{\"bgcolor\":\"#E5ECF6\",\"angularaxis\":{\"gridcolor\":\"white\",\"linecolor\":\"white\",\"ticks\":\"\"},\"radialaxis\":{\"gridcolor\":\"white\",\"linecolor\":\"white\",\"ticks\":\"\"}},\"ternary\":{\"bgcolor\":\"#E5ECF6\",\"aaxis\":{\"gridcolor\":\"white\",\"linecolor\":\"white\",\"ticks\":\"\"},\"baxis\":{\"gridcolor\":\"white\",\"linecolor\":\"white\",\"ticks\":\"\"},\"caxis\":{\"gridcolor\":\"white\",\"linecolor\":\"white\",\"ticks\":\"\"}},\"coloraxis\":{\"colorbar\":{\"outlinewidth\":0,\"ticks\":\"\"}},\"colorscale\":{\"sequential\":[[0.0,\"#0d0887\"],[0.1111111111111111,\"#46039f\"],[0.2222222222222222,\"#7201a8\"],[0.3333333333333333,\"#9c179e\"],[0.4444444444444444,\"#bd3786\"],[0.5555555555555556,\"#d8576b\"],[0.6666666666666666,\"#ed7953\"],[0.7777777777777778,\"#fb9f3a\"],[0.8888888888888888,\"#fdca26\"],[1.0,\"#f0f921\"]],\"sequentialminus\":[[0.0,\"#0d0887\"],[0.1111111111111111,\"#46039f\"],[0.2222222222222222,\"#7201a8\"],[0.3333333333333333,\"#9c179e\"],[0.4444444444444444,\"#bd3786\"],[0.5555555555555556,\"#d8576b\"],[0.6666666666666666,\"#ed7953\"],[0.7777777777777778,\"#fb9f3a\"],[0.8888888888888888,\"#fdca26\"],[1.0,\"#f0f921\"]],\"diverging\":[[0,\"#8e0152\"],[0.1,\"#c51b7d\"],[0.2,\"#de77ae\"],[0.3,\"#f1b6da\"],[0.4,\"#fde0ef\"],[0.5,\"#f7f7f7\"],[0.6,\"#e6f5d0\"],[0.7,\"#b8e186\"],[0.8,\"#7fbc41\"],[0.9,\"#4d9221\"],[1,\"#276419\"]]},\"xaxis\":{\"gridcolor\":\"white\",\"linecolor\":\"white\",\"ticks\":\"\",\"title\":{\"standoff\":15},\"zerolinecolor\":\"white\",\"automargin\":true,\"zerolinewidth\":2},\"yaxis\":{\"gridcolor\":\"white\",\"linecolor\":\"white\",\"ticks\":\"\",\"title\":{\"standoff\":15},\"zerolinecolor\":\"white\",\"automargin\":true,\"zerolinewidth\":2},\"scene\":{\"xaxis\":{\"backgroundcolor\":\"#E5ECF6\",\"gridcolor\":\"white\",\"linecolor\":\"white\",\"showbackground\":true,\"ticks\":\"\",\"zerolinecolor\":\"white\",\"gridwidth\":2},\"yaxis\":{\"backgroundcolor\":\"#E5ECF6\",\"gridcolor\":\"white\",\"linecolor\":\"white\",\"showbackground\":true,\"ticks\":\"\",\"zerolinecolor\":\"white\",\"gridwidth\":2},\"zaxis\":{\"backgroundcolor\":\"#E5ECF6\",\"gridcolor\":\"white\",\"linecolor\":\"white\",\"showbackground\":true,\"ticks\":\"\",\"zerolinecolor\":\"white\",\"gridwidth\":2}},\"shapedefaults\":{\"line\":{\"color\":\"#2a3f5f\"}},\"annotationdefaults\":{\"arrowcolor\":\"#2a3f5f\",\"arrowhead\":0,\"arrowwidth\":1},\"geo\":{\"bgcolor\":\"white\",\"landcolor\":\"#E5ECF6\",\"subunitcolor\":\"white\",\"showland\":true,\"showlakes\":true,\"lakecolor\":\"white\"},\"title\":{\"x\":0.05},\"mapbox\":{\"style\":\"light\"}}},\"yaxis\":{\"title\":{\"text\":\"Score\"},\"range\":[1,10]},\"title\":{\"text\":\"Freedom and Happiness Scores in Africa\"},\"xaxis\":{\"title\":{\"text\":\"Country\"}},\"barmode\":\"group\",\"legend\":{\"title\":{\"text\":\"Metrics\"}}},                        {\"responsive\": true}                    ).then(function(){\n",
       "                            \n",
       "var gd = document.getElementById('60ea4bf8-2606-4be1-894a-087885f2fe22');\n",
       "var x = new MutationObserver(function (mutations, observer) {{\n",
       "        var display = window.getComputedStyle(gd).display;\n",
       "        if (!display || display === 'none') {{\n",
       "            console.log([gd, 'removed!']);\n",
       "            Plotly.purge(gd);\n",
       "            observer.disconnect();\n",
       "        }}\n",
       "}});\n",
       "\n",
       "// Listen for the removal of the full notebook cells\n",
       "var notebookContainer = gd.closest('#notebook-container');\n",
       "if (notebookContainer) {{\n",
       "    x.observe(notebookContainer, {childList: true});\n",
       "}}\n",
       "\n",
       "// Listen for the clearing of the current output cell\n",
       "var outputEl = gd.closest('.output');\n",
       "if (outputEl) {{\n",
       "    x.observe(outputEl, {childList: true});\n",
       "}}\n",
       "\n",
       "                        })                };                });            </script>        </div>"
      ]
     },
     "metadata": {},
     "output_type": "display_data"
    },
    {
     "data": {
      "application/vnd.plotly.v1+json": {
       "config": {
        "plotlyServerURL": "https://plot.ly"
       },
       "data": [
        {
         "marker": {
          "color": "blue"
         },
         "name": "Human Freedom Score",
         "type": "bar",
         "x": [
          "Argentina",
          "Bolivia",
          "Brazil",
          "Chile",
          "Colombia",
          "Ecuador",
          "Guyana",
          "Paraguay",
          "Peru",
          "Suriname",
          "Uruguay",
          "Venezuela"
         ],
         "y": [
          7.33,
          6.88,
          7.25,
          8.5,
          6.95,
          7.37,
          7.04,
          7.46,
          7.83,
          7.51,
          8.4,
          3.9
         ]
        },
        {
         "marker": {
          "color": "green"
         },
         "name": "Happiness Score",
         "type": "bar",
         "x": [
          "Argentina",
          "Bolivia",
          "Brazil",
          "Chile",
          "Colombia",
          "Ecuador",
          "Guyana",
          "Paraguay",
          "Peru",
          "Suriname",
          "Uruguay",
          "Venezuela"
         ],
         "y": [
          6.086,
          5.779,
          6.3,
          6.444,
          6.125,
          6.028,
          null,
          5.743,
          5.697,
          null,
          6.293,
          4.707
         ]
        }
       ],
       "layout": {
        "barmode": "group",
        "legend": {
         "title": {
          "text": "Metrics"
         }
        },
        "template": {
         "data": {
          "bar": [
           {
            "error_x": {
             "color": "#2a3f5f"
            },
            "error_y": {
             "color": "#2a3f5f"
            },
            "marker": {
             "line": {
              "color": "#E5ECF6",
              "width": 0.5
             },
             "pattern": {
              "fillmode": "overlay",
              "size": 10,
              "solidity": 0.2
             }
            },
            "type": "bar"
           }
          ],
          "barpolar": [
           {
            "marker": {
             "line": {
              "color": "#E5ECF6",
              "width": 0.5
             },
             "pattern": {
              "fillmode": "overlay",
              "size": 10,
              "solidity": 0.2
             }
            },
            "type": "barpolar"
           }
          ],
          "carpet": [
           {
            "aaxis": {
             "endlinecolor": "#2a3f5f",
             "gridcolor": "white",
             "linecolor": "white",
             "minorgridcolor": "white",
             "startlinecolor": "#2a3f5f"
            },
            "baxis": {
             "endlinecolor": "#2a3f5f",
             "gridcolor": "white",
             "linecolor": "white",
             "minorgridcolor": "white",
             "startlinecolor": "#2a3f5f"
            },
            "type": "carpet"
           }
          ],
          "choropleth": [
           {
            "colorbar": {
             "outlinewidth": 0,
             "ticks": ""
            },
            "type": "choropleth"
           }
          ],
          "contour": [
           {
            "colorbar": {
             "outlinewidth": 0,
             "ticks": ""
            },
            "colorscale": [
             [
              0,
              "#0d0887"
             ],
             [
              0.1111111111111111,
              "#46039f"
             ],
             [
              0.2222222222222222,
              "#7201a8"
             ],
             [
              0.3333333333333333,
              "#9c179e"
             ],
             [
              0.4444444444444444,
              "#bd3786"
             ],
             [
              0.5555555555555556,
              "#d8576b"
             ],
             [
              0.6666666666666666,
              "#ed7953"
             ],
             [
              0.7777777777777778,
              "#fb9f3a"
             ],
             [
              0.8888888888888888,
              "#fdca26"
             ],
             [
              1,
              "#f0f921"
             ]
            ],
            "type": "contour"
           }
          ],
          "contourcarpet": [
           {
            "colorbar": {
             "outlinewidth": 0,
             "ticks": ""
            },
            "type": "contourcarpet"
           }
          ],
          "heatmap": [
           {
            "colorbar": {
             "outlinewidth": 0,
             "ticks": ""
            },
            "colorscale": [
             [
              0,
              "#0d0887"
             ],
             [
              0.1111111111111111,
              "#46039f"
             ],
             [
              0.2222222222222222,
              "#7201a8"
             ],
             [
              0.3333333333333333,
              "#9c179e"
             ],
             [
              0.4444444444444444,
              "#bd3786"
             ],
             [
              0.5555555555555556,
              "#d8576b"
             ],
             [
              0.6666666666666666,
              "#ed7953"
             ],
             [
              0.7777777777777778,
              "#fb9f3a"
             ],
             [
              0.8888888888888888,
              "#fdca26"
             ],
             [
              1,
              "#f0f921"
             ]
            ],
            "type": "heatmap"
           }
          ],
          "heatmapgl": [
           {
            "colorbar": {
             "outlinewidth": 0,
             "ticks": ""
            },
            "colorscale": [
             [
              0,
              "#0d0887"
             ],
             [
              0.1111111111111111,
              "#46039f"
             ],
             [
              0.2222222222222222,
              "#7201a8"
             ],
             [
              0.3333333333333333,
              "#9c179e"
             ],
             [
              0.4444444444444444,
              "#bd3786"
             ],
             [
              0.5555555555555556,
              "#d8576b"
             ],
             [
              0.6666666666666666,
              "#ed7953"
             ],
             [
              0.7777777777777778,
              "#fb9f3a"
             ],
             [
              0.8888888888888888,
              "#fdca26"
             ],
             [
              1,
              "#f0f921"
             ]
            ],
            "type": "heatmapgl"
           }
          ],
          "histogram": [
           {
            "marker": {
             "pattern": {
              "fillmode": "overlay",
              "size": 10,
              "solidity": 0.2
             }
            },
            "type": "histogram"
           }
          ],
          "histogram2d": [
           {
            "colorbar": {
             "outlinewidth": 0,
             "ticks": ""
            },
            "colorscale": [
             [
              0,
              "#0d0887"
             ],
             [
              0.1111111111111111,
              "#46039f"
             ],
             [
              0.2222222222222222,
              "#7201a8"
             ],
             [
              0.3333333333333333,
              "#9c179e"
             ],
             [
              0.4444444444444444,
              "#bd3786"
             ],
             [
              0.5555555555555556,
              "#d8576b"
             ],
             [
              0.6666666666666666,
              "#ed7953"
             ],
             [
              0.7777777777777778,
              "#fb9f3a"
             ],
             [
              0.8888888888888888,
              "#fdca26"
             ],
             [
              1,
              "#f0f921"
             ]
            ],
            "type": "histogram2d"
           }
          ],
          "histogram2dcontour": [
           {
            "colorbar": {
             "outlinewidth": 0,
             "ticks": ""
            },
            "colorscale": [
             [
              0,
              "#0d0887"
             ],
             [
              0.1111111111111111,
              "#46039f"
             ],
             [
              0.2222222222222222,
              "#7201a8"
             ],
             [
              0.3333333333333333,
              "#9c179e"
             ],
             [
              0.4444444444444444,
              "#bd3786"
             ],
             [
              0.5555555555555556,
              "#d8576b"
             ],
             [
              0.6666666666666666,
              "#ed7953"
             ],
             [
              0.7777777777777778,
              "#fb9f3a"
             ],
             [
              0.8888888888888888,
              "#fdca26"
             ],
             [
              1,
              "#f0f921"
             ]
            ],
            "type": "histogram2dcontour"
           }
          ],
          "mesh3d": [
           {
            "colorbar": {
             "outlinewidth": 0,
             "ticks": ""
            },
            "type": "mesh3d"
           }
          ],
          "parcoords": [
           {
            "line": {
             "colorbar": {
              "outlinewidth": 0,
              "ticks": ""
             }
            },
            "type": "parcoords"
           }
          ],
          "pie": [
           {
            "automargin": true,
            "type": "pie"
           }
          ],
          "scatter": [
           {
            "fillpattern": {
             "fillmode": "overlay",
             "size": 10,
             "solidity": 0.2
            },
            "type": "scatter"
           }
          ],
          "scatter3d": [
           {
            "line": {
             "colorbar": {
              "outlinewidth": 0,
              "ticks": ""
             }
            },
            "marker": {
             "colorbar": {
              "outlinewidth": 0,
              "ticks": ""
             }
            },
            "type": "scatter3d"
           }
          ],
          "scattercarpet": [
           {
            "marker": {
             "colorbar": {
              "outlinewidth": 0,
              "ticks": ""
             }
            },
            "type": "scattercarpet"
           }
          ],
          "scattergeo": [
           {
            "marker": {
             "colorbar": {
              "outlinewidth": 0,
              "ticks": ""
             }
            },
            "type": "scattergeo"
           }
          ],
          "scattergl": [
           {
            "marker": {
             "colorbar": {
              "outlinewidth": 0,
              "ticks": ""
             }
            },
            "type": "scattergl"
           }
          ],
          "scattermapbox": [
           {
            "marker": {
             "colorbar": {
              "outlinewidth": 0,
              "ticks": ""
             }
            },
            "type": "scattermapbox"
           }
          ],
          "scatterpolar": [
           {
            "marker": {
             "colorbar": {
              "outlinewidth": 0,
              "ticks": ""
             }
            },
            "type": "scatterpolar"
           }
          ],
          "scatterpolargl": [
           {
            "marker": {
             "colorbar": {
              "outlinewidth": 0,
              "ticks": ""
             }
            },
            "type": "scatterpolargl"
           }
          ],
          "scatterternary": [
           {
            "marker": {
             "colorbar": {
              "outlinewidth": 0,
              "ticks": ""
             }
            },
            "type": "scatterternary"
           }
          ],
          "surface": [
           {
            "colorbar": {
             "outlinewidth": 0,
             "ticks": ""
            },
            "colorscale": [
             [
              0,
              "#0d0887"
             ],
             [
              0.1111111111111111,
              "#46039f"
             ],
             [
              0.2222222222222222,
              "#7201a8"
             ],
             [
              0.3333333333333333,
              "#9c179e"
             ],
             [
              0.4444444444444444,
              "#bd3786"
             ],
             [
              0.5555555555555556,
              "#d8576b"
             ],
             [
              0.6666666666666666,
              "#ed7953"
             ],
             [
              0.7777777777777778,
              "#fb9f3a"
             ],
             [
              0.8888888888888888,
              "#fdca26"
             ],
             [
              1,
              "#f0f921"
             ]
            ],
            "type": "surface"
           }
          ],
          "table": [
           {
            "cells": {
             "fill": {
              "color": "#EBF0F8"
             },
             "line": {
              "color": "white"
             }
            },
            "header": {
             "fill": {
              "color": "#C8D4E3"
             },
             "line": {
              "color": "white"
             }
            },
            "type": "table"
           }
          ]
         },
         "layout": {
          "annotationdefaults": {
           "arrowcolor": "#2a3f5f",
           "arrowhead": 0,
           "arrowwidth": 1
          },
          "autotypenumbers": "strict",
          "coloraxis": {
           "colorbar": {
            "outlinewidth": 0,
            "ticks": ""
           }
          },
          "colorscale": {
           "diverging": [
            [
             0,
             "#8e0152"
            ],
            [
             0.1,
             "#c51b7d"
            ],
            [
             0.2,
             "#de77ae"
            ],
            [
             0.3,
             "#f1b6da"
            ],
            [
             0.4,
             "#fde0ef"
            ],
            [
             0.5,
             "#f7f7f7"
            ],
            [
             0.6,
             "#e6f5d0"
            ],
            [
             0.7,
             "#b8e186"
            ],
            [
             0.8,
             "#7fbc41"
            ],
            [
             0.9,
             "#4d9221"
            ],
            [
             1,
             "#276419"
            ]
           ],
           "sequential": [
            [
             0,
             "#0d0887"
            ],
            [
             0.1111111111111111,
             "#46039f"
            ],
            [
             0.2222222222222222,
             "#7201a8"
            ],
            [
             0.3333333333333333,
             "#9c179e"
            ],
            [
             0.4444444444444444,
             "#bd3786"
            ],
            [
             0.5555555555555556,
             "#d8576b"
            ],
            [
             0.6666666666666666,
             "#ed7953"
            ],
            [
             0.7777777777777778,
             "#fb9f3a"
            ],
            [
             0.8888888888888888,
             "#fdca26"
            ],
            [
             1,
             "#f0f921"
            ]
           ],
           "sequentialminus": [
            [
             0,
             "#0d0887"
            ],
            [
             0.1111111111111111,
             "#46039f"
            ],
            [
             0.2222222222222222,
             "#7201a8"
            ],
            [
             0.3333333333333333,
             "#9c179e"
            ],
            [
             0.4444444444444444,
             "#bd3786"
            ],
            [
             0.5555555555555556,
             "#d8576b"
            ],
            [
             0.6666666666666666,
             "#ed7953"
            ],
            [
             0.7777777777777778,
             "#fb9f3a"
            ],
            [
             0.8888888888888888,
             "#fdca26"
            ],
            [
             1,
             "#f0f921"
            ]
           ]
          },
          "colorway": [
           "#636efa",
           "#EF553B",
           "#00cc96",
           "#ab63fa",
           "#FFA15A",
           "#19d3f3",
           "#FF6692",
           "#B6E880",
           "#FF97FF",
           "#FECB52"
          ],
          "font": {
           "color": "#2a3f5f"
          },
          "geo": {
           "bgcolor": "white",
           "lakecolor": "white",
           "landcolor": "#E5ECF6",
           "showlakes": true,
           "showland": true,
           "subunitcolor": "white"
          },
          "hoverlabel": {
           "align": "left"
          },
          "hovermode": "closest",
          "mapbox": {
           "style": "light"
          },
          "paper_bgcolor": "white",
          "plot_bgcolor": "#E5ECF6",
          "polar": {
           "angularaxis": {
            "gridcolor": "white",
            "linecolor": "white",
            "ticks": ""
           },
           "bgcolor": "#E5ECF6",
           "radialaxis": {
            "gridcolor": "white",
            "linecolor": "white",
            "ticks": ""
           }
          },
          "scene": {
           "xaxis": {
            "backgroundcolor": "#E5ECF6",
            "gridcolor": "white",
            "gridwidth": 2,
            "linecolor": "white",
            "showbackground": true,
            "ticks": "",
            "zerolinecolor": "white"
           },
           "yaxis": {
            "backgroundcolor": "#E5ECF6",
            "gridcolor": "white",
            "gridwidth": 2,
            "linecolor": "white",
            "showbackground": true,
            "ticks": "",
            "zerolinecolor": "white"
           },
           "zaxis": {
            "backgroundcolor": "#E5ECF6",
            "gridcolor": "white",
            "gridwidth": 2,
            "linecolor": "white",
            "showbackground": true,
            "ticks": "",
            "zerolinecolor": "white"
           }
          },
          "shapedefaults": {
           "line": {
            "color": "#2a3f5f"
           }
          },
          "ternary": {
           "aaxis": {
            "gridcolor": "white",
            "linecolor": "white",
            "ticks": ""
           },
           "baxis": {
            "gridcolor": "white",
            "linecolor": "white",
            "ticks": ""
           },
           "bgcolor": "#E5ECF6",
           "caxis": {
            "gridcolor": "white",
            "linecolor": "white",
            "ticks": ""
           }
          },
          "title": {
           "x": 0.05
          },
          "xaxis": {
           "automargin": true,
           "gridcolor": "white",
           "linecolor": "white",
           "ticks": "",
           "title": {
            "standoff": 15
           },
           "zerolinecolor": "white",
           "zerolinewidth": 2
          },
          "yaxis": {
           "automargin": true,
           "gridcolor": "white",
           "linecolor": "white",
           "ticks": "",
           "title": {
            "standoff": 15
           },
           "zerolinecolor": "white",
           "zerolinewidth": 2
          }
         }
        },
        "title": {
         "text": "Freedom and Happiness Scores in South America"
        },
        "xaxis": {
         "title": {
          "text": "Country"
         }
        },
        "yaxis": {
         "range": [
          1,
          10
         ],
         "title": {
          "text": "Score"
         }
        }
       }
      },
      "text/html": [
       "<div>                            <div id=\"dbeaf496-8858-4113-91fc-2be64b5f94d4\" class=\"plotly-graph-div\" style=\"height:525px; width:100%;\"></div>            <script type=\"text/javascript\">                require([\"plotly\"], function(Plotly) {                    window.PLOTLYENV=window.PLOTLYENV || {};                                    if (document.getElementById(\"dbeaf496-8858-4113-91fc-2be64b5f94d4\")) {                    Plotly.newPlot(                        \"dbeaf496-8858-4113-91fc-2be64b5f94d4\",                        [{\"marker\":{\"color\":\"blue\"},\"name\":\"Human Freedom Score\",\"x\":[\"Argentina\",\"Bolivia\",\"Brazil\",\"Chile\",\"Colombia\",\"Ecuador\",\"Guyana\",\"Paraguay\",\"Peru\",\"Suriname\",\"Uruguay\",\"Venezuela\"],\"y\":[7.33,6.88,7.25,8.5,6.95,7.37,7.04,7.46,7.83,7.51,8.4,3.9],\"type\":\"bar\"},{\"marker\":{\"color\":\"green\"},\"name\":\"Happiness Score\",\"x\":[\"Argentina\",\"Bolivia\",\"Brazil\",\"Chile\",\"Colombia\",\"Ecuador\",\"Guyana\",\"Paraguay\",\"Peru\",\"Suriname\",\"Uruguay\",\"Venezuela\"],\"y\":[6.086,5.779,6.3,6.444,6.125,6.028,null,5.743,5.697,null,6.293,4.707],\"type\":\"bar\"}],                        {\"template\":{\"data\":{\"histogram2dcontour\":[{\"type\":\"histogram2dcontour\",\"colorbar\":{\"outlinewidth\":0,\"ticks\":\"\"},\"colorscale\":[[0.0,\"#0d0887\"],[0.1111111111111111,\"#46039f\"],[0.2222222222222222,\"#7201a8\"],[0.3333333333333333,\"#9c179e\"],[0.4444444444444444,\"#bd3786\"],[0.5555555555555556,\"#d8576b\"],[0.6666666666666666,\"#ed7953\"],[0.7777777777777778,\"#fb9f3a\"],[0.8888888888888888,\"#fdca26\"],[1.0,\"#f0f921\"]]}],\"choropleth\":[{\"type\":\"choropleth\",\"colorbar\":{\"outlinewidth\":0,\"ticks\":\"\"}}],\"histogram2d\":[{\"type\":\"histogram2d\",\"colorbar\":{\"outlinewidth\":0,\"ticks\":\"\"},\"colorscale\":[[0.0,\"#0d0887\"],[0.1111111111111111,\"#46039f\"],[0.2222222222222222,\"#7201a8\"],[0.3333333333333333,\"#9c179e\"],[0.4444444444444444,\"#bd3786\"],[0.5555555555555556,\"#d8576b\"],[0.6666666666666666,\"#ed7953\"],[0.7777777777777778,\"#fb9f3a\"],[0.8888888888888888,\"#fdca26\"],[1.0,\"#f0f921\"]]}],\"heatmap\":[{\"type\":\"heatmap\",\"colorbar\":{\"outlinewidth\":0,\"ticks\":\"\"},\"colorscale\":[[0.0,\"#0d0887\"],[0.1111111111111111,\"#46039f\"],[0.2222222222222222,\"#7201a8\"],[0.3333333333333333,\"#9c179e\"],[0.4444444444444444,\"#bd3786\"],[0.5555555555555556,\"#d8576b\"],[0.6666666666666666,\"#ed7953\"],[0.7777777777777778,\"#fb9f3a\"],[0.8888888888888888,\"#fdca26\"],[1.0,\"#f0f921\"]]}],\"heatmapgl\":[{\"type\":\"heatmapgl\",\"colorbar\":{\"outlinewidth\":0,\"ticks\":\"\"},\"colorscale\":[[0.0,\"#0d0887\"],[0.1111111111111111,\"#46039f\"],[0.2222222222222222,\"#7201a8\"],[0.3333333333333333,\"#9c179e\"],[0.4444444444444444,\"#bd3786\"],[0.5555555555555556,\"#d8576b\"],[0.6666666666666666,\"#ed7953\"],[0.7777777777777778,\"#fb9f3a\"],[0.8888888888888888,\"#fdca26\"],[1.0,\"#f0f921\"]]}],\"contourcarpet\":[{\"type\":\"contourcarpet\",\"colorbar\":{\"outlinewidth\":0,\"ticks\":\"\"}}],\"contour\":[{\"type\":\"contour\",\"colorbar\":{\"outlinewidth\":0,\"ticks\":\"\"},\"colorscale\":[[0.0,\"#0d0887\"],[0.1111111111111111,\"#46039f\"],[0.2222222222222222,\"#7201a8\"],[0.3333333333333333,\"#9c179e\"],[0.4444444444444444,\"#bd3786\"],[0.5555555555555556,\"#d8576b\"],[0.6666666666666666,\"#ed7953\"],[0.7777777777777778,\"#fb9f3a\"],[0.8888888888888888,\"#fdca26\"],[1.0,\"#f0f921\"]]}],\"surface\":[{\"type\":\"surface\",\"colorbar\":{\"outlinewidth\":0,\"ticks\":\"\"},\"colorscale\":[[0.0,\"#0d0887\"],[0.1111111111111111,\"#46039f\"],[0.2222222222222222,\"#7201a8\"],[0.3333333333333333,\"#9c179e\"],[0.4444444444444444,\"#bd3786\"],[0.5555555555555556,\"#d8576b\"],[0.6666666666666666,\"#ed7953\"],[0.7777777777777778,\"#fb9f3a\"],[0.8888888888888888,\"#fdca26\"],[1.0,\"#f0f921\"]]}],\"mesh3d\":[{\"type\":\"mesh3d\",\"colorbar\":{\"outlinewidth\":0,\"ticks\":\"\"}}],\"scatter\":[{\"fillpattern\":{\"fillmode\":\"overlay\",\"size\":10,\"solidity\":0.2},\"type\":\"scatter\"}],\"parcoords\":[{\"type\":\"parcoords\",\"line\":{\"colorbar\":{\"outlinewidth\":0,\"ticks\":\"\"}}}],\"scatterpolargl\":[{\"type\":\"scatterpolargl\",\"marker\":{\"colorbar\":{\"outlinewidth\":0,\"ticks\":\"\"}}}],\"bar\":[{\"error_x\":{\"color\":\"#2a3f5f\"},\"error_y\":{\"color\":\"#2a3f5f\"},\"marker\":{\"line\":{\"color\":\"#E5ECF6\",\"width\":0.5},\"pattern\":{\"fillmode\":\"overlay\",\"size\":10,\"solidity\":0.2}},\"type\":\"bar\"}],\"scattergeo\":[{\"type\":\"scattergeo\",\"marker\":{\"colorbar\":{\"outlinewidth\":0,\"ticks\":\"\"}}}],\"scatterpolar\":[{\"type\":\"scatterpolar\",\"marker\":{\"colorbar\":{\"outlinewidth\":0,\"ticks\":\"\"}}}],\"histogram\":[{\"marker\":{\"pattern\":{\"fillmode\":\"overlay\",\"size\":10,\"solidity\":0.2}},\"type\":\"histogram\"}],\"scattergl\":[{\"type\":\"scattergl\",\"marker\":{\"colorbar\":{\"outlinewidth\":0,\"ticks\":\"\"}}}],\"scatter3d\":[{\"type\":\"scatter3d\",\"line\":{\"colorbar\":{\"outlinewidth\":0,\"ticks\":\"\"}},\"marker\":{\"colorbar\":{\"outlinewidth\":0,\"ticks\":\"\"}}}],\"scattermapbox\":[{\"type\":\"scattermapbox\",\"marker\":{\"colorbar\":{\"outlinewidth\":0,\"ticks\":\"\"}}}],\"scatterternary\":[{\"type\":\"scatterternary\",\"marker\":{\"colorbar\":{\"outlinewidth\":0,\"ticks\":\"\"}}}],\"scattercarpet\":[{\"type\":\"scattercarpet\",\"marker\":{\"colorbar\":{\"outlinewidth\":0,\"ticks\":\"\"}}}],\"carpet\":[{\"aaxis\":{\"endlinecolor\":\"#2a3f5f\",\"gridcolor\":\"white\",\"linecolor\":\"white\",\"minorgridcolor\":\"white\",\"startlinecolor\":\"#2a3f5f\"},\"baxis\":{\"endlinecolor\":\"#2a3f5f\",\"gridcolor\":\"white\",\"linecolor\":\"white\",\"minorgridcolor\":\"white\",\"startlinecolor\":\"#2a3f5f\"},\"type\":\"carpet\"}],\"table\":[{\"cells\":{\"fill\":{\"color\":\"#EBF0F8\"},\"line\":{\"color\":\"white\"}},\"header\":{\"fill\":{\"color\":\"#C8D4E3\"},\"line\":{\"color\":\"white\"}},\"type\":\"table\"}],\"barpolar\":[{\"marker\":{\"line\":{\"color\":\"#E5ECF6\",\"width\":0.5},\"pattern\":{\"fillmode\":\"overlay\",\"size\":10,\"solidity\":0.2}},\"type\":\"barpolar\"}],\"pie\":[{\"automargin\":true,\"type\":\"pie\"}]},\"layout\":{\"autotypenumbers\":\"strict\",\"colorway\":[\"#636efa\",\"#EF553B\",\"#00cc96\",\"#ab63fa\",\"#FFA15A\",\"#19d3f3\",\"#FF6692\",\"#B6E880\",\"#FF97FF\",\"#FECB52\"],\"font\":{\"color\":\"#2a3f5f\"},\"hovermode\":\"closest\",\"hoverlabel\":{\"align\":\"left\"},\"paper_bgcolor\":\"white\",\"plot_bgcolor\":\"#E5ECF6\",\"polar\":{\"bgcolor\":\"#E5ECF6\",\"angularaxis\":{\"gridcolor\":\"white\",\"linecolor\":\"white\",\"ticks\":\"\"},\"radialaxis\":{\"gridcolor\":\"white\",\"linecolor\":\"white\",\"ticks\":\"\"}},\"ternary\":{\"bgcolor\":\"#E5ECF6\",\"aaxis\":{\"gridcolor\":\"white\",\"linecolor\":\"white\",\"ticks\":\"\"},\"baxis\":{\"gridcolor\":\"white\",\"linecolor\":\"white\",\"ticks\":\"\"},\"caxis\":{\"gridcolor\":\"white\",\"linecolor\":\"white\",\"ticks\":\"\"}},\"coloraxis\":{\"colorbar\":{\"outlinewidth\":0,\"ticks\":\"\"}},\"colorscale\":{\"sequential\":[[0.0,\"#0d0887\"],[0.1111111111111111,\"#46039f\"],[0.2222222222222222,\"#7201a8\"],[0.3333333333333333,\"#9c179e\"],[0.4444444444444444,\"#bd3786\"],[0.5555555555555556,\"#d8576b\"],[0.6666666666666666,\"#ed7953\"],[0.7777777777777778,\"#fb9f3a\"],[0.8888888888888888,\"#fdca26\"],[1.0,\"#f0f921\"]],\"sequentialminus\":[[0.0,\"#0d0887\"],[0.1111111111111111,\"#46039f\"],[0.2222222222222222,\"#7201a8\"],[0.3333333333333333,\"#9c179e\"],[0.4444444444444444,\"#bd3786\"],[0.5555555555555556,\"#d8576b\"],[0.6666666666666666,\"#ed7953\"],[0.7777777777777778,\"#fb9f3a\"],[0.8888888888888888,\"#fdca26\"],[1.0,\"#f0f921\"]],\"diverging\":[[0,\"#8e0152\"],[0.1,\"#c51b7d\"],[0.2,\"#de77ae\"],[0.3,\"#f1b6da\"],[0.4,\"#fde0ef\"],[0.5,\"#f7f7f7\"],[0.6,\"#e6f5d0\"],[0.7,\"#b8e186\"],[0.8,\"#7fbc41\"],[0.9,\"#4d9221\"],[1,\"#276419\"]]},\"xaxis\":{\"gridcolor\":\"white\",\"linecolor\":\"white\",\"ticks\":\"\",\"title\":{\"standoff\":15},\"zerolinecolor\":\"white\",\"automargin\":true,\"zerolinewidth\":2},\"yaxis\":{\"gridcolor\":\"white\",\"linecolor\":\"white\",\"ticks\":\"\",\"title\":{\"standoff\":15},\"zerolinecolor\":\"white\",\"automargin\":true,\"zerolinewidth\":2},\"scene\":{\"xaxis\":{\"backgroundcolor\":\"#E5ECF6\",\"gridcolor\":\"white\",\"linecolor\":\"white\",\"showbackground\":true,\"ticks\":\"\",\"zerolinecolor\":\"white\",\"gridwidth\":2},\"yaxis\":{\"backgroundcolor\":\"#E5ECF6\",\"gridcolor\":\"white\",\"linecolor\":\"white\",\"showbackground\":true,\"ticks\":\"\",\"zerolinecolor\":\"white\",\"gridwidth\":2},\"zaxis\":{\"backgroundcolor\":\"#E5ECF6\",\"gridcolor\":\"white\",\"linecolor\":\"white\",\"showbackground\":true,\"ticks\":\"\",\"zerolinecolor\":\"white\",\"gridwidth\":2}},\"shapedefaults\":{\"line\":{\"color\":\"#2a3f5f\"}},\"annotationdefaults\":{\"arrowcolor\":\"#2a3f5f\",\"arrowhead\":0,\"arrowwidth\":1},\"geo\":{\"bgcolor\":\"white\",\"landcolor\":\"#E5ECF6\",\"subunitcolor\":\"white\",\"showland\":true,\"showlakes\":true,\"lakecolor\":\"white\"},\"title\":{\"x\":0.05},\"mapbox\":{\"style\":\"light\"}}},\"yaxis\":{\"title\":{\"text\":\"Score\"},\"range\":[1,10]},\"title\":{\"text\":\"Freedom and Happiness Scores in South America\"},\"xaxis\":{\"title\":{\"text\":\"Country\"}},\"barmode\":\"group\",\"legend\":{\"title\":{\"text\":\"Metrics\"}}},                        {\"responsive\": true}                    ).then(function(){\n",
       "                            \n",
       "var gd = document.getElementById('dbeaf496-8858-4113-91fc-2be64b5f94d4');\n",
       "var x = new MutationObserver(function (mutations, observer) {{\n",
       "        var display = window.getComputedStyle(gd).display;\n",
       "        if (!display || display === 'none') {{\n",
       "            console.log([gd, 'removed!']);\n",
       "            Plotly.purge(gd);\n",
       "            observer.disconnect();\n",
       "        }}\n",
       "}});\n",
       "\n",
       "// Listen for the removal of the full notebook cells\n",
       "var notebookContainer = gd.closest('#notebook-container');\n",
       "if (notebookContainer) {{\n",
       "    x.observe(notebookContainer, {childList: true});\n",
       "}}\n",
       "\n",
       "// Listen for the clearing of the current output cell\n",
       "var outputEl = gd.closest('.output');\n",
       "if (outputEl) {{\n",
       "    x.observe(outputEl, {childList: true});\n",
       "}}\n",
       "\n",
       "                        })                };                });            </script>        </div>"
      ]
     },
     "metadata": {},
     "output_type": "display_data"
    },
    {
     "data": {
      "application/vnd.plotly.v1+json": {
       "config": {
        "plotlyServerURL": "https://plot.ly"
       },
       "data": [
        {
         "marker": {
          "color": "blue"
         },
         "name": "Human Freedom Score",
         "type": "bar",
         "x": [
          "Armenia",
          "Azerbaijan",
          "Bahrain",
          "Bangladesh",
          "Bhutan",
          "Cambodia",
          "China",
          "Cyprus",
          "Georgia",
          "India",
          "Indonesia",
          "Iran",
          "Iraq",
          "Israel",
          "Japan",
          "Jordan",
          "Kazakhstan",
          "South Korea",
          "Kuwait",
          "Kyrgyzstan",
          "Laos",
          "Lebanon",
          "Malaysia",
          "Mongolia",
          "Myanmar",
          "Nepal",
          "Oman",
          "Pakistan",
          "Philippines",
          "Qatar",
          "Saudi Arabia",
          "Singapore",
          "Sri Lanka",
          "Tajikistan",
          "Thailand",
          "Timor-Leste",
          "Turkey",
          "United Arab Emirates",
          "Vietnam",
          "Yemen"
         ],
         "y": [
          8.32,
          6.02,
          5.43,
          5.56,
          6.68,
          6.43,
          5.27,
          8.49,
          7.85,
          6.42,
          6.98,
          4.27,
          5.12,
          7.61,
          8.75,
          6.71,
          6.63,
          8.31,
          6.2,
          7.02,
          5.68,
          6.67,
          7.08,
          7.97,
          5.4,
          7.01,
          5.77,
          5.48,
          6.69,
          5.96,
          4.77,
          7.86,
          6.47,
          5.44,
          6.75,
          7.36,
          5.63,
          5.89,
          5.74,
          3.99
         ]
        },
        {
         "marker": {
          "color": "green"
         },
         "name": "Happiness Score",
         "type": "bar",
         "x": [
          "Armenia",
          "Azerbaijan",
          "Bahrain",
          "Bangladesh",
          "Bhutan",
          "Cambodia",
          "China",
          "Cyprus",
          "Georgia",
          "India",
          "Indonesia",
          "Iran",
          "Iraq",
          "Israel",
          "Japan",
          "Jordan",
          "Kazakhstan",
          "South Korea",
          "Kuwait",
          "Kyrgyzstan",
          "Laos",
          "Lebanon",
          "Malaysia",
          "Mongolia",
          "Myanmar",
          "Nepal",
          "Oman",
          "Pakistan",
          "Philippines",
          "Qatar",
          "Saudi Arabia",
          "Singapore",
          "Sri Lanka",
          "Tajikistan",
          "Thailand",
          "Timor-Leste",
          "Turkey",
          "United Arab Emirates",
          "Vietnam",
          "Yemen"
         ],
         "y": [
          4.559,
          5.208,
          6.199,
          4.456,
          5.082,
          4.7,
          5.191,
          6.046,
          4.519,
          4.015,
          5.192,
          4.548,
          4.437,
          7.139,
          5.886,
          4.906,
          5.809,
          5.895,
          6.021,
          5.261,
          5.718,
          5.197,
          5.339,
          5.285,
          4.36,
          4.913,
          null,
          5.653,
          5.631,
          6.374,
          6.375,
          6.262,
          4.366,
          5.467,
          6.008,
          null,
          5.373,
          6.825,
          5.175,
          3.38
         ]
        }
       ],
       "layout": {
        "barmode": "group",
        "legend": {
         "title": {
          "text": "Metrics"
         }
        },
        "template": {
         "data": {
          "bar": [
           {
            "error_x": {
             "color": "#2a3f5f"
            },
            "error_y": {
             "color": "#2a3f5f"
            },
            "marker": {
             "line": {
              "color": "#E5ECF6",
              "width": 0.5
             },
             "pattern": {
              "fillmode": "overlay",
              "size": 10,
              "solidity": 0.2
             }
            },
            "type": "bar"
           }
          ],
          "barpolar": [
           {
            "marker": {
             "line": {
              "color": "#E5ECF6",
              "width": 0.5
             },
             "pattern": {
              "fillmode": "overlay",
              "size": 10,
              "solidity": 0.2
             }
            },
            "type": "barpolar"
           }
          ],
          "carpet": [
           {
            "aaxis": {
             "endlinecolor": "#2a3f5f",
             "gridcolor": "white",
             "linecolor": "white",
             "minorgridcolor": "white",
             "startlinecolor": "#2a3f5f"
            },
            "baxis": {
             "endlinecolor": "#2a3f5f",
             "gridcolor": "white",
             "linecolor": "white",
             "minorgridcolor": "white",
             "startlinecolor": "#2a3f5f"
            },
            "type": "carpet"
           }
          ],
          "choropleth": [
           {
            "colorbar": {
             "outlinewidth": 0,
             "ticks": ""
            },
            "type": "choropleth"
           }
          ],
          "contour": [
           {
            "colorbar": {
             "outlinewidth": 0,
             "ticks": ""
            },
            "colorscale": [
             [
              0,
              "#0d0887"
             ],
             [
              0.1111111111111111,
              "#46039f"
             ],
             [
              0.2222222222222222,
              "#7201a8"
             ],
             [
              0.3333333333333333,
              "#9c179e"
             ],
             [
              0.4444444444444444,
              "#bd3786"
             ],
             [
              0.5555555555555556,
              "#d8576b"
             ],
             [
              0.6666666666666666,
              "#ed7953"
             ],
             [
              0.7777777777777778,
              "#fb9f3a"
             ],
             [
              0.8888888888888888,
              "#fdca26"
             ],
             [
              1,
              "#f0f921"
             ]
            ],
            "type": "contour"
           }
          ],
          "contourcarpet": [
           {
            "colorbar": {
             "outlinewidth": 0,
             "ticks": ""
            },
            "type": "contourcarpet"
           }
          ],
          "heatmap": [
           {
            "colorbar": {
             "outlinewidth": 0,
             "ticks": ""
            },
            "colorscale": [
             [
              0,
              "#0d0887"
             ],
             [
              0.1111111111111111,
              "#46039f"
             ],
             [
              0.2222222222222222,
              "#7201a8"
             ],
             [
              0.3333333333333333,
              "#9c179e"
             ],
             [
              0.4444444444444444,
              "#bd3786"
             ],
             [
              0.5555555555555556,
              "#d8576b"
             ],
             [
              0.6666666666666666,
              "#ed7953"
             ],
             [
              0.7777777777777778,
              "#fb9f3a"
             ],
             [
              0.8888888888888888,
              "#fdca26"
             ],
             [
              1,
              "#f0f921"
             ]
            ],
            "type": "heatmap"
           }
          ],
          "heatmapgl": [
           {
            "colorbar": {
             "outlinewidth": 0,
             "ticks": ""
            },
            "colorscale": [
             [
              0,
              "#0d0887"
             ],
             [
              0.1111111111111111,
              "#46039f"
             ],
             [
              0.2222222222222222,
              "#7201a8"
             ],
             [
              0.3333333333333333,
              "#9c179e"
             ],
             [
              0.4444444444444444,
              "#bd3786"
             ],
             [
              0.5555555555555556,
              "#d8576b"
             ],
             [
              0.6666666666666666,
              "#ed7953"
             ],
             [
              0.7777777777777778,
              "#fb9f3a"
             ],
             [
              0.8888888888888888,
              "#fdca26"
             ],
             [
              1,
              "#f0f921"
             ]
            ],
            "type": "heatmapgl"
           }
          ],
          "histogram": [
           {
            "marker": {
             "pattern": {
              "fillmode": "overlay",
              "size": 10,
              "solidity": 0.2
             }
            },
            "type": "histogram"
           }
          ],
          "histogram2d": [
           {
            "colorbar": {
             "outlinewidth": 0,
             "ticks": ""
            },
            "colorscale": [
             [
              0,
              "#0d0887"
             ],
             [
              0.1111111111111111,
              "#46039f"
             ],
             [
              0.2222222222222222,
              "#7201a8"
             ],
             [
              0.3333333333333333,
              "#9c179e"
             ],
             [
              0.4444444444444444,
              "#bd3786"
             ],
             [
              0.5555555555555556,
              "#d8576b"
             ],
             [
              0.6666666666666666,
              "#ed7953"
             ],
             [
              0.7777777777777778,
              "#fb9f3a"
             ],
             [
              0.8888888888888888,
              "#fdca26"
             ],
             [
              1,
              "#f0f921"
             ]
            ],
            "type": "histogram2d"
           }
          ],
          "histogram2dcontour": [
           {
            "colorbar": {
             "outlinewidth": 0,
             "ticks": ""
            },
            "colorscale": [
             [
              0,
              "#0d0887"
             ],
             [
              0.1111111111111111,
              "#46039f"
             ],
             [
              0.2222222222222222,
              "#7201a8"
             ],
             [
              0.3333333333333333,
              "#9c179e"
             ],
             [
              0.4444444444444444,
              "#bd3786"
             ],
             [
              0.5555555555555556,
              "#d8576b"
             ],
             [
              0.6666666666666666,
              "#ed7953"
             ],
             [
              0.7777777777777778,
              "#fb9f3a"
             ],
             [
              0.8888888888888888,
              "#fdca26"
             ],
             [
              1,
              "#f0f921"
             ]
            ],
            "type": "histogram2dcontour"
           }
          ],
          "mesh3d": [
           {
            "colorbar": {
             "outlinewidth": 0,
             "ticks": ""
            },
            "type": "mesh3d"
           }
          ],
          "parcoords": [
           {
            "line": {
             "colorbar": {
              "outlinewidth": 0,
              "ticks": ""
             }
            },
            "type": "parcoords"
           }
          ],
          "pie": [
           {
            "automargin": true,
            "type": "pie"
           }
          ],
          "scatter": [
           {
            "fillpattern": {
             "fillmode": "overlay",
             "size": 10,
             "solidity": 0.2
            },
            "type": "scatter"
           }
          ],
          "scatter3d": [
           {
            "line": {
             "colorbar": {
              "outlinewidth": 0,
              "ticks": ""
             }
            },
            "marker": {
             "colorbar": {
              "outlinewidth": 0,
              "ticks": ""
             }
            },
            "type": "scatter3d"
           }
          ],
          "scattercarpet": [
           {
            "marker": {
             "colorbar": {
              "outlinewidth": 0,
              "ticks": ""
             }
            },
            "type": "scattercarpet"
           }
          ],
          "scattergeo": [
           {
            "marker": {
             "colorbar": {
              "outlinewidth": 0,
              "ticks": ""
             }
            },
            "type": "scattergeo"
           }
          ],
          "scattergl": [
           {
            "marker": {
             "colorbar": {
              "outlinewidth": 0,
              "ticks": ""
             }
            },
            "type": "scattergl"
           }
          ],
          "scattermapbox": [
           {
            "marker": {
             "colorbar": {
              "outlinewidth": 0,
              "ticks": ""
             }
            },
            "type": "scattermapbox"
           }
          ],
          "scatterpolar": [
           {
            "marker": {
             "colorbar": {
              "outlinewidth": 0,
              "ticks": ""
             }
            },
            "type": "scatterpolar"
           }
          ],
          "scatterpolargl": [
           {
            "marker": {
             "colorbar": {
              "outlinewidth": 0,
              "ticks": ""
             }
            },
            "type": "scatterpolargl"
           }
          ],
          "scatterternary": [
           {
            "marker": {
             "colorbar": {
              "outlinewidth": 0,
              "ticks": ""
             }
            },
            "type": "scatterternary"
           }
          ],
          "surface": [
           {
            "colorbar": {
             "outlinewidth": 0,
             "ticks": ""
            },
            "colorscale": [
             [
              0,
              "#0d0887"
             ],
             [
              0.1111111111111111,
              "#46039f"
             ],
             [
              0.2222222222222222,
              "#7201a8"
             ],
             [
              0.3333333333333333,
              "#9c179e"
             ],
             [
              0.4444444444444444,
              "#bd3786"
             ],
             [
              0.5555555555555556,
              "#d8576b"
             ],
             [
              0.6666666666666666,
              "#ed7953"
             ],
             [
              0.7777777777777778,
              "#fb9f3a"
             ],
             [
              0.8888888888888888,
              "#fdca26"
             ],
             [
              1,
              "#f0f921"
             ]
            ],
            "type": "surface"
           }
          ],
          "table": [
           {
            "cells": {
             "fill": {
              "color": "#EBF0F8"
             },
             "line": {
              "color": "white"
             }
            },
            "header": {
             "fill": {
              "color": "#C8D4E3"
             },
             "line": {
              "color": "white"
             }
            },
            "type": "table"
           }
          ]
         },
         "layout": {
          "annotationdefaults": {
           "arrowcolor": "#2a3f5f",
           "arrowhead": 0,
           "arrowwidth": 1
          },
          "autotypenumbers": "strict",
          "coloraxis": {
           "colorbar": {
            "outlinewidth": 0,
            "ticks": ""
           }
          },
          "colorscale": {
           "diverging": [
            [
             0,
             "#8e0152"
            ],
            [
             0.1,
             "#c51b7d"
            ],
            [
             0.2,
             "#de77ae"
            ],
            [
             0.3,
             "#f1b6da"
            ],
            [
             0.4,
             "#fde0ef"
            ],
            [
             0.5,
             "#f7f7f7"
            ],
            [
             0.6,
             "#e6f5d0"
            ],
            [
             0.7,
             "#b8e186"
            ],
            [
             0.8,
             "#7fbc41"
            ],
            [
             0.9,
             "#4d9221"
            ],
            [
             1,
             "#276419"
            ]
           ],
           "sequential": [
            [
             0,
             "#0d0887"
            ],
            [
             0.1111111111111111,
             "#46039f"
            ],
            [
             0.2222222222222222,
             "#7201a8"
            ],
            [
             0.3333333333333333,
             "#9c179e"
            ],
            [
             0.4444444444444444,
             "#bd3786"
            ],
            [
             0.5555555555555556,
             "#d8576b"
            ],
            [
             0.6666666666666666,
             "#ed7953"
            ],
            [
             0.7777777777777778,
             "#fb9f3a"
            ],
            [
             0.8888888888888888,
             "#fdca26"
            ],
            [
             1,
             "#f0f921"
            ]
           ],
           "sequentialminus": [
            [
             0,
             "#0d0887"
            ],
            [
             0.1111111111111111,
             "#46039f"
            ],
            [
             0.2222222222222222,
             "#7201a8"
            ],
            [
             0.3333333333333333,
             "#9c179e"
            ],
            [
             0.4444444444444444,
             "#bd3786"
            ],
            [
             0.5555555555555556,
             "#d8576b"
            ],
            [
             0.6666666666666666,
             "#ed7953"
            ],
            [
             0.7777777777777778,
             "#fb9f3a"
            ],
            [
             0.8888888888888888,
             "#fdca26"
            ],
            [
             1,
             "#f0f921"
            ]
           ]
          },
          "colorway": [
           "#636efa",
           "#EF553B",
           "#00cc96",
           "#ab63fa",
           "#FFA15A",
           "#19d3f3",
           "#FF6692",
           "#B6E880",
           "#FF97FF",
           "#FECB52"
          ],
          "font": {
           "color": "#2a3f5f"
          },
          "geo": {
           "bgcolor": "white",
           "lakecolor": "white",
           "landcolor": "#E5ECF6",
           "showlakes": true,
           "showland": true,
           "subunitcolor": "white"
          },
          "hoverlabel": {
           "align": "left"
          },
          "hovermode": "closest",
          "mapbox": {
           "style": "light"
          },
          "paper_bgcolor": "white",
          "plot_bgcolor": "#E5ECF6",
          "polar": {
           "angularaxis": {
            "gridcolor": "white",
            "linecolor": "white",
            "ticks": ""
           },
           "bgcolor": "#E5ECF6",
           "radialaxis": {
            "gridcolor": "white",
            "linecolor": "white",
            "ticks": ""
           }
          },
          "scene": {
           "xaxis": {
            "backgroundcolor": "#E5ECF6",
            "gridcolor": "white",
            "gridwidth": 2,
            "linecolor": "white",
            "showbackground": true,
            "ticks": "",
            "zerolinecolor": "white"
           },
           "yaxis": {
            "backgroundcolor": "#E5ECF6",
            "gridcolor": "white",
            "gridwidth": 2,
            "linecolor": "white",
            "showbackground": true,
            "ticks": "",
            "zerolinecolor": "white"
           },
           "zaxis": {
            "backgroundcolor": "#E5ECF6",
            "gridcolor": "white",
            "gridwidth": 2,
            "linecolor": "white",
            "showbackground": true,
            "ticks": "",
            "zerolinecolor": "white"
           }
          },
          "shapedefaults": {
           "line": {
            "color": "#2a3f5f"
           }
          },
          "ternary": {
           "aaxis": {
            "gridcolor": "white",
            "linecolor": "white",
            "ticks": ""
           },
           "baxis": {
            "gridcolor": "white",
            "linecolor": "white",
            "ticks": ""
           },
           "bgcolor": "#E5ECF6",
           "caxis": {
            "gridcolor": "white",
            "linecolor": "white",
            "ticks": ""
           }
          },
          "title": {
           "x": 0.05
          },
          "xaxis": {
           "automargin": true,
           "gridcolor": "white",
           "linecolor": "white",
           "ticks": "",
           "title": {
            "standoff": 15
           },
           "zerolinecolor": "white",
           "zerolinewidth": 2
          },
          "yaxis": {
           "automargin": true,
           "gridcolor": "white",
           "linecolor": "white",
           "ticks": "",
           "title": {
            "standoff": 15
           },
           "zerolinecolor": "white",
           "zerolinewidth": 2
          }
         }
        },
        "title": {
         "text": "Freedom and Happiness Scores in Asia"
        },
        "xaxis": {
         "title": {
          "text": "Country"
         }
        },
        "yaxis": {
         "range": [
          1,
          10
         ],
         "title": {
          "text": "Score"
         }
        }
       }
      },
      "text/html": [
       "<div>                            <div id=\"9f6afd16-0eec-437e-8e46-6d5102e6987d\" class=\"plotly-graph-div\" style=\"height:525px; width:100%;\"></div>            <script type=\"text/javascript\">                require([\"plotly\"], function(Plotly) {                    window.PLOTLYENV=window.PLOTLYENV || {};                                    if (document.getElementById(\"9f6afd16-0eec-437e-8e46-6d5102e6987d\")) {                    Plotly.newPlot(                        \"9f6afd16-0eec-437e-8e46-6d5102e6987d\",                        [{\"marker\":{\"color\":\"blue\"},\"name\":\"Human Freedom Score\",\"x\":[\"Armenia\",\"Azerbaijan\",\"Bahrain\",\"Bangladesh\",\"Bhutan\",\"Cambodia\",\"China\",\"Cyprus\",\"Georgia\",\"India\",\"Indonesia\",\"Iran\",\"Iraq\",\"Israel\",\"Japan\",\"Jordan\",\"Kazakhstan\",\"South Korea\",\"Kuwait\",\"Kyrgyzstan\",\"Laos\",\"Lebanon\",\"Malaysia\",\"Mongolia\",\"Myanmar\",\"Nepal\",\"Oman\",\"Pakistan\",\"Philippines\",\"Qatar\",\"Saudi Arabia\",\"Singapore\",\"Sri Lanka\",\"Tajikistan\",\"Thailand\",\"Timor-Leste\",\"Turkey\",\"United Arab Emirates\",\"Vietnam\",\"Yemen\"],\"y\":[8.32,6.02,5.43,5.56,6.68,6.43,5.27,8.49,7.85,6.42,6.98,4.27,5.12,7.61,8.75,6.71,6.63,8.31,6.2,7.02,5.68,6.67,7.08,7.97,5.4,7.01,5.77,5.48,6.69,5.96,4.77,7.86,6.47,5.44,6.75,7.36,5.63,5.89,5.74,3.99],\"type\":\"bar\"},{\"marker\":{\"color\":\"green\"},\"name\":\"Happiness Score\",\"x\":[\"Armenia\",\"Azerbaijan\",\"Bahrain\",\"Bangladesh\",\"Bhutan\",\"Cambodia\",\"China\",\"Cyprus\",\"Georgia\",\"India\",\"Indonesia\",\"Iran\",\"Iraq\",\"Israel\",\"Japan\",\"Jordan\",\"Kazakhstan\",\"South Korea\",\"Kuwait\",\"Kyrgyzstan\",\"Laos\",\"Lebanon\",\"Malaysia\",\"Mongolia\",\"Myanmar\",\"Nepal\",\"Oman\",\"Pakistan\",\"Philippines\",\"Qatar\",\"Saudi Arabia\",\"Singapore\",\"Sri Lanka\",\"Tajikistan\",\"Thailand\",\"Timor-Leste\",\"Turkey\",\"United Arab Emirates\",\"Vietnam\",\"Yemen\"],\"y\":[4.559,5.208,6.199,4.456,5.082,4.7,5.191,6.046,4.519,4.015,5.192,4.548,4.437,7.139,5.886,4.906,5.809,5.895,6.021,5.261,5.718,5.197,5.339,5.285,4.36,4.913,null,5.653,5.631,6.374,6.375,6.262,4.366,5.467,6.008,null,5.373,6.825,5.175,3.38],\"type\":\"bar\"}],                        {\"template\":{\"data\":{\"histogram2dcontour\":[{\"type\":\"histogram2dcontour\",\"colorbar\":{\"outlinewidth\":0,\"ticks\":\"\"},\"colorscale\":[[0.0,\"#0d0887\"],[0.1111111111111111,\"#46039f\"],[0.2222222222222222,\"#7201a8\"],[0.3333333333333333,\"#9c179e\"],[0.4444444444444444,\"#bd3786\"],[0.5555555555555556,\"#d8576b\"],[0.6666666666666666,\"#ed7953\"],[0.7777777777777778,\"#fb9f3a\"],[0.8888888888888888,\"#fdca26\"],[1.0,\"#f0f921\"]]}],\"choropleth\":[{\"type\":\"choropleth\",\"colorbar\":{\"outlinewidth\":0,\"ticks\":\"\"}}],\"histogram2d\":[{\"type\":\"histogram2d\",\"colorbar\":{\"outlinewidth\":0,\"ticks\":\"\"},\"colorscale\":[[0.0,\"#0d0887\"],[0.1111111111111111,\"#46039f\"],[0.2222222222222222,\"#7201a8\"],[0.3333333333333333,\"#9c179e\"],[0.4444444444444444,\"#bd3786\"],[0.5555555555555556,\"#d8576b\"],[0.6666666666666666,\"#ed7953\"],[0.7777777777777778,\"#fb9f3a\"],[0.8888888888888888,\"#fdca26\"],[1.0,\"#f0f921\"]]}],\"heatmap\":[{\"type\":\"heatmap\",\"colorbar\":{\"outlinewidth\":0,\"ticks\":\"\"},\"colorscale\":[[0.0,\"#0d0887\"],[0.1111111111111111,\"#46039f\"],[0.2222222222222222,\"#7201a8\"],[0.3333333333333333,\"#9c179e\"],[0.4444444444444444,\"#bd3786\"],[0.5555555555555556,\"#d8576b\"],[0.6666666666666666,\"#ed7953\"],[0.7777777777777778,\"#fb9f3a\"],[0.8888888888888888,\"#fdca26\"],[1.0,\"#f0f921\"]]}],\"heatmapgl\":[{\"type\":\"heatmapgl\",\"colorbar\":{\"outlinewidth\":0,\"ticks\":\"\"},\"colorscale\":[[0.0,\"#0d0887\"],[0.1111111111111111,\"#46039f\"],[0.2222222222222222,\"#7201a8\"],[0.3333333333333333,\"#9c179e\"],[0.4444444444444444,\"#bd3786\"],[0.5555555555555556,\"#d8576b\"],[0.6666666666666666,\"#ed7953\"],[0.7777777777777778,\"#fb9f3a\"],[0.8888888888888888,\"#fdca26\"],[1.0,\"#f0f921\"]]}],\"contourcarpet\":[{\"type\":\"contourcarpet\",\"colorbar\":{\"outlinewidth\":0,\"ticks\":\"\"}}],\"contour\":[{\"type\":\"contour\",\"colorbar\":{\"outlinewidth\":0,\"ticks\":\"\"},\"colorscale\":[[0.0,\"#0d0887\"],[0.1111111111111111,\"#46039f\"],[0.2222222222222222,\"#7201a8\"],[0.3333333333333333,\"#9c179e\"],[0.4444444444444444,\"#bd3786\"],[0.5555555555555556,\"#d8576b\"],[0.6666666666666666,\"#ed7953\"],[0.7777777777777778,\"#fb9f3a\"],[0.8888888888888888,\"#fdca26\"],[1.0,\"#f0f921\"]]}],\"surface\":[{\"type\":\"surface\",\"colorbar\":{\"outlinewidth\":0,\"ticks\":\"\"},\"colorscale\":[[0.0,\"#0d0887\"],[0.1111111111111111,\"#46039f\"],[0.2222222222222222,\"#7201a8\"],[0.3333333333333333,\"#9c179e\"],[0.4444444444444444,\"#bd3786\"],[0.5555555555555556,\"#d8576b\"],[0.6666666666666666,\"#ed7953\"],[0.7777777777777778,\"#fb9f3a\"],[0.8888888888888888,\"#fdca26\"],[1.0,\"#f0f921\"]]}],\"mesh3d\":[{\"type\":\"mesh3d\",\"colorbar\":{\"outlinewidth\":0,\"ticks\":\"\"}}],\"scatter\":[{\"fillpattern\":{\"fillmode\":\"overlay\",\"size\":10,\"solidity\":0.2},\"type\":\"scatter\"}],\"parcoords\":[{\"type\":\"parcoords\",\"line\":{\"colorbar\":{\"outlinewidth\":0,\"ticks\":\"\"}}}],\"scatterpolargl\":[{\"type\":\"scatterpolargl\",\"marker\":{\"colorbar\":{\"outlinewidth\":0,\"ticks\":\"\"}}}],\"bar\":[{\"error_x\":{\"color\":\"#2a3f5f\"},\"error_y\":{\"color\":\"#2a3f5f\"},\"marker\":{\"line\":{\"color\":\"#E5ECF6\",\"width\":0.5},\"pattern\":{\"fillmode\":\"overlay\",\"size\":10,\"solidity\":0.2}},\"type\":\"bar\"}],\"scattergeo\":[{\"type\":\"scattergeo\",\"marker\":{\"colorbar\":{\"outlinewidth\":0,\"ticks\":\"\"}}}],\"scatterpolar\":[{\"type\":\"scatterpolar\",\"marker\":{\"colorbar\":{\"outlinewidth\":0,\"ticks\":\"\"}}}],\"histogram\":[{\"marker\":{\"pattern\":{\"fillmode\":\"overlay\",\"size\":10,\"solidity\":0.2}},\"type\":\"histogram\"}],\"scattergl\":[{\"type\":\"scattergl\",\"marker\":{\"colorbar\":{\"outlinewidth\":0,\"ticks\":\"\"}}}],\"scatter3d\":[{\"type\":\"scatter3d\",\"line\":{\"colorbar\":{\"outlinewidth\":0,\"ticks\":\"\"}},\"marker\":{\"colorbar\":{\"outlinewidth\":0,\"ticks\":\"\"}}}],\"scattermapbox\":[{\"type\":\"scattermapbox\",\"marker\":{\"colorbar\":{\"outlinewidth\":0,\"ticks\":\"\"}}}],\"scatterternary\":[{\"type\":\"scatterternary\",\"marker\":{\"colorbar\":{\"outlinewidth\":0,\"ticks\":\"\"}}}],\"scattercarpet\":[{\"type\":\"scattercarpet\",\"marker\":{\"colorbar\":{\"outlinewidth\":0,\"ticks\":\"\"}}}],\"carpet\":[{\"aaxis\":{\"endlinecolor\":\"#2a3f5f\",\"gridcolor\":\"white\",\"linecolor\":\"white\",\"minorgridcolor\":\"white\",\"startlinecolor\":\"#2a3f5f\"},\"baxis\":{\"endlinecolor\":\"#2a3f5f\",\"gridcolor\":\"white\",\"linecolor\":\"white\",\"minorgridcolor\":\"white\",\"startlinecolor\":\"#2a3f5f\"},\"type\":\"carpet\"}],\"table\":[{\"cells\":{\"fill\":{\"color\":\"#EBF0F8\"},\"line\":{\"color\":\"white\"}},\"header\":{\"fill\":{\"color\":\"#C8D4E3\"},\"line\":{\"color\":\"white\"}},\"type\":\"table\"}],\"barpolar\":[{\"marker\":{\"line\":{\"color\":\"#E5ECF6\",\"width\":0.5},\"pattern\":{\"fillmode\":\"overlay\",\"size\":10,\"solidity\":0.2}},\"type\":\"barpolar\"}],\"pie\":[{\"automargin\":true,\"type\":\"pie\"}]},\"layout\":{\"autotypenumbers\":\"strict\",\"colorway\":[\"#636efa\",\"#EF553B\",\"#00cc96\",\"#ab63fa\",\"#FFA15A\",\"#19d3f3\",\"#FF6692\",\"#B6E880\",\"#FF97FF\",\"#FECB52\"],\"font\":{\"color\":\"#2a3f5f\"},\"hovermode\":\"closest\",\"hoverlabel\":{\"align\":\"left\"},\"paper_bgcolor\":\"white\",\"plot_bgcolor\":\"#E5ECF6\",\"polar\":{\"bgcolor\":\"#E5ECF6\",\"angularaxis\":{\"gridcolor\":\"white\",\"linecolor\":\"white\",\"ticks\":\"\"},\"radialaxis\":{\"gridcolor\":\"white\",\"linecolor\":\"white\",\"ticks\":\"\"}},\"ternary\":{\"bgcolor\":\"#E5ECF6\",\"aaxis\":{\"gridcolor\":\"white\",\"linecolor\":\"white\",\"ticks\":\"\"},\"baxis\":{\"gridcolor\":\"white\",\"linecolor\":\"white\",\"ticks\":\"\"},\"caxis\":{\"gridcolor\":\"white\",\"linecolor\":\"white\",\"ticks\":\"\"}},\"coloraxis\":{\"colorbar\":{\"outlinewidth\":0,\"ticks\":\"\"}},\"colorscale\":{\"sequential\":[[0.0,\"#0d0887\"],[0.1111111111111111,\"#46039f\"],[0.2222222222222222,\"#7201a8\"],[0.3333333333333333,\"#9c179e\"],[0.4444444444444444,\"#bd3786\"],[0.5555555555555556,\"#d8576b\"],[0.6666666666666666,\"#ed7953\"],[0.7777777777777778,\"#fb9f3a\"],[0.8888888888888888,\"#fdca26\"],[1.0,\"#f0f921\"]],\"sequentialminus\":[[0.0,\"#0d0887\"],[0.1111111111111111,\"#46039f\"],[0.2222222222222222,\"#7201a8\"],[0.3333333333333333,\"#9c179e\"],[0.4444444444444444,\"#bd3786\"],[0.5555555555555556,\"#d8576b\"],[0.6666666666666666,\"#ed7953\"],[0.7777777777777778,\"#fb9f3a\"],[0.8888888888888888,\"#fdca26\"],[1.0,\"#f0f921\"]],\"diverging\":[[0,\"#8e0152\"],[0.1,\"#c51b7d\"],[0.2,\"#de77ae\"],[0.3,\"#f1b6da\"],[0.4,\"#fde0ef\"],[0.5,\"#f7f7f7\"],[0.6,\"#e6f5d0\"],[0.7,\"#b8e186\"],[0.8,\"#7fbc41\"],[0.9,\"#4d9221\"],[1,\"#276419\"]]},\"xaxis\":{\"gridcolor\":\"white\",\"linecolor\":\"white\",\"ticks\":\"\",\"title\":{\"standoff\":15},\"zerolinecolor\":\"white\",\"automargin\":true,\"zerolinewidth\":2},\"yaxis\":{\"gridcolor\":\"white\",\"linecolor\":\"white\",\"ticks\":\"\",\"title\":{\"standoff\":15},\"zerolinecolor\":\"white\",\"automargin\":true,\"zerolinewidth\":2},\"scene\":{\"xaxis\":{\"backgroundcolor\":\"#E5ECF6\",\"gridcolor\":\"white\",\"linecolor\":\"white\",\"showbackground\":true,\"ticks\":\"\",\"zerolinecolor\":\"white\",\"gridwidth\":2},\"yaxis\":{\"backgroundcolor\":\"#E5ECF6\",\"gridcolor\":\"white\",\"linecolor\":\"white\",\"showbackground\":true,\"ticks\":\"\",\"zerolinecolor\":\"white\",\"gridwidth\":2},\"zaxis\":{\"backgroundcolor\":\"#E5ECF6\",\"gridcolor\":\"white\",\"linecolor\":\"white\",\"showbackground\":true,\"ticks\":\"\",\"zerolinecolor\":\"white\",\"gridwidth\":2}},\"shapedefaults\":{\"line\":{\"color\":\"#2a3f5f\"}},\"annotationdefaults\":{\"arrowcolor\":\"#2a3f5f\",\"arrowhead\":0,\"arrowwidth\":1},\"geo\":{\"bgcolor\":\"white\",\"landcolor\":\"#E5ECF6\",\"subunitcolor\":\"white\",\"showland\":true,\"showlakes\":true,\"lakecolor\":\"white\"},\"title\":{\"x\":0.05},\"mapbox\":{\"style\":\"light\"}}},\"yaxis\":{\"title\":{\"text\":\"Score\"},\"range\":[1,10]},\"title\":{\"text\":\"Freedom and Happiness Scores in Asia\"},\"xaxis\":{\"title\":{\"text\":\"Country\"}},\"barmode\":\"group\",\"legend\":{\"title\":{\"text\":\"Metrics\"}}},                        {\"responsive\": true}                    ).then(function(){\n",
       "                            \n",
       "var gd = document.getElementById('9f6afd16-0eec-437e-8e46-6d5102e6987d');\n",
       "var x = new MutationObserver(function (mutations, observer) {{\n",
       "        var display = window.getComputedStyle(gd).display;\n",
       "        if (!display || display === 'none') {{\n",
       "            console.log([gd, 'removed!']);\n",
       "            Plotly.purge(gd);\n",
       "            observer.disconnect();\n",
       "        }}\n",
       "}});\n",
       "\n",
       "// Listen for the removal of the full notebook cells\n",
       "var notebookContainer = gd.closest('#notebook-container');\n",
       "if (notebookContainer) {{\n",
       "    x.observe(notebookContainer, {childList: true});\n",
       "}}\n",
       "\n",
       "// Listen for the clearing of the current output cell\n",
       "var outputEl = gd.closest('.output');\n",
       "if (outputEl) {{\n",
       "    x.observe(outputEl, {childList: true});\n",
       "}}\n",
       "\n",
       "                        })                };                });            </script>        </div>"
      ]
     },
     "metadata": {},
     "output_type": "display_data"
    },
    {
     "data": {
      "application/vnd.plotly.v1+json": {
       "config": {
        "plotlyServerURL": "https://plot.ly"
       },
       "data": [
        {
         "marker": {
          "color": "blue"
         },
         "name": "Human Freedom Score",
         "type": "bar",
         "x": [
          "Australia",
          "Fiji",
          "New Zealand",
          "Papua New Guinea"
         ],
         "y": [
          8.83,
          7.35,
          9.04,
          7.17
         ]
        },
        {
         "marker": {
          "color": "green"
         },
         "name": "Happiness Score",
         "type": "bar",
         "x": [
          "Australia",
          "Fiji",
          "New Zealand",
          "Papua New Guinea"
         ],
         "y": [
          7.228,
          null,
          7.307,
          null
         ]
        }
       ],
       "layout": {
        "barmode": "group",
        "legend": {
         "title": {
          "text": "Metrics"
         }
        },
        "template": {
         "data": {
          "bar": [
           {
            "error_x": {
             "color": "#2a3f5f"
            },
            "error_y": {
             "color": "#2a3f5f"
            },
            "marker": {
             "line": {
              "color": "#E5ECF6",
              "width": 0.5
             },
             "pattern": {
              "fillmode": "overlay",
              "size": 10,
              "solidity": 0.2
             }
            },
            "type": "bar"
           }
          ],
          "barpolar": [
           {
            "marker": {
             "line": {
              "color": "#E5ECF6",
              "width": 0.5
             },
             "pattern": {
              "fillmode": "overlay",
              "size": 10,
              "solidity": 0.2
             }
            },
            "type": "barpolar"
           }
          ],
          "carpet": [
           {
            "aaxis": {
             "endlinecolor": "#2a3f5f",
             "gridcolor": "white",
             "linecolor": "white",
             "minorgridcolor": "white",
             "startlinecolor": "#2a3f5f"
            },
            "baxis": {
             "endlinecolor": "#2a3f5f",
             "gridcolor": "white",
             "linecolor": "white",
             "minorgridcolor": "white",
             "startlinecolor": "#2a3f5f"
            },
            "type": "carpet"
           }
          ],
          "choropleth": [
           {
            "colorbar": {
             "outlinewidth": 0,
             "ticks": ""
            },
            "type": "choropleth"
           }
          ],
          "contour": [
           {
            "colorbar": {
             "outlinewidth": 0,
             "ticks": ""
            },
            "colorscale": [
             [
              0,
              "#0d0887"
             ],
             [
              0.1111111111111111,
              "#46039f"
             ],
             [
              0.2222222222222222,
              "#7201a8"
             ],
             [
              0.3333333333333333,
              "#9c179e"
             ],
             [
              0.4444444444444444,
              "#bd3786"
             ],
             [
              0.5555555555555556,
              "#d8576b"
             ],
             [
              0.6666666666666666,
              "#ed7953"
             ],
             [
              0.7777777777777778,
              "#fb9f3a"
             ],
             [
              0.8888888888888888,
              "#fdca26"
             ],
             [
              1,
              "#f0f921"
             ]
            ],
            "type": "contour"
           }
          ],
          "contourcarpet": [
           {
            "colorbar": {
             "outlinewidth": 0,
             "ticks": ""
            },
            "type": "contourcarpet"
           }
          ],
          "heatmap": [
           {
            "colorbar": {
             "outlinewidth": 0,
             "ticks": ""
            },
            "colorscale": [
             [
              0,
              "#0d0887"
             ],
             [
              0.1111111111111111,
              "#46039f"
             ],
             [
              0.2222222222222222,
              "#7201a8"
             ],
             [
              0.3333333333333333,
              "#9c179e"
             ],
             [
              0.4444444444444444,
              "#bd3786"
             ],
             [
              0.5555555555555556,
              "#d8576b"
             ],
             [
              0.6666666666666666,
              "#ed7953"
             ],
             [
              0.7777777777777778,
              "#fb9f3a"
             ],
             [
              0.8888888888888888,
              "#fdca26"
             ],
             [
              1,
              "#f0f921"
             ]
            ],
            "type": "heatmap"
           }
          ],
          "heatmapgl": [
           {
            "colorbar": {
             "outlinewidth": 0,
             "ticks": ""
            },
            "colorscale": [
             [
              0,
              "#0d0887"
             ],
             [
              0.1111111111111111,
              "#46039f"
             ],
             [
              0.2222222222222222,
              "#7201a8"
             ],
             [
              0.3333333333333333,
              "#9c179e"
             ],
             [
              0.4444444444444444,
              "#bd3786"
             ],
             [
              0.5555555555555556,
              "#d8576b"
             ],
             [
              0.6666666666666666,
              "#ed7953"
             ],
             [
              0.7777777777777778,
              "#fb9f3a"
             ],
             [
              0.8888888888888888,
              "#fdca26"
             ],
             [
              1,
              "#f0f921"
             ]
            ],
            "type": "heatmapgl"
           }
          ],
          "histogram": [
           {
            "marker": {
             "pattern": {
              "fillmode": "overlay",
              "size": 10,
              "solidity": 0.2
             }
            },
            "type": "histogram"
           }
          ],
          "histogram2d": [
           {
            "colorbar": {
             "outlinewidth": 0,
             "ticks": ""
            },
            "colorscale": [
             [
              0,
              "#0d0887"
             ],
             [
              0.1111111111111111,
              "#46039f"
             ],
             [
              0.2222222222222222,
              "#7201a8"
             ],
             [
              0.3333333333333333,
              "#9c179e"
             ],
             [
              0.4444444444444444,
              "#bd3786"
             ],
             [
              0.5555555555555556,
              "#d8576b"
             ],
             [
              0.6666666666666666,
              "#ed7953"
             ],
             [
              0.7777777777777778,
              "#fb9f3a"
             ],
             [
              0.8888888888888888,
              "#fdca26"
             ],
             [
              1,
              "#f0f921"
             ]
            ],
            "type": "histogram2d"
           }
          ],
          "histogram2dcontour": [
           {
            "colorbar": {
             "outlinewidth": 0,
             "ticks": ""
            },
            "colorscale": [
             [
              0,
              "#0d0887"
             ],
             [
              0.1111111111111111,
              "#46039f"
             ],
             [
              0.2222222222222222,
              "#7201a8"
             ],
             [
              0.3333333333333333,
              "#9c179e"
             ],
             [
              0.4444444444444444,
              "#bd3786"
             ],
             [
              0.5555555555555556,
              "#d8576b"
             ],
             [
              0.6666666666666666,
              "#ed7953"
             ],
             [
              0.7777777777777778,
              "#fb9f3a"
             ],
             [
              0.8888888888888888,
              "#fdca26"
             ],
             [
              1,
              "#f0f921"
             ]
            ],
            "type": "histogram2dcontour"
           }
          ],
          "mesh3d": [
           {
            "colorbar": {
             "outlinewidth": 0,
             "ticks": ""
            },
            "type": "mesh3d"
           }
          ],
          "parcoords": [
           {
            "line": {
             "colorbar": {
              "outlinewidth": 0,
              "ticks": ""
             }
            },
            "type": "parcoords"
           }
          ],
          "pie": [
           {
            "automargin": true,
            "type": "pie"
           }
          ],
          "scatter": [
           {
            "fillpattern": {
             "fillmode": "overlay",
             "size": 10,
             "solidity": 0.2
            },
            "type": "scatter"
           }
          ],
          "scatter3d": [
           {
            "line": {
             "colorbar": {
              "outlinewidth": 0,
              "ticks": ""
             }
            },
            "marker": {
             "colorbar": {
              "outlinewidth": 0,
              "ticks": ""
             }
            },
            "type": "scatter3d"
           }
          ],
          "scattercarpet": [
           {
            "marker": {
             "colorbar": {
              "outlinewidth": 0,
              "ticks": ""
             }
            },
            "type": "scattercarpet"
           }
          ],
          "scattergeo": [
           {
            "marker": {
             "colorbar": {
              "outlinewidth": 0,
              "ticks": ""
             }
            },
            "type": "scattergeo"
           }
          ],
          "scattergl": [
           {
            "marker": {
             "colorbar": {
              "outlinewidth": 0,
              "ticks": ""
             }
            },
            "type": "scattergl"
           }
          ],
          "scattermapbox": [
           {
            "marker": {
             "colorbar": {
              "outlinewidth": 0,
              "ticks": ""
             }
            },
            "type": "scattermapbox"
           }
          ],
          "scatterpolar": [
           {
            "marker": {
             "colorbar": {
              "outlinewidth": 0,
              "ticks": ""
             }
            },
            "type": "scatterpolar"
           }
          ],
          "scatterpolargl": [
           {
            "marker": {
             "colorbar": {
              "outlinewidth": 0,
              "ticks": ""
             }
            },
            "type": "scatterpolargl"
           }
          ],
          "scatterternary": [
           {
            "marker": {
             "colorbar": {
              "outlinewidth": 0,
              "ticks": ""
             }
            },
            "type": "scatterternary"
           }
          ],
          "surface": [
           {
            "colorbar": {
             "outlinewidth": 0,
             "ticks": ""
            },
            "colorscale": [
             [
              0,
              "#0d0887"
             ],
             [
              0.1111111111111111,
              "#46039f"
             ],
             [
              0.2222222222222222,
              "#7201a8"
             ],
             [
              0.3333333333333333,
              "#9c179e"
             ],
             [
              0.4444444444444444,
              "#bd3786"
             ],
             [
              0.5555555555555556,
              "#d8576b"
             ],
             [
              0.6666666666666666,
              "#ed7953"
             ],
             [
              0.7777777777777778,
              "#fb9f3a"
             ],
             [
              0.8888888888888888,
              "#fdca26"
             ],
             [
              1,
              "#f0f921"
             ]
            ],
            "type": "surface"
           }
          ],
          "table": [
           {
            "cells": {
             "fill": {
              "color": "#EBF0F8"
             },
             "line": {
              "color": "white"
             }
            },
            "header": {
             "fill": {
              "color": "#C8D4E3"
             },
             "line": {
              "color": "white"
             }
            },
            "type": "table"
           }
          ]
         },
         "layout": {
          "annotationdefaults": {
           "arrowcolor": "#2a3f5f",
           "arrowhead": 0,
           "arrowwidth": 1
          },
          "autotypenumbers": "strict",
          "coloraxis": {
           "colorbar": {
            "outlinewidth": 0,
            "ticks": ""
           }
          },
          "colorscale": {
           "diverging": [
            [
             0,
             "#8e0152"
            ],
            [
             0.1,
             "#c51b7d"
            ],
            [
             0.2,
             "#de77ae"
            ],
            [
             0.3,
             "#f1b6da"
            ],
            [
             0.4,
             "#fde0ef"
            ],
            [
             0.5,
             "#f7f7f7"
            ],
            [
             0.6,
             "#e6f5d0"
            ],
            [
             0.7,
             "#b8e186"
            ],
            [
             0.8,
             "#7fbc41"
            ],
            [
             0.9,
             "#4d9221"
            ],
            [
             1,
             "#276419"
            ]
           ],
           "sequential": [
            [
             0,
             "#0d0887"
            ],
            [
             0.1111111111111111,
             "#46039f"
            ],
            [
             0.2222222222222222,
             "#7201a8"
            ],
            [
             0.3333333333333333,
             "#9c179e"
            ],
            [
             0.4444444444444444,
             "#bd3786"
            ],
            [
             0.5555555555555556,
             "#d8576b"
            ],
            [
             0.6666666666666666,
             "#ed7953"
            ],
            [
             0.7777777777777778,
             "#fb9f3a"
            ],
            [
             0.8888888888888888,
             "#fdca26"
            ],
            [
             1,
             "#f0f921"
            ]
           ],
           "sequentialminus": [
            [
             0,
             "#0d0887"
            ],
            [
             0.1111111111111111,
             "#46039f"
            ],
            [
             0.2222222222222222,
             "#7201a8"
            ],
            [
             0.3333333333333333,
             "#9c179e"
            ],
            [
             0.4444444444444444,
             "#bd3786"
            ],
            [
             0.5555555555555556,
             "#d8576b"
            ],
            [
             0.6666666666666666,
             "#ed7953"
            ],
            [
             0.7777777777777778,
             "#fb9f3a"
            ],
            [
             0.8888888888888888,
             "#fdca26"
            ],
            [
             1,
             "#f0f921"
            ]
           ]
          },
          "colorway": [
           "#636efa",
           "#EF553B",
           "#00cc96",
           "#ab63fa",
           "#FFA15A",
           "#19d3f3",
           "#FF6692",
           "#B6E880",
           "#FF97FF",
           "#FECB52"
          ],
          "font": {
           "color": "#2a3f5f"
          },
          "geo": {
           "bgcolor": "white",
           "lakecolor": "white",
           "landcolor": "#E5ECF6",
           "showlakes": true,
           "showland": true,
           "subunitcolor": "white"
          },
          "hoverlabel": {
           "align": "left"
          },
          "hovermode": "closest",
          "mapbox": {
           "style": "light"
          },
          "paper_bgcolor": "white",
          "plot_bgcolor": "#E5ECF6",
          "polar": {
           "angularaxis": {
            "gridcolor": "white",
            "linecolor": "white",
            "ticks": ""
           },
           "bgcolor": "#E5ECF6",
           "radialaxis": {
            "gridcolor": "white",
            "linecolor": "white",
            "ticks": ""
           }
          },
          "scene": {
           "xaxis": {
            "backgroundcolor": "#E5ECF6",
            "gridcolor": "white",
            "gridwidth": 2,
            "linecolor": "white",
            "showbackground": true,
            "ticks": "",
            "zerolinecolor": "white"
           },
           "yaxis": {
            "backgroundcolor": "#E5ECF6",
            "gridcolor": "white",
            "gridwidth": 2,
            "linecolor": "white",
            "showbackground": true,
            "ticks": "",
            "zerolinecolor": "white"
           },
           "zaxis": {
            "backgroundcolor": "#E5ECF6",
            "gridcolor": "white",
            "gridwidth": 2,
            "linecolor": "white",
            "showbackground": true,
            "ticks": "",
            "zerolinecolor": "white"
           }
          },
          "shapedefaults": {
           "line": {
            "color": "#2a3f5f"
           }
          },
          "ternary": {
           "aaxis": {
            "gridcolor": "white",
            "linecolor": "white",
            "ticks": ""
           },
           "baxis": {
            "gridcolor": "white",
            "linecolor": "white",
            "ticks": ""
           },
           "bgcolor": "#E5ECF6",
           "caxis": {
            "gridcolor": "white",
            "linecolor": "white",
            "ticks": ""
           }
          },
          "title": {
           "x": 0.05
          },
          "xaxis": {
           "automargin": true,
           "gridcolor": "white",
           "linecolor": "white",
           "ticks": "",
           "title": {
            "standoff": 15
           },
           "zerolinecolor": "white",
           "zerolinewidth": 2
          },
          "yaxis": {
           "automargin": true,
           "gridcolor": "white",
           "linecolor": "white",
           "ticks": "",
           "title": {
            "standoff": 15
           },
           "zerolinecolor": "white",
           "zerolinewidth": 2
          }
         }
        },
        "title": {
         "text": "Freedom and Happiness Scores in Oceania"
        },
        "xaxis": {
         "title": {
          "text": "Country"
         }
        },
        "yaxis": {
         "range": [
          1,
          10
         ],
         "title": {
          "text": "Score"
         }
        }
       }
      },
      "text/html": [
       "<div>                            <div id=\"17bd05e3-b55f-4b00-9ece-5d2c1792edca\" class=\"plotly-graph-div\" style=\"height:525px; width:100%;\"></div>            <script type=\"text/javascript\">                require([\"plotly\"], function(Plotly) {                    window.PLOTLYENV=window.PLOTLYENV || {};                                    if (document.getElementById(\"17bd05e3-b55f-4b00-9ece-5d2c1792edca\")) {                    Plotly.newPlot(                        \"17bd05e3-b55f-4b00-9ece-5d2c1792edca\",                        [{\"marker\":{\"color\":\"blue\"},\"name\":\"Human Freedom Score\",\"x\":[\"Australia\",\"Fiji\",\"New Zealand\",\"Papua New Guinea\"],\"y\":[8.83,7.35,9.04,7.17],\"type\":\"bar\"},{\"marker\":{\"color\":\"green\"},\"name\":\"Happiness Score\",\"x\":[\"Australia\",\"Fiji\",\"New Zealand\",\"Papua New Guinea\"],\"y\":[7.228,null,7.307,null],\"type\":\"bar\"}],                        {\"template\":{\"data\":{\"histogram2dcontour\":[{\"type\":\"histogram2dcontour\",\"colorbar\":{\"outlinewidth\":0,\"ticks\":\"\"},\"colorscale\":[[0.0,\"#0d0887\"],[0.1111111111111111,\"#46039f\"],[0.2222222222222222,\"#7201a8\"],[0.3333333333333333,\"#9c179e\"],[0.4444444444444444,\"#bd3786\"],[0.5555555555555556,\"#d8576b\"],[0.6666666666666666,\"#ed7953\"],[0.7777777777777778,\"#fb9f3a\"],[0.8888888888888888,\"#fdca26\"],[1.0,\"#f0f921\"]]}],\"choropleth\":[{\"type\":\"choropleth\",\"colorbar\":{\"outlinewidth\":0,\"ticks\":\"\"}}],\"histogram2d\":[{\"type\":\"histogram2d\",\"colorbar\":{\"outlinewidth\":0,\"ticks\":\"\"},\"colorscale\":[[0.0,\"#0d0887\"],[0.1111111111111111,\"#46039f\"],[0.2222222222222222,\"#7201a8\"],[0.3333333333333333,\"#9c179e\"],[0.4444444444444444,\"#bd3786\"],[0.5555555555555556,\"#d8576b\"],[0.6666666666666666,\"#ed7953\"],[0.7777777777777778,\"#fb9f3a\"],[0.8888888888888888,\"#fdca26\"],[1.0,\"#f0f921\"]]}],\"heatmap\":[{\"type\":\"heatmap\",\"colorbar\":{\"outlinewidth\":0,\"ticks\":\"\"},\"colorscale\":[[0.0,\"#0d0887\"],[0.1111111111111111,\"#46039f\"],[0.2222222222222222,\"#7201a8\"],[0.3333333333333333,\"#9c179e\"],[0.4444444444444444,\"#bd3786\"],[0.5555555555555556,\"#d8576b\"],[0.6666666666666666,\"#ed7953\"],[0.7777777777777778,\"#fb9f3a\"],[0.8888888888888888,\"#fdca26\"],[1.0,\"#f0f921\"]]}],\"heatmapgl\":[{\"type\":\"heatmapgl\",\"colorbar\":{\"outlinewidth\":0,\"ticks\":\"\"},\"colorscale\":[[0.0,\"#0d0887\"],[0.1111111111111111,\"#46039f\"],[0.2222222222222222,\"#7201a8\"],[0.3333333333333333,\"#9c179e\"],[0.4444444444444444,\"#bd3786\"],[0.5555555555555556,\"#d8576b\"],[0.6666666666666666,\"#ed7953\"],[0.7777777777777778,\"#fb9f3a\"],[0.8888888888888888,\"#fdca26\"],[1.0,\"#f0f921\"]]}],\"contourcarpet\":[{\"type\":\"contourcarpet\",\"colorbar\":{\"outlinewidth\":0,\"ticks\":\"\"}}],\"contour\":[{\"type\":\"contour\",\"colorbar\":{\"outlinewidth\":0,\"ticks\":\"\"},\"colorscale\":[[0.0,\"#0d0887\"],[0.1111111111111111,\"#46039f\"],[0.2222222222222222,\"#7201a8\"],[0.3333333333333333,\"#9c179e\"],[0.4444444444444444,\"#bd3786\"],[0.5555555555555556,\"#d8576b\"],[0.6666666666666666,\"#ed7953\"],[0.7777777777777778,\"#fb9f3a\"],[0.8888888888888888,\"#fdca26\"],[1.0,\"#f0f921\"]]}],\"surface\":[{\"type\":\"surface\",\"colorbar\":{\"outlinewidth\":0,\"ticks\":\"\"},\"colorscale\":[[0.0,\"#0d0887\"],[0.1111111111111111,\"#46039f\"],[0.2222222222222222,\"#7201a8\"],[0.3333333333333333,\"#9c179e\"],[0.4444444444444444,\"#bd3786\"],[0.5555555555555556,\"#d8576b\"],[0.6666666666666666,\"#ed7953\"],[0.7777777777777778,\"#fb9f3a\"],[0.8888888888888888,\"#fdca26\"],[1.0,\"#f0f921\"]]}],\"mesh3d\":[{\"type\":\"mesh3d\",\"colorbar\":{\"outlinewidth\":0,\"ticks\":\"\"}}],\"scatter\":[{\"fillpattern\":{\"fillmode\":\"overlay\",\"size\":10,\"solidity\":0.2},\"type\":\"scatter\"}],\"parcoords\":[{\"type\":\"parcoords\",\"line\":{\"colorbar\":{\"outlinewidth\":0,\"ticks\":\"\"}}}],\"scatterpolargl\":[{\"type\":\"scatterpolargl\",\"marker\":{\"colorbar\":{\"outlinewidth\":0,\"ticks\":\"\"}}}],\"bar\":[{\"error_x\":{\"color\":\"#2a3f5f\"},\"error_y\":{\"color\":\"#2a3f5f\"},\"marker\":{\"line\":{\"color\":\"#E5ECF6\",\"width\":0.5},\"pattern\":{\"fillmode\":\"overlay\",\"size\":10,\"solidity\":0.2}},\"type\":\"bar\"}],\"scattergeo\":[{\"type\":\"scattergeo\",\"marker\":{\"colorbar\":{\"outlinewidth\":0,\"ticks\":\"\"}}}],\"scatterpolar\":[{\"type\":\"scatterpolar\",\"marker\":{\"colorbar\":{\"outlinewidth\":0,\"ticks\":\"\"}}}],\"histogram\":[{\"marker\":{\"pattern\":{\"fillmode\":\"overlay\",\"size\":10,\"solidity\":0.2}},\"type\":\"histogram\"}],\"scattergl\":[{\"type\":\"scattergl\",\"marker\":{\"colorbar\":{\"outlinewidth\":0,\"ticks\":\"\"}}}],\"scatter3d\":[{\"type\":\"scatter3d\",\"line\":{\"colorbar\":{\"outlinewidth\":0,\"ticks\":\"\"}},\"marker\":{\"colorbar\":{\"outlinewidth\":0,\"ticks\":\"\"}}}],\"scattermapbox\":[{\"type\":\"scattermapbox\",\"marker\":{\"colorbar\":{\"outlinewidth\":0,\"ticks\":\"\"}}}],\"scatterternary\":[{\"type\":\"scatterternary\",\"marker\":{\"colorbar\":{\"outlinewidth\":0,\"ticks\":\"\"}}}],\"scattercarpet\":[{\"type\":\"scattercarpet\",\"marker\":{\"colorbar\":{\"outlinewidth\":0,\"ticks\":\"\"}}}],\"carpet\":[{\"aaxis\":{\"endlinecolor\":\"#2a3f5f\",\"gridcolor\":\"white\",\"linecolor\":\"white\",\"minorgridcolor\":\"white\",\"startlinecolor\":\"#2a3f5f\"},\"baxis\":{\"endlinecolor\":\"#2a3f5f\",\"gridcolor\":\"white\",\"linecolor\":\"white\",\"minorgridcolor\":\"white\",\"startlinecolor\":\"#2a3f5f\"},\"type\":\"carpet\"}],\"table\":[{\"cells\":{\"fill\":{\"color\":\"#EBF0F8\"},\"line\":{\"color\":\"white\"}},\"header\":{\"fill\":{\"color\":\"#C8D4E3\"},\"line\":{\"color\":\"white\"}},\"type\":\"table\"}],\"barpolar\":[{\"marker\":{\"line\":{\"color\":\"#E5ECF6\",\"width\":0.5},\"pattern\":{\"fillmode\":\"overlay\",\"size\":10,\"solidity\":0.2}},\"type\":\"barpolar\"}],\"pie\":[{\"automargin\":true,\"type\":\"pie\"}]},\"layout\":{\"autotypenumbers\":\"strict\",\"colorway\":[\"#636efa\",\"#EF553B\",\"#00cc96\",\"#ab63fa\",\"#FFA15A\",\"#19d3f3\",\"#FF6692\",\"#B6E880\",\"#FF97FF\",\"#FECB52\"],\"font\":{\"color\":\"#2a3f5f\"},\"hovermode\":\"closest\",\"hoverlabel\":{\"align\":\"left\"},\"paper_bgcolor\":\"white\",\"plot_bgcolor\":\"#E5ECF6\",\"polar\":{\"bgcolor\":\"#E5ECF6\",\"angularaxis\":{\"gridcolor\":\"white\",\"linecolor\":\"white\",\"ticks\":\"\"},\"radialaxis\":{\"gridcolor\":\"white\",\"linecolor\":\"white\",\"ticks\":\"\"}},\"ternary\":{\"bgcolor\":\"#E5ECF6\",\"aaxis\":{\"gridcolor\":\"white\",\"linecolor\":\"white\",\"ticks\":\"\"},\"baxis\":{\"gridcolor\":\"white\",\"linecolor\":\"white\",\"ticks\":\"\"},\"caxis\":{\"gridcolor\":\"white\",\"linecolor\":\"white\",\"ticks\":\"\"}},\"coloraxis\":{\"colorbar\":{\"outlinewidth\":0,\"ticks\":\"\"}},\"colorscale\":{\"sequential\":[[0.0,\"#0d0887\"],[0.1111111111111111,\"#46039f\"],[0.2222222222222222,\"#7201a8\"],[0.3333333333333333,\"#9c179e\"],[0.4444444444444444,\"#bd3786\"],[0.5555555555555556,\"#d8576b\"],[0.6666666666666666,\"#ed7953\"],[0.7777777777777778,\"#fb9f3a\"],[0.8888888888888888,\"#fdca26\"],[1.0,\"#f0f921\"]],\"sequentialminus\":[[0.0,\"#0d0887\"],[0.1111111111111111,\"#46039f\"],[0.2222222222222222,\"#7201a8\"],[0.3333333333333333,\"#9c179e\"],[0.4444444444444444,\"#bd3786\"],[0.5555555555555556,\"#d8576b\"],[0.6666666666666666,\"#ed7953\"],[0.7777777777777778,\"#fb9f3a\"],[0.8888888888888888,\"#fdca26\"],[1.0,\"#f0f921\"]],\"diverging\":[[0,\"#8e0152\"],[0.1,\"#c51b7d\"],[0.2,\"#de77ae\"],[0.3,\"#f1b6da\"],[0.4,\"#fde0ef\"],[0.5,\"#f7f7f7\"],[0.6,\"#e6f5d0\"],[0.7,\"#b8e186\"],[0.8,\"#7fbc41\"],[0.9,\"#4d9221\"],[1,\"#276419\"]]},\"xaxis\":{\"gridcolor\":\"white\",\"linecolor\":\"white\",\"ticks\":\"\",\"title\":{\"standoff\":15},\"zerolinecolor\":\"white\",\"automargin\":true,\"zerolinewidth\":2},\"yaxis\":{\"gridcolor\":\"white\",\"linecolor\":\"white\",\"ticks\":\"\",\"title\":{\"standoff\":15},\"zerolinecolor\":\"white\",\"automargin\":true,\"zerolinewidth\":2},\"scene\":{\"xaxis\":{\"backgroundcolor\":\"#E5ECF6\",\"gridcolor\":\"white\",\"linecolor\":\"white\",\"showbackground\":true,\"ticks\":\"\",\"zerolinecolor\":\"white\",\"gridwidth\":2},\"yaxis\":{\"backgroundcolor\":\"#E5ECF6\",\"gridcolor\":\"white\",\"linecolor\":\"white\",\"showbackground\":true,\"ticks\":\"\",\"zerolinecolor\":\"white\",\"gridwidth\":2},\"zaxis\":{\"backgroundcolor\":\"#E5ECF6\",\"gridcolor\":\"white\",\"linecolor\":\"white\",\"showbackground\":true,\"ticks\":\"\",\"zerolinecolor\":\"white\",\"gridwidth\":2}},\"shapedefaults\":{\"line\":{\"color\":\"#2a3f5f\"}},\"annotationdefaults\":{\"arrowcolor\":\"#2a3f5f\",\"arrowhead\":0,\"arrowwidth\":1},\"geo\":{\"bgcolor\":\"white\",\"landcolor\":\"#E5ECF6\",\"subunitcolor\":\"white\",\"showland\":true,\"showlakes\":true,\"lakecolor\":\"white\"},\"title\":{\"x\":0.05},\"mapbox\":{\"style\":\"light\"}}},\"yaxis\":{\"title\":{\"text\":\"Score\"},\"range\":[1,10]},\"title\":{\"text\":\"Freedom and Happiness Scores in Oceania\"},\"xaxis\":{\"title\":{\"text\":\"Country\"}},\"barmode\":\"group\",\"legend\":{\"title\":{\"text\":\"Metrics\"}}},                        {\"responsive\": true}                    ).then(function(){\n",
       "                            \n",
       "var gd = document.getElementById('17bd05e3-b55f-4b00-9ece-5d2c1792edca');\n",
       "var x = new MutationObserver(function (mutations, observer) {{\n",
       "        var display = window.getComputedStyle(gd).display;\n",
       "        if (!display || display === 'none') {{\n",
       "            console.log([gd, 'removed!']);\n",
       "            Plotly.purge(gd);\n",
       "            observer.disconnect();\n",
       "        }}\n",
       "}});\n",
       "\n",
       "// Listen for the removal of the full notebook cells\n",
       "var notebookContainer = gd.closest('#notebook-container');\n",
       "if (notebookContainer) {{\n",
       "    x.observe(notebookContainer, {childList: true});\n",
       "}}\n",
       "\n",
       "// Listen for the clearing of the current output cell\n",
       "var outputEl = gd.closest('.output');\n",
       "if (outputEl) {{\n",
       "    x.observe(outputEl, {childList: true});\n",
       "}}\n",
       "\n",
       "                        })                };                });            </script>        </div>"
      ]
     },
     "metadata": {},
     "output_type": "display_data"
    },
    {
     "data": {
      "application/vnd.plotly.v1+json": {
       "config": {
        "plotlyServerURL": "https://plot.ly"
       },
       "data": [
        {
         "marker": {
          "color": "blue"
         },
         "name": "Human Freedom Score",
         "type": "bar",
         "x": [
          "Bahamas",
          "Barbados",
          "Belize",
          "Canada",
          "Costa Rica",
          "Dominican Republic",
          "El Salvador",
          "Guatemala",
          "Haiti",
          "Honduras",
          "Jamaica",
          "Mexico",
          "Nicaragua",
          "Panama",
          "Trinidad and Tobago",
          "United States"
         ],
         "y": [
          8.15,
          7.93,
          7.48,
          8.85,
          8.28,
          7.87,
          7.34,
          7.47,
          7.2,
          6.98,
          7.9,
          6.8,
          6.13,
          7.94,
          7.78,
          8.75
         ]
        },
        {
         "marker": {
          "color": "green"
         },
         "name": "Happiness Score",
         "type": "bar",
         "x": [
          "Bahamas",
          "Barbados",
          "Belize",
          "Canada",
          "Costa Rica",
          "Dominican Republic",
          "El Salvador",
          "Guatemala",
          "Haiti",
          "Honduras",
          "Jamaica",
          "Mexico",
          "Nicaragua",
          "Panama",
          "Trinidad and Tobago",
          "United States"
         ],
         "y": [
          null,
          null,
          null,
          7.278,
          7.167,
          5.425,
          6.253,
          6.436,
          3.597,
          5.86,
          5.89,
          6.595,
          6.105,
          6.321,
          6.192,
          6.892
         ]
        }
       ],
       "layout": {
        "barmode": "group",
        "legend": {
         "title": {
          "text": "Metrics"
         }
        },
        "template": {
         "data": {
          "bar": [
           {
            "error_x": {
             "color": "#2a3f5f"
            },
            "error_y": {
             "color": "#2a3f5f"
            },
            "marker": {
             "line": {
              "color": "#E5ECF6",
              "width": 0.5
             },
             "pattern": {
              "fillmode": "overlay",
              "size": 10,
              "solidity": 0.2
             }
            },
            "type": "bar"
           }
          ],
          "barpolar": [
           {
            "marker": {
             "line": {
              "color": "#E5ECF6",
              "width": 0.5
             },
             "pattern": {
              "fillmode": "overlay",
              "size": 10,
              "solidity": 0.2
             }
            },
            "type": "barpolar"
           }
          ],
          "carpet": [
           {
            "aaxis": {
             "endlinecolor": "#2a3f5f",
             "gridcolor": "white",
             "linecolor": "white",
             "minorgridcolor": "white",
             "startlinecolor": "#2a3f5f"
            },
            "baxis": {
             "endlinecolor": "#2a3f5f",
             "gridcolor": "white",
             "linecolor": "white",
             "minorgridcolor": "white",
             "startlinecolor": "#2a3f5f"
            },
            "type": "carpet"
           }
          ],
          "choropleth": [
           {
            "colorbar": {
             "outlinewidth": 0,
             "ticks": ""
            },
            "type": "choropleth"
           }
          ],
          "contour": [
           {
            "colorbar": {
             "outlinewidth": 0,
             "ticks": ""
            },
            "colorscale": [
             [
              0,
              "#0d0887"
             ],
             [
              0.1111111111111111,
              "#46039f"
             ],
             [
              0.2222222222222222,
              "#7201a8"
             ],
             [
              0.3333333333333333,
              "#9c179e"
             ],
             [
              0.4444444444444444,
              "#bd3786"
             ],
             [
              0.5555555555555556,
              "#d8576b"
             ],
             [
              0.6666666666666666,
              "#ed7953"
             ],
             [
              0.7777777777777778,
              "#fb9f3a"
             ],
             [
              0.8888888888888888,
              "#fdca26"
             ],
             [
              1,
              "#f0f921"
             ]
            ],
            "type": "contour"
           }
          ],
          "contourcarpet": [
           {
            "colorbar": {
             "outlinewidth": 0,
             "ticks": ""
            },
            "type": "contourcarpet"
           }
          ],
          "heatmap": [
           {
            "colorbar": {
             "outlinewidth": 0,
             "ticks": ""
            },
            "colorscale": [
             [
              0,
              "#0d0887"
             ],
             [
              0.1111111111111111,
              "#46039f"
             ],
             [
              0.2222222222222222,
              "#7201a8"
             ],
             [
              0.3333333333333333,
              "#9c179e"
             ],
             [
              0.4444444444444444,
              "#bd3786"
             ],
             [
              0.5555555555555556,
              "#d8576b"
             ],
             [
              0.6666666666666666,
              "#ed7953"
             ],
             [
              0.7777777777777778,
              "#fb9f3a"
             ],
             [
              0.8888888888888888,
              "#fdca26"
             ],
             [
              1,
              "#f0f921"
             ]
            ],
            "type": "heatmap"
           }
          ],
          "heatmapgl": [
           {
            "colorbar": {
             "outlinewidth": 0,
             "ticks": ""
            },
            "colorscale": [
             [
              0,
              "#0d0887"
             ],
             [
              0.1111111111111111,
              "#46039f"
             ],
             [
              0.2222222222222222,
              "#7201a8"
             ],
             [
              0.3333333333333333,
              "#9c179e"
             ],
             [
              0.4444444444444444,
              "#bd3786"
             ],
             [
              0.5555555555555556,
              "#d8576b"
             ],
             [
              0.6666666666666666,
              "#ed7953"
             ],
             [
              0.7777777777777778,
              "#fb9f3a"
             ],
             [
              0.8888888888888888,
              "#fdca26"
             ],
             [
              1,
              "#f0f921"
             ]
            ],
            "type": "heatmapgl"
           }
          ],
          "histogram": [
           {
            "marker": {
             "pattern": {
              "fillmode": "overlay",
              "size": 10,
              "solidity": 0.2
             }
            },
            "type": "histogram"
           }
          ],
          "histogram2d": [
           {
            "colorbar": {
             "outlinewidth": 0,
             "ticks": ""
            },
            "colorscale": [
             [
              0,
              "#0d0887"
             ],
             [
              0.1111111111111111,
              "#46039f"
             ],
             [
              0.2222222222222222,
              "#7201a8"
             ],
             [
              0.3333333333333333,
              "#9c179e"
             ],
             [
              0.4444444444444444,
              "#bd3786"
             ],
             [
              0.5555555555555556,
              "#d8576b"
             ],
             [
              0.6666666666666666,
              "#ed7953"
             ],
             [
              0.7777777777777778,
              "#fb9f3a"
             ],
             [
              0.8888888888888888,
              "#fdca26"
             ],
             [
              1,
              "#f0f921"
             ]
            ],
            "type": "histogram2d"
           }
          ],
          "histogram2dcontour": [
           {
            "colorbar": {
             "outlinewidth": 0,
             "ticks": ""
            },
            "colorscale": [
             [
              0,
              "#0d0887"
             ],
             [
              0.1111111111111111,
              "#46039f"
             ],
             [
              0.2222222222222222,
              "#7201a8"
             ],
             [
              0.3333333333333333,
              "#9c179e"
             ],
             [
              0.4444444444444444,
              "#bd3786"
             ],
             [
              0.5555555555555556,
              "#d8576b"
             ],
             [
              0.6666666666666666,
              "#ed7953"
             ],
             [
              0.7777777777777778,
              "#fb9f3a"
             ],
             [
              0.8888888888888888,
              "#fdca26"
             ],
             [
              1,
              "#f0f921"
             ]
            ],
            "type": "histogram2dcontour"
           }
          ],
          "mesh3d": [
           {
            "colorbar": {
             "outlinewidth": 0,
             "ticks": ""
            },
            "type": "mesh3d"
           }
          ],
          "parcoords": [
           {
            "line": {
             "colorbar": {
              "outlinewidth": 0,
              "ticks": ""
             }
            },
            "type": "parcoords"
           }
          ],
          "pie": [
           {
            "automargin": true,
            "type": "pie"
           }
          ],
          "scatter": [
           {
            "fillpattern": {
             "fillmode": "overlay",
             "size": 10,
             "solidity": 0.2
            },
            "type": "scatter"
           }
          ],
          "scatter3d": [
           {
            "line": {
             "colorbar": {
              "outlinewidth": 0,
              "ticks": ""
             }
            },
            "marker": {
             "colorbar": {
              "outlinewidth": 0,
              "ticks": ""
             }
            },
            "type": "scatter3d"
           }
          ],
          "scattercarpet": [
           {
            "marker": {
             "colorbar": {
              "outlinewidth": 0,
              "ticks": ""
             }
            },
            "type": "scattercarpet"
           }
          ],
          "scattergeo": [
           {
            "marker": {
             "colorbar": {
              "outlinewidth": 0,
              "ticks": ""
             }
            },
            "type": "scattergeo"
           }
          ],
          "scattergl": [
           {
            "marker": {
             "colorbar": {
              "outlinewidth": 0,
              "ticks": ""
             }
            },
            "type": "scattergl"
           }
          ],
          "scattermapbox": [
           {
            "marker": {
             "colorbar": {
              "outlinewidth": 0,
              "ticks": ""
             }
            },
            "type": "scattermapbox"
           }
          ],
          "scatterpolar": [
           {
            "marker": {
             "colorbar": {
              "outlinewidth": 0,
              "ticks": ""
             }
            },
            "type": "scatterpolar"
           }
          ],
          "scatterpolargl": [
           {
            "marker": {
             "colorbar": {
              "outlinewidth": 0,
              "ticks": ""
             }
            },
            "type": "scatterpolargl"
           }
          ],
          "scatterternary": [
           {
            "marker": {
             "colorbar": {
              "outlinewidth": 0,
              "ticks": ""
             }
            },
            "type": "scatterternary"
           }
          ],
          "surface": [
           {
            "colorbar": {
             "outlinewidth": 0,
             "ticks": ""
            },
            "colorscale": [
             [
              0,
              "#0d0887"
             ],
             [
              0.1111111111111111,
              "#46039f"
             ],
             [
              0.2222222222222222,
              "#7201a8"
             ],
             [
              0.3333333333333333,
              "#9c179e"
             ],
             [
              0.4444444444444444,
              "#bd3786"
             ],
             [
              0.5555555555555556,
              "#d8576b"
             ],
             [
              0.6666666666666666,
              "#ed7953"
             ],
             [
              0.7777777777777778,
              "#fb9f3a"
             ],
             [
              0.8888888888888888,
              "#fdca26"
             ],
             [
              1,
              "#f0f921"
             ]
            ],
            "type": "surface"
           }
          ],
          "table": [
           {
            "cells": {
             "fill": {
              "color": "#EBF0F8"
             },
             "line": {
              "color": "white"
             }
            },
            "header": {
             "fill": {
              "color": "#C8D4E3"
             },
             "line": {
              "color": "white"
             }
            },
            "type": "table"
           }
          ]
         },
         "layout": {
          "annotationdefaults": {
           "arrowcolor": "#2a3f5f",
           "arrowhead": 0,
           "arrowwidth": 1
          },
          "autotypenumbers": "strict",
          "coloraxis": {
           "colorbar": {
            "outlinewidth": 0,
            "ticks": ""
           }
          },
          "colorscale": {
           "diverging": [
            [
             0,
             "#8e0152"
            ],
            [
             0.1,
             "#c51b7d"
            ],
            [
             0.2,
             "#de77ae"
            ],
            [
             0.3,
             "#f1b6da"
            ],
            [
             0.4,
             "#fde0ef"
            ],
            [
             0.5,
             "#f7f7f7"
            ],
            [
             0.6,
             "#e6f5d0"
            ],
            [
             0.7,
             "#b8e186"
            ],
            [
             0.8,
             "#7fbc41"
            ],
            [
             0.9,
             "#4d9221"
            ],
            [
             1,
             "#276419"
            ]
           ],
           "sequential": [
            [
             0,
             "#0d0887"
            ],
            [
             0.1111111111111111,
             "#46039f"
            ],
            [
             0.2222222222222222,
             "#7201a8"
            ],
            [
             0.3333333333333333,
             "#9c179e"
            ],
            [
             0.4444444444444444,
             "#bd3786"
            ],
            [
             0.5555555555555556,
             "#d8576b"
            ],
            [
             0.6666666666666666,
             "#ed7953"
            ],
            [
             0.7777777777777778,
             "#fb9f3a"
            ],
            [
             0.8888888888888888,
             "#fdca26"
            ],
            [
             1,
             "#f0f921"
            ]
           ],
           "sequentialminus": [
            [
             0,
             "#0d0887"
            ],
            [
             0.1111111111111111,
             "#46039f"
            ],
            [
             0.2222222222222222,
             "#7201a8"
            ],
            [
             0.3333333333333333,
             "#9c179e"
            ],
            [
             0.4444444444444444,
             "#bd3786"
            ],
            [
             0.5555555555555556,
             "#d8576b"
            ],
            [
             0.6666666666666666,
             "#ed7953"
            ],
            [
             0.7777777777777778,
             "#fb9f3a"
            ],
            [
             0.8888888888888888,
             "#fdca26"
            ],
            [
             1,
             "#f0f921"
            ]
           ]
          },
          "colorway": [
           "#636efa",
           "#EF553B",
           "#00cc96",
           "#ab63fa",
           "#FFA15A",
           "#19d3f3",
           "#FF6692",
           "#B6E880",
           "#FF97FF",
           "#FECB52"
          ],
          "font": {
           "color": "#2a3f5f"
          },
          "geo": {
           "bgcolor": "white",
           "lakecolor": "white",
           "landcolor": "#E5ECF6",
           "showlakes": true,
           "showland": true,
           "subunitcolor": "white"
          },
          "hoverlabel": {
           "align": "left"
          },
          "hovermode": "closest",
          "mapbox": {
           "style": "light"
          },
          "paper_bgcolor": "white",
          "plot_bgcolor": "#E5ECF6",
          "polar": {
           "angularaxis": {
            "gridcolor": "white",
            "linecolor": "white",
            "ticks": ""
           },
           "bgcolor": "#E5ECF6",
           "radialaxis": {
            "gridcolor": "white",
            "linecolor": "white",
            "ticks": ""
           }
          },
          "scene": {
           "xaxis": {
            "backgroundcolor": "#E5ECF6",
            "gridcolor": "white",
            "gridwidth": 2,
            "linecolor": "white",
            "showbackground": true,
            "ticks": "",
            "zerolinecolor": "white"
           },
           "yaxis": {
            "backgroundcolor": "#E5ECF6",
            "gridcolor": "white",
            "gridwidth": 2,
            "linecolor": "white",
            "showbackground": true,
            "ticks": "",
            "zerolinecolor": "white"
           },
           "zaxis": {
            "backgroundcolor": "#E5ECF6",
            "gridcolor": "white",
            "gridwidth": 2,
            "linecolor": "white",
            "showbackground": true,
            "ticks": "",
            "zerolinecolor": "white"
           }
          },
          "shapedefaults": {
           "line": {
            "color": "#2a3f5f"
           }
          },
          "ternary": {
           "aaxis": {
            "gridcolor": "white",
            "linecolor": "white",
            "ticks": ""
           },
           "baxis": {
            "gridcolor": "white",
            "linecolor": "white",
            "ticks": ""
           },
           "bgcolor": "#E5ECF6",
           "caxis": {
            "gridcolor": "white",
            "linecolor": "white",
            "ticks": ""
           }
          },
          "title": {
           "x": 0.05
          },
          "xaxis": {
           "automargin": true,
           "gridcolor": "white",
           "linecolor": "white",
           "ticks": "",
           "title": {
            "standoff": 15
           },
           "zerolinecolor": "white",
           "zerolinewidth": 2
          },
          "yaxis": {
           "automargin": true,
           "gridcolor": "white",
           "linecolor": "white",
           "ticks": "",
           "title": {
            "standoff": 15
           },
           "zerolinecolor": "white",
           "zerolinewidth": 2
          }
         }
        },
        "title": {
         "text": "Freedom and Happiness Scores in North America"
        },
        "xaxis": {
         "title": {
          "text": "Country"
         }
        },
        "yaxis": {
         "range": [
          1,
          10
         ],
         "title": {
          "text": "Score"
         }
        }
       }
      },
      "text/html": [
       "<div>                            <div id=\"a5cad328-35b1-4082-85b3-c9e56b9f8928\" class=\"plotly-graph-div\" style=\"height:525px; width:100%;\"></div>            <script type=\"text/javascript\">                require([\"plotly\"], function(Plotly) {                    window.PLOTLYENV=window.PLOTLYENV || {};                                    if (document.getElementById(\"a5cad328-35b1-4082-85b3-c9e56b9f8928\")) {                    Plotly.newPlot(                        \"a5cad328-35b1-4082-85b3-c9e56b9f8928\",                        [{\"marker\":{\"color\":\"blue\"},\"name\":\"Human Freedom Score\",\"x\":[\"Bahamas\",\"Barbados\",\"Belize\",\"Canada\",\"Costa Rica\",\"Dominican Republic\",\"El Salvador\",\"Guatemala\",\"Haiti\",\"Honduras\",\"Jamaica\",\"Mexico\",\"Nicaragua\",\"Panama\",\"Trinidad and Tobago\",\"United States\"],\"y\":[8.15,7.93,7.48,8.85,8.28,7.87,7.34,7.47,7.2,6.98,7.9,6.8,6.13,7.94,7.78,8.75],\"type\":\"bar\"},{\"marker\":{\"color\":\"green\"},\"name\":\"Happiness Score\",\"x\":[\"Bahamas\",\"Barbados\",\"Belize\",\"Canada\",\"Costa Rica\",\"Dominican Republic\",\"El Salvador\",\"Guatemala\",\"Haiti\",\"Honduras\",\"Jamaica\",\"Mexico\",\"Nicaragua\",\"Panama\",\"Trinidad and Tobago\",\"United States\"],\"y\":[null,null,null,7.278,7.167,5.425,6.253,6.436,3.597,5.86,5.89,6.595,6.105,6.321,6.192,6.892],\"type\":\"bar\"}],                        {\"template\":{\"data\":{\"histogram2dcontour\":[{\"type\":\"histogram2dcontour\",\"colorbar\":{\"outlinewidth\":0,\"ticks\":\"\"},\"colorscale\":[[0.0,\"#0d0887\"],[0.1111111111111111,\"#46039f\"],[0.2222222222222222,\"#7201a8\"],[0.3333333333333333,\"#9c179e\"],[0.4444444444444444,\"#bd3786\"],[0.5555555555555556,\"#d8576b\"],[0.6666666666666666,\"#ed7953\"],[0.7777777777777778,\"#fb9f3a\"],[0.8888888888888888,\"#fdca26\"],[1.0,\"#f0f921\"]]}],\"choropleth\":[{\"type\":\"choropleth\",\"colorbar\":{\"outlinewidth\":0,\"ticks\":\"\"}}],\"histogram2d\":[{\"type\":\"histogram2d\",\"colorbar\":{\"outlinewidth\":0,\"ticks\":\"\"},\"colorscale\":[[0.0,\"#0d0887\"],[0.1111111111111111,\"#46039f\"],[0.2222222222222222,\"#7201a8\"],[0.3333333333333333,\"#9c179e\"],[0.4444444444444444,\"#bd3786\"],[0.5555555555555556,\"#d8576b\"],[0.6666666666666666,\"#ed7953\"],[0.7777777777777778,\"#fb9f3a\"],[0.8888888888888888,\"#fdca26\"],[1.0,\"#f0f921\"]]}],\"heatmap\":[{\"type\":\"heatmap\",\"colorbar\":{\"outlinewidth\":0,\"ticks\":\"\"},\"colorscale\":[[0.0,\"#0d0887\"],[0.1111111111111111,\"#46039f\"],[0.2222222222222222,\"#7201a8\"],[0.3333333333333333,\"#9c179e\"],[0.4444444444444444,\"#bd3786\"],[0.5555555555555556,\"#d8576b\"],[0.6666666666666666,\"#ed7953\"],[0.7777777777777778,\"#fb9f3a\"],[0.8888888888888888,\"#fdca26\"],[1.0,\"#f0f921\"]]}],\"heatmapgl\":[{\"type\":\"heatmapgl\",\"colorbar\":{\"outlinewidth\":0,\"ticks\":\"\"},\"colorscale\":[[0.0,\"#0d0887\"],[0.1111111111111111,\"#46039f\"],[0.2222222222222222,\"#7201a8\"],[0.3333333333333333,\"#9c179e\"],[0.4444444444444444,\"#bd3786\"],[0.5555555555555556,\"#d8576b\"],[0.6666666666666666,\"#ed7953\"],[0.7777777777777778,\"#fb9f3a\"],[0.8888888888888888,\"#fdca26\"],[1.0,\"#f0f921\"]]}],\"contourcarpet\":[{\"type\":\"contourcarpet\",\"colorbar\":{\"outlinewidth\":0,\"ticks\":\"\"}}],\"contour\":[{\"type\":\"contour\",\"colorbar\":{\"outlinewidth\":0,\"ticks\":\"\"},\"colorscale\":[[0.0,\"#0d0887\"],[0.1111111111111111,\"#46039f\"],[0.2222222222222222,\"#7201a8\"],[0.3333333333333333,\"#9c179e\"],[0.4444444444444444,\"#bd3786\"],[0.5555555555555556,\"#d8576b\"],[0.6666666666666666,\"#ed7953\"],[0.7777777777777778,\"#fb9f3a\"],[0.8888888888888888,\"#fdca26\"],[1.0,\"#f0f921\"]]}],\"surface\":[{\"type\":\"surface\",\"colorbar\":{\"outlinewidth\":0,\"ticks\":\"\"},\"colorscale\":[[0.0,\"#0d0887\"],[0.1111111111111111,\"#46039f\"],[0.2222222222222222,\"#7201a8\"],[0.3333333333333333,\"#9c179e\"],[0.4444444444444444,\"#bd3786\"],[0.5555555555555556,\"#d8576b\"],[0.6666666666666666,\"#ed7953\"],[0.7777777777777778,\"#fb9f3a\"],[0.8888888888888888,\"#fdca26\"],[1.0,\"#f0f921\"]]}],\"mesh3d\":[{\"type\":\"mesh3d\",\"colorbar\":{\"outlinewidth\":0,\"ticks\":\"\"}}],\"scatter\":[{\"fillpattern\":{\"fillmode\":\"overlay\",\"size\":10,\"solidity\":0.2},\"type\":\"scatter\"}],\"parcoords\":[{\"type\":\"parcoords\",\"line\":{\"colorbar\":{\"outlinewidth\":0,\"ticks\":\"\"}}}],\"scatterpolargl\":[{\"type\":\"scatterpolargl\",\"marker\":{\"colorbar\":{\"outlinewidth\":0,\"ticks\":\"\"}}}],\"bar\":[{\"error_x\":{\"color\":\"#2a3f5f\"},\"error_y\":{\"color\":\"#2a3f5f\"},\"marker\":{\"line\":{\"color\":\"#E5ECF6\",\"width\":0.5},\"pattern\":{\"fillmode\":\"overlay\",\"size\":10,\"solidity\":0.2}},\"type\":\"bar\"}],\"scattergeo\":[{\"type\":\"scattergeo\",\"marker\":{\"colorbar\":{\"outlinewidth\":0,\"ticks\":\"\"}}}],\"scatterpolar\":[{\"type\":\"scatterpolar\",\"marker\":{\"colorbar\":{\"outlinewidth\":0,\"ticks\":\"\"}}}],\"histogram\":[{\"marker\":{\"pattern\":{\"fillmode\":\"overlay\",\"size\":10,\"solidity\":0.2}},\"type\":\"histogram\"}],\"scattergl\":[{\"type\":\"scattergl\",\"marker\":{\"colorbar\":{\"outlinewidth\":0,\"ticks\":\"\"}}}],\"scatter3d\":[{\"type\":\"scatter3d\",\"line\":{\"colorbar\":{\"outlinewidth\":0,\"ticks\":\"\"}},\"marker\":{\"colorbar\":{\"outlinewidth\":0,\"ticks\":\"\"}}}],\"scattermapbox\":[{\"type\":\"scattermapbox\",\"marker\":{\"colorbar\":{\"outlinewidth\":0,\"ticks\":\"\"}}}],\"scatterternary\":[{\"type\":\"scatterternary\",\"marker\":{\"colorbar\":{\"outlinewidth\":0,\"ticks\":\"\"}}}],\"scattercarpet\":[{\"type\":\"scattercarpet\",\"marker\":{\"colorbar\":{\"outlinewidth\":0,\"ticks\":\"\"}}}],\"carpet\":[{\"aaxis\":{\"endlinecolor\":\"#2a3f5f\",\"gridcolor\":\"white\",\"linecolor\":\"white\",\"minorgridcolor\":\"white\",\"startlinecolor\":\"#2a3f5f\"},\"baxis\":{\"endlinecolor\":\"#2a3f5f\",\"gridcolor\":\"white\",\"linecolor\":\"white\",\"minorgridcolor\":\"white\",\"startlinecolor\":\"#2a3f5f\"},\"type\":\"carpet\"}],\"table\":[{\"cells\":{\"fill\":{\"color\":\"#EBF0F8\"},\"line\":{\"color\":\"white\"}},\"header\":{\"fill\":{\"color\":\"#C8D4E3\"},\"line\":{\"color\":\"white\"}},\"type\":\"table\"}],\"barpolar\":[{\"marker\":{\"line\":{\"color\":\"#E5ECF6\",\"width\":0.5},\"pattern\":{\"fillmode\":\"overlay\",\"size\":10,\"solidity\":0.2}},\"type\":\"barpolar\"}],\"pie\":[{\"automargin\":true,\"type\":\"pie\"}]},\"layout\":{\"autotypenumbers\":\"strict\",\"colorway\":[\"#636efa\",\"#EF553B\",\"#00cc96\",\"#ab63fa\",\"#FFA15A\",\"#19d3f3\",\"#FF6692\",\"#B6E880\",\"#FF97FF\",\"#FECB52\"],\"font\":{\"color\":\"#2a3f5f\"},\"hovermode\":\"closest\",\"hoverlabel\":{\"align\":\"left\"},\"paper_bgcolor\":\"white\",\"plot_bgcolor\":\"#E5ECF6\",\"polar\":{\"bgcolor\":\"#E5ECF6\",\"angularaxis\":{\"gridcolor\":\"white\",\"linecolor\":\"white\",\"ticks\":\"\"},\"radialaxis\":{\"gridcolor\":\"white\",\"linecolor\":\"white\",\"ticks\":\"\"}},\"ternary\":{\"bgcolor\":\"#E5ECF6\",\"aaxis\":{\"gridcolor\":\"white\",\"linecolor\":\"white\",\"ticks\":\"\"},\"baxis\":{\"gridcolor\":\"white\",\"linecolor\":\"white\",\"ticks\":\"\"},\"caxis\":{\"gridcolor\":\"white\",\"linecolor\":\"white\",\"ticks\":\"\"}},\"coloraxis\":{\"colorbar\":{\"outlinewidth\":0,\"ticks\":\"\"}},\"colorscale\":{\"sequential\":[[0.0,\"#0d0887\"],[0.1111111111111111,\"#46039f\"],[0.2222222222222222,\"#7201a8\"],[0.3333333333333333,\"#9c179e\"],[0.4444444444444444,\"#bd3786\"],[0.5555555555555556,\"#d8576b\"],[0.6666666666666666,\"#ed7953\"],[0.7777777777777778,\"#fb9f3a\"],[0.8888888888888888,\"#fdca26\"],[1.0,\"#f0f921\"]],\"sequentialminus\":[[0.0,\"#0d0887\"],[0.1111111111111111,\"#46039f\"],[0.2222222222222222,\"#7201a8\"],[0.3333333333333333,\"#9c179e\"],[0.4444444444444444,\"#bd3786\"],[0.5555555555555556,\"#d8576b\"],[0.6666666666666666,\"#ed7953\"],[0.7777777777777778,\"#fb9f3a\"],[0.8888888888888888,\"#fdca26\"],[1.0,\"#f0f921\"]],\"diverging\":[[0,\"#8e0152\"],[0.1,\"#c51b7d\"],[0.2,\"#de77ae\"],[0.3,\"#f1b6da\"],[0.4,\"#fde0ef\"],[0.5,\"#f7f7f7\"],[0.6,\"#e6f5d0\"],[0.7,\"#b8e186\"],[0.8,\"#7fbc41\"],[0.9,\"#4d9221\"],[1,\"#276419\"]]},\"xaxis\":{\"gridcolor\":\"white\",\"linecolor\":\"white\",\"ticks\":\"\",\"title\":{\"standoff\":15},\"zerolinecolor\":\"white\",\"automargin\":true,\"zerolinewidth\":2},\"yaxis\":{\"gridcolor\":\"white\",\"linecolor\":\"white\",\"ticks\":\"\",\"title\":{\"standoff\":15},\"zerolinecolor\":\"white\",\"automargin\":true,\"zerolinewidth\":2},\"scene\":{\"xaxis\":{\"backgroundcolor\":\"#E5ECF6\",\"gridcolor\":\"white\",\"linecolor\":\"white\",\"showbackground\":true,\"ticks\":\"\",\"zerolinecolor\":\"white\",\"gridwidth\":2},\"yaxis\":{\"backgroundcolor\":\"#E5ECF6\",\"gridcolor\":\"white\",\"linecolor\":\"white\",\"showbackground\":true,\"ticks\":\"\",\"zerolinecolor\":\"white\",\"gridwidth\":2},\"zaxis\":{\"backgroundcolor\":\"#E5ECF6\",\"gridcolor\":\"white\",\"linecolor\":\"white\",\"showbackground\":true,\"ticks\":\"\",\"zerolinecolor\":\"white\",\"gridwidth\":2}},\"shapedefaults\":{\"line\":{\"color\":\"#2a3f5f\"}},\"annotationdefaults\":{\"arrowcolor\":\"#2a3f5f\",\"arrowhead\":0,\"arrowwidth\":1},\"geo\":{\"bgcolor\":\"white\",\"landcolor\":\"#E5ECF6\",\"subunitcolor\":\"white\",\"showland\":true,\"showlakes\":true,\"lakecolor\":\"white\"},\"title\":{\"x\":0.05},\"mapbox\":{\"style\":\"light\"}}},\"yaxis\":{\"title\":{\"text\":\"Score\"},\"range\":[1,10]},\"title\":{\"text\":\"Freedom and Happiness Scores in North America\"},\"xaxis\":{\"title\":{\"text\":\"Country\"}},\"barmode\":\"group\",\"legend\":{\"title\":{\"text\":\"Metrics\"}}},                        {\"responsive\": true}                    ).then(function(){\n",
       "                            \n",
       "var gd = document.getElementById('a5cad328-35b1-4082-85b3-c9e56b9f8928');\n",
       "var x = new MutationObserver(function (mutations, observer) {{\n",
       "        var display = window.getComputedStyle(gd).display;\n",
       "        if (!display || display === 'none') {{\n",
       "            console.log([gd, 'removed!']);\n",
       "            Plotly.purge(gd);\n",
       "            observer.disconnect();\n",
       "        }}\n",
       "}});\n",
       "\n",
       "// Listen for the removal of the full notebook cells\n",
       "var notebookContainer = gd.closest('#notebook-container');\n",
       "if (notebookContainer) {{\n",
       "    x.observe(notebookContainer, {childList: true});\n",
       "}}\n",
       "\n",
       "// Listen for the clearing of the current output cell\n",
       "var outputEl = gd.closest('.output');\n",
       "if (outputEl) {{\n",
       "    x.observe(outputEl, {childList: true});\n",
       "}}\n",
       "\n",
       "                        })                };                });            </script>        </div>"
      ]
     },
     "metadata": {},
     "output_type": "display_data"
    }
   ],
   "source": [
    "# Create the figure for overall scores by continent\n",
    "fig = go.Figure()\n",
    "\n",
    "# Add freedom scores bar\n",
    "fig.add_trace(go.Bar(\n",
    "    x=data_continent['Continent'],\n",
    "    y=data_continent['Human Freedom Score'],\n",
    "    name='Human Freedom Score',\n",
    "    marker_color='blue'\n",
    "))\n",
    "# Add happiness scores bar\n",
    "fig.add_trace(go.Bar(\n",
    "    x=data_continent['Continent'],\n",
    "    y=data_continent['Happiness Score'],\n",
    "    name='Happiness Score',\n",
    "    marker_color='green'\n",
    "))\n",
    "\n",
    "# Customize the layout\n",
    "fig.update_layout(\n",
    "    title='Freedom and Happiness Scores Across Continents',\n",
    "    xaxis=dict(title='Continent'),\n",
    "    yaxis=dict(title='Score', range=[1, 10]),\n",
    "    barmode='group',  # Grouped bars\n",
    "    legend=dict(title='Scores'),\n",
    "    template='plotly'\n",
    ")\n",
    "\n",
    "# Show the plot\n",
    "fig.show()\n",
    "\n",
    "# Function to create and display plot for each continent\n",
    "def create_continent_plot(continent, data):\n",
    "    continent_data = data[data['Continent'] == continent]\n",
    "    \n",
    "    fig = go.Figure()\n",
    "\n",
    "    # Add freedom scores bar\n",
    "    fig.add_trace(go.Bar(\n",
    "        x=continent_data['Country'],\n",
    "        y=continent_data['Human Freedom Score'],\n",
    "        name='Human Freedom Score',\n",
    "        marker_color='blue'\n",
    "    ))\n",
    "\n",
    "    # Add happiness scores bar\n",
    "    fig.add_trace(go.Bar(\n",
    "        x=continent_data['Country'],\n",
    "        y=continent_data['Happiness Score'],\n",
    "        name='Happiness Score',\n",
    "        marker_color='green'\n",
    "    ))\n",
    "\n",
    "    # Customize the layout\n",
    "    fig.update_layout(\n",
    "        title=f'Freedom and Happiness Scores in {continent}',\n",
    "        xaxis=dict(title='Country'),\n",
    "        yaxis=dict(title='Score', range=[1, 10]),\n",
    "        barmode='group',  # Grouped bars\n",
    "        legend=dict(title='Metrics'),\n",
    "        template='plotly'\n",
    "    )\n",
    "\n",
    "    # Show the plot\n",
    "    fig.show()\n",
    "\n",
    "# Generate and display plots for each continent\n",
    "continents = merged_data_cleaned['Continent'].unique()\n",
    "for continent in continents:\n",
    "    create_continent_plot(continent, merged_data_cleaned)\n"
   ]
  },
  {
   "cell_type": "code",
   "execution_count": 9,
   "metadata": {},
   "outputs": [
    {
     "data": {
      "application/vnd.plotly.v1+json": {
       "config": {
        "plotlyServerURL": "https://plot.ly"
       },
       "data": [
        {
         "marker": {
          "color": "blue",
          "opacity": 0.7,
          "size": 4
         },
         "mode": "markers",
         "name": "Human Freedom Score",
         "type": "scatter",
         "x": [
          8.07,
          5.08,
          5.96,
          7.33,
          8.32,
          8.83,
          8.68,
          6.02,
          8.15,
          5.43,
          5.56,
          7.93,
          6.27,
          8.55,
          7.48,
          7.25,
          6.68,
          6.88,
          7.43,
          7.76,
          7.25,
          7.97,
          6.83,
          4.91,
          8.44,
          6.43,
          5.34,
          8.85,
          5.68,
          5.41,
          8.5,
          5.27,
          6.95,
          5.91,
          5.33,
          8.28,
          6.78,
          6.78,
          6.78,
          6.78,
          6.78,
          6.78,
          8.15,
          8.49,
          8.61,
          9.01,
          5.63,
          7.87,
          7.37,
          4.35,
          7.34,
          8.94,
          5.73,
          5.73,
          7.35,
          8.87,
          8.26,
          6.66,
          6.82,
          7.85,
          8.73,
          7.46,
          7.83,
          7.47,
          5.82,
          6.78,
          7.04,
          7.2,
          6.98,
          7.63,
          8.84,
          6.42,
          6.98,
          4.27,
          5.12,
          8.95,
          7.61,
          8.43,
          7.9,
          8.75,
          6.71,
          6.63,
          6.57,
          8.31,
          6.2,
          7.02,
          5.68,
          5.68,
          5.68,
          5.68,
          5.68,
          5.68,
          8.62,
          6.67,
          7,
          6.6,
          8.72,
          8.85,
          6.86,
          6.92,
          7.08,
          6.19,
          8.43,
          5.56,
          8.02,
          6.8,
          7.6,
          7.97,
          7.91,
          5.68,
          6.77,
          5.4,
          7.57,
          7.01,
          8.8,
          9.04,
          6.13,
          6.14,
          6.14,
          6.1,
          6.1,
          7.68,
          8.81,
          5.77,
          5.48,
          7.94,
          7.17,
          7.46,
          7.83,
          6.69,
          7.92,
          8.69,
          5.96,
          8.25,
          6.19,
          4.77,
          6.9,
          7.5,
          7.5,
          7.91,
          6.47,
          7.86,
          8.15,
          8.33,
          4.71,
          7.15,
          8.49,
          6.47,
          4.04,
          7.51,
          8.85,
          9.17,
          5.44,
          6.29,
          6.75,
          7.36,
          6.28,
          7.78,
          5.63,
          6.17,
          6.77,
          5.89,
          8.79,
          8.75,
          8.4,
          3.9,
          5.74,
          3.99,
          6.6,
          5.3
         ],
         "xaxis": "x",
         "y": [
          4.719,
          5.211,
          null,
          6.086,
          4.559,
          7.228,
          7.246,
          5.208,
          null,
          6.199,
          4.456,
          null,
          5.323,
          6.923,
          null,
          4.883,
          5.082,
          5.779,
          5.386,
          3.488,
          6.3,
          5.011,
          4.587,
          3.775,
          null,
          4.7,
          5.044,
          7.278,
          3.083,
          4.35,
          6.444,
          5.191,
          6.125,
          3.973,
          null,
          7.167,
          5.718,
          4.944,
          4.812,
          4.796,
          4.696,
          4.418,
          5.432,
          6.046,
          6.852,
          7.6,
          null,
          5.425,
          6.028,
          4.166,
          6.253,
          5.893,
          4.212,
          4.286,
          null,
          7.769,
          6.592,
          4.799,
          4.516,
          4.519,
          6.985,
          4.996,
          5.287,
          6.436,
          4.534,
          null,
          null,
          3.597,
          5.86,
          5.758,
          7.494,
          4.015,
          5.192,
          4.548,
          4.437,
          7.021,
          7.139,
          6.223,
          5.89,
          5.886,
          4.906,
          5.809,
          4.509,
          5.895,
          6.021,
          5.261,
          5.718,
          4.944,
          4.812,
          4.796,
          4.696,
          4.418,
          5.94,
          5.197,
          3.802,
          3.975,
          6.149,
          7.09,
          3.933,
          3.41,
          5.339,
          4.39,
          6.726,
          4.49,
          5.888,
          6.595,
          5.529,
          5.285,
          5.523,
          5.208,
          4.466,
          4.36,
          4.639,
          4.913,
          7.488,
          7.307,
          6.105,
          5.265,
          4.628,
          5.265,
          4.628,
          5.274,
          7.554,
          null,
          5.653,
          6.321,
          null,
          5.743,
          5.697,
          5.631,
          6.182,
          5.693,
          6.374,
          6.07,
          3.334,
          6.375,
          4.681,
          6.1,
          5.603,
          null,
          4.374,
          6.262,
          6.198,
          6.118,
          4.668,
          4.722,
          6.354,
          4.366,
          null,
          null,
          7.343,
          7.48,
          5.467,
          3.231,
          6.008,
          null,
          4.085,
          6.192,
          5.373,
          4.189,
          4.332,
          6.825,
          7.054,
          6.892,
          6.293,
          4.707,
          5.175,
          3.38,
          4.107,
          3.663
         ],
         "yaxis": "y"
        },
        {
         "marker": {
          "color": "blue",
          "opacity": 0.7,
          "size": 4
         },
         "mode": "markers",
         "name": "Economic Freedom Score",
         "type": "scatter",
         "x": [
          7.79,
          4.86,
          5.55,
          5.44,
          7.98,
          8.17,
          7.86,
          6.43,
          7.21,
          7.43,
          6.04,
          7.05,
          6.48,
          7.62,
          6.41,
          6.66,
          6.52,
          6.32,
          6.94,
          7.47,
          6.6,
          7.79,
          6.25,
          5.67,
          7.65,
          7.38,
          5.79,
          8.05,
          5.37,
          5.63,
          7.86,
          6.33,
          6.83,
          6.33,
          4.78,
          7.67,
          6.17,
          6.17,
          6.17,
          6.17,
          6.17,
          6.17,
          7.42,
          7.89,
          7.98,
          8.23,
          6.45,
          7.6,
          6.68,
          5.74,
          7.34,
          8.11,
          6.14,
          5.82,
          6.36,
          7.92,
          7.55,
          5.83,
          7.06,
          8.16,
          7.89,
          6.72,
          7.19,
          7.78,
          5.94,
          5.7,
          5.81,
          6.68,
          7.24,
          7.51,
          7.91,
          6.76,
          7.26,
          5.02,
          5.41,
          8.19,
          7.63,
          7.61,
          7.61,
          7.97,
          7.51,
          7.6,
          7,
          7.62,
          6.74,
          7.17,
          6.65,
          6.65,
          6.65,
          6.65,
          6.65,
          6.65,
          7.94,
          6.85,
          6.46,
          6.16,
          8.22,
          7.89,
          6.32,
          5.94,
          7.52,
          5.9,
          8.02,
          6.55,
          8.2,
          7.2,
          7.32,
          7.42,
          7.63,
          6.74,
          6.47,
          5.56,
          6.75,
          6.73,
          7.96,
          8.56,
          7.04,
          5.62,
          5.62,
          7.03,
          7.03,
          7.17,
          7.75,
          6.77,
          6,
          7.74,
          6.01,
          7.11,
          7.78,
          7.34,
          7.22,
          7.77,
          7.11,
          7.87,
          7.25,
          6.89,
          6.26,
          7.21,
          7.21,
          7.63,
          5.85,
          8.81,
          7.61,
          7.43,
          6.25,
          6.79,
          7.89,
          6.72,
          3.58,
          6,
          7.7,
          8.49,
          6.54,
          6.58,
          6.91,
          5.92,
          6.07,
          7.22,
          6.49,
          7.41,
          6.2,
          7.28,
          8.16,
          8.25,
          7.38,
          2.87,
          6.4,
          5.72,
          6.95,
          4.6
         ],
         "xaxis": "x2",
         "y": [
          4.719,
          5.211,
          null,
          6.086,
          4.559,
          7.228,
          7.246,
          5.208,
          null,
          6.199,
          4.456,
          null,
          5.323,
          6.923,
          null,
          4.883,
          5.082,
          5.779,
          5.386,
          3.488,
          6.3,
          5.011,
          4.587,
          3.775,
          null,
          4.7,
          5.044,
          7.278,
          3.083,
          4.35,
          6.444,
          5.191,
          6.125,
          3.973,
          null,
          7.167,
          5.718,
          4.944,
          4.812,
          4.796,
          4.696,
          4.418,
          5.432,
          6.046,
          6.852,
          7.6,
          null,
          5.425,
          6.028,
          4.166,
          6.253,
          5.893,
          4.212,
          4.286,
          null,
          7.769,
          6.592,
          4.799,
          4.516,
          4.519,
          6.985,
          4.996,
          5.287,
          6.436,
          4.534,
          null,
          null,
          3.597,
          5.86,
          5.758,
          7.494,
          4.015,
          5.192,
          4.548,
          4.437,
          7.021,
          7.139,
          6.223,
          5.89,
          5.886,
          4.906,
          5.809,
          4.509,
          5.895,
          6.021,
          5.261,
          5.718,
          4.944,
          4.812,
          4.796,
          4.696,
          4.418,
          5.94,
          5.197,
          3.802,
          3.975,
          6.149,
          7.09,
          3.933,
          3.41,
          5.339,
          4.39,
          6.726,
          4.49,
          5.888,
          6.595,
          5.529,
          5.285,
          5.523,
          5.208,
          4.466,
          4.36,
          4.639,
          4.913,
          7.488,
          7.307,
          6.105,
          5.265,
          4.628,
          5.265,
          4.628,
          5.274,
          7.554,
          null,
          5.653,
          6.321,
          null,
          5.743,
          5.697,
          5.631,
          6.182,
          5.693,
          6.374,
          6.07,
          3.334,
          6.375,
          4.681,
          6.1,
          5.603,
          null,
          4.374,
          6.262,
          6.198,
          6.118,
          4.668,
          4.722,
          6.354,
          4.366,
          null,
          null,
          7.343,
          7.48,
          5.467,
          3.231,
          6.008,
          null,
          4.085,
          6.192,
          5.373,
          4.189,
          4.332,
          6.825,
          7.054,
          6.892,
          6.293,
          4.707,
          5.175,
          3.38,
          4.107,
          3.663
         ],
         "yaxis": "y2"
        },
        {
         "marker": {
          "color": "blue",
          "opacity": 0.7,
          "size": 4
         },
         "mode": "markers",
         "name": "Personal Freedom Score",
         "type": "scatter",
         "x": [
          8.27,
          5.24,
          6.25,
          8.68,
          8.56,
          9.3,
          9.27,
          5.73,
          8.82,
          4,
          5.21,
          8.56,
          6.12,
          9.22,
          8.24,
          7.67,
          6.8,
          7.27,
          7.78,
          7.97,
          7.71,
          8.1,
          7.24,
          4.38,
          8.99,
          5.75,
          5.02,
          9.43,
          5.9,
          5.25,
          8.95,
          4.52,
          7.03,
          5.62,
          5.72,
          8.71,
          7.21,
          7.21,
          7.21,
          7.21,
          7.21,
          7.21,
          8.67,
          8.91,
          9.06,
          9.57,
          5.05,
          8.07,
          7.87,
          3.36,
          7.35,
          9.54,
          5.44,
          5.67,
          8.07,
          9.56,
          8.77,
          7.26,
          6.65,
          7.62,
          9.32,
          7.99,
          8.28,
          7.25,
          5.74,
          7.55,
          7.92,
          7.57,
          6.79,
          7.72,
          9.5,
          6.18,
          6.78,
          3.73,
          4.91,
          9.49,
          7.6,
          9.02,
          8.1,
          9.31,
          6.15,
          5.95,
          6.26,
          8.81,
          5.82,
          6.92,
          4.99,
          4.99,
          4.99,
          4.99,
          4.99,
          4.99,
          9.1,
          6.54,
          7.38,
          6.93,
          9.08,
          9.53,
          7.26,
          7.63,
          6.77,
          6.39,
          8.73,
          4.86,
          7.88,
          6.51,
          7.79,
          8.36,
          8.11,
          4.93,
          6.98,
          5.28,
          8.16,
          7.2,
          9.41,
          9.38,
          5.47,
          6.52,
          6.52,
          5.44,
          5.44,
          8.04,
          9.56,
          5.06,
          5.1,
          8.09,
          8,
          7.7,
          7.87,
          6.23,
          8.43,
          9.35,
          5.13,
          8.52,
          5.43,
          3.27,
          7.35,
          7.71,
          7.71,
          8.11,
          6.9,
          7.19,
          8.54,
          8.97,
          3.61,
          7.41,
          8.92,
          6.29,
          4.38,
          8.58,
          9.67,
          9.65,
          4.66,
          6.08,
          6.64,
          8.39,
          6.43,
          8.18,
          5.02,
          5.28,
          7.17,
          4.9,
          9.23,
          9.11,
          9.13,
          4.64,
          5.27,
          2.75,
          6.34,
          5.8
         ],
         "xaxis": "x3",
         "y": [
          4.719,
          5.211,
          null,
          6.086,
          4.559,
          7.228,
          7.246,
          5.208,
          null,
          6.199,
          4.456,
          null,
          5.323,
          6.923,
          null,
          4.883,
          5.082,
          5.779,
          5.386,
          3.488,
          6.3,
          5.011,
          4.587,
          3.775,
          null,
          4.7,
          5.044,
          7.278,
          3.083,
          4.35,
          6.444,
          5.191,
          6.125,
          3.973,
          null,
          7.167,
          5.718,
          4.944,
          4.812,
          4.796,
          4.696,
          4.418,
          5.432,
          6.046,
          6.852,
          7.6,
          null,
          5.425,
          6.028,
          4.166,
          6.253,
          5.893,
          4.212,
          4.286,
          null,
          7.769,
          6.592,
          4.799,
          4.516,
          4.519,
          6.985,
          4.996,
          5.287,
          6.436,
          4.534,
          null,
          null,
          3.597,
          5.86,
          5.758,
          7.494,
          4.015,
          5.192,
          4.548,
          4.437,
          7.021,
          7.139,
          6.223,
          5.89,
          5.886,
          4.906,
          5.809,
          4.509,
          5.895,
          6.021,
          5.261,
          5.718,
          4.944,
          4.812,
          4.796,
          4.696,
          4.418,
          5.94,
          5.197,
          3.802,
          3.975,
          6.149,
          7.09,
          3.933,
          3.41,
          5.339,
          4.39,
          6.726,
          4.49,
          5.888,
          6.595,
          5.529,
          5.285,
          5.523,
          5.208,
          4.466,
          4.36,
          4.639,
          4.913,
          7.488,
          7.307,
          6.105,
          5.265,
          4.628,
          5.265,
          4.628,
          5.274,
          7.554,
          null,
          5.653,
          6.321,
          null,
          5.743,
          5.697,
          5.631,
          6.182,
          5.693,
          6.374,
          6.07,
          3.334,
          6.375,
          4.681,
          6.1,
          5.603,
          null,
          4.374,
          6.262,
          6.198,
          6.118,
          4.668,
          4.722,
          6.354,
          4.366,
          null,
          null,
          7.343,
          7.48,
          5.467,
          3.231,
          6.008,
          null,
          4.085,
          6.192,
          5.373,
          4.189,
          4.332,
          6.825,
          7.054,
          6.892,
          6.293,
          4.707,
          5.175,
          3.38,
          4.107,
          3.663
         ],
         "yaxis": "y3"
        }
       ],
       "layout": {
        "annotations": [
         {
          "font": {
           "size": 16
          },
          "showarrow": false,
          "text": "Human Freedom Score",
          "x": 0.14444444444444446,
          "xanchor": "center",
          "xref": "paper",
          "y": 1,
          "yanchor": "bottom",
          "yref": "paper"
         },
         {
          "font": {
           "size": 16
          },
          "showarrow": false,
          "text": "Economic Freedom Score",
          "x": 0.5,
          "xanchor": "center",
          "xref": "paper",
          "y": 1,
          "yanchor": "bottom",
          "yref": "paper"
         },
         {
          "font": {
           "size": 16
          },
          "showarrow": false,
          "text": "Personal Freedom Score",
          "x": 0.8555555555555556,
          "xanchor": "center",
          "xref": "paper",
          "y": 1,
          "yanchor": "bottom",
          "yref": "paper"
         }
        ],
        "height": 400,
        "showlegend": true,
        "template": {
         "data": {
          "bar": [
           {
            "error_x": {
             "color": "#2a3f5f"
            },
            "error_y": {
             "color": "#2a3f5f"
            },
            "marker": {
             "line": {
              "color": "#E5ECF6",
              "width": 0.5
             },
             "pattern": {
              "fillmode": "overlay",
              "size": 10,
              "solidity": 0.2
             }
            },
            "type": "bar"
           }
          ],
          "barpolar": [
           {
            "marker": {
             "line": {
              "color": "#E5ECF6",
              "width": 0.5
             },
             "pattern": {
              "fillmode": "overlay",
              "size": 10,
              "solidity": 0.2
             }
            },
            "type": "barpolar"
           }
          ],
          "carpet": [
           {
            "aaxis": {
             "endlinecolor": "#2a3f5f",
             "gridcolor": "white",
             "linecolor": "white",
             "minorgridcolor": "white",
             "startlinecolor": "#2a3f5f"
            },
            "baxis": {
             "endlinecolor": "#2a3f5f",
             "gridcolor": "white",
             "linecolor": "white",
             "minorgridcolor": "white",
             "startlinecolor": "#2a3f5f"
            },
            "type": "carpet"
           }
          ],
          "choropleth": [
           {
            "colorbar": {
             "outlinewidth": 0,
             "ticks": ""
            },
            "type": "choropleth"
           }
          ],
          "contour": [
           {
            "colorbar": {
             "outlinewidth": 0,
             "ticks": ""
            },
            "colorscale": [
             [
              0,
              "#0d0887"
             ],
             [
              0.1111111111111111,
              "#46039f"
             ],
             [
              0.2222222222222222,
              "#7201a8"
             ],
             [
              0.3333333333333333,
              "#9c179e"
             ],
             [
              0.4444444444444444,
              "#bd3786"
             ],
             [
              0.5555555555555556,
              "#d8576b"
             ],
             [
              0.6666666666666666,
              "#ed7953"
             ],
             [
              0.7777777777777778,
              "#fb9f3a"
             ],
             [
              0.8888888888888888,
              "#fdca26"
             ],
             [
              1,
              "#f0f921"
             ]
            ],
            "type": "contour"
           }
          ],
          "contourcarpet": [
           {
            "colorbar": {
             "outlinewidth": 0,
             "ticks": ""
            },
            "type": "contourcarpet"
           }
          ],
          "heatmap": [
           {
            "colorbar": {
             "outlinewidth": 0,
             "ticks": ""
            },
            "colorscale": [
             [
              0,
              "#0d0887"
             ],
             [
              0.1111111111111111,
              "#46039f"
             ],
             [
              0.2222222222222222,
              "#7201a8"
             ],
             [
              0.3333333333333333,
              "#9c179e"
             ],
             [
              0.4444444444444444,
              "#bd3786"
             ],
             [
              0.5555555555555556,
              "#d8576b"
             ],
             [
              0.6666666666666666,
              "#ed7953"
             ],
             [
              0.7777777777777778,
              "#fb9f3a"
             ],
             [
              0.8888888888888888,
              "#fdca26"
             ],
             [
              1,
              "#f0f921"
             ]
            ],
            "type": "heatmap"
           }
          ],
          "heatmapgl": [
           {
            "colorbar": {
             "outlinewidth": 0,
             "ticks": ""
            },
            "colorscale": [
             [
              0,
              "#0d0887"
             ],
             [
              0.1111111111111111,
              "#46039f"
             ],
             [
              0.2222222222222222,
              "#7201a8"
             ],
             [
              0.3333333333333333,
              "#9c179e"
             ],
             [
              0.4444444444444444,
              "#bd3786"
             ],
             [
              0.5555555555555556,
              "#d8576b"
             ],
             [
              0.6666666666666666,
              "#ed7953"
             ],
             [
              0.7777777777777778,
              "#fb9f3a"
             ],
             [
              0.8888888888888888,
              "#fdca26"
             ],
             [
              1,
              "#f0f921"
             ]
            ],
            "type": "heatmapgl"
           }
          ],
          "histogram": [
           {
            "marker": {
             "pattern": {
              "fillmode": "overlay",
              "size": 10,
              "solidity": 0.2
             }
            },
            "type": "histogram"
           }
          ],
          "histogram2d": [
           {
            "colorbar": {
             "outlinewidth": 0,
             "ticks": ""
            },
            "colorscale": [
             [
              0,
              "#0d0887"
             ],
             [
              0.1111111111111111,
              "#46039f"
             ],
             [
              0.2222222222222222,
              "#7201a8"
             ],
             [
              0.3333333333333333,
              "#9c179e"
             ],
             [
              0.4444444444444444,
              "#bd3786"
             ],
             [
              0.5555555555555556,
              "#d8576b"
             ],
             [
              0.6666666666666666,
              "#ed7953"
             ],
             [
              0.7777777777777778,
              "#fb9f3a"
             ],
             [
              0.8888888888888888,
              "#fdca26"
             ],
             [
              1,
              "#f0f921"
             ]
            ],
            "type": "histogram2d"
           }
          ],
          "histogram2dcontour": [
           {
            "colorbar": {
             "outlinewidth": 0,
             "ticks": ""
            },
            "colorscale": [
             [
              0,
              "#0d0887"
             ],
             [
              0.1111111111111111,
              "#46039f"
             ],
             [
              0.2222222222222222,
              "#7201a8"
             ],
             [
              0.3333333333333333,
              "#9c179e"
             ],
             [
              0.4444444444444444,
              "#bd3786"
             ],
             [
              0.5555555555555556,
              "#d8576b"
             ],
             [
              0.6666666666666666,
              "#ed7953"
             ],
             [
              0.7777777777777778,
              "#fb9f3a"
             ],
             [
              0.8888888888888888,
              "#fdca26"
             ],
             [
              1,
              "#f0f921"
             ]
            ],
            "type": "histogram2dcontour"
           }
          ],
          "mesh3d": [
           {
            "colorbar": {
             "outlinewidth": 0,
             "ticks": ""
            },
            "type": "mesh3d"
           }
          ],
          "parcoords": [
           {
            "line": {
             "colorbar": {
              "outlinewidth": 0,
              "ticks": ""
             }
            },
            "type": "parcoords"
           }
          ],
          "pie": [
           {
            "automargin": true,
            "type": "pie"
           }
          ],
          "scatter": [
           {
            "fillpattern": {
             "fillmode": "overlay",
             "size": 10,
             "solidity": 0.2
            },
            "type": "scatter"
           }
          ],
          "scatter3d": [
           {
            "line": {
             "colorbar": {
              "outlinewidth": 0,
              "ticks": ""
             }
            },
            "marker": {
             "colorbar": {
              "outlinewidth": 0,
              "ticks": ""
             }
            },
            "type": "scatter3d"
           }
          ],
          "scattercarpet": [
           {
            "marker": {
             "colorbar": {
              "outlinewidth": 0,
              "ticks": ""
             }
            },
            "type": "scattercarpet"
           }
          ],
          "scattergeo": [
           {
            "marker": {
             "colorbar": {
              "outlinewidth": 0,
              "ticks": ""
             }
            },
            "type": "scattergeo"
           }
          ],
          "scattergl": [
           {
            "marker": {
             "colorbar": {
              "outlinewidth": 0,
              "ticks": ""
             }
            },
            "type": "scattergl"
           }
          ],
          "scattermapbox": [
           {
            "marker": {
             "colorbar": {
              "outlinewidth": 0,
              "ticks": ""
             }
            },
            "type": "scattermapbox"
           }
          ],
          "scatterpolar": [
           {
            "marker": {
             "colorbar": {
              "outlinewidth": 0,
              "ticks": ""
             }
            },
            "type": "scatterpolar"
           }
          ],
          "scatterpolargl": [
           {
            "marker": {
             "colorbar": {
              "outlinewidth": 0,
              "ticks": ""
             }
            },
            "type": "scatterpolargl"
           }
          ],
          "scatterternary": [
           {
            "marker": {
             "colorbar": {
              "outlinewidth": 0,
              "ticks": ""
             }
            },
            "type": "scatterternary"
           }
          ],
          "surface": [
           {
            "colorbar": {
             "outlinewidth": 0,
             "ticks": ""
            },
            "colorscale": [
             [
              0,
              "#0d0887"
             ],
             [
              0.1111111111111111,
              "#46039f"
             ],
             [
              0.2222222222222222,
              "#7201a8"
             ],
             [
              0.3333333333333333,
              "#9c179e"
             ],
             [
              0.4444444444444444,
              "#bd3786"
             ],
             [
              0.5555555555555556,
              "#d8576b"
             ],
             [
              0.6666666666666666,
              "#ed7953"
             ],
             [
              0.7777777777777778,
              "#fb9f3a"
             ],
             [
              0.8888888888888888,
              "#fdca26"
             ],
             [
              1,
              "#f0f921"
             ]
            ],
            "type": "surface"
           }
          ],
          "table": [
           {
            "cells": {
             "fill": {
              "color": "#EBF0F8"
             },
             "line": {
              "color": "white"
             }
            },
            "header": {
             "fill": {
              "color": "#C8D4E3"
             },
             "line": {
              "color": "white"
             }
            },
            "type": "table"
           }
          ]
         },
         "layout": {
          "annotationdefaults": {
           "arrowcolor": "#2a3f5f",
           "arrowhead": 0,
           "arrowwidth": 1
          },
          "autotypenumbers": "strict",
          "coloraxis": {
           "colorbar": {
            "outlinewidth": 0,
            "ticks": ""
           }
          },
          "colorscale": {
           "diverging": [
            [
             0,
             "#8e0152"
            ],
            [
             0.1,
             "#c51b7d"
            ],
            [
             0.2,
             "#de77ae"
            ],
            [
             0.3,
             "#f1b6da"
            ],
            [
             0.4,
             "#fde0ef"
            ],
            [
             0.5,
             "#f7f7f7"
            ],
            [
             0.6,
             "#e6f5d0"
            ],
            [
             0.7,
             "#b8e186"
            ],
            [
             0.8,
             "#7fbc41"
            ],
            [
             0.9,
             "#4d9221"
            ],
            [
             1,
             "#276419"
            ]
           ],
           "sequential": [
            [
             0,
             "#0d0887"
            ],
            [
             0.1111111111111111,
             "#46039f"
            ],
            [
             0.2222222222222222,
             "#7201a8"
            ],
            [
             0.3333333333333333,
             "#9c179e"
            ],
            [
             0.4444444444444444,
             "#bd3786"
            ],
            [
             0.5555555555555556,
             "#d8576b"
            ],
            [
             0.6666666666666666,
             "#ed7953"
            ],
            [
             0.7777777777777778,
             "#fb9f3a"
            ],
            [
             0.8888888888888888,
             "#fdca26"
            ],
            [
             1,
             "#f0f921"
            ]
           ],
           "sequentialminus": [
            [
             0,
             "#0d0887"
            ],
            [
             0.1111111111111111,
             "#46039f"
            ],
            [
             0.2222222222222222,
             "#7201a8"
            ],
            [
             0.3333333333333333,
             "#9c179e"
            ],
            [
             0.4444444444444444,
             "#bd3786"
            ],
            [
             0.5555555555555556,
             "#d8576b"
            ],
            [
             0.6666666666666666,
             "#ed7953"
            ],
            [
             0.7777777777777778,
             "#fb9f3a"
            ],
            [
             0.8888888888888888,
             "#fdca26"
            ],
            [
             1,
             "#f0f921"
            ]
           ]
          },
          "colorway": [
           "#636efa",
           "#EF553B",
           "#00cc96",
           "#ab63fa",
           "#FFA15A",
           "#19d3f3",
           "#FF6692",
           "#B6E880",
           "#FF97FF",
           "#FECB52"
          ],
          "font": {
           "color": "#2a3f5f"
          },
          "geo": {
           "bgcolor": "white",
           "lakecolor": "white",
           "landcolor": "#E5ECF6",
           "showlakes": true,
           "showland": true,
           "subunitcolor": "white"
          },
          "hoverlabel": {
           "align": "left"
          },
          "hovermode": "closest",
          "mapbox": {
           "style": "light"
          },
          "paper_bgcolor": "white",
          "plot_bgcolor": "#E5ECF6",
          "polar": {
           "angularaxis": {
            "gridcolor": "white",
            "linecolor": "white",
            "ticks": ""
           },
           "bgcolor": "#E5ECF6",
           "radialaxis": {
            "gridcolor": "white",
            "linecolor": "white",
            "ticks": ""
           }
          },
          "scene": {
           "xaxis": {
            "backgroundcolor": "#E5ECF6",
            "gridcolor": "white",
            "gridwidth": 2,
            "linecolor": "white",
            "showbackground": true,
            "ticks": "",
            "zerolinecolor": "white"
           },
           "yaxis": {
            "backgroundcolor": "#E5ECF6",
            "gridcolor": "white",
            "gridwidth": 2,
            "linecolor": "white",
            "showbackground": true,
            "ticks": "",
            "zerolinecolor": "white"
           },
           "zaxis": {
            "backgroundcolor": "#E5ECF6",
            "gridcolor": "white",
            "gridwidth": 2,
            "linecolor": "white",
            "showbackground": true,
            "ticks": "",
            "zerolinecolor": "white"
           }
          },
          "shapedefaults": {
           "line": {
            "color": "#2a3f5f"
           }
          },
          "ternary": {
           "aaxis": {
            "gridcolor": "white",
            "linecolor": "white",
            "ticks": ""
           },
           "baxis": {
            "gridcolor": "white",
            "linecolor": "white",
            "ticks": ""
           },
           "bgcolor": "#E5ECF6",
           "caxis": {
            "gridcolor": "white",
            "linecolor": "white",
            "ticks": ""
           }
          },
          "title": {
           "x": 0.05
          },
          "xaxis": {
           "automargin": true,
           "gridcolor": "white",
           "linecolor": "white",
           "ticks": "",
           "title": {
            "standoff": 15
           },
           "zerolinecolor": "white",
           "zerolinewidth": 2
          },
          "yaxis": {
           "automargin": true,
           "gridcolor": "white",
           "linecolor": "white",
           "ticks": "",
           "title": {
            "standoff": 15
           },
           "zerolinecolor": "white",
           "zerolinewidth": 2
          }
         }
        },
        "title": {
         "text": "Freedom Scores Against Happiness"
        },
        "width": 1200,
        "xaxis": {
         "anchor": "y",
         "domain": [
          0,
          0.2888888888888889
         ],
         "title": {
          "text": "Human Freedom Score"
         }
        },
        "xaxis2": {
         "anchor": "y2",
         "domain": [
          0.35555555555555557,
          0.6444444444444445
         ],
         "title": {
          "text": "Economic Freedom Score"
         }
        },
        "xaxis3": {
         "anchor": "y3",
         "domain": [
          0.7111111111111111,
          1
         ],
         "title": {
          "text": "Personal Freedom Score"
         }
        },
        "yaxis": {
         "anchor": "x",
         "domain": [
          0,
          1
         ],
         "title": {
          "text": "Happiness Score"
         }
        },
        "yaxis2": {
         "anchor": "x2",
         "domain": [
          0,
          1
         ],
         "title": {
          "text": "Happiness Score"
         }
        },
        "yaxis3": {
         "anchor": "x3",
         "domain": [
          0,
          1
         ],
         "title": {
          "text": "Happiness Score"
         }
        }
       }
      },
      "text/html": [
       "<div>                            <div id=\"a5ec8f5d-6370-4578-8d28-ce718028457e\" class=\"plotly-graph-div\" style=\"height:400px; width:1200px;\"></div>            <script type=\"text/javascript\">                require([\"plotly\"], function(Plotly) {                    window.PLOTLYENV=window.PLOTLYENV || {};                                    if (document.getElementById(\"a5ec8f5d-6370-4578-8d28-ce718028457e\")) {                    Plotly.newPlot(                        \"a5ec8f5d-6370-4578-8d28-ce718028457e\",                        [{\"marker\":{\"color\":\"blue\",\"opacity\":0.7,\"size\":4},\"mode\":\"markers\",\"name\":\"Human Freedom Score\",\"x\":[8.07,5.08,5.96,7.33,8.32,8.83,8.68,6.02,8.15,5.43,5.56,7.93,6.27,8.55,7.48,7.25,6.68,6.88,7.43,7.76,7.25,7.97,6.83,4.91,8.44,6.43,5.34,8.85,5.68,5.41,8.5,5.27,6.95,5.91,5.33,8.28,6.78,6.78,6.78,6.78,6.78,6.78,8.15,8.49,8.61,9.01,5.63,7.87,7.37,4.35,7.34,8.94,5.73,5.73,7.35,8.87,8.26,6.66,6.82,7.85,8.73,7.46,7.83,7.47,5.82,6.78,7.04,7.2,6.98,7.63,8.84,6.42,6.98,4.27,5.12,8.95,7.61,8.43,7.9,8.75,6.71,6.63,6.57,8.31,6.2,7.02,5.68,5.68,5.68,5.68,5.68,5.68,8.62,6.67,7.0,6.6,8.72,8.85,6.86,6.92,7.08,6.19,8.43,5.56,8.02,6.8,7.6,7.97,7.91,5.68,6.77,5.4,7.57,7.01,8.8,9.04,6.13,6.14,6.14,6.1,6.1,7.68,8.81,5.77,5.48,7.94,7.17,7.46,7.83,6.69,7.92,8.69,5.96,8.25,6.19,4.77,6.9,7.5,7.5,7.91,6.47,7.86,8.15,8.33,4.71,7.15,8.49,6.47,4.04,7.51,8.85,9.17,5.44,6.29,6.75,7.36,6.28,7.78,5.63,6.17,6.77,5.89,8.79,8.75,8.4,3.9,5.74,3.99,6.6,5.3],\"y\":[4.719,5.211,null,6.086,4.559,7.228,7.246,5.208,null,6.199,4.456,null,5.323,6.923,null,4.883,5.082,5.779,5.386,3.488,6.3,5.011,4.587,3.775,null,4.7,5.044,7.278,3.083,4.35,6.444,5.191,6.125,3.973,null,7.167,5.718,4.944,4.812,4.796,4.696,4.418,5.432,6.046,6.852,7.6,null,5.425,6.028,4.166,6.253,5.893,4.212,4.286,null,7.769,6.592,4.799,4.516,4.519,6.985,4.996,5.287,6.436,4.534,null,null,3.597,5.86,5.758,7.494,4.015,5.192,4.548,4.437,7.021,7.139,6.223,5.89,5.886,4.906,5.809,4.509,5.895,6.021,5.261,5.718,4.944,4.812,4.796,4.696,4.418,5.94,5.197,3.802,3.975,6.149,7.09,3.933,3.41,5.339,4.39,6.726,4.49,5.888,6.595,5.529,5.285,5.523,5.208,4.466,4.36,4.639,4.913,7.488,7.307,6.105,5.265,4.628,5.265,4.628,5.274,7.554,null,5.653,6.321,null,5.743,5.697,5.631,6.182,5.693,6.374,6.07,3.334,6.375,4.681,6.1,5.603,null,4.374,6.262,6.198,6.118,4.668,4.722,6.354,4.366,null,null,7.343,7.48,5.467,3.231,6.008,null,4.085,6.192,5.373,4.189,4.332,6.825,7.054,6.892,6.293,4.707,5.175,3.38,4.107,3.663],\"type\":\"scatter\",\"xaxis\":\"x\",\"yaxis\":\"y\"},{\"marker\":{\"color\":\"blue\",\"opacity\":0.7,\"size\":4},\"mode\":\"markers\",\"name\":\"Economic Freedom Score\",\"x\":[7.79,4.86,5.55,5.44,7.98,8.17,7.86,6.43,7.21,7.43,6.04,7.05,6.48,7.62,6.41,6.66,6.52,6.32,6.94,7.47,6.6,7.79,6.25,5.67,7.65,7.38,5.79,8.05,5.37,5.63,7.86,6.33,6.83,6.33,4.78,7.67,6.17,6.17,6.17,6.17,6.17,6.17,7.42,7.89,7.98,8.23,6.45,7.6,6.68,5.74,7.34,8.11,6.14,5.82,6.36,7.92,7.55,5.83,7.06,8.16,7.89,6.72,7.19,7.78,5.94,5.7,5.81,6.68,7.24,7.51,7.91,6.76,7.26,5.02,5.41,8.19,7.63,7.61,7.61,7.97,7.51,7.6,7.0,7.62,6.74,7.17,6.65,6.65,6.65,6.65,6.65,6.65,7.94,6.85,6.46,6.16,8.22,7.89,6.32,5.94,7.52,5.9,8.02,6.55,8.2,7.2,7.32,7.42,7.63,6.74,6.47,5.56,6.75,6.73,7.96,8.56,7.04,5.62,5.62,7.03,7.03,7.17,7.75,6.77,6.0,7.74,6.01,7.11,7.78,7.34,7.22,7.77,7.11,7.87,7.25,6.89,6.26,7.21,7.21,7.63,5.85,8.81,7.61,7.43,6.25,6.79,7.89,6.72,3.58,6.0,7.7,8.49,6.54,6.58,6.91,5.92,6.07,7.22,6.49,7.41,6.2,7.28,8.16,8.25,7.38,2.87,6.4,5.72,6.95,4.6],\"y\":[4.719,5.211,null,6.086,4.559,7.228,7.246,5.208,null,6.199,4.456,null,5.323,6.923,null,4.883,5.082,5.779,5.386,3.488,6.3,5.011,4.587,3.775,null,4.7,5.044,7.278,3.083,4.35,6.444,5.191,6.125,3.973,null,7.167,5.718,4.944,4.812,4.796,4.696,4.418,5.432,6.046,6.852,7.6,null,5.425,6.028,4.166,6.253,5.893,4.212,4.286,null,7.769,6.592,4.799,4.516,4.519,6.985,4.996,5.287,6.436,4.534,null,null,3.597,5.86,5.758,7.494,4.015,5.192,4.548,4.437,7.021,7.139,6.223,5.89,5.886,4.906,5.809,4.509,5.895,6.021,5.261,5.718,4.944,4.812,4.796,4.696,4.418,5.94,5.197,3.802,3.975,6.149,7.09,3.933,3.41,5.339,4.39,6.726,4.49,5.888,6.595,5.529,5.285,5.523,5.208,4.466,4.36,4.639,4.913,7.488,7.307,6.105,5.265,4.628,5.265,4.628,5.274,7.554,null,5.653,6.321,null,5.743,5.697,5.631,6.182,5.693,6.374,6.07,3.334,6.375,4.681,6.1,5.603,null,4.374,6.262,6.198,6.118,4.668,4.722,6.354,4.366,null,null,7.343,7.48,5.467,3.231,6.008,null,4.085,6.192,5.373,4.189,4.332,6.825,7.054,6.892,6.293,4.707,5.175,3.38,4.107,3.663],\"type\":\"scatter\",\"xaxis\":\"x2\",\"yaxis\":\"y2\"},{\"marker\":{\"color\":\"blue\",\"opacity\":0.7,\"size\":4},\"mode\":\"markers\",\"name\":\"Personal Freedom Score\",\"x\":[8.27,5.24,6.25,8.68,8.56,9.3,9.27,5.73,8.82,4.0,5.21,8.56,6.12,9.22,8.24,7.67,6.8,7.27,7.78,7.97,7.71,8.1,7.24,4.38,8.99,5.75,5.02,9.43,5.9,5.25,8.95,4.52,7.03,5.62,5.72,8.71,7.21,7.21,7.21,7.21,7.21,7.21,8.67,8.91,9.06,9.57,5.05,8.07,7.87,3.36,7.35,9.54,5.44,5.67,8.07,9.56,8.77,7.26,6.65,7.62,9.32,7.99,8.28,7.25,5.74,7.55,7.92,7.57,6.79,7.72,9.5,6.18,6.78,3.73,4.91,9.49,7.6,9.02,8.1,9.31,6.15,5.95,6.26,8.81,5.82,6.92,4.99,4.99,4.99,4.99,4.99,4.99,9.1,6.54,7.38,6.93,9.08,9.53,7.26,7.63,6.77,6.39,8.73,4.86,7.88,6.51,7.79,8.36,8.11,4.93,6.98,5.28,8.16,7.2,9.41,9.38,5.47,6.52,6.52,5.44,5.44,8.04,9.56,5.06,5.1,8.09,8.0,7.7,7.87,6.23,8.43,9.35,5.13,8.52,5.43,3.27,7.35,7.71,7.71,8.11,6.9,7.19,8.54,8.97,3.61,7.41,8.92,6.29,4.38,8.58,9.67,9.65,4.66,6.08,6.64,8.39,6.43,8.18,5.02,5.28,7.17,4.9,9.23,9.11,9.13,4.64,5.27,2.75,6.34,5.8],\"y\":[4.719,5.211,null,6.086,4.559,7.228,7.246,5.208,null,6.199,4.456,null,5.323,6.923,null,4.883,5.082,5.779,5.386,3.488,6.3,5.011,4.587,3.775,null,4.7,5.044,7.278,3.083,4.35,6.444,5.191,6.125,3.973,null,7.167,5.718,4.944,4.812,4.796,4.696,4.418,5.432,6.046,6.852,7.6,null,5.425,6.028,4.166,6.253,5.893,4.212,4.286,null,7.769,6.592,4.799,4.516,4.519,6.985,4.996,5.287,6.436,4.534,null,null,3.597,5.86,5.758,7.494,4.015,5.192,4.548,4.437,7.021,7.139,6.223,5.89,5.886,4.906,5.809,4.509,5.895,6.021,5.261,5.718,4.944,4.812,4.796,4.696,4.418,5.94,5.197,3.802,3.975,6.149,7.09,3.933,3.41,5.339,4.39,6.726,4.49,5.888,6.595,5.529,5.285,5.523,5.208,4.466,4.36,4.639,4.913,7.488,7.307,6.105,5.265,4.628,5.265,4.628,5.274,7.554,null,5.653,6.321,null,5.743,5.697,5.631,6.182,5.693,6.374,6.07,3.334,6.375,4.681,6.1,5.603,null,4.374,6.262,6.198,6.118,4.668,4.722,6.354,4.366,null,null,7.343,7.48,5.467,3.231,6.008,null,4.085,6.192,5.373,4.189,4.332,6.825,7.054,6.892,6.293,4.707,5.175,3.38,4.107,3.663],\"type\":\"scatter\",\"xaxis\":\"x3\",\"yaxis\":\"y3\"}],                        {\"template\":{\"data\":{\"histogram2dcontour\":[{\"type\":\"histogram2dcontour\",\"colorbar\":{\"outlinewidth\":0,\"ticks\":\"\"},\"colorscale\":[[0.0,\"#0d0887\"],[0.1111111111111111,\"#46039f\"],[0.2222222222222222,\"#7201a8\"],[0.3333333333333333,\"#9c179e\"],[0.4444444444444444,\"#bd3786\"],[0.5555555555555556,\"#d8576b\"],[0.6666666666666666,\"#ed7953\"],[0.7777777777777778,\"#fb9f3a\"],[0.8888888888888888,\"#fdca26\"],[1.0,\"#f0f921\"]]}],\"choropleth\":[{\"type\":\"choropleth\",\"colorbar\":{\"outlinewidth\":0,\"ticks\":\"\"}}],\"histogram2d\":[{\"type\":\"histogram2d\",\"colorbar\":{\"outlinewidth\":0,\"ticks\":\"\"},\"colorscale\":[[0.0,\"#0d0887\"],[0.1111111111111111,\"#46039f\"],[0.2222222222222222,\"#7201a8\"],[0.3333333333333333,\"#9c179e\"],[0.4444444444444444,\"#bd3786\"],[0.5555555555555556,\"#d8576b\"],[0.6666666666666666,\"#ed7953\"],[0.7777777777777778,\"#fb9f3a\"],[0.8888888888888888,\"#fdca26\"],[1.0,\"#f0f921\"]]}],\"heatmap\":[{\"type\":\"heatmap\",\"colorbar\":{\"outlinewidth\":0,\"ticks\":\"\"},\"colorscale\":[[0.0,\"#0d0887\"],[0.1111111111111111,\"#46039f\"],[0.2222222222222222,\"#7201a8\"],[0.3333333333333333,\"#9c179e\"],[0.4444444444444444,\"#bd3786\"],[0.5555555555555556,\"#d8576b\"],[0.6666666666666666,\"#ed7953\"],[0.7777777777777778,\"#fb9f3a\"],[0.8888888888888888,\"#fdca26\"],[1.0,\"#f0f921\"]]}],\"heatmapgl\":[{\"type\":\"heatmapgl\",\"colorbar\":{\"outlinewidth\":0,\"ticks\":\"\"},\"colorscale\":[[0.0,\"#0d0887\"],[0.1111111111111111,\"#46039f\"],[0.2222222222222222,\"#7201a8\"],[0.3333333333333333,\"#9c179e\"],[0.4444444444444444,\"#bd3786\"],[0.5555555555555556,\"#d8576b\"],[0.6666666666666666,\"#ed7953\"],[0.7777777777777778,\"#fb9f3a\"],[0.8888888888888888,\"#fdca26\"],[1.0,\"#f0f921\"]]}],\"contourcarpet\":[{\"type\":\"contourcarpet\",\"colorbar\":{\"outlinewidth\":0,\"ticks\":\"\"}}],\"contour\":[{\"type\":\"contour\",\"colorbar\":{\"outlinewidth\":0,\"ticks\":\"\"},\"colorscale\":[[0.0,\"#0d0887\"],[0.1111111111111111,\"#46039f\"],[0.2222222222222222,\"#7201a8\"],[0.3333333333333333,\"#9c179e\"],[0.4444444444444444,\"#bd3786\"],[0.5555555555555556,\"#d8576b\"],[0.6666666666666666,\"#ed7953\"],[0.7777777777777778,\"#fb9f3a\"],[0.8888888888888888,\"#fdca26\"],[1.0,\"#f0f921\"]]}],\"surface\":[{\"type\":\"surface\",\"colorbar\":{\"outlinewidth\":0,\"ticks\":\"\"},\"colorscale\":[[0.0,\"#0d0887\"],[0.1111111111111111,\"#46039f\"],[0.2222222222222222,\"#7201a8\"],[0.3333333333333333,\"#9c179e\"],[0.4444444444444444,\"#bd3786\"],[0.5555555555555556,\"#d8576b\"],[0.6666666666666666,\"#ed7953\"],[0.7777777777777778,\"#fb9f3a\"],[0.8888888888888888,\"#fdca26\"],[1.0,\"#f0f921\"]]}],\"mesh3d\":[{\"type\":\"mesh3d\",\"colorbar\":{\"outlinewidth\":0,\"ticks\":\"\"}}],\"scatter\":[{\"fillpattern\":{\"fillmode\":\"overlay\",\"size\":10,\"solidity\":0.2},\"type\":\"scatter\"}],\"parcoords\":[{\"type\":\"parcoords\",\"line\":{\"colorbar\":{\"outlinewidth\":0,\"ticks\":\"\"}}}],\"scatterpolargl\":[{\"type\":\"scatterpolargl\",\"marker\":{\"colorbar\":{\"outlinewidth\":0,\"ticks\":\"\"}}}],\"bar\":[{\"error_x\":{\"color\":\"#2a3f5f\"},\"error_y\":{\"color\":\"#2a3f5f\"},\"marker\":{\"line\":{\"color\":\"#E5ECF6\",\"width\":0.5},\"pattern\":{\"fillmode\":\"overlay\",\"size\":10,\"solidity\":0.2}},\"type\":\"bar\"}],\"scattergeo\":[{\"type\":\"scattergeo\",\"marker\":{\"colorbar\":{\"outlinewidth\":0,\"ticks\":\"\"}}}],\"scatterpolar\":[{\"type\":\"scatterpolar\",\"marker\":{\"colorbar\":{\"outlinewidth\":0,\"ticks\":\"\"}}}],\"histogram\":[{\"marker\":{\"pattern\":{\"fillmode\":\"overlay\",\"size\":10,\"solidity\":0.2}},\"type\":\"histogram\"}],\"scattergl\":[{\"type\":\"scattergl\",\"marker\":{\"colorbar\":{\"outlinewidth\":0,\"ticks\":\"\"}}}],\"scatter3d\":[{\"type\":\"scatter3d\",\"line\":{\"colorbar\":{\"outlinewidth\":0,\"ticks\":\"\"}},\"marker\":{\"colorbar\":{\"outlinewidth\":0,\"ticks\":\"\"}}}],\"scattermapbox\":[{\"type\":\"scattermapbox\",\"marker\":{\"colorbar\":{\"outlinewidth\":0,\"ticks\":\"\"}}}],\"scatterternary\":[{\"type\":\"scatterternary\",\"marker\":{\"colorbar\":{\"outlinewidth\":0,\"ticks\":\"\"}}}],\"scattercarpet\":[{\"type\":\"scattercarpet\",\"marker\":{\"colorbar\":{\"outlinewidth\":0,\"ticks\":\"\"}}}],\"carpet\":[{\"aaxis\":{\"endlinecolor\":\"#2a3f5f\",\"gridcolor\":\"white\",\"linecolor\":\"white\",\"minorgridcolor\":\"white\",\"startlinecolor\":\"#2a3f5f\"},\"baxis\":{\"endlinecolor\":\"#2a3f5f\",\"gridcolor\":\"white\",\"linecolor\":\"white\",\"minorgridcolor\":\"white\",\"startlinecolor\":\"#2a3f5f\"},\"type\":\"carpet\"}],\"table\":[{\"cells\":{\"fill\":{\"color\":\"#EBF0F8\"},\"line\":{\"color\":\"white\"}},\"header\":{\"fill\":{\"color\":\"#C8D4E3\"},\"line\":{\"color\":\"white\"}},\"type\":\"table\"}],\"barpolar\":[{\"marker\":{\"line\":{\"color\":\"#E5ECF6\",\"width\":0.5},\"pattern\":{\"fillmode\":\"overlay\",\"size\":10,\"solidity\":0.2}},\"type\":\"barpolar\"}],\"pie\":[{\"automargin\":true,\"type\":\"pie\"}]},\"layout\":{\"autotypenumbers\":\"strict\",\"colorway\":[\"#636efa\",\"#EF553B\",\"#00cc96\",\"#ab63fa\",\"#FFA15A\",\"#19d3f3\",\"#FF6692\",\"#B6E880\",\"#FF97FF\",\"#FECB52\"],\"font\":{\"color\":\"#2a3f5f\"},\"hovermode\":\"closest\",\"hoverlabel\":{\"align\":\"left\"},\"paper_bgcolor\":\"white\",\"plot_bgcolor\":\"#E5ECF6\",\"polar\":{\"bgcolor\":\"#E5ECF6\",\"angularaxis\":{\"gridcolor\":\"white\",\"linecolor\":\"white\",\"ticks\":\"\"},\"radialaxis\":{\"gridcolor\":\"white\",\"linecolor\":\"white\",\"ticks\":\"\"}},\"ternary\":{\"bgcolor\":\"#E5ECF6\",\"aaxis\":{\"gridcolor\":\"white\",\"linecolor\":\"white\",\"ticks\":\"\"},\"baxis\":{\"gridcolor\":\"white\",\"linecolor\":\"white\",\"ticks\":\"\"},\"caxis\":{\"gridcolor\":\"white\",\"linecolor\":\"white\",\"ticks\":\"\"}},\"coloraxis\":{\"colorbar\":{\"outlinewidth\":0,\"ticks\":\"\"}},\"colorscale\":{\"sequential\":[[0.0,\"#0d0887\"],[0.1111111111111111,\"#46039f\"],[0.2222222222222222,\"#7201a8\"],[0.3333333333333333,\"#9c179e\"],[0.4444444444444444,\"#bd3786\"],[0.5555555555555556,\"#d8576b\"],[0.6666666666666666,\"#ed7953\"],[0.7777777777777778,\"#fb9f3a\"],[0.8888888888888888,\"#fdca26\"],[1.0,\"#f0f921\"]],\"sequentialminus\":[[0.0,\"#0d0887\"],[0.1111111111111111,\"#46039f\"],[0.2222222222222222,\"#7201a8\"],[0.3333333333333333,\"#9c179e\"],[0.4444444444444444,\"#bd3786\"],[0.5555555555555556,\"#d8576b\"],[0.6666666666666666,\"#ed7953\"],[0.7777777777777778,\"#fb9f3a\"],[0.8888888888888888,\"#fdca26\"],[1.0,\"#f0f921\"]],\"diverging\":[[0,\"#8e0152\"],[0.1,\"#c51b7d\"],[0.2,\"#de77ae\"],[0.3,\"#f1b6da\"],[0.4,\"#fde0ef\"],[0.5,\"#f7f7f7\"],[0.6,\"#e6f5d0\"],[0.7,\"#b8e186\"],[0.8,\"#7fbc41\"],[0.9,\"#4d9221\"],[1,\"#276419\"]]},\"xaxis\":{\"gridcolor\":\"white\",\"linecolor\":\"white\",\"ticks\":\"\",\"title\":{\"standoff\":15},\"zerolinecolor\":\"white\",\"automargin\":true,\"zerolinewidth\":2},\"yaxis\":{\"gridcolor\":\"white\",\"linecolor\":\"white\",\"ticks\":\"\",\"title\":{\"standoff\":15},\"zerolinecolor\":\"white\",\"automargin\":true,\"zerolinewidth\":2},\"scene\":{\"xaxis\":{\"backgroundcolor\":\"#E5ECF6\",\"gridcolor\":\"white\",\"linecolor\":\"white\",\"showbackground\":true,\"ticks\":\"\",\"zerolinecolor\":\"white\",\"gridwidth\":2},\"yaxis\":{\"backgroundcolor\":\"#E5ECF6\",\"gridcolor\":\"white\",\"linecolor\":\"white\",\"showbackground\":true,\"ticks\":\"\",\"zerolinecolor\":\"white\",\"gridwidth\":2},\"zaxis\":{\"backgroundcolor\":\"#E5ECF6\",\"gridcolor\":\"white\",\"linecolor\":\"white\",\"showbackground\":true,\"ticks\":\"\",\"zerolinecolor\":\"white\",\"gridwidth\":2}},\"shapedefaults\":{\"line\":{\"color\":\"#2a3f5f\"}},\"annotationdefaults\":{\"arrowcolor\":\"#2a3f5f\",\"arrowhead\":0,\"arrowwidth\":1},\"geo\":{\"bgcolor\":\"white\",\"landcolor\":\"#E5ECF6\",\"subunitcolor\":\"white\",\"showland\":true,\"showlakes\":true,\"lakecolor\":\"white\"},\"title\":{\"x\":0.05},\"mapbox\":{\"style\":\"light\"}}},\"xaxis\":{\"anchor\":\"y\",\"domain\":[0.0,0.2888888888888889],\"title\":{\"text\":\"Human Freedom Score\"}},\"yaxis\":{\"anchor\":\"x\",\"domain\":[0.0,1.0],\"title\":{\"text\":\"Happiness Score\"}},\"xaxis2\":{\"anchor\":\"y2\",\"domain\":[0.35555555555555557,0.6444444444444445],\"title\":{\"text\":\"Economic Freedom Score\"}},\"yaxis2\":{\"anchor\":\"x2\",\"domain\":[0.0,1.0],\"title\":{\"text\":\"Happiness Score\"}},\"xaxis3\":{\"anchor\":\"y3\",\"domain\":[0.7111111111111111,1.0],\"title\":{\"text\":\"Personal Freedom Score\"}},\"yaxis3\":{\"anchor\":\"x3\",\"domain\":[0.0,1.0],\"title\":{\"text\":\"Happiness Score\"}},\"annotations\":[{\"font\":{\"size\":16},\"showarrow\":false,\"text\":\"Human Freedom Score\",\"x\":0.14444444444444446,\"xanchor\":\"center\",\"xref\":\"paper\",\"y\":1.0,\"yanchor\":\"bottom\",\"yref\":\"paper\"},{\"font\":{\"size\":16},\"showarrow\":false,\"text\":\"Economic Freedom Score\",\"x\":0.5,\"xanchor\":\"center\",\"xref\":\"paper\",\"y\":1.0,\"yanchor\":\"bottom\",\"yref\":\"paper\"},{\"font\":{\"size\":16},\"showarrow\":false,\"text\":\"Personal Freedom Score\",\"x\":0.8555555555555556,\"xanchor\":\"center\",\"xref\":\"paper\",\"y\":1.0,\"yanchor\":\"bottom\",\"yref\":\"paper\"}],\"title\":{\"text\":\"Freedom Scores Against Happiness\"},\"height\":400,\"width\":1200,\"showlegend\":true},                        {\"responsive\": true}                    ).then(function(){\n",
       "                            \n",
       "var gd = document.getElementById('a5ec8f5d-6370-4578-8d28-ce718028457e');\n",
       "var x = new MutationObserver(function (mutations, observer) {{\n",
       "        var display = window.getComputedStyle(gd).display;\n",
       "        if (!display || display === 'none') {{\n",
       "            console.log([gd, 'removed!']);\n",
       "            Plotly.purge(gd);\n",
       "            observer.disconnect();\n",
       "        }}\n",
       "}});\n",
       "\n",
       "// Listen for the removal of the full notebook cells\n",
       "var notebookContainer = gd.closest('#notebook-container');\n",
       "if (notebookContainer) {{\n",
       "    x.observe(notebookContainer, {childList: true});\n",
       "}}\n",
       "\n",
       "// Listen for the clearing of the current output cell\n",
       "var outputEl = gd.closest('.output');\n",
       "if (outputEl) {{\n",
       "    x.observe(outputEl, {childList: true});\n",
       "}}\n",
       "\n",
       "                        })                };                });            </script>        </div>"
      ]
     },
     "metadata": {},
     "output_type": "display_data"
    }
   ],
   "source": [
    "fig = make_subplots(rows=1, cols=3, subplot_titles=(\"Human Freedom Score\", \"Economic Freedom Score\", \"Personal Freedom Score\"))\n",
    "\n",
    "# Create scatter plots\n",
    "scatter1 = go.Scatter(\n",
    "    x=data[\"Human Freedom Score\"], y=data[\"Happiness Score\"],\n",
    "    mode='markers',\n",
    "    marker=dict(size=4, color='blue', opacity=0.7),\n",
    "    name='Human Freedom Score'\n",
    ")\n",
    "\n",
    "scatter2 = go.Scatter(\n",
    "    x=data[\"Economic Freedom Score\"], y=data[\"Happiness Score\"],\n",
    "    mode='markers',\n",
    "    marker=dict(size=4, color='blue', opacity=0.7),\n",
    "    name='Economic Freedom Score'\n",
    ")\n",
    "\n",
    "scatter3 = go.Scatter(\n",
    "    x=data[\"Personal Freedom Score\"], y=data[\"Happiness Score\"],\n",
    "    mode='markers',\n",
    "    marker=dict(size=4, color='blue', opacity=0.7),\n",
    "    name='Personal Freedom Score',\n",
    ")\n",
    "\n",
    "# Add the scatter plots to the figure\n",
    "fig.add_trace(scatter1, row=1, col=1)\n",
    "fig.add_trace(scatter2, row=1, col=2)\n",
    "fig.add_trace(scatter3, row=1, col=3)\n",
    "\n",
    "# Update layout for each subplot\n",
    "fig.update_xaxes(title_text=\"Human Freedom Score\", row=1, col=1)\n",
    "fig.update_yaxes(title_text=\"Happiness Score\", row=1, col=1)\n",
    "\n",
    "fig.update_xaxes(title_text=\"Economic Freedom Score\", row=1, col=2)\n",
    "fig.update_yaxes(title_text=\"Happiness Score\", row=1, col=2)\n",
    "\n",
    "fig.update_xaxes(title_text=\"Personal Freedom Score\", row=1, col=3)\n",
    "fig.update_yaxes(title_text=\"Happiness Score\", row=1, col=3)\n",
    "\n",
    "# Update overall layout\n",
    "fig.update_layout(\n",
    "    height=400,\n",
    "    width=1200,\n",
    "    title_text=\"Freedom Scores Against Happiness\",\n",
    "    showlegend=True\n",
    ")\n",
    "\n",
    "# Show the plot\n",
    "fig.show()"
   ]
  },
  {
   "cell_type": "markdown",
   "metadata": {},
   "source": [
    "This series of scatter plots compares the happiness scores of various countries with three different factors: GDP per capita, social support, and freedom to make life choices. Each plot provides a visual representation of how these factors are correlated with the overall happiness of the population. In these scatter plots:\n",
    "\n",
    "1. **Happiness Score vs. GDP per Capita**: This plot illustrates the relationship between economic prosperity and happiness. Each point represents a country, showing its respective GDP per capita and happiness score, allowing us to see how wealth might influence overall happiness.\n",
    "\n",
    "2. **Happiness Score vs. Social Support**: This plot highlights the impact of social support on happiness. Each point represents a country with its respective social support measure and happiness score, demonstrating how support from friends, family, and the community correlates with happiness.\n",
    "\n",
    "3. **Happiness Score vs. Freedom to Make Life Choices**: This plot shows the correlation between perceived freedom to make life choices and happiness scores. Each point represents a country, indicating its level of perceived freedom and happiness score, providing insights into how personal autonomy affects overall happiness.\n",
    "\n",
    "By comparing these plots, we can gain a comprehensive understanding of how different factors such as economic prosperity, social support, and personal freedom contribute to the happiness of populations around the world."
   ]
  },
  {
   "cell_type": "code",
   "execution_count": 10,
   "metadata": {},
   "outputs": [
    {
     "data": {
      "application/vnd.plotly.v1+json": {
       "config": {
        "plotlyServerURL": "https://plot.ly"
       },
       "data": [
        {
         "coloraxis": "coloraxis",
         "hovertemplate": "x: %{x}<br>y: %{y}<br>color: %{z}<extra></extra>",
         "name": "0",
         "type": "heatmap",
         "x": [
          "Human Freedom Score",
          "Economic Freedom Score",
          "Personal Freedom Score",
          "Happiness Score",
          "Healthy life expectancy",
          "Perceptions of corruption"
         ],
         "xaxis": "x",
         "y": [
          "Human Freedom Score",
          "Economic Freedom Score",
          "Personal Freedom Score",
          "Happiness Score",
          "Healthy life expectancy",
          "Perceptions of corruption"
         ],
         "yaxis": "y",
         "z": [
          [
           1,
           0.7939067562478657,
           0.9684599535183084,
           0.6510437523920247,
           0.6033352836882787,
           0.23621004073522395
          ],
          [
           0.7939067562478657,
           1,
           0.6173790162156538,
           0.6467036807122813,
           0.6131360827587885,
           0.3042119792591678
          ],
          [
           0.9684599535183084,
           0.6173790162156538,
           1,
           0.5877078509497143,
           0.5392759646452345,
           0.18613782076545984
          ],
          [
           0.6510437523920247,
           0.6467036807122813,
           0.5877078509497143,
           1,
           0.7671787798252121,
           0.3963070645780874
          ],
          [
           0.6033352836882787,
           0.6131360827587885,
           0.5392759646452345,
           0.7671787798252121,
           1,
           0.29089553709667126
          ],
          [
           0.23621004073522395,
           0.3042119792591678,
           0.18613782076545984,
           0.3963070645780874,
           0.29089553709667126,
           1
          ]
         ]
        }
       ],
       "layout": {
        "coloraxis": {
         "colorscale": [
          [
           0,
           "#0d0887"
          ],
          [
           0.1111111111111111,
           "#46039f"
          ],
          [
           0.2222222222222222,
           "#7201a8"
          ],
          [
           0.3333333333333333,
           "#9c179e"
          ],
          [
           0.4444444444444444,
           "#bd3786"
          ],
          [
           0.5555555555555556,
           "#d8576b"
          ],
          [
           0.6666666666666666,
           "#ed7953"
          ],
          [
           0.7777777777777778,
           "#fb9f3a"
          ],
          [
           0.8888888888888888,
           "#fdca26"
          ],
          [
           1,
           "#f0f921"
          ]
         ]
        },
        "height": 500,
        "template": {
         "data": {
          "bar": [
           {
            "error_x": {
             "color": "#2a3f5f"
            },
            "error_y": {
             "color": "#2a3f5f"
            },
            "marker": {
             "line": {
              "color": "#E5ECF6",
              "width": 0.5
             },
             "pattern": {
              "fillmode": "overlay",
              "size": 10,
              "solidity": 0.2
             }
            },
            "type": "bar"
           }
          ],
          "barpolar": [
           {
            "marker": {
             "line": {
              "color": "#E5ECF6",
              "width": 0.5
             },
             "pattern": {
              "fillmode": "overlay",
              "size": 10,
              "solidity": 0.2
             }
            },
            "type": "barpolar"
           }
          ],
          "carpet": [
           {
            "aaxis": {
             "endlinecolor": "#2a3f5f",
             "gridcolor": "white",
             "linecolor": "white",
             "minorgridcolor": "white",
             "startlinecolor": "#2a3f5f"
            },
            "baxis": {
             "endlinecolor": "#2a3f5f",
             "gridcolor": "white",
             "linecolor": "white",
             "minorgridcolor": "white",
             "startlinecolor": "#2a3f5f"
            },
            "type": "carpet"
           }
          ],
          "choropleth": [
           {
            "colorbar": {
             "outlinewidth": 0,
             "ticks": ""
            },
            "type": "choropleth"
           }
          ],
          "contour": [
           {
            "colorbar": {
             "outlinewidth": 0,
             "ticks": ""
            },
            "colorscale": [
             [
              0,
              "#0d0887"
             ],
             [
              0.1111111111111111,
              "#46039f"
             ],
             [
              0.2222222222222222,
              "#7201a8"
             ],
             [
              0.3333333333333333,
              "#9c179e"
             ],
             [
              0.4444444444444444,
              "#bd3786"
             ],
             [
              0.5555555555555556,
              "#d8576b"
             ],
             [
              0.6666666666666666,
              "#ed7953"
             ],
             [
              0.7777777777777778,
              "#fb9f3a"
             ],
             [
              0.8888888888888888,
              "#fdca26"
             ],
             [
              1,
              "#f0f921"
             ]
            ],
            "type": "contour"
           }
          ],
          "contourcarpet": [
           {
            "colorbar": {
             "outlinewidth": 0,
             "ticks": ""
            },
            "type": "contourcarpet"
           }
          ],
          "heatmap": [
           {
            "colorbar": {
             "outlinewidth": 0,
             "ticks": ""
            },
            "colorscale": [
             [
              0,
              "#0d0887"
             ],
             [
              0.1111111111111111,
              "#46039f"
             ],
             [
              0.2222222222222222,
              "#7201a8"
             ],
             [
              0.3333333333333333,
              "#9c179e"
             ],
             [
              0.4444444444444444,
              "#bd3786"
             ],
             [
              0.5555555555555556,
              "#d8576b"
             ],
             [
              0.6666666666666666,
              "#ed7953"
             ],
             [
              0.7777777777777778,
              "#fb9f3a"
             ],
             [
              0.8888888888888888,
              "#fdca26"
             ],
             [
              1,
              "#f0f921"
             ]
            ],
            "type": "heatmap"
           }
          ],
          "heatmapgl": [
           {
            "colorbar": {
             "outlinewidth": 0,
             "ticks": ""
            },
            "colorscale": [
             [
              0,
              "#0d0887"
             ],
             [
              0.1111111111111111,
              "#46039f"
             ],
             [
              0.2222222222222222,
              "#7201a8"
             ],
             [
              0.3333333333333333,
              "#9c179e"
             ],
             [
              0.4444444444444444,
              "#bd3786"
             ],
             [
              0.5555555555555556,
              "#d8576b"
             ],
             [
              0.6666666666666666,
              "#ed7953"
             ],
             [
              0.7777777777777778,
              "#fb9f3a"
             ],
             [
              0.8888888888888888,
              "#fdca26"
             ],
             [
              1,
              "#f0f921"
             ]
            ],
            "type": "heatmapgl"
           }
          ],
          "histogram": [
           {
            "marker": {
             "pattern": {
              "fillmode": "overlay",
              "size": 10,
              "solidity": 0.2
             }
            },
            "type": "histogram"
           }
          ],
          "histogram2d": [
           {
            "colorbar": {
             "outlinewidth": 0,
             "ticks": ""
            },
            "colorscale": [
             [
              0,
              "#0d0887"
             ],
             [
              0.1111111111111111,
              "#46039f"
             ],
             [
              0.2222222222222222,
              "#7201a8"
             ],
             [
              0.3333333333333333,
              "#9c179e"
             ],
             [
              0.4444444444444444,
              "#bd3786"
             ],
             [
              0.5555555555555556,
              "#d8576b"
             ],
             [
              0.6666666666666666,
              "#ed7953"
             ],
             [
              0.7777777777777778,
              "#fb9f3a"
             ],
             [
              0.8888888888888888,
              "#fdca26"
             ],
             [
              1,
              "#f0f921"
             ]
            ],
            "type": "histogram2d"
           }
          ],
          "histogram2dcontour": [
           {
            "colorbar": {
             "outlinewidth": 0,
             "ticks": ""
            },
            "colorscale": [
             [
              0,
              "#0d0887"
             ],
             [
              0.1111111111111111,
              "#46039f"
             ],
             [
              0.2222222222222222,
              "#7201a8"
             ],
             [
              0.3333333333333333,
              "#9c179e"
             ],
             [
              0.4444444444444444,
              "#bd3786"
             ],
             [
              0.5555555555555556,
              "#d8576b"
             ],
             [
              0.6666666666666666,
              "#ed7953"
             ],
             [
              0.7777777777777778,
              "#fb9f3a"
             ],
             [
              0.8888888888888888,
              "#fdca26"
             ],
             [
              1,
              "#f0f921"
             ]
            ],
            "type": "histogram2dcontour"
           }
          ],
          "mesh3d": [
           {
            "colorbar": {
             "outlinewidth": 0,
             "ticks": ""
            },
            "type": "mesh3d"
           }
          ],
          "parcoords": [
           {
            "line": {
             "colorbar": {
              "outlinewidth": 0,
              "ticks": ""
             }
            },
            "type": "parcoords"
           }
          ],
          "pie": [
           {
            "automargin": true,
            "type": "pie"
           }
          ],
          "scatter": [
           {
            "fillpattern": {
             "fillmode": "overlay",
             "size": 10,
             "solidity": 0.2
            },
            "type": "scatter"
           }
          ],
          "scatter3d": [
           {
            "line": {
             "colorbar": {
              "outlinewidth": 0,
              "ticks": ""
             }
            },
            "marker": {
             "colorbar": {
              "outlinewidth": 0,
              "ticks": ""
             }
            },
            "type": "scatter3d"
           }
          ],
          "scattercarpet": [
           {
            "marker": {
             "colorbar": {
              "outlinewidth": 0,
              "ticks": ""
             }
            },
            "type": "scattercarpet"
           }
          ],
          "scattergeo": [
           {
            "marker": {
             "colorbar": {
              "outlinewidth": 0,
              "ticks": ""
             }
            },
            "type": "scattergeo"
           }
          ],
          "scattergl": [
           {
            "marker": {
             "colorbar": {
              "outlinewidth": 0,
              "ticks": ""
             }
            },
            "type": "scattergl"
           }
          ],
          "scattermapbox": [
           {
            "marker": {
             "colorbar": {
              "outlinewidth": 0,
              "ticks": ""
             }
            },
            "type": "scattermapbox"
           }
          ],
          "scatterpolar": [
           {
            "marker": {
             "colorbar": {
              "outlinewidth": 0,
              "ticks": ""
             }
            },
            "type": "scatterpolar"
           }
          ],
          "scatterpolargl": [
           {
            "marker": {
             "colorbar": {
              "outlinewidth": 0,
              "ticks": ""
             }
            },
            "type": "scatterpolargl"
           }
          ],
          "scatterternary": [
           {
            "marker": {
             "colorbar": {
              "outlinewidth": 0,
              "ticks": ""
             }
            },
            "type": "scatterternary"
           }
          ],
          "surface": [
           {
            "colorbar": {
             "outlinewidth": 0,
             "ticks": ""
            },
            "colorscale": [
             [
              0,
              "#0d0887"
             ],
             [
              0.1111111111111111,
              "#46039f"
             ],
             [
              0.2222222222222222,
              "#7201a8"
             ],
             [
              0.3333333333333333,
              "#9c179e"
             ],
             [
              0.4444444444444444,
              "#bd3786"
             ],
             [
              0.5555555555555556,
              "#d8576b"
             ],
             [
              0.6666666666666666,
              "#ed7953"
             ],
             [
              0.7777777777777778,
              "#fb9f3a"
             ],
             [
              0.8888888888888888,
              "#fdca26"
             ],
             [
              1,
              "#f0f921"
             ]
            ],
            "type": "surface"
           }
          ],
          "table": [
           {
            "cells": {
             "fill": {
              "color": "#EBF0F8"
             },
             "line": {
              "color": "white"
             }
            },
            "header": {
             "fill": {
              "color": "#C8D4E3"
             },
             "line": {
              "color": "white"
             }
            },
            "type": "table"
           }
          ]
         },
         "layout": {
          "annotationdefaults": {
           "arrowcolor": "#2a3f5f",
           "arrowhead": 0,
           "arrowwidth": 1
          },
          "autotypenumbers": "strict",
          "coloraxis": {
           "colorbar": {
            "outlinewidth": 0,
            "ticks": ""
           }
          },
          "colorscale": {
           "diverging": [
            [
             0,
             "#8e0152"
            ],
            [
             0.1,
             "#c51b7d"
            ],
            [
             0.2,
             "#de77ae"
            ],
            [
             0.3,
             "#f1b6da"
            ],
            [
             0.4,
             "#fde0ef"
            ],
            [
             0.5,
             "#f7f7f7"
            ],
            [
             0.6,
             "#e6f5d0"
            ],
            [
             0.7,
             "#b8e186"
            ],
            [
             0.8,
             "#7fbc41"
            ],
            [
             0.9,
             "#4d9221"
            ],
            [
             1,
             "#276419"
            ]
           ],
           "sequential": [
            [
             0,
             "#0d0887"
            ],
            [
             0.1111111111111111,
             "#46039f"
            ],
            [
             0.2222222222222222,
             "#7201a8"
            ],
            [
             0.3333333333333333,
             "#9c179e"
            ],
            [
             0.4444444444444444,
             "#bd3786"
            ],
            [
             0.5555555555555556,
             "#d8576b"
            ],
            [
             0.6666666666666666,
             "#ed7953"
            ],
            [
             0.7777777777777778,
             "#fb9f3a"
            ],
            [
             0.8888888888888888,
             "#fdca26"
            ],
            [
             1,
             "#f0f921"
            ]
           ],
           "sequentialminus": [
            [
             0,
             "#0d0887"
            ],
            [
             0.1111111111111111,
             "#46039f"
            ],
            [
             0.2222222222222222,
             "#7201a8"
            ],
            [
             0.3333333333333333,
             "#9c179e"
            ],
            [
             0.4444444444444444,
             "#bd3786"
            ],
            [
             0.5555555555555556,
             "#d8576b"
            ],
            [
             0.6666666666666666,
             "#ed7953"
            ],
            [
             0.7777777777777778,
             "#fb9f3a"
            ],
            [
             0.8888888888888888,
             "#fdca26"
            ],
            [
             1,
             "#f0f921"
            ]
           ]
          },
          "colorway": [
           "#636efa",
           "#EF553B",
           "#00cc96",
           "#ab63fa",
           "#FFA15A",
           "#19d3f3",
           "#FF6692",
           "#B6E880",
           "#FF97FF",
           "#FECB52"
          ],
          "font": {
           "color": "#2a3f5f"
          },
          "geo": {
           "bgcolor": "white",
           "lakecolor": "white",
           "landcolor": "#E5ECF6",
           "showlakes": true,
           "showland": true,
           "subunitcolor": "white"
          },
          "hoverlabel": {
           "align": "left"
          },
          "hovermode": "closest",
          "mapbox": {
           "style": "light"
          },
          "paper_bgcolor": "white",
          "plot_bgcolor": "#E5ECF6",
          "polar": {
           "angularaxis": {
            "gridcolor": "white",
            "linecolor": "white",
            "ticks": ""
           },
           "bgcolor": "#E5ECF6",
           "radialaxis": {
            "gridcolor": "white",
            "linecolor": "white",
            "ticks": ""
           }
          },
          "scene": {
           "xaxis": {
            "backgroundcolor": "#E5ECF6",
            "gridcolor": "white",
            "gridwidth": 2,
            "linecolor": "white",
            "showbackground": true,
            "ticks": "",
            "zerolinecolor": "white"
           },
           "yaxis": {
            "backgroundcolor": "#E5ECF6",
            "gridcolor": "white",
            "gridwidth": 2,
            "linecolor": "white",
            "showbackground": true,
            "ticks": "",
            "zerolinecolor": "white"
           },
           "zaxis": {
            "backgroundcolor": "#E5ECF6",
            "gridcolor": "white",
            "gridwidth": 2,
            "linecolor": "white",
            "showbackground": true,
            "ticks": "",
            "zerolinecolor": "white"
           }
          },
          "shapedefaults": {
           "line": {
            "color": "#2a3f5f"
           }
          },
          "ternary": {
           "aaxis": {
            "gridcolor": "white",
            "linecolor": "white",
            "ticks": ""
           },
           "baxis": {
            "gridcolor": "white",
            "linecolor": "white",
            "ticks": ""
           },
           "bgcolor": "#E5ECF6",
           "caxis": {
            "gridcolor": "white",
            "linecolor": "white",
            "ticks": ""
           }
          },
          "title": {
           "x": 0.05
          },
          "xaxis": {
           "automargin": true,
           "gridcolor": "white",
           "linecolor": "white",
           "ticks": "",
           "title": {
            "standoff": 15
           },
           "zerolinecolor": "white",
           "zerolinewidth": 2
          },
          "yaxis": {
           "automargin": true,
           "gridcolor": "white",
           "linecolor": "white",
           "ticks": "",
           "title": {
            "standoff": 15
           },
           "zerolinecolor": "white",
           "zerolinewidth": 2
          }
         }
        },
        "title": {
         "text": "Correlation Matrix of Freedom, Happiness, and Health Indicators"
        },
        "width": 1000,
        "xaxis": {
         "anchor": "y",
         "constrain": "domain",
         "domain": [
          0,
          1
         ],
         "scaleanchor": "y"
        },
        "yaxis": {
         "anchor": "x",
         "autorange": "reversed",
         "constrain": "domain",
         "domain": [
          0,
          1
         ]
        }
       }
      },
      "text/html": [
       "<div>                            <div id=\"677237e2-144e-489f-afa9-e7954aa9f7d7\" class=\"plotly-graph-div\" style=\"height:500px; width:1000px;\"></div>            <script type=\"text/javascript\">                require([\"plotly\"], function(Plotly) {                    window.PLOTLYENV=window.PLOTLYENV || {};                                    if (document.getElementById(\"677237e2-144e-489f-afa9-e7954aa9f7d7\")) {                    Plotly.newPlot(                        \"677237e2-144e-489f-afa9-e7954aa9f7d7\",                        [{\"coloraxis\":\"coloraxis\",\"name\":\"0\",\"x\":[\"Human Freedom Score\",\"Economic Freedom Score\",\"Personal Freedom Score\",\"Happiness Score\",\"Healthy life expectancy\",\"Perceptions of corruption\"],\"y\":[\"Human Freedom Score\",\"Economic Freedom Score\",\"Personal Freedom Score\",\"Happiness Score\",\"Healthy life expectancy\",\"Perceptions of corruption\"],\"z\":[[1.0,0.7939067562478657,0.9684599535183084,0.6510437523920247,0.6033352836882787,0.23621004073522395],[0.7939067562478657,1.0,0.6173790162156538,0.6467036807122813,0.6131360827587885,0.3042119792591678],[0.9684599535183084,0.6173790162156538,1.0,0.5877078509497143,0.5392759646452345,0.18613782076545984],[0.6510437523920247,0.6467036807122813,0.5877078509497143,1.0,0.7671787798252121,0.3963070645780874],[0.6033352836882787,0.6131360827587885,0.5392759646452345,0.7671787798252121,1.0,0.29089553709667126],[0.23621004073522395,0.3042119792591678,0.18613782076545984,0.3963070645780874,0.29089553709667126,1.0]],\"type\":\"heatmap\",\"xaxis\":\"x\",\"yaxis\":\"y\",\"hovertemplate\":\"x: %{x}\\u003cbr\\u003ey: %{y}\\u003cbr\\u003ecolor: %{z}\\u003cextra\\u003e\\u003c\\u002fextra\\u003e\"}],                        {\"template\":{\"data\":{\"histogram2dcontour\":[{\"type\":\"histogram2dcontour\",\"colorbar\":{\"outlinewidth\":0,\"ticks\":\"\"},\"colorscale\":[[0.0,\"#0d0887\"],[0.1111111111111111,\"#46039f\"],[0.2222222222222222,\"#7201a8\"],[0.3333333333333333,\"#9c179e\"],[0.4444444444444444,\"#bd3786\"],[0.5555555555555556,\"#d8576b\"],[0.6666666666666666,\"#ed7953\"],[0.7777777777777778,\"#fb9f3a\"],[0.8888888888888888,\"#fdca26\"],[1.0,\"#f0f921\"]]}],\"choropleth\":[{\"type\":\"choropleth\",\"colorbar\":{\"outlinewidth\":0,\"ticks\":\"\"}}],\"histogram2d\":[{\"type\":\"histogram2d\",\"colorbar\":{\"outlinewidth\":0,\"ticks\":\"\"},\"colorscale\":[[0.0,\"#0d0887\"],[0.1111111111111111,\"#46039f\"],[0.2222222222222222,\"#7201a8\"],[0.3333333333333333,\"#9c179e\"],[0.4444444444444444,\"#bd3786\"],[0.5555555555555556,\"#d8576b\"],[0.6666666666666666,\"#ed7953\"],[0.7777777777777778,\"#fb9f3a\"],[0.8888888888888888,\"#fdca26\"],[1.0,\"#f0f921\"]]}],\"heatmap\":[{\"type\":\"heatmap\",\"colorbar\":{\"outlinewidth\":0,\"ticks\":\"\"},\"colorscale\":[[0.0,\"#0d0887\"],[0.1111111111111111,\"#46039f\"],[0.2222222222222222,\"#7201a8\"],[0.3333333333333333,\"#9c179e\"],[0.4444444444444444,\"#bd3786\"],[0.5555555555555556,\"#d8576b\"],[0.6666666666666666,\"#ed7953\"],[0.7777777777777778,\"#fb9f3a\"],[0.8888888888888888,\"#fdca26\"],[1.0,\"#f0f921\"]]}],\"heatmapgl\":[{\"type\":\"heatmapgl\",\"colorbar\":{\"outlinewidth\":0,\"ticks\":\"\"},\"colorscale\":[[0.0,\"#0d0887\"],[0.1111111111111111,\"#46039f\"],[0.2222222222222222,\"#7201a8\"],[0.3333333333333333,\"#9c179e\"],[0.4444444444444444,\"#bd3786\"],[0.5555555555555556,\"#d8576b\"],[0.6666666666666666,\"#ed7953\"],[0.7777777777777778,\"#fb9f3a\"],[0.8888888888888888,\"#fdca26\"],[1.0,\"#f0f921\"]]}],\"contourcarpet\":[{\"type\":\"contourcarpet\",\"colorbar\":{\"outlinewidth\":0,\"ticks\":\"\"}}],\"contour\":[{\"type\":\"contour\",\"colorbar\":{\"outlinewidth\":0,\"ticks\":\"\"},\"colorscale\":[[0.0,\"#0d0887\"],[0.1111111111111111,\"#46039f\"],[0.2222222222222222,\"#7201a8\"],[0.3333333333333333,\"#9c179e\"],[0.4444444444444444,\"#bd3786\"],[0.5555555555555556,\"#d8576b\"],[0.6666666666666666,\"#ed7953\"],[0.7777777777777778,\"#fb9f3a\"],[0.8888888888888888,\"#fdca26\"],[1.0,\"#f0f921\"]]}],\"surface\":[{\"type\":\"surface\",\"colorbar\":{\"outlinewidth\":0,\"ticks\":\"\"},\"colorscale\":[[0.0,\"#0d0887\"],[0.1111111111111111,\"#46039f\"],[0.2222222222222222,\"#7201a8\"],[0.3333333333333333,\"#9c179e\"],[0.4444444444444444,\"#bd3786\"],[0.5555555555555556,\"#d8576b\"],[0.6666666666666666,\"#ed7953\"],[0.7777777777777778,\"#fb9f3a\"],[0.8888888888888888,\"#fdca26\"],[1.0,\"#f0f921\"]]}],\"mesh3d\":[{\"type\":\"mesh3d\",\"colorbar\":{\"outlinewidth\":0,\"ticks\":\"\"}}],\"scatter\":[{\"fillpattern\":{\"fillmode\":\"overlay\",\"size\":10,\"solidity\":0.2},\"type\":\"scatter\"}],\"parcoords\":[{\"type\":\"parcoords\",\"line\":{\"colorbar\":{\"outlinewidth\":0,\"ticks\":\"\"}}}],\"scatterpolargl\":[{\"type\":\"scatterpolargl\",\"marker\":{\"colorbar\":{\"outlinewidth\":0,\"ticks\":\"\"}}}],\"bar\":[{\"error_x\":{\"color\":\"#2a3f5f\"},\"error_y\":{\"color\":\"#2a3f5f\"},\"marker\":{\"line\":{\"color\":\"#E5ECF6\",\"width\":0.5},\"pattern\":{\"fillmode\":\"overlay\",\"size\":10,\"solidity\":0.2}},\"type\":\"bar\"}],\"scattergeo\":[{\"type\":\"scattergeo\",\"marker\":{\"colorbar\":{\"outlinewidth\":0,\"ticks\":\"\"}}}],\"scatterpolar\":[{\"type\":\"scatterpolar\",\"marker\":{\"colorbar\":{\"outlinewidth\":0,\"ticks\":\"\"}}}],\"histogram\":[{\"marker\":{\"pattern\":{\"fillmode\":\"overlay\",\"size\":10,\"solidity\":0.2}},\"type\":\"histogram\"}],\"scattergl\":[{\"type\":\"scattergl\",\"marker\":{\"colorbar\":{\"outlinewidth\":0,\"ticks\":\"\"}}}],\"scatter3d\":[{\"type\":\"scatter3d\",\"line\":{\"colorbar\":{\"outlinewidth\":0,\"ticks\":\"\"}},\"marker\":{\"colorbar\":{\"outlinewidth\":0,\"ticks\":\"\"}}}],\"scattermapbox\":[{\"type\":\"scattermapbox\",\"marker\":{\"colorbar\":{\"outlinewidth\":0,\"ticks\":\"\"}}}],\"scatterternary\":[{\"type\":\"scatterternary\",\"marker\":{\"colorbar\":{\"outlinewidth\":0,\"ticks\":\"\"}}}],\"scattercarpet\":[{\"type\":\"scattercarpet\",\"marker\":{\"colorbar\":{\"outlinewidth\":0,\"ticks\":\"\"}}}],\"carpet\":[{\"aaxis\":{\"endlinecolor\":\"#2a3f5f\",\"gridcolor\":\"white\",\"linecolor\":\"white\",\"minorgridcolor\":\"white\",\"startlinecolor\":\"#2a3f5f\"},\"baxis\":{\"endlinecolor\":\"#2a3f5f\",\"gridcolor\":\"white\",\"linecolor\":\"white\",\"minorgridcolor\":\"white\",\"startlinecolor\":\"#2a3f5f\"},\"type\":\"carpet\"}],\"table\":[{\"cells\":{\"fill\":{\"color\":\"#EBF0F8\"},\"line\":{\"color\":\"white\"}},\"header\":{\"fill\":{\"color\":\"#C8D4E3\"},\"line\":{\"color\":\"white\"}},\"type\":\"table\"}],\"barpolar\":[{\"marker\":{\"line\":{\"color\":\"#E5ECF6\",\"width\":0.5},\"pattern\":{\"fillmode\":\"overlay\",\"size\":10,\"solidity\":0.2}},\"type\":\"barpolar\"}],\"pie\":[{\"automargin\":true,\"type\":\"pie\"}]},\"layout\":{\"autotypenumbers\":\"strict\",\"colorway\":[\"#636efa\",\"#EF553B\",\"#00cc96\",\"#ab63fa\",\"#FFA15A\",\"#19d3f3\",\"#FF6692\",\"#B6E880\",\"#FF97FF\",\"#FECB52\"],\"font\":{\"color\":\"#2a3f5f\"},\"hovermode\":\"closest\",\"hoverlabel\":{\"align\":\"left\"},\"paper_bgcolor\":\"white\",\"plot_bgcolor\":\"#E5ECF6\",\"polar\":{\"bgcolor\":\"#E5ECF6\",\"angularaxis\":{\"gridcolor\":\"white\",\"linecolor\":\"white\",\"ticks\":\"\"},\"radialaxis\":{\"gridcolor\":\"white\",\"linecolor\":\"white\",\"ticks\":\"\"}},\"ternary\":{\"bgcolor\":\"#E5ECF6\",\"aaxis\":{\"gridcolor\":\"white\",\"linecolor\":\"white\",\"ticks\":\"\"},\"baxis\":{\"gridcolor\":\"white\",\"linecolor\":\"white\",\"ticks\":\"\"},\"caxis\":{\"gridcolor\":\"white\",\"linecolor\":\"white\",\"ticks\":\"\"}},\"coloraxis\":{\"colorbar\":{\"outlinewidth\":0,\"ticks\":\"\"}},\"colorscale\":{\"sequential\":[[0.0,\"#0d0887\"],[0.1111111111111111,\"#46039f\"],[0.2222222222222222,\"#7201a8\"],[0.3333333333333333,\"#9c179e\"],[0.4444444444444444,\"#bd3786\"],[0.5555555555555556,\"#d8576b\"],[0.6666666666666666,\"#ed7953\"],[0.7777777777777778,\"#fb9f3a\"],[0.8888888888888888,\"#fdca26\"],[1.0,\"#f0f921\"]],\"sequentialminus\":[[0.0,\"#0d0887\"],[0.1111111111111111,\"#46039f\"],[0.2222222222222222,\"#7201a8\"],[0.3333333333333333,\"#9c179e\"],[0.4444444444444444,\"#bd3786\"],[0.5555555555555556,\"#d8576b\"],[0.6666666666666666,\"#ed7953\"],[0.7777777777777778,\"#fb9f3a\"],[0.8888888888888888,\"#fdca26\"],[1.0,\"#f0f921\"]],\"diverging\":[[0,\"#8e0152\"],[0.1,\"#c51b7d\"],[0.2,\"#de77ae\"],[0.3,\"#f1b6da\"],[0.4,\"#fde0ef\"],[0.5,\"#f7f7f7\"],[0.6,\"#e6f5d0\"],[0.7,\"#b8e186\"],[0.8,\"#7fbc41\"],[0.9,\"#4d9221\"],[1,\"#276419\"]]},\"xaxis\":{\"gridcolor\":\"white\",\"linecolor\":\"white\",\"ticks\":\"\",\"title\":{\"standoff\":15},\"zerolinecolor\":\"white\",\"automargin\":true,\"zerolinewidth\":2},\"yaxis\":{\"gridcolor\":\"white\",\"linecolor\":\"white\",\"ticks\":\"\",\"title\":{\"standoff\":15},\"zerolinecolor\":\"white\",\"automargin\":true,\"zerolinewidth\":2},\"scene\":{\"xaxis\":{\"backgroundcolor\":\"#E5ECF6\",\"gridcolor\":\"white\",\"linecolor\":\"white\",\"showbackground\":true,\"ticks\":\"\",\"zerolinecolor\":\"white\",\"gridwidth\":2},\"yaxis\":{\"backgroundcolor\":\"#E5ECF6\",\"gridcolor\":\"white\",\"linecolor\":\"white\",\"showbackground\":true,\"ticks\":\"\",\"zerolinecolor\":\"white\",\"gridwidth\":2},\"zaxis\":{\"backgroundcolor\":\"#E5ECF6\",\"gridcolor\":\"white\",\"linecolor\":\"white\",\"showbackground\":true,\"ticks\":\"\",\"zerolinecolor\":\"white\",\"gridwidth\":2}},\"shapedefaults\":{\"line\":{\"color\":\"#2a3f5f\"}},\"annotationdefaults\":{\"arrowcolor\":\"#2a3f5f\",\"arrowhead\":0,\"arrowwidth\":1},\"geo\":{\"bgcolor\":\"white\",\"landcolor\":\"#E5ECF6\",\"subunitcolor\":\"white\",\"showland\":true,\"showlakes\":true,\"lakecolor\":\"white\"},\"title\":{\"x\":0.05},\"mapbox\":{\"style\":\"light\"}}},\"xaxis\":{\"anchor\":\"y\",\"domain\":[0.0,1.0],\"scaleanchor\":\"y\",\"constrain\":\"domain\"},\"yaxis\":{\"anchor\":\"x\",\"domain\":[0.0,1.0],\"autorange\":\"reversed\",\"constrain\":\"domain\"},\"coloraxis\":{\"colorscale\":[[0.0,\"#0d0887\"],[0.1111111111111111,\"#46039f\"],[0.2222222222222222,\"#7201a8\"],[0.3333333333333333,\"#9c179e\"],[0.4444444444444444,\"#bd3786\"],[0.5555555555555556,\"#d8576b\"],[0.6666666666666666,\"#ed7953\"],[0.7777777777777778,\"#fb9f3a\"],[0.8888888888888888,\"#fdca26\"],[1.0,\"#f0f921\"]]},\"title\":{\"text\":\"Correlation Matrix of Freedom, Happiness, and Health Indicators\"},\"width\":1000,\"height\":500},                        {\"responsive\": true}                    ).then(function(){\n",
       "                            \n",
       "var gd = document.getElementById('677237e2-144e-489f-afa9-e7954aa9f7d7');\n",
       "var x = new MutationObserver(function (mutations, observer) {{\n",
       "        var display = window.getComputedStyle(gd).display;\n",
       "        if (!display || display === 'none') {{\n",
       "            console.log([gd, 'removed!']);\n",
       "            Plotly.purge(gd);\n",
       "            observer.disconnect();\n",
       "        }}\n",
       "}});\n",
       "\n",
       "// Listen for the removal of the full notebook cells\n",
       "var notebookContainer = gd.closest('#notebook-container');\n",
       "if (notebookContainer) {{\n",
       "    x.observe(notebookContainer, {childList: true});\n",
       "}}\n",
       "\n",
       "// Listen for the clearing of the current output cell\n",
       "var outputEl = gd.closest('.output');\n",
       "if (outputEl) {{\n",
       "    x.observe(outputEl, {childList: true});\n",
       "}}\n",
       "\n",
       "                        })                };                });            </script>        </div>"
      ]
     },
     "metadata": {},
     "output_type": "display_data"
    }
   ],
   "source": [
    "columns_to_use = [\"Human Freedom Score\", \"Economic Freedom Score\", \"Personal Freedom Score\", \"Happiness Score\", \"Healthy life expectancy\", \"Perceptions of corruption\"]\n",
    "corr_matrix = data[columns_to_use].corr()\n",
    "\n",
    "\n",
    "fig_corr_matrix = px.imshow(corr_matrix,title='Correlation Matrix of Freedom, Happiness, and Health Indicators')\n",
    "fig_corr_matrix.update_layout(\n",
    "    width=1000,\n",
    "    height=500\n",
    ")\n",
    "fig_corr_matrix.show()"
   ]
  },
  {
   "cell_type": "code",
   "execution_count": 11,
   "metadata": {},
   "outputs": [
    {
     "data": {
      "application/vnd.plotly.v1+json": {
       "config": {
        "plotlyServerURL": "https://plot.ly"
       },
       "data": [
        {
         "dimensions": [
          {
           "label": "ef_government",
           "values": [
            7.914392576649189,
            4.49347202137394,
            8.052208698738351,
            6.5478855013395005,
            7.769870950014884,
            6.538491161587251,
            5.426613239301171,
            5.007234332425068,
            8.836840839878185,
            7.10616046185285,
            8.105720468023723,
            6.964655313351498,
            5.388496053053374,
            4.748736576374419,
            7.111722556062549,
            7.963811733933804,
            7.387839019531519,
            6.027890687610194,
            6.850712030316214,
            6.106443557804593,
            6.8284956723833945,
            7.351462161976507,
            7.095353685343346,
            6.349401680672268,
            7.593060105786184,
            9.20158467474183,
            7.232736358848716,
            6.321841595493783,
            7.20111160490662,
            8.603365511872322,
            7.819068680878345,
            5.020834577427702,
            7.025266395180959,
            6.355252100840336,
            6.6688546241384845,
            7.453989272548256,
            6.86731872094887,
            6.86731872094887,
            6.86731872094887,
            6.86731872094887,
            6.86731872094887,
            6.86731872094887,
            5.504224990268587,
            7.25002700753326,
            6.637021031300803,
            5.343283619169739,
            6.820527950310559,
            8.765538066997916,
            7.148050248437249,
            5.2884398010875575,
            8.46926526686969,
            6.601595413642296,
            5.86389405353422,
            6.227258718201176,
            6.660901472305544,
            5.1308903670460015,
            5.079722036498524,
            6.79399094406155,
            7.293935623406833,
            7.590750520916814,
            6.0008730565795805,
            8.517958086231767,
            5.413735385707417,
            9.227898301009777,
            6.057253151260504,
            7.911948114395621,
            3.9474690402476784,
            9.113672864241064,
            8.949764705882354,
            5.9244449659972975,
            6.048855322510476,
            7.580041272639846,
            8.1601872094887,
            6.654769743319671,
            4.934771369038079,
            6.686180076935406,
            6.4332207885879145,
            5.718832986055458,
            8.215555394865289,
            5.747943872932703,
            7.397703901724176,
            7.956236175669178,
            7.084612426441966,
            6.434307753073982,
            5.871116702477016,
            7.3317674106427315,
            7.212634623636065,
            7.212634623636065,
            7.212634623636065,
            7.212634623636065,
            7.212634623636065,
            7.212634623636065,
            6.404050065257711,
            8.123097691937812,
            5.204750658301469,
            7.147374733169935,
            7.656797563712132,
            5.69713482014059,
            7.703109381082133,
            6.315984784649555,
            7.043271449179128,
            6.396665502713346,
            6.944420259656996,
            7.228713235294117,
            7.905090078538227,
            8.249316637281614,
            7.819018352300048,
            7.334423751516956,
            6.41156512605042,
            6.693048840244545,
            6.755141826757951,
            7.344872220822934,
            6.96334438898175,
            8.10056610491608,
            5.096153733427975,
            6.716763183202436,
            6.244655462184873,
            6.641986066906327,
            6.641986066906327,
            8.70811639431208,
            8.70811639431208,
            7.08362188308566,
            5.059890229661347,
            4.7516189915521405,
            8.227939570186214,
            7.803474847159572,
            5.687146181445575,
            8.13394117647059,
            7.728770819499462,
            8.162487005701461,
            6.115690861630756,
            6.281709248276968,
            5.937786996847097,
            7.220314072768072,
            5.083671032445676,
            4.907235752066494,
            7.207464440272021,
            6.661789148902068,
            6.661789148902068,
            7.107135919217823,
            7.714441176470588,
            7.544697582030087,
            6.314940260572894,
            5.449309310100063,
            7.892500000000001,
            6.143962310809882,
            6.417766308703318,
            8.163623863714424,
            6.661717823369129,
            5.747513616421463,
            4.668378551965746,
            7.717781936207726,
            5.743550488860395,
            6.106958517932132,
            7.129171913997206,
            4.504509536784741,
            7.4264827009823,
            6.90865100071077,
            6.533271517871453,
            7.542273109243697,
            6.94771160671353,
            5.406459689052733,
            6.554639296590571,
            7.320837405261832,
            6.520619753623519,
            4.337428203496832,
            6.9552153361344535,
            8.267578063694865,
            6.578024179699128,
            5.628478361916974
           ]
          },
          {
           "label": "ef_gender",
           "values": [
            1,
            0.7058823529411765,
            0.8823529411764706,
            0.8823529411764706,
            1,
            1,
            1,
            0.8235294117647058,
            1,
            0.4705882352941176,
            0.7647058823529411,
            0.8823529411764706,
            0.8823529411764706,
            1,
            0.8823529411764706,
            0.7647058823529411,
            0.9411764705882352,
            1,
            0.8823529411764706,
            0.8823529411764706,
            1,
            1,
            0.8235294117647058,
            0.8235294117647058,
            1,
            1,
            0.4705882352941176,
            1,
            0.7647058823529411,
            0.5294117647058824,
            0.8235294117647058,
            0.8823529411764706,
            0.9411764705882352,
            0.7058823529411765,
            0.5882352941176471,
            0.8823529411764706,
            0.8823529411764706,
            0.8823529411764706,
            0.8823529411764706,
            0.8823529411764706,
            0.8823529411764706,
            0.8823529411764706,
            1,
            0.8823529411764706,
            1,
            1,
            0.6470588235294118,
            1,
            1,
            0.4117647058823529,
            1,
            1,
            0.5294117647058824,
            0.8823529411764706,
            0.8823529411764706,
            1,
            1,
            0.4117647058823529,
            0.8823529411764706,
            1,
            1,
            0.9411764705882352,
            1,
            0.9411764705882352,
            0.8235294117647058,
            0.4117647058823529,
            0.9411764705882352,
            0.8235294117647058,
            0.9411764705882352,
            1,
            1,
            0.8823529411764706,
            0.8235294117647058,
            0.4117647058823529,
            0.4705882352941176,
            1,
            0.8823529411764706,
            1,
            0.9411764705882352,
            0.9411764705882352,
            0.4117647058823529,
            0.8823529411764706,
            0.8823529411764706,
            0.8823529411764706,
            0.4705882352941176,
            0.8823529411764706,
            1,
            1,
            1,
            1,
            1,
            1,
            1,
            0.8235294117647058,
            0.9411764705882352,
            1,
            1,
            1,
            0.7647058823529411,
            0.8823529411764706,
            0.6470588235294118,
            0.6470588235294118,
            0.9411764705882352,
            0.4705882352941176,
            1,
            1,
            1,
            1,
            0.8235294117647058,
            0.7647058823529411,
            0.9411764705882352,
            0.8823529411764706,
            0.9411764705882352,
            0.9411764705882352,
            1,
            1,
            1,
            0.5294117647058824,
            0.5294117647058824,
            0.8235294117647058,
            0.8235294117647058,
            0.9411764705882352,
            1,
            0.4705882352941176,
            0.6470588235294118,
            0.9411764705882352,
            0.8235294117647058,
            1,
            1,
            0.8235294117647058,
            1,
            1,
            0.5294117647058824,
            1,
            1,
            0.7058823529411765,
            0.6470588235294118,
            1,
            1,
            0.9411764705882352,
            0.9411764705882352,
            1,
            1,
            0.9411764705882352,
            0.6470588235294118,
            1,
            1,
            0.8823529411764706,
            0.2941176470588235,
            0.9411764705882352,
            1,
            1,
            0.8823529411764706,
            0.8823529411764706,
            0.9411764705882352,
            1,
            1,
            0.9411764705882352,
            0.9411764705882352,
            0.8235294117647058,
            0.8235294117647058,
            0.5882352941176471,
            1,
            1,
            0.9411764705882352,
            1,
            0.8823529411764706,
            0.4117647058823529,
            0.9411764705882352,
            1
           ]
          },
          {
           "label": "ef_legal",
           "values": [
            5.258757491689963,
            4.1422082580610695,
            3.667890825945221,
            4.7975476609758525,
            6.250505585339432,
            8.296988683127012,
            8.330700997632993,
            5.24111286439943,
            6.320795026480703,
            4.728228065955101,
            2.8736483507289856,
            5.794533825566639,
            5.657423425355415,
            7.445478460572353,
            5.045897661593664,
            4.574789594478258,
            5.93033692510428,
            3.922091504395261,
            4.268834187754029,
            6.111605533497208,
            5.1090839704264575,
            5.938530704717112,
            4.054106067677203,
            4.097359930481212,
            6.397208005399725,
            3.702686385798738,
            2.764192518887637,
            8.035536824103549,
            3.4628091613015526,
            2.68887649007495,
            6.623113106199391,
            5.1514098604026834,
            4.927195335918425,
            3.4800000000000004,
            2.9530672557775253,
            6.399241615196361,
            4.467732742058056,
            4.467732742058056,
            4.467732742058056,
            4.467732742058056,
            4.467732742058056,
            4.467732742058056,
            6.069863336041266,
            6.3160986034847,
            6.992208648459023,
            8.605796252086613,
            4.00921568627451,
            4.749735649427644,
            4.655373502138641,
            3.58034495263512,
            4.331459524252386,
            7.696341697928213,
            3.810476463402044,
            4.4548638094827,
            5.160571065417965,
            8.602986901482684,
            7.154802852664002,
            2.688558182587351,
            5.013637841102779,
            6.720674791756975,
            7.709181647885487,
            5.205447091214878,
            5.927943278073433,
            4.865090297444405,
            3.94178802465849,
            2.774040592606026,
            5.33156784884741,
            2.408066698553552,
            4.153854673148908,
            6.305296826669604,
            8.451374387369832,
            5.517044092316395,
            4.895132381253468,
            3.6007525738711386,
            3.180100501335078,
            7.68089644625452,
            6.083140960644192,
            6.472363236810601,
            5.754606729119606,
            7.665740227251912,
            4.302781097366405,
            5.581507054398319,
            4.9622069121927685,
            6.602218410775043,
            4.943297336577032,
            4.907736083430317,
            4.764904382345963,
            4.764904382345963,
            4.764904382345963,
            4.764904382345963,
            4.764904382345963,
            4.764904382345963,
            6.9950523766774335,
            4.231804023876879,
            5.211265553692325,
            4.290159925578637,
            7.1813593754215965,
            8.16734119752572,
            3.0169420333859884,
            4.807790246600227,
            5.834802209950095,
            3.4945318474392444,
            6.419534412896171,
            3.558801540679286,
            6.859303535886845,
            4.694573591571895,
            5.668547899677334,
            6.0443208209715,
            5.436204798197009,
            5.699474684718698,
            4.462468023404975,
            3.813683754503306,
            6.277622069755697,
            4.969448390060689,
            8.349726230637657,
            8.679973222497665,
            4.280716831197071,
            3.69375473972035,
            3.69375473972035,
            3.69770495054667,
            3.69770495054667,
            4.573261740837103,
            8.507389660102287,
            5.243832250352202,
            3.622415013743236,
            5.529820238688018,
            4.581816218818496,
            4.371504733843485,
            5.30761014003057,
            4.409038885593081,
            6.127137144263894,
            7.208440793810393,
            5.367534813497958,
            6.41409309214697,
            6.192757427584823,
            6.141654992754326,
            4.347678037052567,
            5.512129092228886,
            5.512129092228886,
            5.709401947649056,
            4.417633840023868,
            8.2755312963346,
            6.2570196276758905,
            6.6272203275092565,
            2.318464052287582,
            5.898749557015569,
            7.309351603759941,
            5.07433507814827,
            2.7368932718838512,
            4.4719478838618,
            7.872216698035411,
            8.678721430242115,
            4.747869641246007,
            5.350224667090009,
            4.918084358741504,
            3.3745789344449446,
            5.098196968776965,
            5.233695634628721,
            4.8502985958655085,
            4.469116572504459,
            4.93541496042662,
            5.94375874287339,
            7.692716227040677,
            7.644437587126622,
            5.839073435861533,
            2.441573127865991,
            4.983558986075879,
            2.7442017620825507,
            5.014832357645439,
            4.026722198613408
           ]
          },
          {
           "label": "ef_money",
           "values": [
            9.826979080174429,
            7.287095106246504,
            4.665603276648,
            3.879031118722267,
            9.51974477425814,
            9.554925163337035,
            9.42336414752316,
            7.291847982358467,
            8.255860360513687,
            9.337522141617828,
            6.9130467766800585,
            8.138482641553107,
            9.012653551718204,
            9.41399778308748,
            7.352248831886211,
            7.324091484507923,
            6.835498881501571,
            9.403035364746671,
            8.400046489646888,
            9.34223505428128,
            9.262210938827128,
            9.499403035378162,
            6.712105939999336,
            8.772094067272718,
            9.7668693937585,
            9.265953096119254,
            7.153698395147114,
            9.59912778225074,
            6.59770666503338,
            6.906439677147629,
            9.686109980384556,
            8.406503044866572,
            8.320903709001136,
            7.024031846318778,
            5.173896271025358,
            9.782642408121657,
            7.166738669422986,
            7.166738669422986,
            7.166738669422986,
            7.166738669422986,
            7.166738669422986,
            7.166738669422986,
            9.72030698290528,
            9.338532290710296,
            9.53934133545969,
            9.901594956910705,
            7.202986651462176,
            9.633624153225838,
            8.508586411578406,
            8.164629956055714,
            9.723761178787342,
            9.361638308531456,
            7.8552707015428895,
            5.948536754222644,
            7.138529550105324,
            9.386091204415662,
            9.413703315470189,
            6.62358634014832,
            9.20317152111955,
            9.223706773267878,
            9.409925306808072,
            6.283502935042856,
            9.298154500223196,
            9.61964792523707,
            7.301192332230145,
            6.919855349994014,
            8.304738498497704,
            6.952256422387611,
            9.309396642246348,
            9.433909764581738,
            9.621231372154307,
            8.153091350457533,
            9.662632999528984,
            5.939100669439263,
            7.820143208713799,
            9.466827831615424,
            9.7626957513004,
            9.405549313694952,
            9.27589604387939,
            9.808897086849448,
            9.904163189290117,
            9.27863918113372,
            9.401611038204956,
            9.698633628456438,
            8.232610291683274,
            9.442874912407513,
            7.5319869010031555,
            7.5319869010031555,
            7.5319869010031555,
            7.5319869010031555,
            7.5319869010031555,
            7.5319869010031555,
            9.309865199130993,
            9.528858877539284,
            8.097993051337115,
            8.319382518713402,
            9.32824796467862,
            9.300667470406909,
            7.969798261074698,
            6.994273622904176,
            8.414791586395243,
            7.1851616343048486,
            9.533611899951364,
            8.017969699474053,
            9.753287151428523,
            8.230087681603136,
            8.115102642936161,
            8.777749649796892,
            9.725295303699635,
            7.424318868659528,
            8.009398781713823,
            6.4933487851256615,
            6.697164184462156,
            6.666956649040286,
            9.259991183334428,
            9.668847587410244,
            9.54681545115468,
            7.1616974885898586,
            7.1616974885898586,
            8.731148542342847,
            8.731148542342847,
            8.336274968267926,
            9.350750823530888,
            8.642079067216535,
            6.420046131757513,
            9.50413178577782,
            6.619140400075092,
            9.497221110983334,
            9.717459990694294,
            9.558173543273416,
            8.374622541343463,
            9.439317201113676,
            8.421675516224932,
            9.3679984801539,
            9.30191182111646,
            8.710174670403156,
            7.106551661480305,
            8.356811499198882,
            8.356811499198882,
            9.26026324068321,
            7.102187283860394,
            9.75928021791004,
            9.315774726122925,
            9.575788542288883,
            6.659103022672055,
            8.242209154723609,
            9.45224267102741,
            7.988426972637047,
            1.943091710822872,
            7.87929465182474,
            9.683147738882266,
            9.874369043243998,
            8.940392352986503,
            8.36748562951531,
            8.584609892320595,
            8.717760604985385,
            7.214475044186399,
            9.255380682553636,
            8.260802221456528,
            9.444137776178938,
            5.595327311473172,
            9.07405184327396,
            9.707107327533556,
            9.748028677519772,
            9.216420347013102,
            0.9449345936218932,
            6.892571102234293,
            8.727527196441635,
            9.029453706370472,
            1.4146785364922612
           ]
          },
          {
           "label": "ef_trade",
           "values": [
            8.230921222593553,
            2.549231459018942,
            5.406229629486642,
            5.975559494182014,
            8.525585950935806,
            7.952605905846455,
            8.448313503570635,
            7.236792247564661,
            5.401509808473472,
            8.267520769254084,
            5.757207922662095,
            6.738027587632372,
            6.18000423689776,
            8.385667287256531,
            5.834743964399881,
            6.1817363931437965,
            5.4007589238934495,
            7.015907640440243,
            7.811464538785636,
            7.935272329937506,
            6.99118477865729,
            8.337526262039418,
            6.3077419367903325,
            2.702274879225634,
            7.168270028784987,
            7.7224957717003235,
            5.123258066177589,
            7.692067032489946,
            4.779179459486304,
            5.068142872491787,
            8.157798777509806,
            6.712135381186055,
            6.574642798177505,
            7.129358755975038,
            4.898541492372304,
            8.087953616617265,
            5.454102103948053,
            5.454102103948053,
            5.454102103948053,
            5.454102103948053,
            5.454102103948053,
            5.454102103948053,
            8.333609717101208,
            8.638470028820182,
            8.434255549403968,
            8.774736124500121,
            6.953030096355922,
            8.197420951495609,
            6.770285430701696,
            6.244056925725634,
            7.846993269758211,
            8.680978270502838,
            6.000922627922269,
            5.64011521202118,
            5.5105552784266605,
            8.502249375480229,
            8.55947543233666,
            5.928013784303815,
            6.6697427246925765,
            9.115731462171697,
            8.335670063540878,
            6.468851647943188,
            8.135210880814768,
            8.294744120807131,
            5.530160764193378,
            5.848225555763549,
            5.764719488881449,
            7.804206687535064,
            6.842639101319967,
            8.392751737191148,
            7.784227226715485,
            5.860152405511316,
            7.021857920865866,
            3.4105890914242587,
            5.175960394306273,
            8.730446109289867,
            8.434961812102987,
            8.689500091791787,
            6.630127259900257,
            8.315043651678582,
            8.01857577604976,
            7.203878494773749,
            6.64112788987037,
            7.990920152606966,
            7.286071393995042,
            7.124135192587497,
            7.254094246009296,
            7.254094246009296,
            7.254094246009296,
            7.254094246009296,
            7.254094246009296,
            7.254094246009296,
            8.712081620806387,
            5.913066177834068,
            6.568097298920613,
            5.686529974486613,
            8.680558582202014,
            8.204561488813216,
            6.690980797494902,
            5.003571228446856,
            7.628333764463597,
            6.0649752923054,
            8.74912076985525,
            6.703325993489877,
            8.533119693164862,
            7.713070028490085,
            7.572299033779311,
            7.039303312945899,
            8.51446697160069,
            6.899925628186025,
            6.909761326055715,
            4.888129651762187,
            6.171932485836429,
            6.554346552860021,
            8.958195950413582,
            8.764251187177656,
            8.13495705040582,
            4.960672490958984,
            4.960672490958984,
            6.061461956370255,
            6.061461956370255,
            7.744462261229224,
            7.91333420399906,
            7.607971455126962,
            5.670817591483577,
            8.926765932072712,
            6.748346672886608,
            7.200951205635959,
            8.698180344514121,
            7.071513668043595,
            8.01920868481531,
            8.789785548522557,
            8.363602674173016,
            8.845594850534736,
            7.916185205835797,
            7.383093929494624,
            6.811576342851296,
            7.943778881162967,
            7.943778881162967,
            8.341370101898995,
            5.855117232087178,
            9.439686997957864,
            8.361541072964432,
            8.214139669126206,
            8.76694239746794,
            6.503682022288484,
            8.4417527208623,
            5.46567264773327,
            2.4149112553587084,
            5.55451528434896,
            8.48882600164924,
            7.893538992162519,
            6.545691713178794,
            6.022118462736951,
            7.031911181205849,
            7.85061230290888,
            5.02517548672138,
            7.935360233758752,
            6.98018612073289,
            7.76470628178058,
            6.885740773412314,
            8.47568351656086,
            8.433408156942935,
            7.830031507418689,
            8.329118607893376,
            4.087179287339767,
            6.18397607261049,
            5.377538791779919,
            7.693313287670813,
            5.782428757856938
           ]
          },
          {
           "label": "ef_regulation",
           "values": [
            7.700885438046011,
            5.840164017697066,
            5.974672216889689,
            5.994264971283058,
            7.819774170946967,
            8.522243067819574,
            7.651273820389231,
            7.366151572996511,
            7.23211659993122,
            7.707362612478126,
            6.559703367102293,
            7.624462786635191,
            6.166868864280716,
            8.119238960628794,
            6.691672517516031,
            7.240734545267787,
            7.0469754662977815,
            5.234398246434778,
            7.388392882687697,
            7.848360076244915,
            4.805464939821509,
            7.809822758185853,
            7.057618834226765,
            6.414695630937875,
            7.332777612351156,
            7.00583479253644,
            6.697377179092753,
            8.62297006400779,
            4.7943038470406085,
            4.867346534631516,
            7.02830900780645,
            6.334523981459305,
            7.291507227909887,
            7.652048392292816,
            4.181182568251351,
            6.631761275738476,
            6.889005492505095,
            6.889005492505095,
            6.889005492505095,
            6.889005492505095,
            6.889005492505095,
            6.889005492505095,
            7.460736570666558,
            7.926096828146871,
            8.31331264602172,
            8.539323149884753,
            7.263190901281354,
            6.646133842521446,
            6.340445165614336,
            5.425883671256611,
            6.338417720582593,
            8.224881245379274,
            7.150196410551582,
            6.842295961092261,
            7.316857801376642,
            7.958895818508566,
            7.556318151656968,
            7.095451527368955,
            7.127114875806505,
            8.159666407148118,
            7.985994206731679,
            7.104060735151112,
            7.175459203544903,
            6.90393195683495,
            6.869810589031559,
            5.023096716736515,
            5.687224113446696,
            7.107564351660364,
            6.942183667527453,
            7.485904565954129,
            7.657500940541745,
            6.669678140229098,
            6.577035189801408,
            5.500165516693666,
            5.938161896755801,
            8.39613616304113,
            7.419096868170922,
            7.78080129882424,
            8.174051260903754,
            8.33675814506234,
            7.902228662637444,
            7.959518596611793,
            6.917307121825146,
            7.389147140886865,
            7.380227439838806,
            7.025507919488171,
            6.47859899961616,
            6.47859899961616,
            6.47859899961616,
            6.47859899961616,
            6.47859899961616,
            6.47859899961616,
            8.263957734714754,
            6.456325958528519,
            7.238032975319896,
            5.33635050313946,
            8.273870202171546,
            8.057081651016363,
            6.197243275599772,
            6.587275686000467,
            8.668824997675044,
            6.342790540330462,
            8.42908356272653,
            7.2166902593399485,
            7.9503988402860175,
            7.096735462084207,
            7.44198008966424,
            7.89411195500051,
            8.086435458491795,
            6.991636166702741,
            6.22916183923692,
            5.251206612722412,
            7.629787275707366,
            7.369010891216813,
            8.116903860801521,
            8.976067150615409,
            6.988862600579966,
            5.6426177612240345,
            5.6426177612240345,
            7.932378232462124,
            7.932378232462124,
            8.103909880524833,
            7.92805401978504,
            7.613795947059611,
            6.048558042934523,
            6.957388556331281,
            6.43073242646494,
            6.355637216322118,
            7.447549635425493,
            7.4798246818050975,
            7.440587522728088,
            7.126458976269382,
            7.465230029091084,
            7.518355292508008,
            7.767977287476467,
            7.286863257725417,
            5.829608671202944,
            7.575464047357658,
            7.575464047357658,
            7.713738602745104,
            4.184895682150992,
            9.006491934155873,
            7.817965053129221,
            7.279837829574602,
            5.599966340534256,
            7.159530541751546,
            7.838456967281304,
            6.886956311644279,
            4.127384690609307,
            6.364967664808436,
            7.806967009351016,
            8.26946983638827,
            6.713451691639137,
            7.034957898066593,
            6.881550187939395,
            5.150415436685848,
            5.589745126159978,
            6.771848992763149,
            5.817052589452803,
            7.835990583330897,
            6.613970861875086,
            7.506220917679474,
            8.43580707940532,
            8.682921495365475,
            6.983482865556614,
            2.5172352739020867,
            6.983629068500249,
            3.50263998757036,
            6.455084693306445,
            6.132667741206869
           ]
          }
         ],
         "domain": {
          "x": [
           0,
           1
          ],
          "y": [
           0,
           1
          ]
         },
         "line": {
          "color": [
           4.719,
           5.211,
           null,
           6.086,
           4.559,
           7.228,
           7.246,
           5.208,
           null,
           6.199,
           4.456,
           null,
           5.323,
           6.923,
           null,
           4.883,
           5.082,
           5.779,
           5.386,
           3.488,
           6.3,
           5.011,
           4.587,
           3.775,
           null,
           4.7,
           5.044,
           7.278,
           3.083,
           4.35,
           6.444,
           5.191,
           6.125,
           3.973,
           null,
           7.167,
           5.718,
           4.944,
           4.812,
           4.796,
           4.696,
           4.418,
           5.432,
           6.046,
           6.852,
           7.6,
           null,
           5.425,
           6.028,
           4.166,
           6.253,
           5.893,
           4.212,
           4.286,
           null,
           7.769,
           6.592,
           4.799,
           4.516,
           4.519,
           6.985,
           4.996,
           5.287,
           6.436,
           4.534,
           null,
           null,
           3.597,
           5.86,
           5.758,
           7.494,
           4.015,
           5.192,
           4.548,
           4.437,
           7.021,
           7.139,
           6.223,
           5.89,
           5.886,
           4.906,
           5.809,
           4.509,
           5.895,
           6.021,
           5.261,
           5.718,
           4.944,
           4.812,
           4.796,
           4.696,
           4.418,
           5.94,
           5.197,
           3.802,
           3.975,
           6.149,
           7.09,
           3.933,
           3.41,
           5.339,
           4.39,
           6.726,
           4.49,
           5.888,
           6.595,
           5.529,
           5.285,
           5.523,
           5.208,
           4.466,
           4.36,
           4.639,
           4.913,
           7.488,
           7.307,
           6.105,
           5.265,
           4.628,
           5.265,
           4.628,
           5.274,
           7.554,
           null,
           5.653,
           6.321,
           null,
           5.743,
           5.697,
           5.631,
           6.182,
           5.693,
           6.374,
           6.07,
           3.334,
           6.375,
           4.681,
           6.1,
           5.603,
           null,
           4.374,
           6.262,
           6.198,
           6.118,
           4.668,
           4.722,
           6.354,
           4.366,
           null,
           null,
           7.343,
           7.48,
           5.467,
           3.231,
           6.008,
           null,
           4.085,
           6.192,
           5.373,
           4.189,
           4.332,
           6.825,
           7.054,
           6.892,
           6.293,
           4.707,
           5.175,
           3.38,
           4.107,
           3.663
          ],
          "coloraxis": "coloraxis"
         },
         "name": "",
         "type": "parcoords"
        }
       ],
       "layout": {
        "coloraxis": {
         "colorbar": {
          "title": {
           "text": "Happiness Score"
          }
         },
         "colorscale": [
          [
           0,
           "#0d0887"
          ],
          [
           0.1111111111111111,
           "#46039f"
          ],
          [
           0.2222222222222222,
           "#7201a8"
          ],
          [
           0.3333333333333333,
           "#9c179e"
          ],
          [
           0.4444444444444444,
           "#bd3786"
          ],
          [
           0.5555555555555556,
           "#d8576b"
          ],
          [
           0.6666666666666666,
           "#ed7953"
          ],
          [
           0.7777777777777778,
           "#fb9f3a"
          ],
          [
           0.8888888888888888,
           "#fdca26"
          ],
          [
           1,
           "#f0f921"
          ]
         ]
        },
        "legend": {
         "tracegroupgap": 0
        },
        "template": {
         "data": {
          "bar": [
           {
            "error_x": {
             "color": "#2a3f5f"
            },
            "error_y": {
             "color": "#2a3f5f"
            },
            "marker": {
             "line": {
              "color": "#E5ECF6",
              "width": 0.5
             },
             "pattern": {
              "fillmode": "overlay",
              "size": 10,
              "solidity": 0.2
             }
            },
            "type": "bar"
           }
          ],
          "barpolar": [
           {
            "marker": {
             "line": {
              "color": "#E5ECF6",
              "width": 0.5
             },
             "pattern": {
              "fillmode": "overlay",
              "size": 10,
              "solidity": 0.2
             }
            },
            "type": "barpolar"
           }
          ],
          "carpet": [
           {
            "aaxis": {
             "endlinecolor": "#2a3f5f",
             "gridcolor": "white",
             "linecolor": "white",
             "minorgridcolor": "white",
             "startlinecolor": "#2a3f5f"
            },
            "baxis": {
             "endlinecolor": "#2a3f5f",
             "gridcolor": "white",
             "linecolor": "white",
             "minorgridcolor": "white",
             "startlinecolor": "#2a3f5f"
            },
            "type": "carpet"
           }
          ],
          "choropleth": [
           {
            "colorbar": {
             "outlinewidth": 0,
             "ticks": ""
            },
            "type": "choropleth"
           }
          ],
          "contour": [
           {
            "colorbar": {
             "outlinewidth": 0,
             "ticks": ""
            },
            "colorscale": [
             [
              0,
              "#0d0887"
             ],
             [
              0.1111111111111111,
              "#46039f"
             ],
             [
              0.2222222222222222,
              "#7201a8"
             ],
             [
              0.3333333333333333,
              "#9c179e"
             ],
             [
              0.4444444444444444,
              "#bd3786"
             ],
             [
              0.5555555555555556,
              "#d8576b"
             ],
             [
              0.6666666666666666,
              "#ed7953"
             ],
             [
              0.7777777777777778,
              "#fb9f3a"
             ],
             [
              0.8888888888888888,
              "#fdca26"
             ],
             [
              1,
              "#f0f921"
             ]
            ],
            "type": "contour"
           }
          ],
          "contourcarpet": [
           {
            "colorbar": {
             "outlinewidth": 0,
             "ticks": ""
            },
            "type": "contourcarpet"
           }
          ],
          "heatmap": [
           {
            "colorbar": {
             "outlinewidth": 0,
             "ticks": ""
            },
            "colorscale": [
             [
              0,
              "#0d0887"
             ],
             [
              0.1111111111111111,
              "#46039f"
             ],
             [
              0.2222222222222222,
              "#7201a8"
             ],
             [
              0.3333333333333333,
              "#9c179e"
             ],
             [
              0.4444444444444444,
              "#bd3786"
             ],
             [
              0.5555555555555556,
              "#d8576b"
             ],
             [
              0.6666666666666666,
              "#ed7953"
             ],
             [
              0.7777777777777778,
              "#fb9f3a"
             ],
             [
              0.8888888888888888,
              "#fdca26"
             ],
             [
              1,
              "#f0f921"
             ]
            ],
            "type": "heatmap"
           }
          ],
          "heatmapgl": [
           {
            "colorbar": {
             "outlinewidth": 0,
             "ticks": ""
            },
            "colorscale": [
             [
              0,
              "#0d0887"
             ],
             [
              0.1111111111111111,
              "#46039f"
             ],
             [
              0.2222222222222222,
              "#7201a8"
             ],
             [
              0.3333333333333333,
              "#9c179e"
             ],
             [
              0.4444444444444444,
              "#bd3786"
             ],
             [
              0.5555555555555556,
              "#d8576b"
             ],
             [
              0.6666666666666666,
              "#ed7953"
             ],
             [
              0.7777777777777778,
              "#fb9f3a"
             ],
             [
              0.8888888888888888,
              "#fdca26"
             ],
             [
              1,
              "#f0f921"
             ]
            ],
            "type": "heatmapgl"
           }
          ],
          "histogram": [
           {
            "marker": {
             "pattern": {
              "fillmode": "overlay",
              "size": 10,
              "solidity": 0.2
             }
            },
            "type": "histogram"
           }
          ],
          "histogram2d": [
           {
            "colorbar": {
             "outlinewidth": 0,
             "ticks": ""
            },
            "colorscale": [
             [
              0,
              "#0d0887"
             ],
             [
              0.1111111111111111,
              "#46039f"
             ],
             [
              0.2222222222222222,
              "#7201a8"
             ],
             [
              0.3333333333333333,
              "#9c179e"
             ],
             [
              0.4444444444444444,
              "#bd3786"
             ],
             [
              0.5555555555555556,
              "#d8576b"
             ],
             [
              0.6666666666666666,
              "#ed7953"
             ],
             [
              0.7777777777777778,
              "#fb9f3a"
             ],
             [
              0.8888888888888888,
              "#fdca26"
             ],
             [
              1,
              "#f0f921"
             ]
            ],
            "type": "histogram2d"
           }
          ],
          "histogram2dcontour": [
           {
            "colorbar": {
             "outlinewidth": 0,
             "ticks": ""
            },
            "colorscale": [
             [
              0,
              "#0d0887"
             ],
             [
              0.1111111111111111,
              "#46039f"
             ],
             [
              0.2222222222222222,
              "#7201a8"
             ],
             [
              0.3333333333333333,
              "#9c179e"
             ],
             [
              0.4444444444444444,
              "#bd3786"
             ],
             [
              0.5555555555555556,
              "#d8576b"
             ],
             [
              0.6666666666666666,
              "#ed7953"
             ],
             [
              0.7777777777777778,
              "#fb9f3a"
             ],
             [
              0.8888888888888888,
              "#fdca26"
             ],
             [
              1,
              "#f0f921"
             ]
            ],
            "type": "histogram2dcontour"
           }
          ],
          "mesh3d": [
           {
            "colorbar": {
             "outlinewidth": 0,
             "ticks": ""
            },
            "type": "mesh3d"
           }
          ],
          "parcoords": [
           {
            "line": {
             "colorbar": {
              "outlinewidth": 0,
              "ticks": ""
             }
            },
            "type": "parcoords"
           }
          ],
          "pie": [
           {
            "automargin": true,
            "type": "pie"
           }
          ],
          "scatter": [
           {
            "fillpattern": {
             "fillmode": "overlay",
             "size": 10,
             "solidity": 0.2
            },
            "type": "scatter"
           }
          ],
          "scatter3d": [
           {
            "line": {
             "colorbar": {
              "outlinewidth": 0,
              "ticks": ""
             }
            },
            "marker": {
             "colorbar": {
              "outlinewidth": 0,
              "ticks": ""
             }
            },
            "type": "scatter3d"
           }
          ],
          "scattercarpet": [
           {
            "marker": {
             "colorbar": {
              "outlinewidth": 0,
              "ticks": ""
             }
            },
            "type": "scattercarpet"
           }
          ],
          "scattergeo": [
           {
            "marker": {
             "colorbar": {
              "outlinewidth": 0,
              "ticks": ""
             }
            },
            "type": "scattergeo"
           }
          ],
          "scattergl": [
           {
            "marker": {
             "colorbar": {
              "outlinewidth": 0,
              "ticks": ""
             }
            },
            "type": "scattergl"
           }
          ],
          "scattermapbox": [
           {
            "marker": {
             "colorbar": {
              "outlinewidth": 0,
              "ticks": ""
             }
            },
            "type": "scattermapbox"
           }
          ],
          "scatterpolar": [
           {
            "marker": {
             "colorbar": {
              "outlinewidth": 0,
              "ticks": ""
             }
            },
            "type": "scatterpolar"
           }
          ],
          "scatterpolargl": [
           {
            "marker": {
             "colorbar": {
              "outlinewidth": 0,
              "ticks": ""
             }
            },
            "type": "scatterpolargl"
           }
          ],
          "scatterternary": [
           {
            "marker": {
             "colorbar": {
              "outlinewidth": 0,
              "ticks": ""
             }
            },
            "type": "scatterternary"
           }
          ],
          "surface": [
           {
            "colorbar": {
             "outlinewidth": 0,
             "ticks": ""
            },
            "colorscale": [
             [
              0,
              "#0d0887"
             ],
             [
              0.1111111111111111,
              "#46039f"
             ],
             [
              0.2222222222222222,
              "#7201a8"
             ],
             [
              0.3333333333333333,
              "#9c179e"
             ],
             [
              0.4444444444444444,
              "#bd3786"
             ],
             [
              0.5555555555555556,
              "#d8576b"
             ],
             [
              0.6666666666666666,
              "#ed7953"
             ],
             [
              0.7777777777777778,
              "#fb9f3a"
             ],
             [
              0.8888888888888888,
              "#fdca26"
             ],
             [
              1,
              "#f0f921"
             ]
            ],
            "type": "surface"
           }
          ],
          "table": [
           {
            "cells": {
             "fill": {
              "color": "#EBF0F8"
             },
             "line": {
              "color": "white"
             }
            },
            "header": {
             "fill": {
              "color": "#C8D4E3"
             },
             "line": {
              "color": "white"
             }
            },
            "type": "table"
           }
          ]
         },
         "layout": {
          "annotationdefaults": {
           "arrowcolor": "#2a3f5f",
           "arrowhead": 0,
           "arrowwidth": 1
          },
          "autotypenumbers": "strict",
          "coloraxis": {
           "colorbar": {
            "outlinewidth": 0,
            "ticks": ""
           }
          },
          "colorscale": {
           "diverging": [
            [
             0,
             "#8e0152"
            ],
            [
             0.1,
             "#c51b7d"
            ],
            [
             0.2,
             "#de77ae"
            ],
            [
             0.3,
             "#f1b6da"
            ],
            [
             0.4,
             "#fde0ef"
            ],
            [
             0.5,
             "#f7f7f7"
            ],
            [
             0.6,
             "#e6f5d0"
            ],
            [
             0.7,
             "#b8e186"
            ],
            [
             0.8,
             "#7fbc41"
            ],
            [
             0.9,
             "#4d9221"
            ],
            [
             1,
             "#276419"
            ]
           ],
           "sequential": [
            [
             0,
             "#0d0887"
            ],
            [
             0.1111111111111111,
             "#46039f"
            ],
            [
             0.2222222222222222,
             "#7201a8"
            ],
            [
             0.3333333333333333,
             "#9c179e"
            ],
            [
             0.4444444444444444,
             "#bd3786"
            ],
            [
             0.5555555555555556,
             "#d8576b"
            ],
            [
             0.6666666666666666,
             "#ed7953"
            ],
            [
             0.7777777777777778,
             "#fb9f3a"
            ],
            [
             0.8888888888888888,
             "#fdca26"
            ],
            [
             1,
             "#f0f921"
            ]
           ],
           "sequentialminus": [
            [
             0,
             "#0d0887"
            ],
            [
             0.1111111111111111,
             "#46039f"
            ],
            [
             0.2222222222222222,
             "#7201a8"
            ],
            [
             0.3333333333333333,
             "#9c179e"
            ],
            [
             0.4444444444444444,
             "#bd3786"
            ],
            [
             0.5555555555555556,
             "#d8576b"
            ],
            [
             0.6666666666666666,
             "#ed7953"
            ],
            [
             0.7777777777777778,
             "#fb9f3a"
            ],
            [
             0.8888888888888888,
             "#fdca26"
            ],
            [
             1,
             "#f0f921"
            ]
           ]
          },
          "colorway": [
           "#636efa",
           "#EF553B",
           "#00cc96",
           "#ab63fa",
           "#FFA15A",
           "#19d3f3",
           "#FF6692",
           "#B6E880",
           "#FF97FF",
           "#FECB52"
          ],
          "font": {
           "color": "#2a3f5f"
          },
          "geo": {
           "bgcolor": "white",
           "lakecolor": "white",
           "landcolor": "#E5ECF6",
           "showlakes": true,
           "showland": true,
           "subunitcolor": "white"
          },
          "hoverlabel": {
           "align": "left"
          },
          "hovermode": "closest",
          "mapbox": {
           "style": "light"
          },
          "paper_bgcolor": "white",
          "plot_bgcolor": "#E5ECF6",
          "polar": {
           "angularaxis": {
            "gridcolor": "white",
            "linecolor": "white",
            "ticks": ""
           },
           "bgcolor": "#E5ECF6",
           "radialaxis": {
            "gridcolor": "white",
            "linecolor": "white",
            "ticks": ""
           }
          },
          "scene": {
           "xaxis": {
            "backgroundcolor": "#E5ECF6",
            "gridcolor": "white",
            "gridwidth": 2,
            "linecolor": "white",
            "showbackground": true,
            "ticks": "",
            "zerolinecolor": "white"
           },
           "yaxis": {
            "backgroundcolor": "#E5ECF6",
            "gridcolor": "white",
            "gridwidth": 2,
            "linecolor": "white",
            "showbackground": true,
            "ticks": "",
            "zerolinecolor": "white"
           },
           "zaxis": {
            "backgroundcolor": "#E5ECF6",
            "gridcolor": "white",
            "gridwidth": 2,
            "linecolor": "white",
            "showbackground": true,
            "ticks": "",
            "zerolinecolor": "white"
           }
          },
          "shapedefaults": {
           "line": {
            "color": "#2a3f5f"
           }
          },
          "ternary": {
           "aaxis": {
            "gridcolor": "white",
            "linecolor": "white",
            "ticks": ""
           },
           "baxis": {
            "gridcolor": "white",
            "linecolor": "white",
            "ticks": ""
           },
           "bgcolor": "#E5ECF6",
           "caxis": {
            "gridcolor": "white",
            "linecolor": "white",
            "ticks": ""
           }
          },
          "title": {
           "x": 0.05
          },
          "xaxis": {
           "automargin": true,
           "gridcolor": "white",
           "linecolor": "white",
           "ticks": "",
           "title": {
            "standoff": 15
           },
           "zerolinecolor": "white",
           "zerolinewidth": 2
          },
          "yaxis": {
           "automargin": true,
           "gridcolor": "white",
           "linecolor": "white",
           "ticks": "",
           "title": {
            "standoff": 15
           },
           "zerolinecolor": "white",
           "zerolinewidth": 2
          }
         }
        },
        "title": {
         "text": "Economic Freedom Dimensions and Happiness"
        }
       }
      },
      "text/html": [
       "<div>                            <div id=\"3a94724a-6c22-4f57-acdb-f0db5bb60bee\" class=\"plotly-graph-div\" style=\"height:525px; width:100%;\"></div>            <script type=\"text/javascript\">                require([\"plotly\"], function(Plotly) {                    window.PLOTLYENV=window.PLOTLYENV || {};                                    if (document.getElementById(\"3a94724a-6c22-4f57-acdb-f0db5bb60bee\")) {                    Plotly.newPlot(                        \"3a94724a-6c22-4f57-acdb-f0db5bb60bee\",                        [{\"dimensions\":[{\"label\":\"ef_government\",\"values\":[7.914392576649189,4.49347202137394,8.052208698738351,6.5478855013395005,7.769870950014884,6.538491161587251,5.426613239301171,5.007234332425068,8.836840839878185,7.10616046185285,8.105720468023723,6.964655313351498,5.388496053053374,4.748736576374419,7.111722556062549,7.963811733933804,7.387839019531519,6.027890687610194,6.850712030316214,6.106443557804593,6.8284956723833945,7.351462161976507,7.095353685343346,6.349401680672268,7.593060105786184,9.20158467474183,7.232736358848716,6.321841595493783,7.20111160490662,8.603365511872322,7.819068680878345,5.020834577427702,7.025266395180959,6.355252100840336,6.6688546241384845,7.453989272548256,6.86731872094887,6.86731872094887,6.86731872094887,6.86731872094887,6.86731872094887,6.86731872094887,5.504224990268587,7.25002700753326,6.637021031300803,5.343283619169739,6.820527950310559,8.765538066997916,7.148050248437249,5.2884398010875575,8.46926526686969,6.601595413642296,5.86389405353422,6.227258718201176,6.660901472305544,5.1308903670460015,5.079722036498524,6.79399094406155,7.293935623406833,7.590750520916814,6.0008730565795805,8.517958086231767,5.413735385707417,9.227898301009777,6.057253151260504,7.911948114395621,3.9474690402476784,9.113672864241064,8.949764705882354,5.9244449659972975,6.048855322510476,7.580041272639846,8.1601872094887,6.654769743319671,4.934771369038079,6.686180076935406,6.4332207885879145,5.718832986055458,8.215555394865289,5.747943872932703,7.397703901724176,7.956236175669178,7.084612426441966,6.434307753073982,5.871116702477016,7.3317674106427315,7.212634623636065,7.212634623636065,7.212634623636065,7.212634623636065,7.212634623636065,7.212634623636065,6.404050065257711,8.123097691937812,5.204750658301469,7.147374733169935,7.656797563712132,5.69713482014059,7.703109381082133,6.315984784649555,7.043271449179128,6.396665502713346,6.944420259656996,7.228713235294117,7.905090078538227,8.249316637281614,7.819018352300048,7.334423751516956,6.41156512605042,6.693048840244545,6.755141826757951,7.344872220822934,6.96334438898175,8.10056610491608,5.096153733427975,6.716763183202436,6.244655462184873,6.641986066906327,6.641986066906327,8.70811639431208,8.70811639431208,7.08362188308566,5.059890229661347,4.7516189915521405,8.227939570186214,7.803474847159572,5.687146181445575,8.13394117647059,7.728770819499462,8.162487005701461,6.115690861630756,6.281709248276968,5.937786996847097,7.220314072768072,5.083671032445676,4.907235752066494,7.207464440272021,6.661789148902068,6.661789148902068,7.107135919217823,7.714441176470588,7.544697582030087,6.314940260572894,5.449309310100063,7.892500000000001,6.143962310809882,6.417766308703318,8.163623863714424,6.661717823369129,5.747513616421463,4.668378551965746,7.717781936207726,5.743550488860395,6.106958517932132,7.129171913997206,4.504509536784741,7.4264827009823,6.90865100071077,6.533271517871453,7.542273109243697,6.94771160671353,5.406459689052733,6.554639296590571,7.320837405261832,6.520619753623519,4.337428203496832,6.9552153361344535,8.267578063694865,6.578024179699128,5.628478361916974]},{\"label\":\"ef_gender\",\"values\":[1.0,0.7058823529411765,0.8823529411764706,0.8823529411764706,1.0,1.0,1.0,0.8235294117647058,1.0,0.4705882352941176,0.7647058823529411,0.8823529411764706,0.8823529411764706,1.0,0.8823529411764706,0.7647058823529411,0.9411764705882352,1.0,0.8823529411764706,0.8823529411764706,1.0,1.0,0.8235294117647058,0.8235294117647058,1.0,1.0,0.4705882352941176,1.0,0.7647058823529411,0.5294117647058824,0.8235294117647058,0.8823529411764706,0.9411764705882352,0.7058823529411765,0.5882352941176471,0.8823529411764706,0.8823529411764706,0.8823529411764706,0.8823529411764706,0.8823529411764706,0.8823529411764706,0.8823529411764706,1.0,0.8823529411764706,1.0,1.0,0.6470588235294118,1.0,1.0,0.4117647058823529,1.0,1.0,0.5294117647058824,0.8823529411764706,0.8823529411764706,1.0,1.0,0.4117647058823529,0.8823529411764706,1.0,1.0,0.9411764705882352,1.0,0.9411764705882352,0.8235294117647058,0.4117647058823529,0.9411764705882352,0.8235294117647058,0.9411764705882352,1.0,1.0,0.8823529411764706,0.8235294117647058,0.4117647058823529,0.4705882352941176,1.0,0.8823529411764706,1.0,0.9411764705882352,0.9411764705882352,0.4117647058823529,0.8823529411764706,0.8823529411764706,0.8823529411764706,0.4705882352941176,0.8823529411764706,1.0,1.0,1.0,1.0,1.0,1.0,1.0,0.8235294117647058,0.9411764705882352,1.0,1.0,1.0,0.7647058823529411,0.8823529411764706,0.6470588235294118,0.6470588235294118,0.9411764705882352,0.4705882352941176,1.0,1.0,1.0,1.0,0.8235294117647058,0.7647058823529411,0.9411764705882352,0.8823529411764706,0.9411764705882352,0.9411764705882352,1.0,1.0,1.0,0.5294117647058824,0.5294117647058824,0.8235294117647058,0.8235294117647058,0.9411764705882352,1.0,0.4705882352941176,0.6470588235294118,0.9411764705882352,0.8235294117647058,1.0,1.0,0.8235294117647058,1.0,1.0,0.5294117647058824,1.0,1.0,0.7058823529411765,0.6470588235294118,1.0,1.0,0.9411764705882352,0.9411764705882352,1.0,1.0,0.9411764705882352,0.6470588235294118,1.0,1.0,0.8823529411764706,0.2941176470588235,0.9411764705882352,1.0,1.0,0.8823529411764706,0.8823529411764706,0.9411764705882352,1.0,1.0,0.9411764705882352,0.9411764705882352,0.8235294117647058,0.8235294117647058,0.5882352941176471,1.0,1.0,0.9411764705882352,1.0,0.8823529411764706,0.4117647058823529,0.9411764705882352,1.0]},{\"label\":\"ef_legal\",\"values\":[5.258757491689963,4.1422082580610695,3.667890825945221,4.7975476609758525,6.250505585339432,8.296988683127012,8.330700997632993,5.24111286439943,6.320795026480703,4.728228065955101,2.8736483507289856,5.794533825566639,5.657423425355415,7.445478460572353,5.045897661593664,4.574789594478258,5.93033692510428,3.922091504395261,4.268834187754029,6.111605533497208,5.1090839704264575,5.938530704717112,4.054106067677203,4.097359930481212,6.397208005399725,3.702686385798738,2.764192518887637,8.035536824103549,3.4628091613015526,2.68887649007495,6.623113106199391,5.1514098604026834,4.927195335918425,3.4800000000000004,2.9530672557775253,6.399241615196361,4.467732742058056,4.467732742058056,4.467732742058056,4.467732742058056,4.467732742058056,4.467732742058056,6.069863336041266,6.3160986034847,6.992208648459023,8.605796252086613,4.00921568627451,4.749735649427644,4.655373502138641,3.58034495263512,4.331459524252386,7.696341697928213,3.810476463402044,4.4548638094827,5.160571065417965,8.602986901482684,7.154802852664002,2.688558182587351,5.013637841102779,6.720674791756975,7.709181647885487,5.205447091214878,5.927943278073433,4.865090297444405,3.94178802465849,2.774040592606026,5.33156784884741,2.408066698553552,4.153854673148908,6.305296826669604,8.451374387369832,5.517044092316395,4.895132381253468,3.6007525738711386,3.180100501335078,7.68089644625452,6.083140960644192,6.472363236810601,5.754606729119606,7.665740227251912,4.302781097366405,5.581507054398319,4.9622069121927685,6.602218410775043,4.943297336577032,4.907736083430317,4.764904382345963,4.764904382345963,4.764904382345963,4.764904382345963,4.764904382345963,4.764904382345963,6.9950523766774335,4.231804023876879,5.211265553692325,4.290159925578637,7.1813593754215965,8.16734119752572,3.0169420333859884,4.807790246600227,5.834802209950095,3.4945318474392444,6.419534412896171,3.558801540679286,6.859303535886845,4.694573591571895,5.668547899677334,6.0443208209715,5.436204798197009,5.699474684718698,4.462468023404975,3.813683754503306,6.277622069755697,4.969448390060689,8.349726230637657,8.679973222497665,4.280716831197071,3.69375473972035,3.69375473972035,3.69770495054667,3.69770495054667,4.573261740837103,8.507389660102287,5.243832250352202,3.622415013743236,5.529820238688018,4.581816218818496,4.371504733843485,5.30761014003057,4.409038885593081,6.127137144263894,7.208440793810393,5.367534813497958,6.41409309214697,6.192757427584823,6.141654992754326,4.347678037052567,5.512129092228886,5.512129092228886,5.709401947649056,4.417633840023868,8.2755312963346,6.2570196276758905,6.6272203275092565,2.318464052287582,5.898749557015569,7.309351603759941,5.07433507814827,2.7368932718838512,4.4719478838618,7.872216698035411,8.678721430242115,4.747869641246007,5.350224667090009,4.918084358741504,3.3745789344449446,5.098196968776965,5.233695634628721,4.8502985958655085,4.469116572504459,4.93541496042662,5.94375874287339,7.692716227040677,7.644437587126622,5.839073435861533,2.441573127865991,4.983558986075879,2.7442017620825507,5.014832357645439,4.026722198613408]},{\"label\":\"ef_money\",\"values\":[9.826979080174429,7.287095106246504,4.665603276648,3.879031118722267,9.51974477425814,9.554925163337035,9.42336414752316,7.291847982358467,8.255860360513687,9.337522141617828,6.9130467766800585,8.138482641553107,9.012653551718204,9.41399778308748,7.352248831886211,7.324091484507923,6.835498881501571,9.403035364746671,8.400046489646888,9.34223505428128,9.262210938827128,9.499403035378162,6.712105939999336,8.772094067272718,9.7668693937585,9.265953096119254,7.153698395147114,9.59912778225074,6.59770666503338,6.906439677147629,9.686109980384556,8.406503044866572,8.320903709001136,7.024031846318778,5.173896271025358,9.782642408121657,7.166738669422986,7.166738669422986,7.166738669422986,7.166738669422986,7.166738669422986,7.166738669422986,9.72030698290528,9.338532290710296,9.53934133545969,9.901594956910705,7.202986651462176,9.633624153225838,8.508586411578406,8.164629956055714,9.723761178787342,9.361638308531456,7.8552707015428895,5.948536754222644,7.138529550105324,9.386091204415662,9.413703315470189,6.62358634014832,9.20317152111955,9.223706773267878,9.409925306808072,6.283502935042856,9.298154500223196,9.61964792523707,7.301192332230145,6.919855349994014,8.304738498497704,6.952256422387611,9.309396642246348,9.433909764581738,9.621231372154307,8.153091350457533,9.662632999528984,5.939100669439263,7.820143208713799,9.466827831615424,9.7626957513004,9.405549313694952,9.27589604387939,9.808897086849448,9.904163189290117,9.27863918113372,9.401611038204956,9.698633628456438,8.232610291683274,9.442874912407513,7.5319869010031555,7.5319869010031555,7.5319869010031555,7.5319869010031555,7.5319869010031555,7.5319869010031555,9.309865199130993,9.528858877539284,8.097993051337115,8.319382518713402,9.32824796467862,9.300667470406909,7.969798261074698,6.994273622904176,8.414791586395243,7.1851616343048486,9.533611899951364,8.017969699474053,9.753287151428523,8.230087681603136,8.115102642936161,8.777749649796892,9.725295303699635,7.424318868659528,8.009398781713823,6.4933487851256615,6.697164184462156,6.666956649040286,9.259991183334428,9.668847587410244,9.54681545115468,7.1616974885898586,7.1616974885898586,8.731148542342847,8.731148542342847,8.336274968267926,9.350750823530888,8.642079067216535,6.420046131757513,9.50413178577782,6.619140400075092,9.497221110983334,9.717459990694294,9.558173543273416,8.374622541343463,9.439317201113676,8.421675516224932,9.3679984801539,9.30191182111646,8.710174670403156,7.106551661480305,8.356811499198882,8.356811499198882,9.26026324068321,7.102187283860394,9.75928021791004,9.315774726122925,9.575788542288883,6.659103022672055,8.242209154723609,9.45224267102741,7.988426972637047,1.943091710822872,7.87929465182474,9.683147738882266,9.874369043243998,8.940392352986503,8.36748562951531,8.584609892320595,8.717760604985385,7.214475044186399,9.255380682553636,8.260802221456528,9.444137776178938,5.595327311473172,9.07405184327396,9.707107327533556,9.748028677519772,9.216420347013102,0.9449345936218932,6.892571102234293,8.727527196441635,9.029453706370472,1.4146785364922612]},{\"label\":\"ef_trade\",\"values\":[8.230921222593553,2.549231459018942,5.406229629486642,5.975559494182014,8.525585950935806,7.952605905846455,8.448313503570635,7.236792247564661,5.401509808473472,8.267520769254084,5.757207922662095,6.738027587632372,6.18000423689776,8.385667287256531,5.834743964399881,6.1817363931437965,5.4007589238934495,7.015907640440243,7.811464538785636,7.935272329937506,6.99118477865729,8.337526262039418,6.3077419367903325,2.702274879225634,7.168270028784987,7.7224957717003235,5.123258066177589,7.692067032489946,4.779179459486304,5.068142872491787,8.157798777509806,6.712135381186055,6.574642798177505,7.129358755975038,4.898541492372304,8.087953616617265,5.454102103948053,5.454102103948053,5.454102103948053,5.454102103948053,5.454102103948053,5.454102103948053,8.333609717101208,8.638470028820182,8.434255549403968,8.774736124500121,6.953030096355922,8.197420951495609,6.770285430701696,6.244056925725634,7.846993269758211,8.680978270502838,6.000922627922269,5.64011521202118,5.5105552784266605,8.502249375480229,8.55947543233666,5.928013784303815,6.6697427246925765,9.115731462171697,8.335670063540878,6.468851647943188,8.135210880814768,8.294744120807131,5.530160764193378,5.848225555763549,5.764719488881449,7.804206687535064,6.842639101319967,8.392751737191148,7.784227226715485,5.860152405511316,7.021857920865866,3.4105890914242587,5.175960394306273,8.730446109289867,8.434961812102987,8.689500091791787,6.630127259900257,8.315043651678582,8.01857577604976,7.203878494773749,6.64112788987037,7.990920152606966,7.286071393995042,7.124135192587497,7.254094246009296,7.254094246009296,7.254094246009296,7.254094246009296,7.254094246009296,7.254094246009296,8.712081620806387,5.913066177834068,6.568097298920613,5.686529974486613,8.680558582202014,8.204561488813216,6.690980797494902,5.003571228446856,7.628333764463597,6.0649752923054,8.74912076985525,6.703325993489877,8.533119693164862,7.713070028490085,7.572299033779311,7.039303312945899,8.51446697160069,6.899925628186025,6.909761326055715,4.888129651762187,6.171932485836429,6.554346552860021,8.958195950413582,8.764251187177656,8.13495705040582,4.960672490958984,4.960672490958984,6.061461956370255,6.061461956370255,7.744462261229224,7.91333420399906,7.607971455126962,5.670817591483577,8.926765932072712,6.748346672886608,7.200951205635959,8.698180344514121,7.071513668043595,8.01920868481531,8.789785548522557,8.363602674173016,8.845594850534736,7.916185205835797,7.383093929494624,6.811576342851296,7.943778881162967,7.943778881162967,8.341370101898995,5.855117232087178,9.439686997957864,8.361541072964432,8.214139669126206,8.76694239746794,6.503682022288484,8.4417527208623,5.46567264773327,2.4149112553587084,5.55451528434896,8.48882600164924,7.893538992162519,6.545691713178794,6.022118462736951,7.031911181205849,7.85061230290888,5.02517548672138,7.935360233758752,6.98018612073289,7.76470628178058,6.885740773412314,8.47568351656086,8.433408156942935,7.830031507418689,8.329118607893376,4.087179287339767,6.18397607261049,5.377538791779919,7.693313287670813,5.782428757856938]},{\"label\":\"ef_regulation\",\"values\":[7.700885438046011,5.840164017697066,5.974672216889689,5.994264971283058,7.819774170946967,8.522243067819574,7.651273820389231,7.366151572996511,7.23211659993122,7.707362612478126,6.559703367102293,7.624462786635191,6.166868864280716,8.119238960628794,6.691672517516031,7.240734545267787,7.0469754662977815,5.234398246434778,7.388392882687697,7.848360076244915,4.805464939821509,7.809822758185853,7.057618834226765,6.414695630937875,7.332777612351156,7.00583479253644,6.697377179092753,8.62297006400779,4.7943038470406085,4.867346534631516,7.02830900780645,6.334523981459305,7.291507227909887,7.652048392292816,4.181182568251351,6.631761275738476,6.889005492505095,6.889005492505095,6.889005492505095,6.889005492505095,6.889005492505095,6.889005492505095,7.460736570666558,7.926096828146871,8.31331264602172,8.539323149884753,7.263190901281354,6.646133842521446,6.340445165614336,5.425883671256611,6.338417720582593,8.224881245379274,7.150196410551582,6.842295961092261,7.316857801376642,7.958895818508566,7.556318151656968,7.095451527368955,7.127114875806505,8.159666407148118,7.985994206731679,7.104060735151112,7.175459203544903,6.90393195683495,6.869810589031559,5.023096716736515,5.687224113446696,7.107564351660364,6.942183667527453,7.485904565954129,7.657500940541745,6.669678140229098,6.577035189801408,5.500165516693666,5.938161896755801,8.39613616304113,7.419096868170922,7.78080129882424,8.174051260903754,8.33675814506234,7.902228662637444,7.959518596611793,6.917307121825146,7.389147140886865,7.380227439838806,7.025507919488171,6.47859899961616,6.47859899961616,6.47859899961616,6.47859899961616,6.47859899961616,6.47859899961616,8.263957734714754,6.456325958528519,7.238032975319896,5.33635050313946,8.273870202171546,8.057081651016363,6.197243275599772,6.587275686000467,8.668824997675044,6.342790540330462,8.42908356272653,7.2166902593399485,7.9503988402860175,7.096735462084207,7.44198008966424,7.89411195500051,8.086435458491795,6.991636166702741,6.22916183923692,5.251206612722412,7.629787275707366,7.369010891216813,8.116903860801521,8.976067150615409,6.988862600579966,5.6426177612240345,5.6426177612240345,7.932378232462124,7.932378232462124,8.103909880524833,7.92805401978504,7.613795947059611,6.048558042934523,6.957388556331281,6.43073242646494,6.355637216322118,7.447549635425493,7.4798246818050975,7.440587522728088,7.126458976269382,7.465230029091084,7.518355292508008,7.767977287476467,7.286863257725417,5.829608671202944,7.575464047357658,7.575464047357658,7.713738602745104,4.184895682150992,9.006491934155873,7.817965053129221,7.279837829574602,5.599966340534256,7.159530541751546,7.838456967281304,6.886956311644279,4.127384690609307,6.364967664808436,7.806967009351016,8.26946983638827,6.713451691639137,7.034957898066593,6.881550187939395,5.150415436685848,5.589745126159978,6.771848992763149,5.817052589452803,7.835990583330897,6.613970861875086,7.506220917679474,8.43580707940532,8.682921495365475,6.983482865556614,2.5172352739020867,6.983629068500249,3.50263998757036,6.455084693306445,6.132667741206869]}],\"domain\":{\"x\":[0.0,1.0],\"y\":[0.0,1.0]},\"line\":{\"color\":[4.719,5.211,null,6.086,4.559,7.228,7.246,5.208,null,6.199,4.456,null,5.323,6.923,null,4.883,5.082,5.779,5.386,3.488,6.3,5.011,4.587,3.775,null,4.7,5.044,7.278,3.083,4.35,6.444,5.191,6.125,3.973,null,7.167,5.718,4.944,4.812,4.796,4.696,4.418,5.432,6.046,6.852,7.6,null,5.425,6.028,4.166,6.253,5.893,4.212,4.286,null,7.769,6.592,4.799,4.516,4.519,6.985,4.996,5.287,6.436,4.534,null,null,3.597,5.86,5.758,7.494,4.015,5.192,4.548,4.437,7.021,7.139,6.223,5.89,5.886,4.906,5.809,4.509,5.895,6.021,5.261,5.718,4.944,4.812,4.796,4.696,4.418,5.94,5.197,3.802,3.975,6.149,7.09,3.933,3.41,5.339,4.39,6.726,4.49,5.888,6.595,5.529,5.285,5.523,5.208,4.466,4.36,4.639,4.913,7.488,7.307,6.105,5.265,4.628,5.265,4.628,5.274,7.554,null,5.653,6.321,null,5.743,5.697,5.631,6.182,5.693,6.374,6.07,3.334,6.375,4.681,6.1,5.603,null,4.374,6.262,6.198,6.118,4.668,4.722,6.354,4.366,null,null,7.343,7.48,5.467,3.231,6.008,null,4.085,6.192,5.373,4.189,4.332,6.825,7.054,6.892,6.293,4.707,5.175,3.38,4.107,3.663],\"coloraxis\":\"coloraxis\"},\"name\":\"\",\"type\":\"parcoords\"}],                        {\"template\":{\"data\":{\"histogram2dcontour\":[{\"type\":\"histogram2dcontour\",\"colorbar\":{\"outlinewidth\":0,\"ticks\":\"\"},\"colorscale\":[[0.0,\"#0d0887\"],[0.1111111111111111,\"#46039f\"],[0.2222222222222222,\"#7201a8\"],[0.3333333333333333,\"#9c179e\"],[0.4444444444444444,\"#bd3786\"],[0.5555555555555556,\"#d8576b\"],[0.6666666666666666,\"#ed7953\"],[0.7777777777777778,\"#fb9f3a\"],[0.8888888888888888,\"#fdca26\"],[1.0,\"#f0f921\"]]}],\"choropleth\":[{\"type\":\"choropleth\",\"colorbar\":{\"outlinewidth\":0,\"ticks\":\"\"}}],\"histogram2d\":[{\"type\":\"histogram2d\",\"colorbar\":{\"outlinewidth\":0,\"ticks\":\"\"},\"colorscale\":[[0.0,\"#0d0887\"],[0.1111111111111111,\"#46039f\"],[0.2222222222222222,\"#7201a8\"],[0.3333333333333333,\"#9c179e\"],[0.4444444444444444,\"#bd3786\"],[0.5555555555555556,\"#d8576b\"],[0.6666666666666666,\"#ed7953\"],[0.7777777777777778,\"#fb9f3a\"],[0.8888888888888888,\"#fdca26\"],[1.0,\"#f0f921\"]]}],\"heatmap\":[{\"type\":\"heatmap\",\"colorbar\":{\"outlinewidth\":0,\"ticks\":\"\"},\"colorscale\":[[0.0,\"#0d0887\"],[0.1111111111111111,\"#46039f\"],[0.2222222222222222,\"#7201a8\"],[0.3333333333333333,\"#9c179e\"],[0.4444444444444444,\"#bd3786\"],[0.5555555555555556,\"#d8576b\"],[0.6666666666666666,\"#ed7953\"],[0.7777777777777778,\"#fb9f3a\"],[0.8888888888888888,\"#fdca26\"],[1.0,\"#f0f921\"]]}],\"heatmapgl\":[{\"type\":\"heatmapgl\",\"colorbar\":{\"outlinewidth\":0,\"ticks\":\"\"},\"colorscale\":[[0.0,\"#0d0887\"],[0.1111111111111111,\"#46039f\"],[0.2222222222222222,\"#7201a8\"],[0.3333333333333333,\"#9c179e\"],[0.4444444444444444,\"#bd3786\"],[0.5555555555555556,\"#d8576b\"],[0.6666666666666666,\"#ed7953\"],[0.7777777777777778,\"#fb9f3a\"],[0.8888888888888888,\"#fdca26\"],[1.0,\"#f0f921\"]]}],\"contourcarpet\":[{\"type\":\"contourcarpet\",\"colorbar\":{\"outlinewidth\":0,\"ticks\":\"\"}}],\"contour\":[{\"type\":\"contour\",\"colorbar\":{\"outlinewidth\":0,\"ticks\":\"\"},\"colorscale\":[[0.0,\"#0d0887\"],[0.1111111111111111,\"#46039f\"],[0.2222222222222222,\"#7201a8\"],[0.3333333333333333,\"#9c179e\"],[0.4444444444444444,\"#bd3786\"],[0.5555555555555556,\"#d8576b\"],[0.6666666666666666,\"#ed7953\"],[0.7777777777777778,\"#fb9f3a\"],[0.8888888888888888,\"#fdca26\"],[1.0,\"#f0f921\"]]}],\"surface\":[{\"type\":\"surface\",\"colorbar\":{\"outlinewidth\":0,\"ticks\":\"\"},\"colorscale\":[[0.0,\"#0d0887\"],[0.1111111111111111,\"#46039f\"],[0.2222222222222222,\"#7201a8\"],[0.3333333333333333,\"#9c179e\"],[0.4444444444444444,\"#bd3786\"],[0.5555555555555556,\"#d8576b\"],[0.6666666666666666,\"#ed7953\"],[0.7777777777777778,\"#fb9f3a\"],[0.8888888888888888,\"#fdca26\"],[1.0,\"#f0f921\"]]}],\"mesh3d\":[{\"type\":\"mesh3d\",\"colorbar\":{\"outlinewidth\":0,\"ticks\":\"\"}}],\"scatter\":[{\"fillpattern\":{\"fillmode\":\"overlay\",\"size\":10,\"solidity\":0.2},\"type\":\"scatter\"}],\"parcoords\":[{\"type\":\"parcoords\",\"line\":{\"colorbar\":{\"outlinewidth\":0,\"ticks\":\"\"}}}],\"scatterpolargl\":[{\"type\":\"scatterpolargl\",\"marker\":{\"colorbar\":{\"outlinewidth\":0,\"ticks\":\"\"}}}],\"bar\":[{\"error_x\":{\"color\":\"#2a3f5f\"},\"error_y\":{\"color\":\"#2a3f5f\"},\"marker\":{\"line\":{\"color\":\"#E5ECF6\",\"width\":0.5},\"pattern\":{\"fillmode\":\"overlay\",\"size\":10,\"solidity\":0.2}},\"type\":\"bar\"}],\"scattergeo\":[{\"type\":\"scattergeo\",\"marker\":{\"colorbar\":{\"outlinewidth\":0,\"ticks\":\"\"}}}],\"scatterpolar\":[{\"type\":\"scatterpolar\",\"marker\":{\"colorbar\":{\"outlinewidth\":0,\"ticks\":\"\"}}}],\"histogram\":[{\"marker\":{\"pattern\":{\"fillmode\":\"overlay\",\"size\":10,\"solidity\":0.2}},\"type\":\"histogram\"}],\"scattergl\":[{\"type\":\"scattergl\",\"marker\":{\"colorbar\":{\"outlinewidth\":0,\"ticks\":\"\"}}}],\"scatter3d\":[{\"type\":\"scatter3d\",\"line\":{\"colorbar\":{\"outlinewidth\":0,\"ticks\":\"\"}},\"marker\":{\"colorbar\":{\"outlinewidth\":0,\"ticks\":\"\"}}}],\"scattermapbox\":[{\"type\":\"scattermapbox\",\"marker\":{\"colorbar\":{\"outlinewidth\":0,\"ticks\":\"\"}}}],\"scatterternary\":[{\"type\":\"scatterternary\",\"marker\":{\"colorbar\":{\"outlinewidth\":0,\"ticks\":\"\"}}}],\"scattercarpet\":[{\"type\":\"scattercarpet\",\"marker\":{\"colorbar\":{\"outlinewidth\":0,\"ticks\":\"\"}}}],\"carpet\":[{\"aaxis\":{\"endlinecolor\":\"#2a3f5f\",\"gridcolor\":\"white\",\"linecolor\":\"white\",\"minorgridcolor\":\"white\",\"startlinecolor\":\"#2a3f5f\"},\"baxis\":{\"endlinecolor\":\"#2a3f5f\",\"gridcolor\":\"white\",\"linecolor\":\"white\",\"minorgridcolor\":\"white\",\"startlinecolor\":\"#2a3f5f\"},\"type\":\"carpet\"}],\"table\":[{\"cells\":{\"fill\":{\"color\":\"#EBF0F8\"},\"line\":{\"color\":\"white\"}},\"header\":{\"fill\":{\"color\":\"#C8D4E3\"},\"line\":{\"color\":\"white\"}},\"type\":\"table\"}],\"barpolar\":[{\"marker\":{\"line\":{\"color\":\"#E5ECF6\",\"width\":0.5},\"pattern\":{\"fillmode\":\"overlay\",\"size\":10,\"solidity\":0.2}},\"type\":\"barpolar\"}],\"pie\":[{\"automargin\":true,\"type\":\"pie\"}]},\"layout\":{\"autotypenumbers\":\"strict\",\"colorway\":[\"#636efa\",\"#EF553B\",\"#00cc96\",\"#ab63fa\",\"#FFA15A\",\"#19d3f3\",\"#FF6692\",\"#B6E880\",\"#FF97FF\",\"#FECB52\"],\"font\":{\"color\":\"#2a3f5f\"},\"hovermode\":\"closest\",\"hoverlabel\":{\"align\":\"left\"},\"paper_bgcolor\":\"white\",\"plot_bgcolor\":\"#E5ECF6\",\"polar\":{\"bgcolor\":\"#E5ECF6\",\"angularaxis\":{\"gridcolor\":\"white\",\"linecolor\":\"white\",\"ticks\":\"\"},\"radialaxis\":{\"gridcolor\":\"white\",\"linecolor\":\"white\",\"ticks\":\"\"}},\"ternary\":{\"bgcolor\":\"#E5ECF6\",\"aaxis\":{\"gridcolor\":\"white\",\"linecolor\":\"white\",\"ticks\":\"\"},\"baxis\":{\"gridcolor\":\"white\",\"linecolor\":\"white\",\"ticks\":\"\"},\"caxis\":{\"gridcolor\":\"white\",\"linecolor\":\"white\",\"ticks\":\"\"}},\"coloraxis\":{\"colorbar\":{\"outlinewidth\":0,\"ticks\":\"\"}},\"colorscale\":{\"sequential\":[[0.0,\"#0d0887\"],[0.1111111111111111,\"#46039f\"],[0.2222222222222222,\"#7201a8\"],[0.3333333333333333,\"#9c179e\"],[0.4444444444444444,\"#bd3786\"],[0.5555555555555556,\"#d8576b\"],[0.6666666666666666,\"#ed7953\"],[0.7777777777777778,\"#fb9f3a\"],[0.8888888888888888,\"#fdca26\"],[1.0,\"#f0f921\"]],\"sequentialminus\":[[0.0,\"#0d0887\"],[0.1111111111111111,\"#46039f\"],[0.2222222222222222,\"#7201a8\"],[0.3333333333333333,\"#9c179e\"],[0.4444444444444444,\"#bd3786\"],[0.5555555555555556,\"#d8576b\"],[0.6666666666666666,\"#ed7953\"],[0.7777777777777778,\"#fb9f3a\"],[0.8888888888888888,\"#fdca26\"],[1.0,\"#f0f921\"]],\"diverging\":[[0,\"#8e0152\"],[0.1,\"#c51b7d\"],[0.2,\"#de77ae\"],[0.3,\"#f1b6da\"],[0.4,\"#fde0ef\"],[0.5,\"#f7f7f7\"],[0.6,\"#e6f5d0\"],[0.7,\"#b8e186\"],[0.8,\"#7fbc41\"],[0.9,\"#4d9221\"],[1,\"#276419\"]]},\"xaxis\":{\"gridcolor\":\"white\",\"linecolor\":\"white\",\"ticks\":\"\",\"title\":{\"standoff\":15},\"zerolinecolor\":\"white\",\"automargin\":true,\"zerolinewidth\":2},\"yaxis\":{\"gridcolor\":\"white\",\"linecolor\":\"white\",\"ticks\":\"\",\"title\":{\"standoff\":15},\"zerolinecolor\":\"white\",\"automargin\":true,\"zerolinewidth\":2},\"scene\":{\"xaxis\":{\"backgroundcolor\":\"#E5ECF6\",\"gridcolor\":\"white\",\"linecolor\":\"white\",\"showbackground\":true,\"ticks\":\"\",\"zerolinecolor\":\"white\",\"gridwidth\":2},\"yaxis\":{\"backgroundcolor\":\"#E5ECF6\",\"gridcolor\":\"white\",\"linecolor\":\"white\",\"showbackground\":true,\"ticks\":\"\",\"zerolinecolor\":\"white\",\"gridwidth\":2},\"zaxis\":{\"backgroundcolor\":\"#E5ECF6\",\"gridcolor\":\"white\",\"linecolor\":\"white\",\"showbackground\":true,\"ticks\":\"\",\"zerolinecolor\":\"white\",\"gridwidth\":2}},\"shapedefaults\":{\"line\":{\"color\":\"#2a3f5f\"}},\"annotationdefaults\":{\"arrowcolor\":\"#2a3f5f\",\"arrowhead\":0,\"arrowwidth\":1},\"geo\":{\"bgcolor\":\"white\",\"landcolor\":\"#E5ECF6\",\"subunitcolor\":\"white\",\"showland\":true,\"showlakes\":true,\"lakecolor\":\"white\"},\"title\":{\"x\":0.05},\"mapbox\":{\"style\":\"light\"}}},\"coloraxis\":{\"colorbar\":{\"title\":{\"text\":\"Happiness Score\"}},\"colorscale\":[[0.0,\"#0d0887\"],[0.1111111111111111,\"#46039f\"],[0.2222222222222222,\"#7201a8\"],[0.3333333333333333,\"#9c179e\"],[0.4444444444444444,\"#bd3786\"],[0.5555555555555556,\"#d8576b\"],[0.6666666666666666,\"#ed7953\"],[0.7777777777777778,\"#fb9f3a\"],[0.8888888888888888,\"#fdca26\"],[1.0,\"#f0f921\"]]},\"legend\":{\"tracegroupgap\":0},\"title\":{\"text\":\"Economic Freedom Dimensions and Happiness\"}},                        {\"responsive\": true}                    ).then(function(){\n",
       "                            \n",
       "var gd = document.getElementById('3a94724a-6c22-4f57-acdb-f0db5bb60bee');\n",
       "var x = new MutationObserver(function (mutations, observer) {{\n",
       "        var display = window.getComputedStyle(gd).display;\n",
       "        if (!display || display === 'none') {{\n",
       "            console.log([gd, 'removed!']);\n",
       "            Plotly.purge(gd);\n",
       "            observer.disconnect();\n",
       "        }}\n",
       "}});\n",
       "\n",
       "// Listen for the removal of the full notebook cells\n",
       "var notebookContainer = gd.closest('#notebook-container');\n",
       "if (notebookContainer) {{\n",
       "    x.observe(notebookContainer, {childList: true});\n",
       "}}\n",
       "\n",
       "// Listen for the clearing of the current output cell\n",
       "var outputEl = gd.closest('.output');\n",
       "if (outputEl) {{\n",
       "    x.observe(outputEl, {childList: true});\n",
       "}}\n",
       "\n",
       "                        })                };                });            </script>        </div>"
      ]
     },
     "metadata": {},
     "output_type": "display_data"
    }
   ],
   "source": [
    "fig = px.parallel_coordinates(data, color='Happiness Score',\n",
    "                              dimensions=['ef_government','ef_gender','ef_legal','ef_money','ef_trade','ef_regulation'],\n",
    "\n",
    "                              title='Economic Freedom Dimensions and Happiness')\n",
    "fig.show()"
   ]
  },
  {
   "cell_type": "code",
   "execution_count": 12,
   "metadata": {},
   "outputs": [
    {
     "data": {
      "application/vnd.plotly.v1+json": {
       "config": {
        "plotlyServerURL": "https://plot.ly"
       },
       "data": [
        {
         "dimensions": [
          {
           "label": "pf_rol",
           "values": [
            4.892465707928287,
            4.890456760294934,
            3.534740292032186,
            5.574288844940647,
            7.28700634833121,
            7.626696078806248,
            8.234009208041096,
            4.490865353167671,
            6.107777681694938,
            4.053247502768362,
            2.911387186860097,
            6.399991211163571,
            4.533873950612173,
            7.7752629963087,
            4.605648676036442,
            4.051810152666392,
            6.506652212607336,
            3.152736902624318,
            5.129769106508351,
            5.691138361034679,
            4.183245205302298,
            5.040191524230356,
            4.616878826002012,
            3.251021525526488,
            7.204175227897394,
            2.408324266642522,
            2.7845523061276727,
            7.65112258899592,
            4.271410764347129,
            4.154632232355089,
            6.391903936257728,
            4.32371281147532,
            4.131065489797158,
            5.087772544823447,
            3.4261459491748734,
            6.633263667180067,
            3.6916401086356174,
            3.6916401086356174,
            3.6916401086356174,
            3.6916401086356174,
            3.6916401086356174,
            3.6916401086356174,
            5.714203832813827,
            7.398127868551697,
            7.060538033745405,
            8.834531560779935,
            4.908043663102806,
            4.402834600382,
            4.301304237496606,
            3.078425454077679,
            4.198613471460695,
            7.962701243939331,
            4.680548496252633,
            3.4158496622974024,
            6.098062821226979,
            8.678379383530364,
            6.639844771806401,
            7.017878554652665,
            4.257107735752264,
            5.602191048856753,
            8.342574104485584,
            4.982011123518552,
            5.808865549218706,
            3.870352009115782,
            3.5198878398320232,
            5.927180778264862,
            4.664303655289808,
            3.426138287279823,
            3.0809709673665178,
            5.1624374310429095,
            8.458091223988848,
            4.148985274099441,
            4.167139212150151,
            3.7952473584882096,
            4.192427029264868,
            7.762503643525616,
            7.107735226101801,
            6.64809930075366,
            5.238050099736561,
            7.962754277909672,
            5.596951630217436,
            4.904746148903231,
            3.93924576567192,
            7.795965833395846,
            5.83587899829618,
            3.789874682405943,
            3.561249914010965,
            3.561249914010965,
            3.561249914010965,
            3.561249914010965,
            3.561249914010965,
            3.561249914010965,
            6.952210956983031,
            4.107271888426132,
            6.270167568325111,
            3.8481325200733902,
            7.392462510475276,
            8.072369326573465,
            3.647581236835928,
            5.000510741250944,
            5.632504283471422,
            3.581638663383986,
            6.706270688716252,
            3.589456662014792,
            5.901462310923296,
            3.528172453159512,
            4.796799552805662,
            5.2628211522021004,
            6.475484081382738,
            4.02518000075244,
            3.367213293057254,
            2.4850982229946346,
            6.045558785652967,
            4.279087168372805,
            8.145213712662352,
            7.853588970980996,
            2.8201256927583613,
            3.867359949703448,
            3.867359949703448,
            3.890731119751433,
            3.890731119751433,
            5.17045643461052,
            8.759529383191795,
            5.539863588801889,
            3.3718953111605807,
            3.792201982433884,
            5.917442825033521,
            4.672449211351224,
            4.545288404790187,
            3.313662538766505,
            6.067430611908463,
            6.798821540071237,
            5.243167366721656,
            5.998871514327621,
            5.204447802123286,
            3.718632844236563,
            4.986905708739836,
            4.584615659504038,
            4.584615659504038,
            6.741749499430645,
            3.948706131765768,
            7.613171486210676,
            6.350491713104707,
            6.655410706193464,
            3.236463970525372,
            5.721848537899742,
            7.317070917772283,
            4.269435167276908,
            3.4312549323303343,
            4.916932081796056,
            8.62791979120358,
            8.710352948861956,
            3.530687755006376,
            3.861924547734602,
            4.346527902042299,
            6.355633980355673,
            3.885451220938341,
            4.473604186413082,
            3.709472727321258,
            3.158102147747511,
            4.762259807891506,
            6.1532005072356775,
            7.539304531985105,
            6.384193813308137,
            6.847558004352076,
            1.5522015108689604,
            4.573655579938065,
            2.5278664544406326,
            3.927338505533642,
            3.607332440513964
           ]
          },
          {
           "label": "pf_ss",
           "values": [
            9.350083056478406,
            8.952936046511628,
            8.463163645470164,
            8.404362587696301,
            9.264916943521596,
            9.733675249169435,
            9.779285714285711,
            8.85421511627907,
            6.454941860465116,
            8.69577242524917,
            7.41076286290956,
            7.324767441860465,
            8.845676910299003,
            9.696656976744189,
            5.010174418604652,
            9.06157492121546,
            9.398990863787375,
            8.58345099667774,
            9.19420265780731,
            7.67796207790401,
            6.107529378503687,
            9.609892026578072,
            7.003245813201364,
            5.942856684577126,
            8.953619186046511,
            8.375983917218923,
            6.295861293559401,
            9.6321495244581,
            3.5571237005118315,
            5.355258882683008,
            8.729179625095796,
            8.510984859468767,
            3.7330155471499182,
            8.244927829226178,
            6.680528241895118,
            8.283824750830565,
            7.576838246343103,
            7.576838246343103,
            7.576838246343103,
            7.576838246343103,
            7.576838246343103,
            7.576838246343103,
            9.721042358803986,
            9.54045681063123,
            9.80201827242525,
            9.725393655256198,
            7.888705351764955,
            8.183168604651163,
            8.540931298560258,
            6.797543876168165,
            4.005,
            9.68622508305648,
            7.563060631229235,
            7.276127455162163,
            9.223163759689925,
            9.59565070863118,
            9.678262158663408,
            8.177161017218177,
            8.221932006497632,
            6.6206602990033225,
            9.798870616754536,
            9.308473129599149,
            9.432374589087466,
            5.328866279069768,
            7.836286114736231,
            9.210651993355482,
            7.059754983388704,
            8.083673362501823,
            4.317824682127175,
            9.60906976744186,
            9.91892026578073,
            8.239654632470128,
            9.361984167841737,
            7.665371463962263,
            4.142805319680071,
            9.651648671096345,
            8.291100337395532,
            9.72614712055643,
            4.532678571428571,
            9.873395059204237,
            9.049319149239142,
            8.308107219713179,
            7.52748831338751,
            9.659269102990033,
            9.095368680345924,
            8.577553986710962,
            7.611285830767456,
            7.611285830767456,
            7.611285830767456,
            7.611285830767456,
            7.611285830767456,
            7.611285830767456,
            9.333064784053157,
            8.042309985213112,
            4.024285714285715,
            8.965390258933628,
            9.4275,
            9.73781492248062,
            8.247023413819711,
            9.029086378737542,
            8.920543337085364,
            4.544700335573249,
            9.472427325581394,
            7.8439161060782014,
            9.39920265780731,
            4.177913754156657,
            8.766046511627907,
            8.789867109634551,
            8.875523255813953,
            9.040178571428571,
            7.029225477772453,
            7.432060127146959,
            7.000718438538206,
            9.03565405691604,
            9.793647943042838,
            8.503537733088683,
            7.140926079734219,
            7.042877687120722,
            7.042877687120722,
            2.3544879500476945,
            2.3544879500476945,
            9.209813122923588,
            9.831564209271052,
            9.315639534883722,
            6.724451771707621,
            7.96470099667774,
            7.972940199335548,
            8.286486710963455,
            8.485743050336652,
            6.585461440121176,
            9.536366279069767,
            9.814796511627907,
            9.693121248854164,
            9.645074750830563,
            6.994234993708055,
            8.085920071776734,
            8.463419892691538,
            9.312076411960136,
            9.312076411960136,
            8.19203972868217,
            9.277743382471831,
            9.786441029900333,
            9.336506782945737,
            9.62719684385382,
            5.519663650014556,
            4.270360222516418,
            9.66550424968634,
            6.973293189368771,
            6.767892816756765,
            8.892916666666668,
            9.80812707641196,
            9.881154485049835,
            7.439664915067647,
            8.029018342546319,
            7.540507537373992,
            9.012819767441862,
            7.420265274720682,
            4.675357142857143,
            7.353723052652138,
            7.049761867091556,
            7.277449129596748,
            8.930319767441862,
            9.404687649341325,
            8.855931949268431,
            8.274829734219269,
            3.371047342106995,
            9.126624729654337,
            4.214872998103987,
            8.52887864629519,
            7.365294850498339
           ]
          },
          {
           "label": "pf_movement",
           "values": [
            9.86875,
            5.9275,
            7.617916666666666,
            9.760833333333334,
            9.844166666666666,
            9.758333333333333,
            9.73125,
            7.0075,
            10,
            4.585833333333333,
            5.533333333333334,
            9.910833333333333,
            6.3220833333333335,
            9.8525,
            10,
            8.18875,
            5.977500000000001,
            7.717500000000001,
            7.9025,
            9.7525,
            9.606666666666666,
            9.75,
            7.44375,
            6.07875,
            9.865416666666668,
            7.150416666666668,
            5.474583333333334,
            9.7775,
            6.534583333333334,
            7.10375,
            9.960416666666667,
            4.285,
            7.6175,
            7.468333333333334,
            6.14625,
            9.82625,
            7.548333333333334,
            7.548333333333334,
            7.548333333333334,
            7.548333333333334,
            7.548333333333334,
            7.548333333333334,
            9.579583333333332,
            9.68,
            9.905,
            9.864583333333332,
            6.734166666666667,
            9.778333333333332,
            9.789583333333333,
            4.867916666666667,
            9.416250000000002,
            9.915,
            7.032500000000001,
            7.019583333333333,
            9.499166666666667,
            9.94125,
            9.9125,
            8.06,
            9.634583333333332,
            8.181666666666667,
            9.945,
            9.874166666666667,
            9.896249999999998,
            9.500833333333333,
            7.583333333333334,
            9.492916666666666,
            8.005,
            9.460833333333332,
            7.902916666666666,
            9.9325,
            9.872916666666669,
            7.409166666666666,
            7.651666666666667,
            4.839583333333334,
            7.085416666666667,
            9.89,
            7.682916666666667,
            9.95375,
            9.883333333333333,
            9.862083333333334,
            7.374583333333334,
            7.399583333333334,
            7.45875,
            8.0975,
            7.533333333333333,
            7.719166666666666,
            6.205416666666667,
            6.205416666666667,
            6.205416666666667,
            6.205416666666667,
            6.205416666666667,
            6.205416666666667,
            9.8825,
            7.5425,
            9.542916666666668,
            8.131666666666668,
            9.901666666666667,
            9.882083333333334,
            9.307916666666667,
            9.722916666666666,
            7.674166666666666,
            7.713333333333333,
            9.64875,
            5.839583333333334,
            9.721666666666668,
            8.202083333333334,
            8.057916666666667,
            9.730416666666668,
            9.708749999999998,
            5.614583333333333,
            7.620833333333334,
            4.75875,
            9.75,
            7.4575,
            9.833333333333332,
            9.941666666666666,
            6.334583333333334,
            7.9925,
            7.9925,
            6.041666666666667,
            6.041666666666667,
            8.00125,
            9.780833333333334,
            7.157916666666667,
            5.1779166666666665,
            9.537916666666668,
            9.565,
            9.8125,
            8.079166666666667,
            7.56875,
            9.670833333333333,
            9.947083333333332,
            6.679583333333333,
            9.858333333333334,
            6.641249999999999,
            4.3654166666666665,
            8.04875,
            9.69125,
            9.69125,
            7.942083333333333,
            7.821666666666667,
            7.96625,
            9.90875,
            9.750833333333333,
            3.6625,
            7.930416666666668,
            9.954583333333332,
            7.885833333333332,
            4.61875,
            9.656666666666666,
            9.756666666666668,
            9.8525,
            6.163333333333334,
            7.42,
            7.64625,
            7.912083333333333,
            7.73625,
            9.638333333333332,
            4.604583333333333,
            7.245416666666667,
            7.848333333333333,
            6.3025,
            9.794166666666666,
            9.730416666666668,
            9.8175,
            5.01375,
            5.794583333333334,
            3.2983333333333333,
            8.028333333333332,
            6.005000000000001
           ]
          },
          {
           "label": "pf_religion",
           "values": [
            9.7375,
            5.236666666666666,
            6.736666666666666,
            9.859375,
            8.338541666666666,
            9.8525,
            8.733125000000001,
            4.699583333333333,
            10,
            2.538958333333333,
            7.366458333333333,
            9.89625,
            5.682708333333334,
            8.931041666666665,
            10,
            9.574375,
            6.9522916666666665,
            8.104791666666667,
            8.514166666666668,
            8.588541666666668,
            8.304791666666667,
            8.154166666666667,
            9.2875,
            5.864791666666667,
            9.88125,
            6.692916666666666,
            7.432916666666667,
            9.58125,
            8.117916666666666,
            7.660416666666666,
            9.873125,
            1.0856249999999998,
            8.567916666666667,
            4.335833333333333,
            7.891041666666666,
            9.184375,
            9.305,
            9.305,
            9.305,
            9.305,
            9.305,
            9.305,
            9.619375,
            8.736666666666668,
            9.46875,
            9.500625,
            4.885833333333334,
            9.62875,
            9.62125,
            2.7858333333333336,
            9.326250000000002,
            9.669375,
            7.563541666666667,
            7.384791666666667,
            8.57375,
            9.633125,
            8.679166666666667,
            9.585,
            9.65875,
            8.343541666666667,
            8.794791666666665,
            9.845,
            7.969166666666666,
            9.646875,
            8.969999999999999,
            9.634375,
            9.72125,
            8.827916666666667,
            9.66125,
            8.213541666666668,
            9.780625,
            5.317708333333334,
            6.073333333333333,
            3.4645833333333336,
            7.134166666666667,
            9.625625,
            9.2225,
            9.000416666666666,
            9.849375,
            9.56375,
            5.5408333333333335,
            4.3914583333333335,
            7.402708333333333,
            9.886875,
            5.777708333333333,
            6.996666666666667,
            4.516458333333333,
            4.516458333333333,
            4.516458333333333,
            4.516458333333333,
            4.516458333333333,
            4.516458333333333,
            9.703125,
            8.629166666666666,
            9.763125,
            8.408541666666668,
            9.74875,
            9.6725,
            8.342916666666667,
            9.464375,
            7.231666666666666,
            9.0575,
            9.7575,
            4.812083333333334,
            8.764166666666668,
            8.317916666666665,
            7.990416666666667,
            8.684166666666666,
            8.121666666666666,
            3.604583333333333,
            8.709166666666667,
            5.623333333333333,
            9.55,
            8.296041666666667,
            9.635625,
            9.89125,
            5.343333333333334,
            8.37875,
            8.37875,
            7.367083333333333,
            7.367083333333333,
            8.207291666666666,
            9.61125,
            5.238333333333333,
            5.847708333333333,
            8.977916666666667,
            9.72625,
            8.780416666666667,
            9.76625,
            7.226666666666667,
            8.574791666666666,
            9.784375,
            4.960208333333334,
            8.743541666666665,
            5.044166666666667,
            1.73625,
            9.263125,
            8.672916666666666,
            8.672916666666666,
            8.915000000000001,
            8.781666666666666,
            7.609166666666667,
            8.328541666666666,
            9.525625,
            3.9039583333333336,
            8.351041666666667,
            8.956666666666667,
            7.368541666666667,
            5.450208333333334,
            9.57375,
            9.8775,
            9.52,
            2.5914583333333336,
            8.053125,
            8.293541666666666,
            9.509375,
            7.848541666666666,
            9.838125,
            3.738333333333333,
            6.374791666666667,
            7.034166666666668,
            6.012708333333334,
            9.5975,
            9.429375,
            9.77375,
            7.018541666666667,
            4.293333333333333,
            2.509583333333333,
            7.567291666666667,
            6.939166666666667
           ]
          },
          {
           "label": "pf_assembly",
           "values": [
            9.051458333333333,
            4.561064814814815,
            5.631134259259259,
            8.959513888888889,
            8.817962962962962,
            9.149375,
            9.382916666666668,
            3.3671296296296296,
            10,
            1.525,
            5.510347222222222,
            9.324166666666668,
            4.242893518518518,
            9.264166666666666,
            10,
            8.154814814814815,
            6.2726851851851855,
            7.071111111111112,
            8.277777777777779,
            8.804189814814816,
            8.531481481481482,
            8.633263888888889,
            8.215810185185184,
            1.9046759259259256,
            9.543333333333331,
            3.2178703703703704,
            4.828263888888889,
            9.538125,
            5.438935185185185,
            4.174212962962963,
            8.74625,
            1.3894675925925926,
            8.58513888888889,
            6.637708333333332,
            3.44587962962963,
            9.744791666666666,
            7.62925925925926,
            7.62925925925926,
            7.62925925925926,
            7.62925925925926,
            7.62925925925926,
            7.62925925925926,
            8.711041666666668,
            9.519166666666669,
            9.31,
            9.772916666666667,
            4.773587962962963,
            8.70574074074074,
            6.842337962962962,
            2.8221296296296297,
            8.400787037037038,
            9.745416666666667,
            2.224212962962963,
            5.835231481481481,
            7.083333333333334,
            9.219583333333333,
            8.587499999999999,
            6.564097222222221,
            7.9769444444444435,
            8.386643518518518,
            8.645624999999999,
            9.199074074074074,
            9.284791666666669,
            7.917175925925925,
            6.012824074074074,
            7.005277777777778,
            9.3125,
            6.9840277777777775,
            7.831967592592592,
            6.623819444444445,
            9.535625,
            4.983657407407407,
            7.270185185185185,
            1.9782175925925929,
            6.079166666666667,
            9.711875,
            7.532500000000001,
            9.611875,
            9.330208333333331,
            9.652083333333334,
            5.686273148148148,
            3.85587962962963,
            6.401898148148149,
            8.151527777777778,
            3.8201388888888888,
            6.927152777777778,
            1.9369444444444444,
            1.9369444444444444,
            1.9369444444444444,
            1.9369444444444444,
            1.9369444444444444,
            1.9369444444444444,
            9.58875,
            7.425162037037038,
            8.334004629629629,
            8.629305555555556,
            8.810972222222222,
            9.661875,
            8.076689814814815,
            7.446412037037037,
            6.939259259259258,
            7.731736111111112,
            9.556041666666664,
            5.948310185185186,
            9.22636574074074,
            8.697430555555556,
            8.062986111111112,
            8.931782407407407,
            8.530578703703704,
            5.195949074074075,
            7.215416666666667,
            6.026597222222222,
            8.775439814814815,
            7.890069444444445,
            9.386666666666668,
            9.695416666666668,
            2.8222453703703705,
            6.993449074074074,
            6.993449074074074,
            7.5709027777777775,
            7.5709027777777775,
            8.942199074074074,
            9.700416666666666,
            1.9594328703703705,
            5.933680555555556,
            9.196481481481484,
            8.80712962962963,
            8.426064814814815,
            8.679537037037036,
            7.395277777777777,
            7.716504629629631,
            9.2925,
            2.413425925925926,
            8.347037037037037,
            3.5652546296296297,
            1.1688425925925925,
            8.281412037037038,
            7.211412037037038,
            7.211412037037038,
            7.913541666666667,
            8.04914351851852,
            5.116087962962963,
            8.819583333333334,
            9.196041666666666,
            5.263495370370371,
            8.966481481481482,
            8.93875,
            7.454861111111112,
            5.412337962962963,
            9.109791666666666,
            9.794583333333334,
            9.681458333333332,
            2.2007175925925924,
            5.953009259259259,
            5.250162037037037,
            8.743449074074073,
            6.138680555555555,
            9.278657407407406,
            4.093055555555556,
            4.058055555555556,
            7.406296296296295,
            2.043009259259259,
            9.16875,
            9.831458333333332,
            9.300833333333332,
            3.623171296296297,
            2.012685185185185,
            3.172175925925925,
            5.917291666666667,
            4.473680555555555
           ]
          },
          {
           "label": "pf_expression",
           "values": [
            6.248600000000001,
            4.586654350044058,
            5.50071111111111,
            8.205444444444444,
            7.617444444444445,
            8.980416666666667,
            9.011333333333331,
            2.2918472391076863,
            9.166666666666666,
            1.5832888888888887,
            4.013470354535867,
            9.586666666666666,
            3.191711111111111,
            9.017958333333333,
            8.055555555555555,
            6.796733333333334,
            6.834466666666667,
            6.916433333333333,
            6.065711111111112,
            7.176766666666667,
            7.247491855098818,
            6.132111111111112,
            7.270933333333334,
            1.7667583827102078,
            9.39025,
            3.6301697179831662,
            2.103260972651018,
            9.808,
            5.189811111111111,
            4.186979806009271,
            9.6054,
            2.0509685104596898,
            6.568643073773893,
            4.43175,
            3.7081207951009096,
            9.784433333333334,
            6.266666666666668,
            6.266666666666668,
            6.266666666666668,
            6.266666666666668,
            6.266666666666668,
            6.266666666666668,
            7.353877777777777,
            8.737083333333333,
            8.470766666666666,
            9.268798816574082,
            2.890188888888889,
            6.417935323288276,
            7.231024311899459,
            2.831322222222222,
            6.693383482868208,
            9.7863,
            4.009388888888888,
            4.144948569006639,
            6.6156250000000005,
            9.818208333333336,
            8.516383220789352,
            5.1954666666666665,
            6.1667000000000005,
            7.487422222222223,
            9.742625,
            7.752170833801001,
            8.075458333333334,
            5.144268141723999,
            5.5070339198239004,
            6.021111111111112,
            7.944666666666667,
            6.838331585634083,
            4.76642569342858,
            5.735422222222221,
            8.964625,
            5.641732612059011,
            7.317611111111111,
            1.8505222222222224,
            3.438740395823281,
            9.816208333333334,
            5.844357907207919,
            8.206083333333334,
            9.752566666666668,
            8.859041666666666,
            4.7913,
            2.759946426953023,
            5.960780198317813,
            8.072688888888889,
            4.292828018783478,
            5.081411111111111,
            2.3322666666666665,
            2.3322666666666665,
            2.3322666666666665,
            2.3322666666666665,
            2.3322666666666665,
            2.3322666666666665,
            8.245222222222221,
            5.663680154908527,
            6.250577777777777,
            7.232133333333333,
            8.86941111111111,
            9.717333333333332,
            5.672533333333332,
            7.092333333333333,
            7.276477777777776,
            6.83231111111111,
            6.616583333333334,
            5.143844444444445,
            7.795266666666666,
            5.806309366297416,
            6.875077777777777,
            7.730733333333333,
            5.688177777777778,
            3.876631574585288,
            5.577766666666666,
            4.415409477106053,
            8.521988888888888,
            6.5930888888888886,
            9.665875,
            9.776666666666667,
            3.8559330368044535,
            6.411057363453354,
            6.411057363453354,
            6.9589831871425405,
            6.9589831871425405,
            7.3576444444444435,
            9.84675,
            3.679233333333333,
            4.281350100685966,
            7.13351672750935,
            7.761955555555555,
            6.426343182787017,
            8.024371468975302,
            5.268251393901881,
            7.409601799739828,
            9.810875,
            4.437499999999999,
            7.682533333333334,
            3.0616892289814457,
            1.2833293949075226,
            7.4428,
            5.7181444444444445,
            5.7181444444444445,
            7.086166666666667,
            6.965444444444444,
            4.0859200948654,
            7.030592247140092,
            8.048555555555556,
            2.3885727389220595,
            7.883322222222222,
            8.244208333333333,
            6.945600000000001,
            4.615911111111111,
            7.917708333333334,
            9.793833333333334,
            9.911791666666666,
            3.215288888888889,
            5.111027491477985,
            4.043777781793347,
            8.460922222222223,
            6.423455555555554,
            9.380811111111113,
            2.872157520070977,
            4.717264706447798,
            5.8776305455407885,
            2.340068727891329,
            9.729945087236366,
            9.525327775151688,
            9.874733333333332,
            3.760798739323836,
            2.336822222222222,
            1.4548666666666663,
            4.789678820826608,
            4.709133333333332
           ]
          },
          {
           "label": "pf_identity",
           "values": [
            8.75,
            2.5,
            6.25,
            10,
            8.75,
            10,
            10,
            9.375,
            10,
            5,
            3.75,
            7.5,
            10,
            10,
            10,
            7.895,
            5.625,
            9.375,
            9.375,
            8.125,
            10,
            9.375,
            6.855,
            5.833333333333333,
            8.125,
            8.75,
            6.215,
            10,
            8.21,
            4.1475,
            9.375,
            10,
            10,
            3.125,
            8.75,
            7.5,
            8.4575,
            8.4575,
            8.4575,
            8.4575,
            8.4575,
            8.4575,
            10,
            8.75,
            9.375,
            10,
            3.265,
            9.375,
            8.75,
            0.32,
            9.375,
            10,
            5,
            4.62,
            9.375,
            10,
            9.375,
            6.25,
            0.6074999999999999,
            8.75,
            10,
            4.94,
            7.5,
            9.375,
            0.7625000000000002,
            5.5725,
            8.75,
            9.375,
            10,
            8.75,
            10,
            7.5,
            5.625,
            2.5,
            2.315,
            10,
            7.5,
            10,
            8.125,
            9.375,
            5,
            10,
            5.1,
            10,
            4.375,
            9.375,
            8.75,
            8.75,
            8.75,
            8.75,
            8.75,
            8.75,
            10,
            4.375,
            7.5,
            3.265,
            9.375,
            10,
            7.5,
            5.625,
            3.75,
            5.285,
            9.375,
            0.8350000000000002,
            4.375,
            6.875,
            10,
            9.375,
            9.375,
            3.125,
            9.375,
            6.25,
            7.5,
            6.875,
            9.375,
            10,
            10,
            4.95,
            4.95,
            3.888,
            3.888,
            9.375,
            9.375,
            2.5,
            4.375,
            10,
            6.25,
            7.5,
            7.5,
            6.25,
            10,
            10,
            2.5,
            9.375,
            7.5,
            2.5,
            4.995,
            8.75,
            8.75,
            10,
            3.4725,
            8.125,
            10,
            10,
            1.27,
            8.75,
            9.375,
            3.125,
            0.335,
            10,
            10,
            10,
            7.5,
            4.125,
            9.375,
            8.75,
            5.547499999999999,
            10,
            8.75,
            4.3675,
            10,
            2.5,
            9.375,
            10,
            10,
            8.125,
            8.75,
            2.0375,
            5.625,
            7.5
           ]
          }
         ],
         "domain": {
          "x": [
           0,
           1
          ],
          "y": [
           0,
           1
          ]
         },
         "line": {
          "color": [
           4.719,
           5.211,
           null,
           6.086,
           4.559,
           7.228,
           7.246,
           5.208,
           null,
           6.199,
           4.456,
           null,
           5.323,
           6.923,
           null,
           4.883,
           5.082,
           5.779,
           5.386,
           3.488,
           6.3,
           5.011,
           4.587,
           3.775,
           null,
           4.7,
           5.044,
           7.278,
           3.083,
           4.35,
           6.444,
           5.191,
           6.125,
           3.973,
           null,
           7.167,
           5.718,
           4.944,
           4.812,
           4.796,
           4.696,
           4.418,
           5.432,
           6.046,
           6.852,
           7.6,
           null,
           5.425,
           6.028,
           4.166,
           6.253,
           5.893,
           4.212,
           4.286,
           null,
           7.769,
           6.592,
           4.799,
           4.516,
           4.519,
           6.985,
           4.996,
           5.287,
           6.436,
           4.534,
           null,
           null,
           3.597,
           5.86,
           5.758,
           7.494,
           4.015,
           5.192,
           4.548,
           4.437,
           7.021,
           7.139,
           6.223,
           5.89,
           5.886,
           4.906,
           5.809,
           4.509,
           5.895,
           6.021,
           5.261,
           5.718,
           4.944,
           4.812,
           4.796,
           4.696,
           4.418,
           5.94,
           5.197,
           3.802,
           3.975,
           6.149,
           7.09,
           3.933,
           3.41,
           5.339,
           4.39,
           6.726,
           4.49,
           5.888,
           6.595,
           5.529,
           5.285,
           5.523,
           5.208,
           4.466,
           4.36,
           4.639,
           4.913,
           7.488,
           7.307,
           6.105,
           5.265,
           4.628,
           5.265,
           4.628,
           5.274,
           7.554,
           null,
           5.653,
           6.321,
           null,
           5.743,
           5.697,
           5.631,
           6.182,
           5.693,
           6.374,
           6.07,
           3.334,
           6.375,
           4.681,
           6.1,
           5.603,
           null,
           4.374,
           6.262,
           6.198,
           6.118,
           4.668,
           4.722,
           6.354,
           4.366,
           null,
           null,
           7.343,
           7.48,
           5.467,
           3.231,
           6.008,
           null,
           4.085,
           6.192,
           5.373,
           4.189,
           4.332,
           6.825,
           7.054,
           6.892,
           6.293,
           4.707,
           5.175,
           3.38,
           4.107,
           3.663
          ],
          "coloraxis": "coloraxis"
         },
         "name": "",
         "type": "parcoords"
        }
       ],
       "layout": {
        "coloraxis": {
         "colorbar": {
          "title": {
           "text": "Happiness Score"
          }
         },
         "colorscale": [
          [
           0,
           "#0d0887"
          ],
          [
           0.1111111111111111,
           "#46039f"
          ],
          [
           0.2222222222222222,
           "#7201a8"
          ],
          [
           0.3333333333333333,
           "#9c179e"
          ],
          [
           0.4444444444444444,
           "#bd3786"
          ],
          [
           0.5555555555555556,
           "#d8576b"
          ],
          [
           0.6666666666666666,
           "#ed7953"
          ],
          [
           0.7777777777777778,
           "#fb9f3a"
          ],
          [
           0.8888888888888888,
           "#fdca26"
          ],
          [
           1,
           "#f0f921"
          ]
         ]
        },
        "legend": {
         "tracegroupgap": 0
        },
        "template": {
         "data": {
          "bar": [
           {
            "error_x": {
             "color": "#2a3f5f"
            },
            "error_y": {
             "color": "#2a3f5f"
            },
            "marker": {
             "line": {
              "color": "#E5ECF6",
              "width": 0.5
             },
             "pattern": {
              "fillmode": "overlay",
              "size": 10,
              "solidity": 0.2
             }
            },
            "type": "bar"
           }
          ],
          "barpolar": [
           {
            "marker": {
             "line": {
              "color": "#E5ECF6",
              "width": 0.5
             },
             "pattern": {
              "fillmode": "overlay",
              "size": 10,
              "solidity": 0.2
             }
            },
            "type": "barpolar"
           }
          ],
          "carpet": [
           {
            "aaxis": {
             "endlinecolor": "#2a3f5f",
             "gridcolor": "white",
             "linecolor": "white",
             "minorgridcolor": "white",
             "startlinecolor": "#2a3f5f"
            },
            "baxis": {
             "endlinecolor": "#2a3f5f",
             "gridcolor": "white",
             "linecolor": "white",
             "minorgridcolor": "white",
             "startlinecolor": "#2a3f5f"
            },
            "type": "carpet"
           }
          ],
          "choropleth": [
           {
            "colorbar": {
             "outlinewidth": 0,
             "ticks": ""
            },
            "type": "choropleth"
           }
          ],
          "contour": [
           {
            "colorbar": {
             "outlinewidth": 0,
             "ticks": ""
            },
            "colorscale": [
             [
              0,
              "#0d0887"
             ],
             [
              0.1111111111111111,
              "#46039f"
             ],
             [
              0.2222222222222222,
              "#7201a8"
             ],
             [
              0.3333333333333333,
              "#9c179e"
             ],
             [
              0.4444444444444444,
              "#bd3786"
             ],
             [
              0.5555555555555556,
              "#d8576b"
             ],
             [
              0.6666666666666666,
              "#ed7953"
             ],
             [
              0.7777777777777778,
              "#fb9f3a"
             ],
             [
              0.8888888888888888,
              "#fdca26"
             ],
             [
              1,
              "#f0f921"
             ]
            ],
            "type": "contour"
           }
          ],
          "contourcarpet": [
           {
            "colorbar": {
             "outlinewidth": 0,
             "ticks": ""
            },
            "type": "contourcarpet"
           }
          ],
          "heatmap": [
           {
            "colorbar": {
             "outlinewidth": 0,
             "ticks": ""
            },
            "colorscale": [
             [
              0,
              "#0d0887"
             ],
             [
              0.1111111111111111,
              "#46039f"
             ],
             [
              0.2222222222222222,
              "#7201a8"
             ],
             [
              0.3333333333333333,
              "#9c179e"
             ],
             [
              0.4444444444444444,
              "#bd3786"
             ],
             [
              0.5555555555555556,
              "#d8576b"
             ],
             [
              0.6666666666666666,
              "#ed7953"
             ],
             [
              0.7777777777777778,
              "#fb9f3a"
             ],
             [
              0.8888888888888888,
              "#fdca26"
             ],
             [
              1,
              "#f0f921"
             ]
            ],
            "type": "heatmap"
           }
          ],
          "heatmapgl": [
           {
            "colorbar": {
             "outlinewidth": 0,
             "ticks": ""
            },
            "colorscale": [
             [
              0,
              "#0d0887"
             ],
             [
              0.1111111111111111,
              "#46039f"
             ],
             [
              0.2222222222222222,
              "#7201a8"
             ],
             [
              0.3333333333333333,
              "#9c179e"
             ],
             [
              0.4444444444444444,
              "#bd3786"
             ],
             [
              0.5555555555555556,
              "#d8576b"
             ],
             [
              0.6666666666666666,
              "#ed7953"
             ],
             [
              0.7777777777777778,
              "#fb9f3a"
             ],
             [
              0.8888888888888888,
              "#fdca26"
             ],
             [
              1,
              "#f0f921"
             ]
            ],
            "type": "heatmapgl"
           }
          ],
          "histogram": [
           {
            "marker": {
             "pattern": {
              "fillmode": "overlay",
              "size": 10,
              "solidity": 0.2
             }
            },
            "type": "histogram"
           }
          ],
          "histogram2d": [
           {
            "colorbar": {
             "outlinewidth": 0,
             "ticks": ""
            },
            "colorscale": [
             [
              0,
              "#0d0887"
             ],
             [
              0.1111111111111111,
              "#46039f"
             ],
             [
              0.2222222222222222,
              "#7201a8"
             ],
             [
              0.3333333333333333,
              "#9c179e"
             ],
             [
              0.4444444444444444,
              "#bd3786"
             ],
             [
              0.5555555555555556,
              "#d8576b"
             ],
             [
              0.6666666666666666,
              "#ed7953"
             ],
             [
              0.7777777777777778,
              "#fb9f3a"
             ],
             [
              0.8888888888888888,
              "#fdca26"
             ],
             [
              1,
              "#f0f921"
             ]
            ],
            "type": "histogram2d"
           }
          ],
          "histogram2dcontour": [
           {
            "colorbar": {
             "outlinewidth": 0,
             "ticks": ""
            },
            "colorscale": [
             [
              0,
              "#0d0887"
             ],
             [
              0.1111111111111111,
              "#46039f"
             ],
             [
              0.2222222222222222,
              "#7201a8"
             ],
             [
              0.3333333333333333,
              "#9c179e"
             ],
             [
              0.4444444444444444,
              "#bd3786"
             ],
             [
              0.5555555555555556,
              "#d8576b"
             ],
             [
              0.6666666666666666,
              "#ed7953"
             ],
             [
              0.7777777777777778,
              "#fb9f3a"
             ],
             [
              0.8888888888888888,
              "#fdca26"
             ],
             [
              1,
              "#f0f921"
             ]
            ],
            "type": "histogram2dcontour"
           }
          ],
          "mesh3d": [
           {
            "colorbar": {
             "outlinewidth": 0,
             "ticks": ""
            },
            "type": "mesh3d"
           }
          ],
          "parcoords": [
           {
            "line": {
             "colorbar": {
              "outlinewidth": 0,
              "ticks": ""
             }
            },
            "type": "parcoords"
           }
          ],
          "pie": [
           {
            "automargin": true,
            "type": "pie"
           }
          ],
          "scatter": [
           {
            "fillpattern": {
             "fillmode": "overlay",
             "size": 10,
             "solidity": 0.2
            },
            "type": "scatter"
           }
          ],
          "scatter3d": [
           {
            "line": {
             "colorbar": {
              "outlinewidth": 0,
              "ticks": ""
             }
            },
            "marker": {
             "colorbar": {
              "outlinewidth": 0,
              "ticks": ""
             }
            },
            "type": "scatter3d"
           }
          ],
          "scattercarpet": [
           {
            "marker": {
             "colorbar": {
              "outlinewidth": 0,
              "ticks": ""
             }
            },
            "type": "scattercarpet"
           }
          ],
          "scattergeo": [
           {
            "marker": {
             "colorbar": {
              "outlinewidth": 0,
              "ticks": ""
             }
            },
            "type": "scattergeo"
           }
          ],
          "scattergl": [
           {
            "marker": {
             "colorbar": {
              "outlinewidth": 0,
              "ticks": ""
             }
            },
            "type": "scattergl"
           }
          ],
          "scattermapbox": [
           {
            "marker": {
             "colorbar": {
              "outlinewidth": 0,
              "ticks": ""
             }
            },
            "type": "scattermapbox"
           }
          ],
          "scatterpolar": [
           {
            "marker": {
             "colorbar": {
              "outlinewidth": 0,
              "ticks": ""
             }
            },
            "type": "scatterpolar"
           }
          ],
          "scatterpolargl": [
           {
            "marker": {
             "colorbar": {
              "outlinewidth": 0,
              "ticks": ""
             }
            },
            "type": "scatterpolargl"
           }
          ],
          "scatterternary": [
           {
            "marker": {
             "colorbar": {
              "outlinewidth": 0,
              "ticks": ""
             }
            },
            "type": "scatterternary"
           }
          ],
          "surface": [
           {
            "colorbar": {
             "outlinewidth": 0,
             "ticks": ""
            },
            "colorscale": [
             [
              0,
              "#0d0887"
             ],
             [
              0.1111111111111111,
              "#46039f"
             ],
             [
              0.2222222222222222,
              "#7201a8"
             ],
             [
              0.3333333333333333,
              "#9c179e"
             ],
             [
              0.4444444444444444,
              "#bd3786"
             ],
             [
              0.5555555555555556,
              "#d8576b"
             ],
             [
              0.6666666666666666,
              "#ed7953"
             ],
             [
              0.7777777777777778,
              "#fb9f3a"
             ],
             [
              0.8888888888888888,
              "#fdca26"
             ],
             [
              1,
              "#f0f921"
             ]
            ],
            "type": "surface"
           }
          ],
          "table": [
           {
            "cells": {
             "fill": {
              "color": "#EBF0F8"
             },
             "line": {
              "color": "white"
             }
            },
            "header": {
             "fill": {
              "color": "#C8D4E3"
             },
             "line": {
              "color": "white"
             }
            },
            "type": "table"
           }
          ]
         },
         "layout": {
          "annotationdefaults": {
           "arrowcolor": "#2a3f5f",
           "arrowhead": 0,
           "arrowwidth": 1
          },
          "autotypenumbers": "strict",
          "coloraxis": {
           "colorbar": {
            "outlinewidth": 0,
            "ticks": ""
           }
          },
          "colorscale": {
           "diverging": [
            [
             0,
             "#8e0152"
            ],
            [
             0.1,
             "#c51b7d"
            ],
            [
             0.2,
             "#de77ae"
            ],
            [
             0.3,
             "#f1b6da"
            ],
            [
             0.4,
             "#fde0ef"
            ],
            [
             0.5,
             "#f7f7f7"
            ],
            [
             0.6,
             "#e6f5d0"
            ],
            [
             0.7,
             "#b8e186"
            ],
            [
             0.8,
             "#7fbc41"
            ],
            [
             0.9,
             "#4d9221"
            ],
            [
             1,
             "#276419"
            ]
           ],
           "sequential": [
            [
             0,
             "#0d0887"
            ],
            [
             0.1111111111111111,
             "#46039f"
            ],
            [
             0.2222222222222222,
             "#7201a8"
            ],
            [
             0.3333333333333333,
             "#9c179e"
            ],
            [
             0.4444444444444444,
             "#bd3786"
            ],
            [
             0.5555555555555556,
             "#d8576b"
            ],
            [
             0.6666666666666666,
             "#ed7953"
            ],
            [
             0.7777777777777778,
             "#fb9f3a"
            ],
            [
             0.8888888888888888,
             "#fdca26"
            ],
            [
             1,
             "#f0f921"
            ]
           ],
           "sequentialminus": [
            [
             0,
             "#0d0887"
            ],
            [
             0.1111111111111111,
             "#46039f"
            ],
            [
             0.2222222222222222,
             "#7201a8"
            ],
            [
             0.3333333333333333,
             "#9c179e"
            ],
            [
             0.4444444444444444,
             "#bd3786"
            ],
            [
             0.5555555555555556,
             "#d8576b"
            ],
            [
             0.6666666666666666,
             "#ed7953"
            ],
            [
             0.7777777777777778,
             "#fb9f3a"
            ],
            [
             0.8888888888888888,
             "#fdca26"
            ],
            [
             1,
             "#f0f921"
            ]
           ]
          },
          "colorway": [
           "#636efa",
           "#EF553B",
           "#00cc96",
           "#ab63fa",
           "#FFA15A",
           "#19d3f3",
           "#FF6692",
           "#B6E880",
           "#FF97FF",
           "#FECB52"
          ],
          "font": {
           "color": "#2a3f5f"
          },
          "geo": {
           "bgcolor": "white",
           "lakecolor": "white",
           "landcolor": "#E5ECF6",
           "showlakes": true,
           "showland": true,
           "subunitcolor": "white"
          },
          "hoverlabel": {
           "align": "left"
          },
          "hovermode": "closest",
          "mapbox": {
           "style": "light"
          },
          "paper_bgcolor": "white",
          "plot_bgcolor": "#E5ECF6",
          "polar": {
           "angularaxis": {
            "gridcolor": "white",
            "linecolor": "white",
            "ticks": ""
           },
           "bgcolor": "#E5ECF6",
           "radialaxis": {
            "gridcolor": "white",
            "linecolor": "white",
            "ticks": ""
           }
          },
          "scene": {
           "xaxis": {
            "backgroundcolor": "#E5ECF6",
            "gridcolor": "white",
            "gridwidth": 2,
            "linecolor": "white",
            "showbackground": true,
            "ticks": "",
            "zerolinecolor": "white"
           },
           "yaxis": {
            "backgroundcolor": "#E5ECF6",
            "gridcolor": "white",
            "gridwidth": 2,
            "linecolor": "white",
            "showbackground": true,
            "ticks": "",
            "zerolinecolor": "white"
           },
           "zaxis": {
            "backgroundcolor": "#E5ECF6",
            "gridcolor": "white",
            "gridwidth": 2,
            "linecolor": "white",
            "showbackground": true,
            "ticks": "",
            "zerolinecolor": "white"
           }
          },
          "shapedefaults": {
           "line": {
            "color": "#2a3f5f"
           }
          },
          "ternary": {
           "aaxis": {
            "gridcolor": "white",
            "linecolor": "white",
            "ticks": ""
           },
           "baxis": {
            "gridcolor": "white",
            "linecolor": "white",
            "ticks": ""
           },
           "bgcolor": "#E5ECF6",
           "caxis": {
            "gridcolor": "white",
            "linecolor": "white",
            "ticks": ""
           }
          },
          "title": {
           "x": 0.05
          },
          "xaxis": {
           "automargin": true,
           "gridcolor": "white",
           "linecolor": "white",
           "ticks": "",
           "title": {
            "standoff": 15
           },
           "zerolinecolor": "white",
           "zerolinewidth": 2
          },
          "yaxis": {
           "automargin": true,
           "gridcolor": "white",
           "linecolor": "white",
           "ticks": "",
           "title": {
            "standoff": 15
           },
           "zerolinecolor": "white",
           "zerolinewidth": 2
          }
         }
        },
        "title": {
         "text": "Personal Freedom Dimensions and Happiness"
        }
       }
      },
      "text/html": [
       "<div>                            <div id=\"23cf037c-c566-430d-bfe9-69840d6a3d27\" class=\"plotly-graph-div\" style=\"height:525px; width:100%;\"></div>            <script type=\"text/javascript\">                require([\"plotly\"], function(Plotly) {                    window.PLOTLYENV=window.PLOTLYENV || {};                                    if (document.getElementById(\"23cf037c-c566-430d-bfe9-69840d6a3d27\")) {                    Plotly.newPlot(                        \"23cf037c-c566-430d-bfe9-69840d6a3d27\",                        [{\"dimensions\":[{\"label\":\"pf_rol\",\"values\":[4.892465707928287,4.890456760294934,3.534740292032186,5.574288844940647,7.28700634833121,7.626696078806248,8.234009208041096,4.490865353167671,6.107777681694938,4.053247502768362,2.911387186860097,6.399991211163571,4.533873950612173,7.7752629963087,4.605648676036442,4.051810152666392,6.506652212607336,3.152736902624318,5.129769106508351,5.691138361034679,4.183245205302298,5.040191524230356,4.616878826002012,3.251021525526488,7.204175227897394,2.408324266642522,2.7845523061276727,7.65112258899592,4.271410764347129,4.154632232355089,6.391903936257728,4.32371281147532,4.131065489797158,5.087772544823447,3.4261459491748734,6.633263667180067,3.6916401086356174,3.6916401086356174,3.6916401086356174,3.6916401086356174,3.6916401086356174,3.6916401086356174,5.714203832813827,7.398127868551697,7.060538033745405,8.834531560779935,4.908043663102806,4.402834600382,4.301304237496606,3.078425454077679,4.198613471460695,7.962701243939331,4.680548496252633,3.4158496622974024,6.098062821226979,8.678379383530364,6.639844771806401,7.017878554652665,4.257107735752264,5.602191048856753,8.342574104485584,4.982011123518552,5.808865549218706,3.870352009115782,3.5198878398320232,5.927180778264862,4.664303655289808,3.426138287279823,3.0809709673665178,5.1624374310429095,8.458091223988848,4.148985274099441,4.167139212150151,3.7952473584882096,4.192427029264868,7.762503643525616,7.107735226101801,6.64809930075366,5.238050099736561,7.962754277909672,5.596951630217436,4.904746148903231,3.93924576567192,7.795965833395846,5.83587899829618,3.789874682405943,3.561249914010965,3.561249914010965,3.561249914010965,3.561249914010965,3.561249914010965,3.561249914010965,6.952210956983031,4.107271888426132,6.270167568325111,3.8481325200733902,7.392462510475276,8.072369326573465,3.647581236835928,5.000510741250944,5.632504283471422,3.581638663383986,6.706270688716252,3.589456662014792,5.901462310923296,3.528172453159512,4.796799552805662,5.2628211522021004,6.475484081382738,4.02518000075244,3.367213293057254,2.4850982229946346,6.045558785652967,4.279087168372805,8.145213712662352,7.853588970980996,2.8201256927583613,3.867359949703448,3.867359949703448,3.890731119751433,3.890731119751433,5.17045643461052,8.759529383191795,5.539863588801889,3.3718953111605807,3.792201982433884,5.917442825033521,4.672449211351224,4.545288404790187,3.313662538766505,6.067430611908463,6.798821540071237,5.243167366721656,5.998871514327621,5.204447802123286,3.718632844236563,4.986905708739836,4.584615659504038,4.584615659504038,6.741749499430645,3.948706131765768,7.613171486210676,6.350491713104707,6.655410706193464,3.236463970525372,5.721848537899742,7.317070917772283,4.269435167276908,3.4312549323303343,4.916932081796056,8.62791979120358,8.710352948861956,3.530687755006376,3.861924547734602,4.346527902042299,6.355633980355673,3.885451220938341,4.473604186413082,3.709472727321258,3.158102147747511,4.762259807891506,6.1532005072356775,7.539304531985105,6.384193813308137,6.847558004352076,1.5522015108689604,4.573655579938065,2.5278664544406326,3.927338505533642,3.607332440513964]},{\"label\":\"pf_ss\",\"values\":[9.350083056478406,8.952936046511628,8.463163645470164,8.404362587696301,9.264916943521596,9.733675249169435,9.779285714285711,8.85421511627907,6.454941860465116,8.69577242524917,7.41076286290956,7.324767441860465,8.845676910299003,9.696656976744189,5.010174418604652,9.06157492121546,9.398990863787375,8.58345099667774,9.19420265780731,7.67796207790401,6.107529378503687,9.609892026578072,7.003245813201364,5.942856684577126,8.953619186046511,8.375983917218923,6.295861293559401,9.6321495244581,3.5571237005118315,5.355258882683008,8.729179625095796,8.510984859468767,3.7330155471499182,8.244927829226178,6.680528241895118,8.283824750830565,7.576838246343103,7.576838246343103,7.576838246343103,7.576838246343103,7.576838246343103,7.576838246343103,9.721042358803986,9.54045681063123,9.80201827242525,9.725393655256198,7.888705351764955,8.183168604651163,8.540931298560258,6.797543876168165,4.005,9.68622508305648,7.563060631229235,7.276127455162163,9.223163759689925,9.59565070863118,9.678262158663408,8.177161017218177,8.221932006497632,6.6206602990033225,9.798870616754536,9.308473129599149,9.432374589087466,5.328866279069768,7.836286114736231,9.210651993355482,7.059754983388704,8.083673362501823,4.317824682127175,9.60906976744186,9.91892026578073,8.239654632470128,9.361984167841737,7.665371463962263,4.142805319680071,9.651648671096345,8.291100337395532,9.72614712055643,4.532678571428571,9.873395059204237,9.049319149239142,8.308107219713179,7.52748831338751,9.659269102990033,9.095368680345924,8.577553986710962,7.611285830767456,7.611285830767456,7.611285830767456,7.611285830767456,7.611285830767456,7.611285830767456,9.333064784053157,8.042309985213112,4.024285714285715,8.965390258933628,9.4275,9.73781492248062,8.247023413819711,9.029086378737542,8.920543337085364,4.544700335573249,9.472427325581394,7.8439161060782014,9.39920265780731,4.177913754156657,8.766046511627907,8.789867109634551,8.875523255813953,9.040178571428571,7.029225477772453,7.432060127146959,7.000718438538206,9.03565405691604,9.793647943042838,8.503537733088683,7.140926079734219,7.042877687120722,7.042877687120722,2.3544879500476945,2.3544879500476945,9.209813122923588,9.831564209271052,9.315639534883722,6.724451771707621,7.96470099667774,7.972940199335548,8.286486710963455,8.485743050336652,6.585461440121176,9.536366279069767,9.814796511627907,9.693121248854164,9.645074750830563,6.994234993708055,8.085920071776734,8.463419892691538,9.312076411960136,9.312076411960136,8.19203972868217,9.277743382471831,9.786441029900333,9.336506782945737,9.62719684385382,5.519663650014556,4.270360222516418,9.66550424968634,6.973293189368771,6.767892816756765,8.892916666666668,9.80812707641196,9.881154485049835,7.439664915067647,8.029018342546319,7.540507537373992,9.012819767441862,7.420265274720682,4.675357142857143,7.353723052652138,7.049761867091556,7.277449129596748,8.930319767441862,9.404687649341325,8.855931949268431,8.274829734219269,3.371047342106995,9.126624729654337,4.214872998103987,8.52887864629519,7.365294850498339]},{\"label\":\"pf_movement\",\"values\":[9.86875,5.9275,7.617916666666666,9.760833333333334,9.844166666666666,9.758333333333333,9.73125,7.0075,10.0,4.585833333333333,5.533333333333334,9.910833333333333,6.3220833333333335,9.8525,10.0,8.18875,5.977500000000001,7.717500000000001,7.9025,9.7525,9.606666666666666,9.75,7.44375,6.07875,9.865416666666668,7.150416666666668,5.474583333333334,9.7775,6.534583333333334,7.10375,9.960416666666667,4.285,7.6175,7.468333333333334,6.14625,9.82625,7.548333333333334,7.548333333333334,7.548333333333334,7.548333333333334,7.548333333333334,7.548333333333334,9.579583333333332,9.68,9.905,9.864583333333332,6.734166666666667,9.778333333333332,9.789583333333333,4.867916666666667,9.416250000000002,9.915,7.032500000000001,7.019583333333333,9.499166666666667,9.94125,9.9125,8.06,9.634583333333332,8.181666666666667,9.945,9.874166666666667,9.896249999999998,9.500833333333333,7.583333333333334,9.492916666666666,8.005,9.460833333333332,7.902916666666666,9.9325,9.872916666666669,7.409166666666666,7.651666666666667,4.839583333333334,7.085416666666667,9.89,7.682916666666667,9.95375,9.883333333333333,9.862083333333334,7.374583333333334,7.399583333333334,7.45875,8.0975,7.533333333333333,7.719166666666666,6.205416666666667,6.205416666666667,6.205416666666667,6.205416666666667,6.205416666666667,6.205416666666667,9.8825,7.5425,9.542916666666668,8.131666666666668,9.901666666666667,9.882083333333334,9.307916666666667,9.722916666666666,7.674166666666666,7.713333333333333,9.64875,5.839583333333334,9.721666666666668,8.202083333333334,8.057916666666667,9.730416666666668,9.708749999999998,5.614583333333333,7.620833333333334,4.75875,9.75,7.4575,9.833333333333332,9.941666666666666,6.334583333333334,7.9925,7.9925,6.041666666666667,6.041666666666667,8.00125,9.780833333333334,7.157916666666667,5.1779166666666665,9.537916666666668,9.565,9.8125,8.079166666666667,7.56875,9.670833333333333,9.947083333333332,6.679583333333333,9.858333333333334,6.641249999999999,4.3654166666666665,8.04875,9.69125,9.69125,7.942083333333333,7.821666666666667,7.96625,9.90875,9.750833333333333,3.6625,7.930416666666668,9.954583333333332,7.885833333333332,4.61875,9.656666666666666,9.756666666666668,9.8525,6.163333333333334,7.42,7.64625,7.912083333333333,7.73625,9.638333333333332,4.604583333333333,7.245416666666667,7.848333333333333,6.3025,9.794166666666666,9.730416666666668,9.8175,5.01375,5.794583333333334,3.2983333333333333,8.028333333333332,6.005000000000001]},{\"label\":\"pf_religion\",\"values\":[9.7375,5.236666666666666,6.736666666666666,9.859375,8.338541666666666,9.8525,8.733125000000001,4.699583333333333,10.0,2.538958333333333,7.366458333333333,9.89625,5.682708333333334,8.931041666666665,10.0,9.574375,6.9522916666666665,8.104791666666667,8.514166666666668,8.588541666666668,8.304791666666667,8.154166666666667,9.2875,5.864791666666667,9.88125,6.692916666666666,7.432916666666667,9.58125,8.117916666666666,7.660416666666666,9.873125,1.0856249999999998,8.567916666666667,4.335833333333333,7.891041666666666,9.184375,9.305,9.305,9.305,9.305,9.305,9.305,9.619375,8.736666666666668,9.46875,9.500625,4.885833333333334,9.62875,9.62125,2.7858333333333336,9.326250000000002,9.669375,7.563541666666667,7.384791666666667,8.57375,9.633125,8.679166666666667,9.585,9.65875,8.343541666666667,8.794791666666665,9.845,7.969166666666666,9.646875,8.969999999999999,9.634375,9.72125,8.827916666666667,9.66125,8.213541666666668,9.780625,5.317708333333334,6.073333333333333,3.4645833333333336,7.134166666666667,9.625625,9.2225,9.000416666666666,9.849375,9.56375,5.5408333333333335,4.3914583333333335,7.402708333333333,9.886875,5.777708333333333,6.996666666666667,4.516458333333333,4.516458333333333,4.516458333333333,4.516458333333333,4.516458333333333,4.516458333333333,9.703125,8.629166666666666,9.763125,8.408541666666668,9.74875,9.6725,8.342916666666667,9.464375,7.231666666666666,9.0575,9.7575,4.812083333333334,8.764166666666668,8.317916666666665,7.990416666666667,8.684166666666666,8.121666666666666,3.604583333333333,8.709166666666667,5.623333333333333,9.55,8.296041666666667,9.635625,9.89125,5.343333333333334,8.37875,8.37875,7.367083333333333,7.367083333333333,8.207291666666666,9.61125,5.238333333333333,5.847708333333333,8.977916666666667,9.72625,8.780416666666667,9.76625,7.226666666666667,8.574791666666666,9.784375,4.960208333333334,8.743541666666665,5.044166666666667,1.73625,9.263125,8.672916666666666,8.672916666666666,8.915000000000001,8.781666666666666,7.609166666666667,8.328541666666666,9.525625,3.9039583333333336,8.351041666666667,8.956666666666667,7.368541666666667,5.450208333333334,9.57375,9.8775,9.52,2.5914583333333336,8.053125,8.293541666666666,9.509375,7.848541666666666,9.838125,3.738333333333333,6.374791666666667,7.034166666666668,6.012708333333334,9.5975,9.429375,9.77375,7.018541666666667,4.293333333333333,2.509583333333333,7.567291666666667,6.939166666666667]},{\"label\":\"pf_assembly\",\"values\":[9.051458333333333,4.561064814814815,5.631134259259259,8.959513888888889,8.817962962962962,9.149375,9.382916666666668,3.3671296296296296,10.0,1.525,5.510347222222222,9.324166666666668,4.242893518518518,9.264166666666666,10.0,8.154814814814815,6.2726851851851855,7.071111111111112,8.277777777777779,8.804189814814816,8.531481481481482,8.633263888888889,8.215810185185184,1.9046759259259256,9.543333333333331,3.2178703703703704,4.828263888888889,9.538125,5.438935185185185,4.174212962962963,8.74625,1.3894675925925926,8.58513888888889,6.637708333333332,3.44587962962963,9.744791666666666,7.62925925925926,7.62925925925926,7.62925925925926,7.62925925925926,7.62925925925926,7.62925925925926,8.711041666666668,9.519166666666669,9.31,9.772916666666667,4.773587962962963,8.70574074074074,6.842337962962962,2.8221296296296297,8.400787037037038,9.745416666666667,2.224212962962963,5.835231481481481,7.083333333333334,9.219583333333333,8.587499999999999,6.564097222222221,7.9769444444444435,8.386643518518518,8.645624999999999,9.199074074074074,9.284791666666669,7.917175925925925,6.012824074074074,7.005277777777778,9.3125,6.9840277777777775,7.831967592592592,6.623819444444445,9.535625,4.983657407407407,7.270185185185185,1.9782175925925929,6.079166666666667,9.711875,7.532500000000001,9.611875,9.330208333333331,9.652083333333334,5.686273148148148,3.85587962962963,6.401898148148149,8.151527777777778,3.8201388888888888,6.927152777777778,1.9369444444444444,1.9369444444444444,1.9369444444444444,1.9369444444444444,1.9369444444444444,1.9369444444444444,9.58875,7.425162037037038,8.334004629629629,8.629305555555556,8.810972222222222,9.661875,8.076689814814815,7.446412037037037,6.939259259259258,7.731736111111112,9.556041666666664,5.948310185185186,9.22636574074074,8.697430555555556,8.062986111111112,8.931782407407407,8.530578703703704,5.195949074074075,7.215416666666667,6.026597222222222,8.775439814814815,7.890069444444445,9.386666666666668,9.695416666666668,2.8222453703703705,6.993449074074074,6.993449074074074,7.5709027777777775,7.5709027777777775,8.942199074074074,9.700416666666666,1.9594328703703705,5.933680555555556,9.196481481481484,8.80712962962963,8.426064814814815,8.679537037037036,7.395277777777777,7.716504629629631,9.2925,2.413425925925926,8.347037037037037,3.5652546296296297,1.1688425925925925,8.281412037037038,7.211412037037038,7.211412037037038,7.913541666666667,8.04914351851852,5.116087962962963,8.819583333333334,9.196041666666666,5.263495370370371,8.966481481481482,8.93875,7.454861111111112,5.412337962962963,9.109791666666666,9.794583333333334,9.681458333333332,2.2007175925925924,5.953009259259259,5.250162037037037,8.743449074074073,6.138680555555555,9.278657407407406,4.093055555555556,4.058055555555556,7.406296296296295,2.043009259259259,9.16875,9.831458333333332,9.300833333333332,3.623171296296297,2.012685185185185,3.172175925925925,5.917291666666667,4.473680555555555]},{\"label\":\"pf_expression\",\"values\":[6.248600000000001,4.586654350044058,5.50071111111111,8.205444444444444,7.617444444444445,8.980416666666667,9.011333333333331,2.2918472391076863,9.166666666666666,1.5832888888888887,4.013470354535867,9.586666666666666,3.191711111111111,9.017958333333333,8.055555555555555,6.796733333333334,6.834466666666667,6.916433333333333,6.065711111111112,7.176766666666667,7.247491855098818,6.132111111111112,7.270933333333334,1.7667583827102078,9.39025,3.6301697179831662,2.103260972651018,9.808,5.189811111111111,4.186979806009271,9.6054,2.0509685104596898,6.568643073773893,4.43175,3.7081207951009096,9.784433333333334,6.266666666666668,6.266666666666668,6.266666666666668,6.266666666666668,6.266666666666668,6.266666666666668,7.353877777777777,8.737083333333333,8.470766666666666,9.268798816574082,2.890188888888889,6.417935323288276,7.231024311899459,2.831322222222222,6.693383482868208,9.7863,4.009388888888888,4.144948569006639,6.6156250000000005,9.818208333333336,8.516383220789352,5.1954666666666665,6.1667000000000005,7.487422222222223,9.742625,7.752170833801001,8.075458333333334,5.144268141723999,5.5070339198239004,6.021111111111112,7.944666666666667,6.838331585634083,4.76642569342858,5.735422222222221,8.964625,5.641732612059011,7.317611111111111,1.8505222222222224,3.438740395823281,9.816208333333334,5.844357907207919,8.206083333333334,9.752566666666668,8.859041666666666,4.7913,2.759946426953023,5.960780198317813,8.072688888888889,4.292828018783478,5.081411111111111,2.3322666666666665,2.3322666666666665,2.3322666666666665,2.3322666666666665,2.3322666666666665,2.3322666666666665,8.245222222222221,5.663680154908527,6.250577777777777,7.232133333333333,8.86941111111111,9.717333333333332,5.672533333333332,7.092333333333333,7.276477777777776,6.83231111111111,6.616583333333334,5.143844444444445,7.795266666666666,5.806309366297416,6.875077777777777,7.730733333333333,5.688177777777778,3.876631574585288,5.577766666666666,4.415409477106053,8.521988888888888,6.5930888888888886,9.665875,9.776666666666667,3.8559330368044535,6.411057363453354,6.411057363453354,6.9589831871425405,6.9589831871425405,7.3576444444444435,9.84675,3.679233333333333,4.281350100685966,7.13351672750935,7.761955555555555,6.426343182787017,8.024371468975302,5.268251393901881,7.409601799739828,9.810875,4.437499999999999,7.682533333333334,3.0616892289814457,1.2833293949075226,7.4428,5.7181444444444445,5.7181444444444445,7.086166666666667,6.965444444444444,4.0859200948654,7.030592247140092,8.048555555555556,2.3885727389220595,7.883322222222222,8.244208333333333,6.945600000000001,4.615911111111111,7.917708333333334,9.793833333333334,9.911791666666666,3.215288888888889,5.111027491477985,4.043777781793347,8.460922222222223,6.423455555555554,9.380811111111113,2.872157520070977,4.717264706447798,5.8776305455407885,2.340068727891329,9.729945087236366,9.525327775151688,9.874733333333332,3.760798739323836,2.336822222222222,1.4548666666666663,4.789678820826608,4.709133333333332]},{\"label\":\"pf_identity\",\"values\":[8.75,2.5,6.25,10.0,8.75,10.0,10.0,9.375,10.0,5.0,3.75,7.5,10.0,10.0,10.0,7.895,5.625,9.375,9.375,8.125,10.0,9.375,6.855,5.833333333333333,8.125,8.75,6.215,10.0,8.21,4.1475,9.375,10.0,10.0,3.125,8.75,7.5,8.4575,8.4575,8.4575,8.4575,8.4575,8.4575,10.0,8.75,9.375,10.0,3.265,9.375,8.75,0.32,9.375,10.0,5.0,4.62,9.375,10.0,9.375,6.25,0.6074999999999999,8.75,10.0,4.94,7.5,9.375,0.7625000000000002,5.5725,8.75,9.375,10.0,8.75,10.0,7.5,5.625,2.5,2.315,10.0,7.5,10.0,8.125,9.375,5.0,10.0,5.1,10.0,4.375,9.375,8.75,8.75,8.75,8.75,8.75,8.75,10.0,4.375,7.5,3.265,9.375,10.0,7.5,5.625,3.75,5.285,9.375,0.8350000000000002,4.375,6.875,10.0,9.375,9.375,3.125,9.375,6.25,7.5,6.875,9.375,10.0,10.0,4.95,4.95,3.888,3.888,9.375,9.375,2.5,4.375,10.0,6.25,7.5,7.5,6.25,10.0,10.0,2.5,9.375,7.5,2.5,4.995,8.75,8.75,10.0,3.4725,8.125,10.0,10.0,1.27,8.75,9.375,3.125,0.335,10.0,10.0,10.0,7.5,4.125,9.375,8.75,5.547499999999999,10.0,8.75,4.3675,10.0,2.5,9.375,10.0,10.0,8.125,8.75,2.0375,5.625,7.5]}],\"domain\":{\"x\":[0.0,1.0],\"y\":[0.0,1.0]},\"line\":{\"color\":[4.719,5.211,null,6.086,4.559,7.228,7.246,5.208,null,6.199,4.456,null,5.323,6.923,null,4.883,5.082,5.779,5.386,3.488,6.3,5.011,4.587,3.775,null,4.7,5.044,7.278,3.083,4.35,6.444,5.191,6.125,3.973,null,7.167,5.718,4.944,4.812,4.796,4.696,4.418,5.432,6.046,6.852,7.6,null,5.425,6.028,4.166,6.253,5.893,4.212,4.286,null,7.769,6.592,4.799,4.516,4.519,6.985,4.996,5.287,6.436,4.534,null,null,3.597,5.86,5.758,7.494,4.015,5.192,4.548,4.437,7.021,7.139,6.223,5.89,5.886,4.906,5.809,4.509,5.895,6.021,5.261,5.718,4.944,4.812,4.796,4.696,4.418,5.94,5.197,3.802,3.975,6.149,7.09,3.933,3.41,5.339,4.39,6.726,4.49,5.888,6.595,5.529,5.285,5.523,5.208,4.466,4.36,4.639,4.913,7.488,7.307,6.105,5.265,4.628,5.265,4.628,5.274,7.554,null,5.653,6.321,null,5.743,5.697,5.631,6.182,5.693,6.374,6.07,3.334,6.375,4.681,6.1,5.603,null,4.374,6.262,6.198,6.118,4.668,4.722,6.354,4.366,null,null,7.343,7.48,5.467,3.231,6.008,null,4.085,6.192,5.373,4.189,4.332,6.825,7.054,6.892,6.293,4.707,5.175,3.38,4.107,3.663],\"coloraxis\":\"coloraxis\"},\"name\":\"\",\"type\":\"parcoords\"}],                        {\"template\":{\"data\":{\"histogram2dcontour\":[{\"type\":\"histogram2dcontour\",\"colorbar\":{\"outlinewidth\":0,\"ticks\":\"\"},\"colorscale\":[[0.0,\"#0d0887\"],[0.1111111111111111,\"#46039f\"],[0.2222222222222222,\"#7201a8\"],[0.3333333333333333,\"#9c179e\"],[0.4444444444444444,\"#bd3786\"],[0.5555555555555556,\"#d8576b\"],[0.6666666666666666,\"#ed7953\"],[0.7777777777777778,\"#fb9f3a\"],[0.8888888888888888,\"#fdca26\"],[1.0,\"#f0f921\"]]}],\"choropleth\":[{\"type\":\"choropleth\",\"colorbar\":{\"outlinewidth\":0,\"ticks\":\"\"}}],\"histogram2d\":[{\"type\":\"histogram2d\",\"colorbar\":{\"outlinewidth\":0,\"ticks\":\"\"},\"colorscale\":[[0.0,\"#0d0887\"],[0.1111111111111111,\"#46039f\"],[0.2222222222222222,\"#7201a8\"],[0.3333333333333333,\"#9c179e\"],[0.4444444444444444,\"#bd3786\"],[0.5555555555555556,\"#d8576b\"],[0.6666666666666666,\"#ed7953\"],[0.7777777777777778,\"#fb9f3a\"],[0.8888888888888888,\"#fdca26\"],[1.0,\"#f0f921\"]]}],\"heatmap\":[{\"type\":\"heatmap\",\"colorbar\":{\"outlinewidth\":0,\"ticks\":\"\"},\"colorscale\":[[0.0,\"#0d0887\"],[0.1111111111111111,\"#46039f\"],[0.2222222222222222,\"#7201a8\"],[0.3333333333333333,\"#9c179e\"],[0.4444444444444444,\"#bd3786\"],[0.5555555555555556,\"#d8576b\"],[0.6666666666666666,\"#ed7953\"],[0.7777777777777778,\"#fb9f3a\"],[0.8888888888888888,\"#fdca26\"],[1.0,\"#f0f921\"]]}],\"heatmapgl\":[{\"type\":\"heatmapgl\",\"colorbar\":{\"outlinewidth\":0,\"ticks\":\"\"},\"colorscale\":[[0.0,\"#0d0887\"],[0.1111111111111111,\"#46039f\"],[0.2222222222222222,\"#7201a8\"],[0.3333333333333333,\"#9c179e\"],[0.4444444444444444,\"#bd3786\"],[0.5555555555555556,\"#d8576b\"],[0.6666666666666666,\"#ed7953\"],[0.7777777777777778,\"#fb9f3a\"],[0.8888888888888888,\"#fdca26\"],[1.0,\"#f0f921\"]]}],\"contourcarpet\":[{\"type\":\"contourcarpet\",\"colorbar\":{\"outlinewidth\":0,\"ticks\":\"\"}}],\"contour\":[{\"type\":\"contour\",\"colorbar\":{\"outlinewidth\":0,\"ticks\":\"\"},\"colorscale\":[[0.0,\"#0d0887\"],[0.1111111111111111,\"#46039f\"],[0.2222222222222222,\"#7201a8\"],[0.3333333333333333,\"#9c179e\"],[0.4444444444444444,\"#bd3786\"],[0.5555555555555556,\"#d8576b\"],[0.6666666666666666,\"#ed7953\"],[0.7777777777777778,\"#fb9f3a\"],[0.8888888888888888,\"#fdca26\"],[1.0,\"#f0f921\"]]}],\"surface\":[{\"type\":\"surface\",\"colorbar\":{\"outlinewidth\":0,\"ticks\":\"\"},\"colorscale\":[[0.0,\"#0d0887\"],[0.1111111111111111,\"#46039f\"],[0.2222222222222222,\"#7201a8\"],[0.3333333333333333,\"#9c179e\"],[0.4444444444444444,\"#bd3786\"],[0.5555555555555556,\"#d8576b\"],[0.6666666666666666,\"#ed7953\"],[0.7777777777777778,\"#fb9f3a\"],[0.8888888888888888,\"#fdca26\"],[1.0,\"#f0f921\"]]}],\"mesh3d\":[{\"type\":\"mesh3d\",\"colorbar\":{\"outlinewidth\":0,\"ticks\":\"\"}}],\"scatter\":[{\"fillpattern\":{\"fillmode\":\"overlay\",\"size\":10,\"solidity\":0.2},\"type\":\"scatter\"}],\"parcoords\":[{\"type\":\"parcoords\",\"line\":{\"colorbar\":{\"outlinewidth\":0,\"ticks\":\"\"}}}],\"scatterpolargl\":[{\"type\":\"scatterpolargl\",\"marker\":{\"colorbar\":{\"outlinewidth\":0,\"ticks\":\"\"}}}],\"bar\":[{\"error_x\":{\"color\":\"#2a3f5f\"},\"error_y\":{\"color\":\"#2a3f5f\"},\"marker\":{\"line\":{\"color\":\"#E5ECF6\",\"width\":0.5},\"pattern\":{\"fillmode\":\"overlay\",\"size\":10,\"solidity\":0.2}},\"type\":\"bar\"}],\"scattergeo\":[{\"type\":\"scattergeo\",\"marker\":{\"colorbar\":{\"outlinewidth\":0,\"ticks\":\"\"}}}],\"scatterpolar\":[{\"type\":\"scatterpolar\",\"marker\":{\"colorbar\":{\"outlinewidth\":0,\"ticks\":\"\"}}}],\"histogram\":[{\"marker\":{\"pattern\":{\"fillmode\":\"overlay\",\"size\":10,\"solidity\":0.2}},\"type\":\"histogram\"}],\"scattergl\":[{\"type\":\"scattergl\",\"marker\":{\"colorbar\":{\"outlinewidth\":0,\"ticks\":\"\"}}}],\"scatter3d\":[{\"type\":\"scatter3d\",\"line\":{\"colorbar\":{\"outlinewidth\":0,\"ticks\":\"\"}},\"marker\":{\"colorbar\":{\"outlinewidth\":0,\"ticks\":\"\"}}}],\"scattermapbox\":[{\"type\":\"scattermapbox\",\"marker\":{\"colorbar\":{\"outlinewidth\":0,\"ticks\":\"\"}}}],\"scatterternary\":[{\"type\":\"scatterternary\",\"marker\":{\"colorbar\":{\"outlinewidth\":0,\"ticks\":\"\"}}}],\"scattercarpet\":[{\"type\":\"scattercarpet\",\"marker\":{\"colorbar\":{\"outlinewidth\":0,\"ticks\":\"\"}}}],\"carpet\":[{\"aaxis\":{\"endlinecolor\":\"#2a3f5f\",\"gridcolor\":\"white\",\"linecolor\":\"white\",\"minorgridcolor\":\"white\",\"startlinecolor\":\"#2a3f5f\"},\"baxis\":{\"endlinecolor\":\"#2a3f5f\",\"gridcolor\":\"white\",\"linecolor\":\"white\",\"minorgridcolor\":\"white\",\"startlinecolor\":\"#2a3f5f\"},\"type\":\"carpet\"}],\"table\":[{\"cells\":{\"fill\":{\"color\":\"#EBF0F8\"},\"line\":{\"color\":\"white\"}},\"header\":{\"fill\":{\"color\":\"#C8D4E3\"},\"line\":{\"color\":\"white\"}},\"type\":\"table\"}],\"barpolar\":[{\"marker\":{\"line\":{\"color\":\"#E5ECF6\",\"width\":0.5},\"pattern\":{\"fillmode\":\"overlay\",\"size\":10,\"solidity\":0.2}},\"type\":\"barpolar\"}],\"pie\":[{\"automargin\":true,\"type\":\"pie\"}]},\"layout\":{\"autotypenumbers\":\"strict\",\"colorway\":[\"#636efa\",\"#EF553B\",\"#00cc96\",\"#ab63fa\",\"#FFA15A\",\"#19d3f3\",\"#FF6692\",\"#B6E880\",\"#FF97FF\",\"#FECB52\"],\"font\":{\"color\":\"#2a3f5f\"},\"hovermode\":\"closest\",\"hoverlabel\":{\"align\":\"left\"},\"paper_bgcolor\":\"white\",\"plot_bgcolor\":\"#E5ECF6\",\"polar\":{\"bgcolor\":\"#E5ECF6\",\"angularaxis\":{\"gridcolor\":\"white\",\"linecolor\":\"white\",\"ticks\":\"\"},\"radialaxis\":{\"gridcolor\":\"white\",\"linecolor\":\"white\",\"ticks\":\"\"}},\"ternary\":{\"bgcolor\":\"#E5ECF6\",\"aaxis\":{\"gridcolor\":\"white\",\"linecolor\":\"white\",\"ticks\":\"\"},\"baxis\":{\"gridcolor\":\"white\",\"linecolor\":\"white\",\"ticks\":\"\"},\"caxis\":{\"gridcolor\":\"white\",\"linecolor\":\"white\",\"ticks\":\"\"}},\"coloraxis\":{\"colorbar\":{\"outlinewidth\":0,\"ticks\":\"\"}},\"colorscale\":{\"sequential\":[[0.0,\"#0d0887\"],[0.1111111111111111,\"#46039f\"],[0.2222222222222222,\"#7201a8\"],[0.3333333333333333,\"#9c179e\"],[0.4444444444444444,\"#bd3786\"],[0.5555555555555556,\"#d8576b\"],[0.6666666666666666,\"#ed7953\"],[0.7777777777777778,\"#fb9f3a\"],[0.8888888888888888,\"#fdca26\"],[1.0,\"#f0f921\"]],\"sequentialminus\":[[0.0,\"#0d0887\"],[0.1111111111111111,\"#46039f\"],[0.2222222222222222,\"#7201a8\"],[0.3333333333333333,\"#9c179e\"],[0.4444444444444444,\"#bd3786\"],[0.5555555555555556,\"#d8576b\"],[0.6666666666666666,\"#ed7953\"],[0.7777777777777778,\"#fb9f3a\"],[0.8888888888888888,\"#fdca26\"],[1.0,\"#f0f921\"]],\"diverging\":[[0,\"#8e0152\"],[0.1,\"#c51b7d\"],[0.2,\"#de77ae\"],[0.3,\"#f1b6da\"],[0.4,\"#fde0ef\"],[0.5,\"#f7f7f7\"],[0.6,\"#e6f5d0\"],[0.7,\"#b8e186\"],[0.8,\"#7fbc41\"],[0.9,\"#4d9221\"],[1,\"#276419\"]]},\"xaxis\":{\"gridcolor\":\"white\",\"linecolor\":\"white\",\"ticks\":\"\",\"title\":{\"standoff\":15},\"zerolinecolor\":\"white\",\"automargin\":true,\"zerolinewidth\":2},\"yaxis\":{\"gridcolor\":\"white\",\"linecolor\":\"white\",\"ticks\":\"\",\"title\":{\"standoff\":15},\"zerolinecolor\":\"white\",\"automargin\":true,\"zerolinewidth\":2},\"scene\":{\"xaxis\":{\"backgroundcolor\":\"#E5ECF6\",\"gridcolor\":\"white\",\"linecolor\":\"white\",\"showbackground\":true,\"ticks\":\"\",\"zerolinecolor\":\"white\",\"gridwidth\":2},\"yaxis\":{\"backgroundcolor\":\"#E5ECF6\",\"gridcolor\":\"white\",\"linecolor\":\"white\",\"showbackground\":true,\"ticks\":\"\",\"zerolinecolor\":\"white\",\"gridwidth\":2},\"zaxis\":{\"backgroundcolor\":\"#E5ECF6\",\"gridcolor\":\"white\",\"linecolor\":\"white\",\"showbackground\":true,\"ticks\":\"\",\"zerolinecolor\":\"white\",\"gridwidth\":2}},\"shapedefaults\":{\"line\":{\"color\":\"#2a3f5f\"}},\"annotationdefaults\":{\"arrowcolor\":\"#2a3f5f\",\"arrowhead\":0,\"arrowwidth\":1},\"geo\":{\"bgcolor\":\"white\",\"landcolor\":\"#E5ECF6\",\"subunitcolor\":\"white\",\"showland\":true,\"showlakes\":true,\"lakecolor\":\"white\"},\"title\":{\"x\":0.05},\"mapbox\":{\"style\":\"light\"}}},\"coloraxis\":{\"colorbar\":{\"title\":{\"text\":\"Happiness Score\"}},\"colorscale\":[[0.0,\"#0d0887\"],[0.1111111111111111,\"#46039f\"],[0.2222222222222222,\"#7201a8\"],[0.3333333333333333,\"#9c179e\"],[0.4444444444444444,\"#bd3786\"],[0.5555555555555556,\"#d8576b\"],[0.6666666666666666,\"#ed7953\"],[0.7777777777777778,\"#fb9f3a\"],[0.8888888888888888,\"#fdca26\"],[1.0,\"#f0f921\"]]},\"legend\":{\"tracegroupgap\":0},\"title\":{\"text\":\"Personal Freedom Dimensions and Happiness\"}},                        {\"responsive\": true}                    ).then(function(){\n",
       "                            \n",
       "var gd = document.getElementById('23cf037c-c566-430d-bfe9-69840d6a3d27');\n",
       "var x = new MutationObserver(function (mutations, observer) {{\n",
       "        var display = window.getComputedStyle(gd).display;\n",
       "        if (!display || display === 'none') {{\n",
       "            console.log([gd, 'removed!']);\n",
       "            Plotly.purge(gd);\n",
       "            observer.disconnect();\n",
       "        }}\n",
       "}});\n",
       "\n",
       "// Listen for the removal of the full notebook cells\n",
       "var notebookContainer = gd.closest('#notebook-container');\n",
       "if (notebookContainer) {{\n",
       "    x.observe(notebookContainer, {childList: true});\n",
       "}}\n",
       "\n",
       "// Listen for the clearing of the current output cell\n",
       "var outputEl = gd.closest('.output');\n",
       "if (outputEl) {{\n",
       "    x.observe(outputEl, {childList: true});\n",
       "}}\n",
       "\n",
       "                        })                };                });            </script>        </div>"
      ]
     },
     "metadata": {},
     "output_type": "display_data"
    }
   ],
   "source": [
    "fig = px.parallel_coordinates(data, color='Happiness Score',\n",
    "                              dimensions=['pf_rol','pf_ss','pf_movement','pf_religion','pf_assembly','pf_expression','pf_identity'],\n",
    "\n",
    "                              title='Personal Freedom Dimensions and Happiness')\n",
    "fig.show()\n",
    "\n"
   ]
  }
 ],
 "metadata": {
  "kernelspec": {
   "display_name": "Python 3",
   "language": "python",
   "name": "python3"
  },
  "language_info": {
   "codemirror_mode": {
    "name": "ipython",
    "version": 3
   },
   "file_extension": ".py",
   "mimetype": "text/x-python",
   "name": "python",
   "nbconvert_exporter": "python",
   "pygments_lexer": "ipython3",
   "version": "3.11.1"
  }
 },
 "nbformat": 4,
 "nbformat_minor": 2
}
